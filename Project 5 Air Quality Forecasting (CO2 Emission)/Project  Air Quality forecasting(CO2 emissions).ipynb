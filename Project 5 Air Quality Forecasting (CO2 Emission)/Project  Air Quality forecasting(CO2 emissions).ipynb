{
 "cells": [
  {
   "cell_type": "markdown",
   "id": "c32458d3",
   "metadata": {},
   "source": [
    " <p style=\"font-family:verdana;color:#29285D;font-size:200%;text-align:center\"><b>🛒\n",
    "    Air Quality forecasting(CO2 emissions)  🛒<br>\n",
    "    </p> \n",
    "<p style=\"font-family:verdana;text-align:center\">***************</p>\n"
   ]
  },
  {
   "cell_type": "markdown",
   "id": "47339865",
   "metadata": {},
   "source": [
    "\n",
    "<h2 style=\"background-color:green;font-family:verdana;color:white;font-size:100%;text-align:center;border-radius:10px 10px;letter-spacing:0.5px;padding: 10px\"> Step 1 : Understand The Business Problem </h2> "
   ]
  },
  {
   "cell_type": "markdown",
   "id": "97045eb6",
   "metadata": {},
   "source": [
    "<div style=\"color:white;\n",
    "           display:fill;\n",
    "           background-color:#29285D;\n",
    "           padding: 10px;\n",
    "           font-family:Verdana;\n",
    "           letter-spacing:0.5px\">\n",
    "    <h3 style=\"color:white;padding-left:20px\"><b>Business Statement 👀</b></h3>\n",
    "       <p style=\"color:white;font-size:110%;padding-left:50px\">\n",
    "          To forecast Co2 levels for an organization so that the organization can follow government norms\n",
    "with respect to Co2 emission levels.\n",
    "        </p>\n",
    "    </div>"
   ]
  },
  {
   "cell_type": "markdown",
   "id": "74ce7c8f",
   "metadata": {},
   "source": [
    " <h2 style=\"background-color:green;font-family:verdana;color:white;font-size:100%;text-align:center;border-radius:10px 10px;letter-spacing:0.5px;padding: 10px\"> Step 2 : Load The Data </h2> "
   ]
  },
  {
   "cell_type": "code",
   "execution_count": 1,
   "id": "9553e54b",
   "metadata": {},
   "outputs": [],
   "source": [
    "#Importing libraries\n",
    "import warnings\n",
    "import numpy as np\n",
    "\n",
    "from sklearn.linear_model import LinearRegression\n",
    "from sklearn.metrics import mean_squared_error, mean_absolute_error\n",
    "\n",
    "from statsmodels.tsa.arima.model import ARIMA\n",
    "from statsmodels.tsa.stattools import adfuller, kpss \n",
    "\n",
    "import pandas as pd\n",
    "from pandas import read_csv\n",
    "from matplotlib import pyplot as plt\n",
    "\n",
    "from matplotlib import pyplot# Import libraries\n",
    "from pandas import read_csv\n",
    "from matplotlib import pyplot\n",
    "from numpy import sqrt\n",
    "import warnings\n",
    "import itertools\n",
    "import pandas as pd\n",
    "import numpy as np\n",
    "import matplotlib.pyplot as plt\n",
    "import statsmodels.api as sm\n",
    "import warnings\n",
    "warnings.filterwarnings(\"ignore\")"
   ]
  },
  {
   "cell_type": "code",
   "execution_count": 2,
   "id": "3cb911bb",
   "metadata": {},
   "outputs": [
    {
     "data": {
      "text/html": [
       "<div>\n",
       "<style scoped>\n",
       "    .dataframe tbody tr th:only-of-type {\n",
       "        vertical-align: middle;\n",
       "    }\n",
       "\n",
       "    .dataframe tbody tr th {\n",
       "        vertical-align: top;\n",
       "    }\n",
       "\n",
       "    .dataframe thead th {\n",
       "        text-align: right;\n",
       "    }\n",
       "</style>\n",
       "<table border=\"1\" class=\"dataframe\">\n",
       "  <thead>\n",
       "    <tr style=\"text-align: right;\">\n",
       "      <th></th>\n",
       "      <th>Year</th>\n",
       "      <th>CO2</th>\n",
       "    </tr>\n",
       "  </thead>\n",
       "  <tbody>\n",
       "    <tr>\n",
       "      <th>0</th>\n",
       "      <td>1800.0</td>\n",
       "      <td>0.00568</td>\n",
       "    </tr>\n",
       "    <tr>\n",
       "      <th>1</th>\n",
       "      <td>1801.0</td>\n",
       "      <td>0.00561</td>\n",
       "    </tr>\n",
       "    <tr>\n",
       "      <th>2</th>\n",
       "      <td>1802.0</td>\n",
       "      <td>0.00555</td>\n",
       "    </tr>\n",
       "    <tr>\n",
       "      <th>3</th>\n",
       "      <td>1803.0</td>\n",
       "      <td>0.00548</td>\n",
       "    </tr>\n",
       "    <tr>\n",
       "      <th>4</th>\n",
       "      <td>1804.0</td>\n",
       "      <td>0.00542</td>\n",
       "    </tr>\n",
       "  </tbody>\n",
       "</table>\n",
       "</div>"
      ],
      "text/plain": [
       "     Year      CO2\n",
       "0  1800.0  0.00568\n",
       "1  1801.0  0.00561\n",
       "2  1802.0  0.00555\n",
       "3  1803.0  0.00548\n",
       "4  1804.0  0.00542"
      ]
     },
     "execution_count": 2,
     "metadata": {},
     "output_type": "execute_result"
    }
   ],
   "source": [
    "#Import the data\n",
    "data = pd.read_excel('CO2 dataset.xlsx')\n",
    "data.head()                   # will show 1st 5 rows only"
   ]
  },
  {
   "cell_type": "markdown",
   "id": "83bc5bf7",
   "metadata": {},
   "source": [
    "<h2 style=\"background-color:green;font-family:verdana;color:white;font-size:100%;text-align:center;border-radius:10px 10px;letter-spacing:0.5px;padding: 10px\"> Step 3: EDA and Visualization </h2> "
   ]
  },
  {
   "cell_type": "code",
   "execution_count": 3,
   "id": "6a32bcde",
   "metadata": {},
   "outputs": [
    {
     "data": {
      "text/plain": [
       "(215, 2)"
      ]
     },
     "execution_count": 3,
     "metadata": {},
     "output_type": "execute_result"
    }
   ],
   "source": [
    "data.shape  # will show rows and columns"
   ]
  },
  {
   "cell_type": "code",
   "execution_count": 4,
   "id": "de47bf97",
   "metadata": {},
   "outputs": [
    {
     "data": {
      "text/plain": [
       "Year    0\n",
       "CO2     0\n",
       "dtype: int64"
      ]
     },
     "execution_count": 4,
     "metadata": {},
     "output_type": "execute_result"
    }
   ],
   "source": [
    "data.isnull().sum()          # This functin will show the total null values in our data"
   ]
  },
  {
   "cell_type": "code",
   "execution_count": 5,
   "id": "45d32e68",
   "metadata": {},
   "outputs": [
    {
     "name": "stdout",
     "output_type": "stream",
     "text": [
      "<class 'pandas.core.frame.DataFrame'>\n",
      "RangeIndex: 215 entries, 0 to 214\n",
      "Data columns (total 2 columns):\n",
      " #   Column  Non-Null Count  Dtype  \n",
      "---  ------  --------------  -----  \n",
      " 0   Year    215 non-null    float64\n",
      " 1   CO2     215 non-null    float64\n",
      "dtypes: float64(2)\n",
      "memory usage: 3.4 KB\n"
     ]
    }
   ],
   "source": [
    "data.info()             # this function will show the all information about the data"
   ]
  },
  {
   "cell_type": "code",
   "execution_count": 6,
   "id": "6ef96b5a",
   "metadata": {},
   "outputs": [
    {
     "data": {
      "text/html": [
       "<div>\n",
       "<style scoped>\n",
       "    .dataframe tbody tr th:only-of-type {\n",
       "        vertical-align: middle;\n",
       "    }\n",
       "\n",
       "    .dataframe tbody tr th {\n",
       "        vertical-align: top;\n",
       "    }\n",
       "\n",
       "    .dataframe thead th {\n",
       "        text-align: right;\n",
       "    }\n",
       "</style>\n",
       "<table border=\"1\" class=\"dataframe\">\n",
       "  <thead>\n",
       "    <tr style=\"text-align: right;\">\n",
       "      <th></th>\n",
       "      <th>Year</th>\n",
       "      <th>CO2</th>\n",
       "    </tr>\n",
       "  </thead>\n",
       "  <tbody>\n",
       "    <tr>\n",
       "      <th>count</th>\n",
       "      <td>215.000000</td>\n",
       "      <td>215.000000</td>\n",
       "    </tr>\n",
       "    <tr>\n",
       "      <th>mean</th>\n",
       "      <td>1907.000000</td>\n",
       "      <td>6.741970</td>\n",
       "    </tr>\n",
       "    <tr>\n",
       "      <th>std</th>\n",
       "      <td>62.209324</td>\n",
       "      <td>6.522437</td>\n",
       "    </tr>\n",
       "    <tr>\n",
       "      <th>min</th>\n",
       "      <td>1800.000000</td>\n",
       "      <td>0.001750</td>\n",
       "    </tr>\n",
       "    <tr>\n",
       "      <th>25%</th>\n",
       "      <td>1853.500000</td>\n",
       "      <td>0.041050</td>\n",
       "    </tr>\n",
       "    <tr>\n",
       "      <th>50%</th>\n",
       "      <td>1907.000000</td>\n",
       "      <td>6.390000</td>\n",
       "    </tr>\n",
       "    <tr>\n",
       "      <th>75%</th>\n",
       "      <td>1960.500000</td>\n",
       "      <td>11.500000</td>\n",
       "    </tr>\n",
       "    <tr>\n",
       "      <th>max</th>\n",
       "      <td>2014.000000</td>\n",
       "      <td>18.200000</td>\n",
       "    </tr>\n",
       "  </tbody>\n",
       "</table>\n",
       "</div>"
      ],
      "text/plain": [
       "              Year         CO2\n",
       "count   215.000000  215.000000\n",
       "mean   1907.000000    6.741970\n",
       "std      62.209324    6.522437\n",
       "min    1800.000000    0.001750\n",
       "25%    1853.500000    0.041050\n",
       "50%    1907.000000    6.390000\n",
       "75%    1960.500000   11.500000\n",
       "max    2014.000000   18.200000"
      ]
     },
     "execution_count": 6,
     "metadata": {},
     "output_type": "execute_result"
    }
   ],
   "source": [
    "data.describe()          # This function will describe the data"
   ]
  },
  {
   "cell_type": "code",
   "execution_count": 7,
   "id": "19756486",
   "metadata": {},
   "outputs": [
    {
     "data": {
      "text/plain": [
       "Year    0.000000\n",
       "CO2     0.362736\n",
       "dtype: float64"
      ]
     },
     "execution_count": 7,
     "metadata": {},
     "output_type": "execute_result"
    }
   ],
   "source": [
    "data.skew()  # positively skewed"
   ]
  },
  {
   "cell_type": "code",
   "execution_count": 8,
   "id": "29078203",
   "metadata": {},
   "outputs": [
    {
     "data": {
      "text/plain": [
       "80"
      ]
     },
     "execution_count": 8,
     "metadata": {},
     "output_type": "execute_result"
    }
   ],
   "source": [
    "len(data[data['CO2']<1]) # 37% CO2 values are less then 1 "
   ]
  },
  {
   "cell_type": "code",
   "execution_count": 9,
   "id": "d7355c6e",
   "metadata": {},
   "outputs": [
    {
     "data": {
      "text/html": [
       "<div>\n",
       "<style scoped>\n",
       "    .dataframe tbody tr th:only-of-type {\n",
       "        vertical-align: middle;\n",
       "    }\n",
       "\n",
       "    .dataframe tbody tr th {\n",
       "        vertical-align: top;\n",
       "    }\n",
       "\n",
       "    .dataframe thead th {\n",
       "        text-align: right;\n",
       "    }\n",
       "</style>\n",
       "<table border=\"1\" class=\"dataframe\">\n",
       "  <thead>\n",
       "    <tr style=\"text-align: right;\">\n",
       "      <th></th>\n",
       "      <th>Year</th>\n",
       "      <th>CO2</th>\n",
       "    </tr>\n",
       "  </thead>\n",
       "  <tbody>\n",
       "    <tr>\n",
       "      <th>179</th>\n",
       "      <td>1979.0</td>\n",
       "      <td>18.2</td>\n",
       "    </tr>\n",
       "  </tbody>\n",
       "</table>\n",
       "</div>"
      ],
      "text/plain": [
       "       Year   CO2\n",
       "179  1979.0  18.2"
      ]
     },
     "execution_count": 9,
     "metadata": {},
     "output_type": "execute_result"
    }
   ],
   "source": [
    "data[data['CO2'] == data['CO2'].max()]\n"
   ]
  },
  {
   "cell_type": "code",
   "execution_count": 10,
   "id": "44063281",
   "metadata": {},
   "outputs": [
    {
     "data": {
      "text/html": [
       "<div>\n",
       "<style scoped>\n",
       "    .dataframe tbody tr th:only-of-type {\n",
       "        vertical-align: middle;\n",
       "    }\n",
       "\n",
       "    .dataframe tbody tr th {\n",
       "        vertical-align: top;\n",
       "    }\n",
       "\n",
       "    .dataframe thead th {\n",
       "        text-align: right;\n",
       "    }\n",
       "</style>\n",
       "<table border=\"1\" class=\"dataframe\">\n",
       "  <thead>\n",
       "    <tr style=\"text-align: right;\">\n",
       "      <th></th>\n",
       "      <th>Year</th>\n",
       "      <th>CO2</th>\n",
       "    </tr>\n",
       "  </thead>\n",
       "  <tbody>\n",
       "  </tbody>\n",
       "</table>\n",
       "</div>"
      ],
      "text/plain": [
       "Empty DataFrame\n",
       "Columns: [Year, CO2]\n",
       "Index: []"
      ]
     },
     "execution_count": 10,
     "metadata": {},
     "output_type": "execute_result"
    }
   ],
   "source": [
    "data[data.duplicated()]              # No duplicated data present in ur dataset"
   ]
  },
  {
   "cell_type": "code",
   "execution_count": 11,
   "id": "dea34b6c",
   "metadata": {},
   "outputs": [
    {
     "data": {
      "text/html": [
       "<div>\n",
       "<style scoped>\n",
       "    .dataframe tbody tr th:only-of-type {\n",
       "        vertical-align: middle;\n",
       "    }\n",
       "\n",
       "    .dataframe tbody tr th {\n",
       "        vertical-align: top;\n",
       "    }\n",
       "\n",
       "    .dataframe thead th {\n",
       "        text-align: right;\n",
       "    }\n",
       "</style>\n",
       "<table border=\"1\" class=\"dataframe\">\n",
       "  <thead>\n",
       "    <tr style=\"text-align: right;\">\n",
       "      <th></th>\n",
       "      <th>Year</th>\n",
       "      <th>CO2</th>\n",
       "    </tr>\n",
       "  </thead>\n",
       "  <tbody>\n",
       "    <tr>\n",
       "      <th>0</th>\n",
       "      <td>1800</td>\n",
       "      <td>0.00568</td>\n",
       "    </tr>\n",
       "    <tr>\n",
       "      <th>1</th>\n",
       "      <td>1801</td>\n",
       "      <td>0.00561</td>\n",
       "    </tr>\n",
       "    <tr>\n",
       "      <th>2</th>\n",
       "      <td>1802</td>\n",
       "      <td>0.00555</td>\n",
       "    </tr>\n",
       "    <tr>\n",
       "      <th>3</th>\n",
       "      <td>1803</td>\n",
       "      <td>0.00548</td>\n",
       "    </tr>\n",
       "    <tr>\n",
       "      <th>4</th>\n",
       "      <td>1804</td>\n",
       "      <td>0.00542</td>\n",
       "    </tr>\n",
       "    <tr>\n",
       "      <th>...</th>\n",
       "      <td>...</td>\n",
       "      <td>...</td>\n",
       "    </tr>\n",
       "    <tr>\n",
       "      <th>210</th>\n",
       "      <td>2010</td>\n",
       "      <td>15.60000</td>\n",
       "    </tr>\n",
       "    <tr>\n",
       "      <th>211</th>\n",
       "      <td>2011</td>\n",
       "      <td>15.60000</td>\n",
       "    </tr>\n",
       "    <tr>\n",
       "      <th>212</th>\n",
       "      <td>2012</td>\n",
       "      <td>14.80000</td>\n",
       "    </tr>\n",
       "    <tr>\n",
       "      <th>213</th>\n",
       "      <td>2013</td>\n",
       "      <td>14.70000</td>\n",
       "    </tr>\n",
       "    <tr>\n",
       "      <th>214</th>\n",
       "      <td>2014</td>\n",
       "      <td>15.10000</td>\n",
       "    </tr>\n",
       "  </tbody>\n",
       "</table>\n",
       "<p>215 rows × 2 columns</p>\n",
       "</div>"
      ],
      "text/plain": [
       "     Year       CO2\n",
       "0    1800   0.00568\n",
       "1    1801   0.00561\n",
       "2    1802   0.00555\n",
       "3    1803   0.00548\n",
       "4    1804   0.00542\n",
       "..    ...       ...\n",
       "210  2010  15.60000\n",
       "211  2011  15.60000\n",
       "212  2012  14.80000\n",
       "213  2013  14.70000\n",
       "214  2014  15.10000\n",
       "\n",
       "[215 rows x 2 columns]"
      ]
     },
     "execution_count": 11,
     "metadata": {},
     "output_type": "execute_result"
    }
   ],
   "source": [
    "data['Year'] = data['Year'].astype(int)      #convert the year column from float to int\n",
    "data"
   ]
  },
  {
   "cell_type": "markdown",
   "id": "b48b420d",
   "metadata": {},
   "source": [
    "<h2 style=\"color:#DC7633;\">Visualization </h2>\n"
   ]
  },
  {
   "cell_type": "code",
   "execution_count": 12,
   "id": "81779a34",
   "metadata": {},
   "outputs": [
    {
     "data": {
      "text/html": [
       "<div>\n",
       "<style scoped>\n",
       "    .dataframe tbody tr th:only-of-type {\n",
       "        vertical-align: middle;\n",
       "    }\n",
       "\n",
       "    .dataframe tbody tr th {\n",
       "        vertical-align: top;\n",
       "    }\n",
       "\n",
       "    .dataframe thead th {\n",
       "        text-align: right;\n",
       "    }\n",
       "</style>\n",
       "<table border=\"1\" class=\"dataframe\">\n",
       "  <thead>\n",
       "    <tr style=\"text-align: right;\">\n",
       "      <th></th>\n",
       "      <th>CO2</th>\n",
       "    </tr>\n",
       "    <tr>\n",
       "      <th>Year</th>\n",
       "      <th></th>\n",
       "    </tr>\n",
       "  </thead>\n",
       "  <tbody>\n",
       "    <tr>\n",
       "      <th>1800-01-01</th>\n",
       "      <td>0.00568</td>\n",
       "    </tr>\n",
       "    <tr>\n",
       "      <th>1801-01-01</th>\n",
       "      <td>0.00561</td>\n",
       "    </tr>\n",
       "    <tr>\n",
       "      <th>1802-01-01</th>\n",
       "      <td>0.00555</td>\n",
       "    </tr>\n",
       "    <tr>\n",
       "      <th>1803-01-01</th>\n",
       "      <td>0.00548</td>\n",
       "    </tr>\n",
       "    <tr>\n",
       "      <th>1804-01-01</th>\n",
       "      <td>0.00542</td>\n",
       "    </tr>\n",
       "  </tbody>\n",
       "</table>\n",
       "</div>"
      ],
      "text/plain": [
       "                CO2\n",
       "Year               \n",
       "1800-01-01  0.00568\n",
       "1801-01-01  0.00561\n",
       "1802-01-01  0.00555\n",
       "1803-01-01  0.00548\n",
       "1804-01-01  0.00542"
      ]
     },
     "execution_count": 12,
     "metadata": {},
     "output_type": "execute_result"
    }
   ],
   "source": [
    "\n",
    "data.index = pd.to_datetime(data['Year'], format='%Y')\n",
    "data.drop('Year',axis=1, inplace=True)\n",
    "data.head()\n"
   ]
  },
  {
   "cell_type": "markdown",
   "id": "fd0a183b",
   "metadata": {},
   "source": [
    "\n",
    "<h2 style=\"color:#DC7633;\">Density Plot</h2>\n"
   ]
  },
  {
   "cell_type": "code",
   "execution_count": 13,
   "id": "c13dab79",
   "metadata": {},
   "outputs": [
    {
     "data": {
      "image/png": "[encoded data removed]",
      "text/plain": [
       "<Figure size 432x288 with 1 Axes>"
      ]
     },
     "metadata": {
      "needs_background": "light"
     },
     "output_type": "display_data"
    }
   ],
   "source": [
    "data.plot(kind='kde')\n",
    "pyplot.show()"
   ]
  },
  {
   "cell_type": "markdown",
   "id": "198b4e90",
   "metadata": {},
   "source": [
    "5 <h2 style=\"color:#DC7633;\">Histogram</h2>\n"
   ]
  },
  {
   "cell_type": "code",
   "execution_count": 14,
   "id": "11f453ae",
   "metadata": {},
   "outputs": [
    {
     "data": {
      "text/plain": [
       "array([[<AxesSubplot:title={'center':'CO2'}>]], dtype=object)"
      ]
     },
     "execution_count": 14,
     "metadata": {},
     "output_type": "execute_result"
    },
    {
     "data": {
      "image/png": "[encoded data removed]",
      "text/plain": [
       "<Figure size 432x288 with 1 Axes>"
      ]
     },
     "metadata": {
      "needs_background": "light"
     },
     "output_type": "display_data"
    }
   ],
   "source": [
    " data.hist()\n",
    "\n"
   ]
  },
  {
   "cell_type": "code",
   "execution_count": 15,
   "id": "ee2ce074",
   "metadata": {},
   "outputs": [
    {
     "data": {
      "text/plain": [
       "<AxesSubplot:ylabel='Count'>"
      ]
     },
     "execution_count": 15,
     "metadata": {},
     "output_type": "execute_result"
    },
    {
     "data": {
      "image/png": "[encoded data removed]",
      "text/plain": [
       "<Figure size 432x288 with 1 Axes>"
      ]
     },
     "metadata": {
      "needs_background": "light"
     },
     "output_type": "display_data"
    }
   ],
   "source": [
    " import seaborn as sns\n",
    "sns.histplot(data) \n"
   ]
  },
  {
   "cell_type": "markdown",
   "id": "492b87a7",
   "metadata": {},
   "source": [
    "<h2 style=\"color:#DC7633;\">Line plot</h2>\n"
   ]
  },
  {
   "cell_type": "code",
   "execution_count": 16,
   "id": "a8b5ffa5",
   "metadata": {},
   "outputs": [
    {
     "data": {
      "text/plain": [
       "<AxesSubplot:xlabel='Year'>"
      ]
     },
     "execution_count": 16,
     "metadata": {},
     "output_type": "execute_result"
    },
    {
     "data": {
      "image/png": "[encoded data removed]",
      "text/plain": [
       "<Figure size 432x288 with 1 Axes>"
      ]
     },
     "metadata": {
      "needs_background": "light"
     },
     "output_type": "display_data"
    }
   ],
   "source": [
    "data.plot()              # we can see there is a upword trend in plot"
   ]
  },
  {
   "cell_type": "markdown",
   "id": "fada4f66",
   "metadata": {},
   "source": [
    "<h2 style=\"color:#DC7633;\">Box Plot</h2>\n"
   ]
  },
  {
   "cell_type": "code",
   "execution_count": 17,
   "id": "4bbc9eaa",
   "metadata": {},
   "outputs": [
    {
     "data": {
      "text/plain": [
       "<AxesSubplot:xlabel='CO2'>"
      ]
     },
     "execution_count": 17,
     "metadata": {},
     "output_type": "execute_result"
    },
    {
     "data": {
      "image/png": "[encoded data removed]",
      "text/plain": [
       "<Figure size 1008x144 with 1 Axes>"
      ]
     },
     "metadata": {
      "needs_background": "light"
     },
     "output_type": "display_data"
    }
   ],
   "source": [
    "# Boxplot for ever\n",
    "import seaborn as sns\n",
    "plt.figure(figsize=(14,2))\n",
    "sns.boxplot(x = data['CO2'], palette='Pastel1')"
   ]
  },
  {
   "cell_type": "markdown",
   "id": "065ff183",
   "metadata": {},
   "source": [
    "<h2 style=\"color:#DC7633;\">Lag Plot</h2>\n"
   ]
  },
  {
   "cell_type": "code",
   "execution_count": 18,
   "id": "ad496197",
   "metadata": {},
   "outputs": [
    {
     "data": {
      "image/png": "[encoded data removed]",
      "text/plain": [
       "<Figure size 432x288 with 1 Axes>"
      ]
     },
     "metadata": {
      "needs_background": "light"
     },
     "output_type": "display_data"
    }
   ],
   "source": [
    "from pandas.plotting import lag_plot\n",
    "from matplotlib import pyplot\n",
    "lag_plot(data)\n",
    "pyplot.show()                  # data is linear"
   ]
  },
  {
   "cell_type": "markdown",
   "id": "1e5dc6e2",
   "metadata": {},
   "source": [
    "<div style=\"color:white;\n",
    "           display:fill;\n",
    "           background-color:#29285D;\n",
    "           padding: 10px;\n",
    "           font-family:Verdana;\n",
    "           letter-spacing:0.5px\">\n",
    "    <h3 style=\"color:white;padding-left:20px\"><b>Interface 👀</b></h3>\n",
    "       <p style=\"color:white;font-size:110%;padding-left:50px\">\n",
    "         1) After the total observation we can see the trend of our data and we have higher rate between -5 to +5<br><br>\n",
    "          2) There is trend in ur data because after some perid its going high suddenly and its moving up direction<br><br>\n",
    "           3) The Data is linear we can see using log plot\n",
    "        </p>\n",
    "    </div>"
   ]
  },
  {
   "cell_type": "markdown",
   "id": "3110bc6b",
   "metadata": {},
   "source": [
    "\n",
    "\n",
    "<h2 style=\"color:#DC7633;\">seasonal_decomposet</h2>\n"
   ]
  },
  {
   "cell_type": "code",
   "execution_count": 19,
   "id": "59bde68c",
   "metadata": {},
   "outputs": [
    {
     "data": {
      "image/png": "[encoded data removed]",
      "text/plain": [
       "<Figure size 432x288 with 4 Axes>"
      ]
     },
     "metadata": {
      "needs_background": "light"
     },
     "output_type": "display_data"
    }
   ],
   "source": [
    "import matplotlib.pyplot as plt\n",
    "from statsmodels.tsa.seasonal import seasonal_decompose\n",
    "\n",
    "decompose_ts_add = seasonal_decompose(data.CO2,period=12)\n",
    "decompose_ts_add.plot()\n",
    "plt.show()"
   ]
  },
  {
   "cell_type": "code",
   "execution_count": 20,
   "id": "54607d83",
   "metadata": {},
   "outputs": [
    {
     "data": {
      "text/plain": [
       "<AxesSubplot:xlabel='Year'>"
      ]
     },
     "execution_count": 20,
     "metadata": {},
     "output_type": "execute_result"
    },
    {
     "data": {
      "image/png": "[encoded data removed]",
      "text/plain": [
       "<Figure size 432x288 with 1 Axes>"
      ]
     },
     "metadata": {
      "needs_background": "light"
     },
     "output_type": "display_data"
    }
   ],
   "source": [
    "seasonality=decompose_ts_add.seasonal\n",
    "seasonality.plot(color='green')"
   ]
  },
  {
   "cell_type": "markdown",
   "id": "a506fbe7",
   "metadata": {},
   "source": [
    " <div style=\"color:white;\n",
    "           display:fill;\n",
    "           background-color:#29285D;\n",
    "           padding: 10px;\n",
    "           font-family:Verdana;\n",
    "           letter-spacing:0.5px\">\n",
    "    <h3 style=\"color:white;padding-left:20px\"><b>Interface 👀</b></h3>\n",
    "       <p style=\"color:white;font-size:110%;padding-left:50px\">\n",
    "         1) In the seasonality graph, we can see the seasonality structure for every year, which is cyclic and repeatedly providing the same value. <br><br>\n",
    "  2) To check for the stationarity of the time series, statsmodels provides a plot_acf method to plot an              autocorrelation plot.<br>\n",
    "        </p>\n",
    "    </div>"
   ]
  },
  {
   "cell_type": "markdown",
   "id": "f87159f7",
   "metadata": {},
   "source": [
    "<h2 style=\"color:#DC7633;\">ACF Plot</h2>\n"
   ]
  },
  {
   "cell_type": "code",
   "execution_count": 21,
   "id": "52e66932",
   "metadata": {},
   "outputs": [
    {
     "data": {
      "image/png": "[encoded data removed]",
      "text/plain": [
       "<Figure size 432x288 with 1 Axes>"
      ]
     },
     "metadata": {
      "needs_background": "light"
     },
     "output_type": "display_data"
    },
    {
     "data": {
      "image/png": "[encoded data removed]",
      "text/plain": [
       "<Figure size 432x288 with 1 Axes>"
      ]
     },
     "metadata": {
      "needs_background": "light"
     },
     "output_type": "display_data"
    }
   ],
   "source": [
    "#To check for the stationarity of the time series, statsmodels provides a plot_acf method to plot an autocorrelation plot.\n",
    "# It will check the correlation between previous data \n",
    "from statsmodels.graphics.tsaplots import plot_acf\n",
    "from statsmodels.graphics.tsaplots import plot_pacf\n",
    "\n",
    "plot_acf(data,lags=30)\n",
    "plot_pacf(data)\n",
    "pyplot.show()\n"
   ]
  },
  {
   "cell_type": "markdown",
   "id": "e1e62983",
   "metadata": {},
   "source": [
    " <div style=\"color:white;\n",
    "           display:fill;\n",
    "           background-color:#29285D;\n",
    "           padding: 10px;\n",
    "           font-family:Verdana;\n",
    "           letter-spacing:0.5px\">\n",
    "    <h3 style=\"color:white;padding-left:20px\"><b>Interface 👀</b></h3>\n",
    "       <p style=\"color:white;font-size:110%;padding-left:50px\">\n",
    "        1)  Here the blue area is the confidence interval<br><br>\n",
    "         2) Each candle is present on previous or historical data it means if we know the historical/Past year CO2 then we             can forecast next year CO2 <br><br>\n",
    "           3) There are strongly psitive correlation \n",
    "    </p>\n",
    "    </div>\n"
   ]
  },
  {
   "cell_type": "markdown",
   "id": "2a0a9b5f",
   "metadata": {},
   "source": [
    " <h2 style=\"background-color:green;font-family:verdana;color:white;font-size:100%;text-align:center;border-radius:10px 10px;letter-spacing:0.5px;padding: 10px\"> Step 4 : Pre-Process Data </h2> "
   ]
  },
  {
   "cell_type": "markdown",
   "id": "8bf2bacd",
   "metadata": {},
   "source": [
    "<h3 style=\"color:orange;\">Stationary data means? </h3>\n",
    "\n",
    "1) constant mean\n",
    "\n",
    "2) constant variance\n",
    "\n",
    "3) constant covariance (uncorrelated)\n",
    "\n",
    "We verify this by observing change in mean, variance, autocorrelation and with a statistical test (ADFuller test)\n",
    "\n",
    "\n",
    " <h3 style=\"color:green;\">Following are the Techniques to check data is stationary or not ?</h3>\n",
    "\n",
    "1) Augmented Dickey-fuller test\n",
    "\n",
    "2) Kwiatkowski-Phillips-Schmidt-Shin (KPSS)\n",
    "\n",
    "3) Rolling Statistics\n"
   ]
  },
  {
   "cell_type": "markdown",
   "id": "10febba8",
   "metadata": {},
   "source": [
    "<h3 style=\"color:blue;\">1) Augmented Dickey-fuller test or not? </h3>\n"
   ]
  },
  {
   "cell_type": "code",
   "execution_count": 22,
   "id": "04bf1d25",
   "metadata": {},
   "outputs": [
    {
     "name": "stdout",
     "output_type": "stream",
     "text": [
      "Observations of Dickey-fuller test\n",
      "\n",
      " > Is the de-trended data stationary ?\n",
      "Test statistic = -0.378\n",
      "P-value = 0.914\n",
      "Critical values :\n",
      "\t1%: -3.4612821203214907 - The data is not stationary with 99% confidence\n",
      "\t5%: -2.875142613826617 - The data is not stationary with 95% confidence\n",
      "\t10%: -2.574020122281422 - The data is not stationary with 90% confidence\n"
     ]
    }
   ],
   "source": [
    "from statsmodels.tsa.stattools import adfuller\n",
    "print(\"Observations of Dickey-fuller test\")\n",
    "\n",
    "\n",
    "print(\"\\n > Is the de-trended data stationary ?\")\n",
    "dftest = adfuller(data['CO2'].dropna(), autolag='AIC')\n",
    "print(\"Test statistic = {:.3f}\".format(dftest[0]))\n",
    "print(\"P-value = {:.3f}\".format(dftest[1]))\n",
    "print(\"Critical values :\")\n",
    "for k, v in dftest[4].items():\n",
    "    print(\"\\t{}: {} - The data is {} stationary with {}% confidence\".format(k, v, \"not\" if v<dftest[0] else \"\", 100-int(k[:-1])))\n",
    "    "
   ]
  },
  {
   "cell_type": "markdown",
   "id": "f91ab951",
   "metadata": {},
   "source": [
    " <div style=\"color:white;\n",
    "           display:fill;\n",
    "           background-color:#29285D;\n",
    "           padding: 10px;\n",
    "           font-family:Verdana;\n",
    "           letter-spacing:0.5px\">\n",
    "    <h3 style=\"color:white;padding-left:20px\"><b>Interface 👀</b></h3>\n",
    "       <p style=\"color:white;font-size:110%;padding-left:50px\">\n",
    "        Augmented Dicky Fuller test is a statistical test for stionarity.<br> \n",
    "        If the p value is less than 0.05, the series is stationary, otherwise non-stationary. \n",
    "    </p>\n",
    "    </div>"
   ]
  },
  {
   "cell_type": "markdown",
   "id": "0b8fda67",
   "metadata": {},
   "source": [
    "<h3 style=\"color:blue;\">2) Kwiatkowski-Phillips-Schmidt-Shin (KPSS) or not? </h3>\n"
   ]
  },
  {
   "cell_type": "code",
   "execution_count": 23,
   "id": "3562eb6b",
   "metadata": {},
   "outputs": [
    {
     "name": "stdout",
     "output_type": "stream",
     "text": [
      "Test Statistic: 0.220000\n",
      "p-value: 0.010000\n",
      "Critical values:\n",
      "\t10%: 0.119\n",
      "\t5%: 0.146\n",
      "\t2.5%: 0.176\n",
      "\t1%: 0.216\n"
     ]
    }
   ],
   "source": [
    "result_kpss_ct_log=kpss(data['CO2'],regression=\"ct\")\n",
    "print('Test Statistic: %f' % np.round(result_kpss_ct_log[0],2))\n",
    "print('p-value: %f' %result_kpss_ct_log[1])\n",
    "print('Critical values:')\n",
    "for key, value in result_kpss_ct_log[3].items():\n",
    "     print('\\t%s: %.3f' %(key, value))"
   ]
  },
  {
   "cell_type": "markdown",
   "id": "9cfa76d7",
   "metadata": {},
   "source": [
    "<div style=\"color:white;\n",
    "           display:fill;\n",
    "           background-color:#29285D;\n",
    "           padding: 10px;\n",
    "           font-family:Verdana;\n",
    "           letter-spacing:0.5px\">\n",
    "    <h3 style=\"color:white;padding-left:20px\"><b>Interface 👀</b></h3>\n",
    "       <p style=\"color:white;font-size:110%;padding-left:50px\">\n",
    "         If the p-value is less than a predefined alpha level (typically 0.05), we reject the null hypothesis.      \n",
    "    </p>\n",
    "    </div>"
   ]
  },
  {
   "cell_type": "markdown",
   "id": "6c9d3461",
   "metadata": {},
   "source": [
    " <h3 style=\"color:blue;\">3) Rolling Statistics Test</h3>\n"
   ]
  },
  {
   "cell_type": "code",
   "execution_count": 24,
   "id": "b298a5ac",
   "metadata": {},
   "outputs": [
    {
     "data": {
      "image/png": "[encoded data removed]",
      "text/plain": [
       "<Figure size 432x288 with 1 Axes>"
      ]
     },
     "metadata": {
      "needs_background": "light"
     },
     "output_type": "display_data"
    }
   ],
   "source": [
    "rmean=data.rolling(window=12).mean()\n",
    "rstd=data.rolling(window=12).std()\n",
    "#print(rmean,rstd)\n",
    "orig=plt.plot(data , color='black',label='Original')\n",
    "mean= plt.plot(rmean , color='red',label='Rolling Mean')\n",
    "std=plt.plot(rstd,color='blue',label = 'Rolling Standard Deviation')\n",
    "plt.legend(loc='best')\n",
    "plt.title(\"Rolling mean and standard deviation\")\n",
    "plt.show(block=False)"
   ]
  },
  {
   "cell_type": "markdown",
   "id": "bb42c9b9",
   "metadata": {},
   "source": [
    "<div style=\"color:white;\n",
    "           display:fill;\n",
    "           background-color:#29285D;\n",
    "           padding: 10px;\n",
    "           font-family:Verdana;\n",
    "           letter-spacing:0.5px\">\n",
    "    <h3 style=\"color:white;padding-left:20px\"><b>Interface 👀</b></h3>\n",
    "       <p style=\"color:white;font-size:110%;padding-left:50px\">\n",
    "        In this graph we can see mean and variance is not constant so we can say our data is non stationary \n",
    "    </p>\n",
    "    </div>"
   ]
  },
  {
   "cell_type": "markdown",
   "id": "9593b878",
   "metadata": {},
   "source": [
    "  <h2 style=\"color:Orange;\">    Making Time Series Stationary Test</h2>\n",
    "<h3 style=\"color:Green;\">    Differencing Test</h3>\n",
    "<h4 style=\"color:blue;\">  First  Differencing Test</h4>\n"
   ]
  },
  {
   "cell_type": "code",
   "execution_count": 25,
   "id": "6fa870f5",
   "metadata": {},
   "outputs": [
    {
     "data": {
      "text/plain": [
       "[<matplotlib.lines.Line2D at 0x180f0b68>]"
      ]
     },
     "execution_count": 25,
     "metadata": {},
     "output_type": "execute_result"
    },
    {
     "data": {
      "image/png": "[encoded data removed]",
      "text/plain": [
       "<Figure size 432x288 with 1 Axes>"
      ]
     },
     "metadata": {
      "needs_background": "light"
     },
     "output_type": "display_data"
    }
   ],
   "source": [
    "import numpy as np\n",
    "\n",
    " # making the data stationary\n",
    "#data['First Difference'] = data['CO2'] - data['CO2'].shift(1)\n",
    "#plt.plot(data['First Difference'])\n",
    "#data1=data.copy()\n",
    "data['First Difference'] = data['CO2'] - data['CO2'].shift(1)\n",
    "plt.plot(data['First Difference'])"
   ]
  },
  {
   "cell_type": "code",
   "execution_count": 26,
   "id": "f74c0eec",
   "metadata": {},
   "outputs": [
    {
     "data": {
      "image/png": "[encoded data removed]",
      "text/plain": [
       "<Figure size 432x288 with 1 Axes>"
      ]
     },
     "execution_count": 26,
     "metadata": {},
     "output_type": "execute_result"
    },
    {
     "data": {
      "image/png": "[encoded data removed]",
      "text/plain": [
       "<Figure size 432x288 with 1 Axes>"
      ]
     },
     "metadata": {
      "needs_background": "light"
     },
     "output_type": "display_data"
    },
    {
     "data": {
      "image/png": "[encoded data removed]",
      "text/plain": [
       "<Figure size 432x288 with 1 Axes>"
      ]
     },
     "metadata": {
      "needs_background": "light"
     },
     "output_type": "display_data"
    }
   ],
   "source": [
    "plot_acf(data['First Difference'].dropna(),lags=25)\n",
    "plot_pacf(data['First Difference'].dropna(),lags=25)"
   ]
  },
  {
   "cell_type": "code",
   "execution_count": 26,
   "id": "99b75145",
   "metadata": {},
   "outputs": [
    {
     "data": {
      "image/png": "[encoded data removed]",
      "text/plain": [
       "<Figure size 432x288 with 1 Axes>"
      ]
     },
     "metadata": {
      "needs_background": "light"
     },
     "output_type": "display_data"
    }
   ],
   "source": [
    "rmean=data['First Difference'].rolling(window=12).mean()\n",
    "rstd=data['First Difference'].rolling(window=12).std()\n",
    "#print(rmean,rstd)\n",
    "orig=plt.plot(data['First Difference'] , color='black',label='Original')\n",
    "mean= plt.plot(rmean , color='red',label='Rolling Mean')\n",
    "std=plt.plot(rstd,color='blue',label = 'Rolling Standard Deviation')\n",
    "plt.legend(loc='best')\n",
    "plt.title(\"Rolling mean and standard deviation\")\n",
    "plt.show(block=False)"
   ]
  },
  {
   "cell_type": "code",
   "execution_count": 27,
   "id": "7ad6d43a",
   "metadata": {},
   "outputs": [
    {
     "name": "stdout",
     "output_type": "stream",
     "text": [
      " > Is the data stationary ?\n",
      "Test statistic = -3.780\n",
      "P-value = 0.003\n",
      "Critical values :\n",
      "\t1%: -3.4638151713286316 - The data is  stationary with 99% confidence\n",
      "\t5%: -2.876250632135043 - The data is  stationary with 95% confidence\n",
      "\t10%: -2.574611347821651 - The data is  stationary with 90% confidence\n"
     ]
    }
   ],
   "source": [
    "from statsmodels.tsa.stattools import adfuller\n",
    "\n",
    "print(\" > Is the data stationary ?\")\n",
    "dftest = adfuller(data['First Difference'].dropna(),autolag='AIC')\n",
    "print(\"Test statistic = {:.3f}\".format(dftest[0]))\n",
    "print(\"P-value = {:.3f}\".format(dftest[1]))\n",
    "print(\"Critical values :\")\n",
    "for k, v in dftest[4].items():\n",
    "    print(\"\\t{}: {} - The data is {} stationary with {}% confidence\".format(k, v, \"not\" if v<dftest[0] else \"\", 100-int(k[:-1])))\n",
    "    "
   ]
  },
  {
   "cell_type": "code",
   "execution_count": 28,
   "id": "dab14fbe",
   "metadata": {},
   "outputs": [
    {
     "name": "stdout",
     "output_type": "stream",
     "text": [
      "Test Statistic: 0.110000\n",
      "p-value: 0.100000\n",
      "Critical values:\n",
      "\t10%: 0.119\n",
      "\t5%: 0.146\n",
      "\t2.5%: 0.176\n",
      "\t1%: 0.216\n"
     ]
    }
   ],
   "source": [
    "result_kpss_ct_log=kpss(data['First Difference'].dropna(),regression=\"ct\")\n",
    "print('Test Statistic: %f' % np.round(result_kpss_ct_log[0],2))\n",
    "print('p-value: %f' %result_kpss_ct_log[1])\n",
    "print('Critical values:')\n",
    "for key, value in result_kpss_ct_log[3].items():\n",
    "     print('\\t%s: %.3f' %(key, value))"
   ]
  },
  {
   "cell_type": "markdown",
   "id": "a5dbd73e",
   "metadata": {},
   "source": [
    "<div style=\"color:white;\n",
    "           display:fill;\n",
    "           background-color:#29285D;\n",
    "           padding: 10px;\n",
    "           font-family:Verdana;\n",
    "           letter-spacing:0.5px\">\n",
    "    <h3 style=\"color:white;padding-left:20px\"><b>Interface 👀</b></h3>\n",
    "       <p style=\"color:white;font-size:110%;padding-left:50px\">\n",
    "         1) p value is less than 0.05, the series is stationary. <br>\n",
    "        2) In this graph we can see mean and variance is not constant so we can say our data is non stationary<br> \n",
    "         3) If the p-value is greater than a predefined alpha level (typically 0.05), we accept the null hypothesis.      \n",
    "    </p>\n",
    "    </div>"
   ]
  },
  {
   "cell_type": "code",
   "execution_count": 43,
   "id": "137a15b1",
   "metadata": {},
   "outputs": [
    {
     "data": {
      "text/html": [
       "<div>\n",
       "<style scoped>\n",
       "    .dataframe tbody tr th:only-of-type {\n",
       "        vertical-align: middle;\n",
       "    }\n",
       "\n",
       "    .dataframe tbody tr th {\n",
       "        vertical-align: top;\n",
       "    }\n",
       "\n",
       "    .dataframe thead th {\n",
       "        text-align: right;\n",
       "    }\n",
       "</style>\n",
       "<table border=\"1\" class=\"dataframe\">\n",
       "  <thead>\n",
       "    <tr style=\"text-align: right;\">\n",
       "      <th></th>\n",
       "      <th>CO2</th>\n",
       "      <th>First Difference</th>\n",
       "    </tr>\n",
       "    <tr>\n",
       "      <th>Year</th>\n",
       "      <th></th>\n",
       "      <th></th>\n",
       "    </tr>\n",
       "  </thead>\n",
       "  <tbody>\n",
       "    <tr>\n",
       "      <th>1800-01-01</th>\n",
       "      <td>0.00568</td>\n",
       "      <td>NaN</td>\n",
       "    </tr>\n",
       "    <tr>\n",
       "      <th>1801-01-01</th>\n",
       "      <td>0.00561</td>\n",
       "      <td>-0.00007</td>\n",
       "    </tr>\n",
       "    <tr>\n",
       "      <th>1802-01-01</th>\n",
       "      <td>0.00555</td>\n",
       "      <td>-0.00006</td>\n",
       "    </tr>\n",
       "    <tr>\n",
       "      <th>1803-01-01</th>\n",
       "      <td>0.00548</td>\n",
       "      <td>-0.00007</td>\n",
       "    </tr>\n",
       "    <tr>\n",
       "      <th>1804-01-01</th>\n",
       "      <td>0.00542</td>\n",
       "      <td>-0.00006</td>\n",
       "    </tr>\n",
       "    <tr>\n",
       "      <th>...</th>\n",
       "      <td>...</td>\n",
       "      <td>...</td>\n",
       "    </tr>\n",
       "    <tr>\n",
       "      <th>2010-01-01</th>\n",
       "      <td>15.60000</td>\n",
       "      <td>-0.30000</td>\n",
       "    </tr>\n",
       "    <tr>\n",
       "      <th>2011-01-01</th>\n",
       "      <td>15.60000</td>\n",
       "      <td>0.00000</td>\n",
       "    </tr>\n",
       "    <tr>\n",
       "      <th>2012-01-01</th>\n",
       "      <td>14.80000</td>\n",
       "      <td>-0.80000</td>\n",
       "    </tr>\n",
       "    <tr>\n",
       "      <th>2013-01-01</th>\n",
       "      <td>14.70000</td>\n",
       "      <td>-0.10000</td>\n",
       "    </tr>\n",
       "    <tr>\n",
       "      <th>2014-01-01</th>\n",
       "      <td>15.10000</td>\n",
       "      <td>0.40000</td>\n",
       "    </tr>\n",
       "  </tbody>\n",
       "</table>\n",
       "<p>215 rows × 2 columns</p>\n",
       "</div>"
      ],
      "text/plain": [
       "                 CO2  First Difference\n",
       "Year                                  \n",
       "1800-01-01   0.00568               NaN\n",
       "1801-01-01   0.00561          -0.00007\n",
       "1802-01-01   0.00555          -0.00006\n",
       "1803-01-01   0.00548          -0.00007\n",
       "1804-01-01   0.00542          -0.00006\n",
       "...              ...               ...\n",
       "2010-01-01  15.60000          -0.30000\n",
       "2011-01-01  15.60000           0.00000\n",
       "2012-01-01  14.80000          -0.80000\n",
       "2013-01-01  14.70000          -0.10000\n",
       "2014-01-01  15.10000           0.40000\n",
       "\n",
       "[215 rows x 2 columns]"
      ]
     },
     "execution_count": 43,
     "metadata": {},
     "output_type": "execute_result"
    }
   ],
   "source": [
    " data"
   ]
  },
  {
   "cell_type": "code",
   "execution_count": 29,
   "id": "07cb26a9",
   "metadata": {},
   "outputs": [],
   "source": [
    "import pandas as pd\n",
    "import numpy as np\n",
    "import matplotlib.pyplot as plt\n",
    "import seaborn as sns\n",
    "import statsmodels.api as sm\n",
    "from statsmodels.tsa.seasonal import seasonal_decompose\n",
    "from statsmodels.tsa.holtwinters import SimpleExpSmoothing # SES\n",
    "from statsmodels.tsa.holtwinters import Holt # Holts Exponential Smoothing\n",
    "from statsmodels.tsa.holtwinters import ExponentialSmoothing # \n",
    "import statsmodels.graphics.tsaplots as tsa_plots\n",
    "import statsmodels.tsa.statespace as tm_models\n",
    "from datetime import datetime,time"
   ]
  },
  {
   "cell_type": "code",
   "execution_count": 30,
   "id": "8d885ef6",
   "metadata": {},
   "outputs": [],
   "source": [
    "Train = data.head(180)\n",
    "Test =data.tail(35)"
   ]
  },
  {
   "cell_type": "code",
   "execution_count": 31,
   "id": "c533608a",
   "metadata": {},
   "outputs": [],
   "source": [
    "# Creating a function to calculate the MAPE value for test data \n",
    "def MAPE(pred,org):\n",
    "    temp = np.abs((pred-org))*100/org\n",
    "    return np.mean(temp)"
   ]
  },
  {
   "cell_type": "markdown",
   "id": "6bebffdb",
   "metadata": {},
   "source": [
    "  <h2 style=\"color:Orange;\">  Simple Exponential Method</h2>\n"
   ]
  },
  {
   "cell_type": "code",
   "execution_count": 32,
   "id": "ac310e95",
   "metadata": {},
   "outputs": [
    {
     "name": "stdout",
     "output_type": "stream",
     "text": [
      "MAE: 0.7594402120707794\n",
      "RMSE : 0.9711142323936686 \n",
      "MAPE : 4.810371631853253\n"
     ]
    },
    {
     "data": {
      "image/png": "[encoded data removed]",
      "text/plain": [
       "<Figure size 432x288 with 1 Axes>"
      ]
     },
     "metadata": {
      "needs_background": "light"
     },
     "output_type": "display_data"
    }
   ],
   "source": [
    "\n",
    "ses_model = SimpleExpSmoothing(Train['CO2']).fit(smoothing_level=0.2)\n",
    "#ses_model = SimpleExpSmoothing(Train.CO2).fit(smoothing_level=0.3, optimized=False)\n",
    "pred_ses = ses_model.predict(start = Test.index[0],end = Test.index[-1])\n",
    "\n",
    "plt.plot(Test.CO2)\n",
    "plt.plot(pred_ses)\n",
    "\n",
    "rmse = sqrt(mean_squared_error(Test.CO2, pred_ses))\n",
    "print('MAE:', mean_absolute_error(Test.CO2,pred_ses)) \n",
    "print('RMSE :',rmse ,'\\n''MAPE :',MAPE(pred_ses,Test.CO2))\n",
    "\n",
    "\n",
    "\n"
   ]
  },
  {
   "cell_type": "markdown",
   "id": "eafb8a7b",
   "metadata": {},
   "source": [
    "  <h2 style=\"color:Orange;\"> Holt method</h2>\n"
   ]
  },
  {
   "cell_type": "code",
   "execution_count": 33,
   "id": "627cb031",
   "metadata": {},
   "outputs": [
    {
     "name": "stdout",
     "output_type": "stream",
     "text": [
      "RMSE : 1.982378003840366 \n",
      "MAPE : 9.152117312348855\n",
      "MAE: 1.4697647296031195\n"
     ]
    },
    {
     "data": {
      "image/png": "[encoded data removed]",
      "text/plain": [
       "<Figure size 432x288 with 1 Axes>"
      ]
     },
     "metadata": {
      "needs_background": "light"
     },
     "output_type": "display_data"
    }
   ],
   "source": [
    "# Holt method \n",
    "hw_model = Holt(Train[\"CO2\"]).fit(smoothing_level=0.02, smoothing_slope=0.2)\n",
    "pred_hw = hw_model.predict(start = Test.index[0],end = Test.index[-1])\n",
    "rmse = sqrt(mean_squared_error(Test.CO2, pred_hw))\n",
    "plt.plot(Test.CO2)\n",
    "plt.plot(pred_hw)\n",
    "print('RMSE :',rmse ,'\\n''MAPE :',MAPE(pred_hw,Test.CO2))\n",
    "print('MAE:', mean_absolute_error(Test.CO2,pred_hw)) \n",
    "\n",
    " "
   ]
  },
  {
   "cell_type": "markdown",
   "id": "eb27d163",
   "metadata": {},
   "source": [
    "  <h2 style=\"color:Orange;\"> Holts winter exponential smoothing with additive seasonality and additive trend\n",
    "</h2>\n",
    "\n"
   ]
  },
  {
   "cell_type": "code",
   "execution_count": 34,
   "id": "914b4bfb",
   "metadata": {},
   "outputs": [
    {
     "name": "stdout",
     "output_type": "stream",
     "text": [
      "RMSE : 5.109619705938237 \n",
      "MAPE : 29.337181414384816\n",
      "MAE: 4.717558378588807\n"
     ]
    },
    {
     "data": {
      "image/png": "[encoded data removed]",
      "text/plain": [
       "<Figure size 432x288 with 1 Axes>"
      ]
     },
     "metadata": {
      "needs_background": "light"
     },
     "output_type": "display_data"
    }
   ],
   "source": [
    "# Holts winter exponential smoothing with additive seasonality and additive trend\n",
    "\n",
    "hwe_model_add_add = ExponentialSmoothing(Train[\"CO2\"],seasonal=\"add\",trend=\"add\",seasonal_periods=4,damped=True).fit()\n",
    "pred_hwe_add_add = hwe_model_add_add.predict(start = Test.index[0],end = Test.index[-1])\n",
    "#MAPE(pred_hwe_add_add,Test.CO2)\n",
    "plt.plot(Test.CO2)\n",
    "plt.plot(pred_hwe_add_add)\n",
    "rmse = sqrt(mean_squared_error(Test.CO2, pred_hwe_add_add))\n",
    "print('RMSE :',rmse ,'\\n''MAPE :',MAPE(pred_hwe_add_add,Test.CO2))\n",
    "print('MAE:', mean_absolute_error(Test.CO2,pred_hwe_add_add)) "
   ]
  },
  {
   "cell_type": "code",
   "execution_count": 35,
   "id": "ac1f11be",
   "metadata": {},
   "outputs": [
    {
     "data": {
      "text/plain": [
       "<matplotlib.legend.Legend at 0x17947bb0>"
      ]
     },
     "execution_count": 35,
     "metadata": {},
     "output_type": "execute_result"
    },
    {
     "data": {
      "image/png": "[encoded data removed]",
      "text/plain": [
       "<Figure size 432x288 with 1 Axes>"
      ]
     },
     "metadata": {
      "needs_background": "light"
     },
     "output_type": "display_data"
    }
   ],
   "source": [
    "# Visualization of Forecasted values for Test data set using different methods \n",
    "plt.plot(Train.index, Train[\"CO2\"], label='Train',color=\"black\")\n",
    "plt.plot(Test.index, Test[\"CO2\"], label='Test',color=\"blue\")\n",
    "plt.plot(pred_ses.index, pred_ses, label='SimpleExponential',color=\"green\")\n",
    "plt.plot(pred_hw.index, pred_hw, label='Halt method',color=\"red\")\n",
    "plt.plot(pred_hwe_add_add.index,pred_hwe_add_add,label=\"hwe_add_add\",color=\"brown\")\n",
    "plt.legend(loc='best')"
   ]
  },
  {
   "cell_type": "code",
   "execution_count": 36,
   "id": "c9e1d1d9",
   "metadata": {},
   "outputs": [
    {
     "name": "stdout",
     "output_type": "stream",
     "text": [
      "Dataset 205, Validation 10\n"
     ]
    }
   ],
   "source": [
    "##### separate out a validation dataset\n",
    "split_point = len(data) - 10\n",
    "dataset, validation = data[0:split_point], data[split_point:]\n",
    "print('Dataset %d, Validation %d' % (len(dataset), len(validation)))\n",
    "dataset.to_csv('dataset.csv', header=False)\n",
    "validation.to_csv('validation.csv', header=False)"
   ]
  },
  {
   "cell_type": "code",
   "execution_count": 37,
   "id": "5667aa7f",
   "metadata": {},
   "outputs": [],
   "source": [
    "# evaluate a persistence model\n",
    "from pandas import read_csv\n",
    "from sklearn.metrics import mean_squared_error\n",
    "from math import sqrt\n",
    "import pandas as pd\n",
    "#train1 = pd.read_excel('CO2 dataset.xlsx', header=None, index_col=0, parse_dates=True, squeeze=True)\n",
    "X = data['CO2'].values\n",
    "train, test = X[1:180], X[180:]\n"
   ]
  },
  {
   "cell_type": "code",
   "execution_count": 38,
   "id": "f62c0a7f",
   "metadata": {},
   "outputs": [
    {
     "name": "stdout",
     "output_type": "stream",
     "text": [
      ">Predicted=18.200, Expected=18.100\n",
      ">Predicted=18.100, Expected=17.300\n",
      ">Predicted=17.300, Expected=16.600\n",
      ">Predicted=16.600, Expected=16.200\n",
      ">Predicted=16.200, Expected=16.600\n",
      ">Predicted=16.600, Expected=16.300\n",
      ">Predicted=16.300, Expected=15.500\n",
      ">Predicted=15.500, Expected=16.200\n",
      ">Predicted=16.200, Expected=16.900\n",
      ">Predicted=16.900, Expected=17.000\n",
      ">Predicted=17.000, Expected=15.700\n",
      ">Predicted=15.700, Expected=15.200\n",
      ">Predicted=15.200, Expected=15.500\n",
      ">Predicted=15.500, Expected=15.500\n",
      ">Predicted=15.500, Expected=15.700\n",
      ">Predicted=15.700, Expected=15.900\n",
      ">Predicted=15.900, Expected=16.200\n",
      ">Predicted=16.200, Expected=16.600\n",
      ">Predicted=16.600, Expected=16.800\n",
      ">Predicted=16.800, Expected=16.900\n",
      ">Predicted=16.900, Expected=17.400\n",
      ">Predicted=17.400, Expected=17.000\n",
      ">Predicted=17.000, Expected=16.600\n",
      ">Predicted=16.600, Expected=17.500\n",
      ">Predicted=17.500, Expected=17.300\n",
      ">Predicted=17.300, Expected=17.300\n",
      ">Predicted=17.300, Expected=16.700\n",
      ">Predicted=16.700, Expected=16.800\n",
      ">Predicted=16.800, Expected=16.800\n",
      ">Predicted=16.800, Expected=15.900\n",
      ">Predicted=15.900, Expected=15.600\n",
      ">Predicted=15.600, Expected=15.600\n",
      ">Predicted=15.600, Expected=14.800\n",
      ">Predicted=14.800, Expected=14.700\n",
      ">Predicted=14.700, Expected=15.100\n",
      "\n",
      "RMSE : 0.5096217084409629\n",
      "MAE: 0.40285714285714297\n",
      "MAPE : 2.481352103015203\n"
     ]
    }
   ],
   "source": [
    "# walk-forward validation\n",
    "history = [x for x in train]\n",
    "predictions = list()\n",
    "for i in range(len(test)):\n",
    "    yhat = history[-1]\n",
    "    predictions.append(yhat)\n",
    "# observation\n",
    "    obs = test[i]\n",
    "    history.append(obs)\n",
    "    print('>Predicted=%.3f, Expected=%.3f' % (yhat, obs))\n",
    "# report performance\n",
    "rmse = sqrt(mean_squared_error(test, predictions))\n",
    "MAPE=MAPE(predictions,test)\n",
    "print('\\nRMSE :',rmse)\n",
    "print('MAE:', mean_absolute_error(test,predictions)) \n",
    "print('MAPE :',MAPE)"
   ]
  },
  {
   "cell_type": "markdown",
   "id": "0afe24e0",
   "metadata": {},
   "source": [
    "\n",
    "  <h2 style=\"color:Orange;\">   ARIMA Hyperparameters</h2>\n"
   ]
  },
  {
   "cell_type": "code",
   "execution_count": 39,
   "id": "425596a1",
   "metadata": {},
   "outputs": [
    {
     "name": "stdout",
     "output_type": "stream",
     "text": [
      "0.5096217084409629\n"
     ]
    }
   ],
   "source": [
    "# grid search ARIMA parameters for a time series\n",
    "\n",
    "import warnings\n",
    "from pandas import read_csv\n",
    "from statsmodels.tsa.arima_model import ARIMA\n",
    "from sklearn.metrics import mean_squared_error\n",
    "from math import sqrt\n",
    "\n",
    "\n",
    "# evaluate an ARIMA model for a given order (p,d,q) and return RMSE\n",
    "def evaluate_arima_model(X, arima_order):\n",
    "# prepare training dataset\n",
    "    history = [x for x in train]\n",
    "# make predictions\n",
    "    predictions = list()\n",
    "    for t in range(len(test)):\n",
    "        model = ARIMA(history, order=arima_order)\n",
    "# model_fit = model.fit(disp=0)\n",
    "        model_fit = model.fit(disp=0)\n",
    "        yhat = model_fit.forecast()[0]\n",
    "        predictions.append(yhat)\n",
    "        history.append(test[t])\n",
    "# calculate out of sample error\n",
    "    rmse = sqrt(mean_squared_error(test, predictions))\n",
    "    return rmse\n",
    "print(rmse)"
   ]
  },
  {
   "cell_type": "markdown",
   "id": "638554cf",
   "metadata": {},
   "source": [
    "\n",
    "<h2 style=\"color:Orange;\">  Grid search for p,d,q values</h2>\n"
   ]
  },
  {
   "cell_type": "code",
   "execution_count": 40,
   "id": "2ef41b83",
   "metadata": {},
   "outputs": [],
   "source": [
    "# evaluate combinations of p, d and q values for an ARIMA model\n",
    "def evaluate_models(dataset, p_values, d_values, q_values):\n",
    "    #dataset = dataset.astype('float32')\n",
    "    best_score, best_cfg = float('inf'), None\n",
    "    for p in p_values:\n",
    "        for d in d_values:\n",
    "            for q in q_values:\n",
    "                order = (p,d,q)\n",
    "                try:\n",
    "                    rmse = evaluate_arima_model(train, order)\n",
    "                    if rmse < best_score:\n",
    "                        best_score, best_cfg = rmse, order\n",
    "                    print('ARIMA%s RMSE=%.3f' % (order,rmse))\n",
    "                    \n",
    "                except:\n",
    "                    continue\n",
    "    print('Best ARIMA%s RMSE=%.3f' % (best_cfg, best_score))"
   ]
  },
  {
   "cell_type": "code",
   "execution_count": 41,
   "id": "744b3021",
   "metadata": {},
   "outputs": [
    {
     "name": "stdout",
     "output_type": "stream",
     "text": [
      "ARIMA(0, 0, 0) RMSE=10.516\n",
      "ARIMA(0, 0, 1) RMSE=5.438\n",
      "ARIMA(0, 1, 0) RMSE=0.533\n",
      "ARIMA(0, 1, 1) RMSE=0.542\n",
      "ARIMA(0, 1, 2) RMSE=0.532\n",
      "ARIMA(0, 2, 0) RMSE=0.687\n",
      "ARIMA(0, 2, 1) RMSE=0.569\n",
      "ARIMA(0, 2, 2) RMSE=0.584\n",
      "ARIMA(1, 0, 0) RMSE=0.507\n",
      "ARIMA(1, 1, 0) RMSE=0.541\n",
      "ARIMA(1, 1, 1) RMSE=0.541\n",
      "ARIMA(1, 1, 2) RMSE=0.530\n",
      "ARIMA(1, 2, 0) RMSE=0.685\n",
      "ARIMA(1, 2, 1) RMSE=0.581\n",
      "ARIMA(2, 0, 0) RMSE=0.509\n",
      "ARIMA(2, 1, 0) RMSE=0.534\n",
      "ARIMA(2, 1, 1) RMSE=0.531\n",
      "ARIMA(2, 1, 2) RMSE=0.534\n",
      "ARIMA(2, 2, 0) RMSE=0.620\n",
      "ARIMA(2, 2, 1) RMSE=0.582\n",
      "ARIMA(2, 2, 2) RMSE=0.576\n",
      "Best ARIMA(1, 0, 0) RMSE=0.507\n"
     ]
    }
   ],
   "source": [
    "\n",
    "# evaluate parameters\n",
    "p_values = range(0, 3)\n",
    "d_values = range(0, 3)\n",
    "q_values = range(0, 3)\n",
    "warnings.filterwarnings(\"ignore\")\n",
    "evaluate_models(data.values, p_values, d_values, q_values)\n"
   ]
  },
  {
   "cell_type": "markdown",
   "id": "1b33e1fa",
   "metadata": {},
   "source": [
    "<h2 style=\"color:Orange;\">  Build Model based on the optimized values</h2>\n"
   ]
  },
  {
   "cell_type": "code",
   "execution_count": 95,
   "id": "89cecea1",
   "metadata": {},
   "outputs": [],
   "source": [
    "##### save finalized model to file\n",
    "from pandas import read_csv\n",
    "from statsmodels.tsa.arima_model import ARIMA\n",
    "import numpy"
   ]
  },
  {
   "cell_type": "code",
   "execution_count": 96,
   "id": "f9ab9186",
   "metadata": {},
   "outputs": [],
   "source": [
    "train_data = data.loc[:'2000-01-01','CO2']\n",
    "test_data = data.loc['2000-01-01':]"
   ]
  },
  {
   "cell_type": "code",
   "execution_count": 121,
   "id": "4113a2bb",
   "metadata": {},
   "outputs": [],
   "source": [
    "from statsmodels.tsa.ar_model import AutoReg\n",
    "\n",
    "\n",
    "# Instantiate and fit the AR model with training data\n",
    "ar_model = AutoReg(train_data, lags=15).fit()\n",
    "\n",
    "# Print Summary\n",
    "#print(ar_model.summary())"
   ]
  },
  {
   "cell_type": "code",
   "execution_count": 122,
   "id": "18bc75f7",
   "metadata": {},
   "outputs": [
    {
     "name": "stdout",
     "output_type": "stream",
     "text": [
      "RMSE: 2.8993895391269633\n",
      "MAE: 2.494488386232631\n"
     ]
    },
    {
     "data": {
      "image/png": "[encoded data removed]",
      "text/plain": [
       "<Figure size 432x288 with 1 Axes>"
      ]
     },
     "metadata": {
      "needs_background": "light"
     },
     "output_type": "display_data"
    }
   ],
   "source": [
    "ar_forecast = ar_model.predict('2000-01-01', '2014-01-01')\n",
    "\n",
    "plt.title('AR Model Results', size=7)\n",
    "plt.plot(data.loc['2000-01-01':,'CO2'],label='Actual')\n",
    "plt.plot(ar_forecast,label='Predicted')\n",
    "plt.legend();\n",
    "\n",
    "print('RMSE:', np.sqrt(mean_squared_error(data.loc['2000-01-01':,'CO2'],ar_forecast)))\n",
    "print('MAE:', mean_absolute_error(data.loc['2000-01-01':,'CO2'],ar_forecast))"
   ]
  },
  {
   "cell_type": "code",
   "execution_count": 99,
   "id": "aadcafb1",
   "metadata": {},
   "outputs": [
    {
     "name": "stdout",
     "output_type": "stream",
     "text": [
      "RMSE: 0.5778821815728581\n",
      "MAE: 0.48879650665951524\n"
     ]
    },
    {
     "data": {
      "image/png": "[encoded data removed]",
      "text/plain": [
       "<Figure size 432x288 with 1 Axes>"
      ]
     },
     "metadata": {
      "needs_background": "light"
     },
     "output_type": "display_data"
    }
   ],
   "source": [
    "train_datafd = data.loc['1801-01-01':'2000-01-01','First Difference']\n",
    "\n",
    "# Instantiate and fit the AR model with training data\n",
    "ar_modelfd = AutoReg(train_datafd, lags=15).fit()\n",
    "\n",
    "# Print Summary\n",
    "#print(ar_modelfd.summary())\n",
    "\n",
    "ar_forecastfd = ar_modelfd.predict('2000-01-01', '2014-01-01')\n",
    "plt.title('AR Model Results', size=6)\n",
    "plt.plot(data.loc['2000-01-01':,'First Difference'],label='Actual')\n",
    "plt.plot(ar_forecastfd,label='Predicted')\n",
    "plt.legend();\n",
    "\n",
    "print('RMSE:',np.sqrt(mean_squared_error(data.loc['2000-01-01':,'First Difference'],ar_forecastfd)))\n",
    "print('MAE:',mean_absolute_error(data.loc['2000-01-01':,'First Difference'],ar_forecastfd))"
   ]
  },
  {
   "cell_type": "code",
   "execution_count": 28,
   "id": "b858bbce",
   "metadata": {},
   "outputs": [
    {
     "name": "stdout",
     "output_type": "stream",
     "text": [
      "RMSE: 0.4928097751156221\n",
      "MAE 0.4036350490236084\n",
      "MAPE 6010046942066147.0\n"
     ]
    },
    {
     "data": {
      "image/png": "[encoded data removed]",
      "text/plain": [
       "<Figure size 432x288 with 1 Axes>"
      ]
     },
     "metadata": {
      "needs_background": "light"
     },
     "output_type": "display_data"
    }
   ],
   "source": [
    "from statsmodels.tsa.arima.model import ARIMA\n",
    "from sklearn.metrics import mean_absolute_percentage_error\n",
    "\n",
    "arima2 = ARIMA(data.loc[:,'First Difference'], order=(7, 1, 2))\n",
    "results2 = arima2.fit()\n",
    "predictions2 = results2.predict('2000-01-01', '2014-01-01')\n",
    "\n",
    "plt.plot(data.loc['2000-01-01':,'First Difference'],label='Actual')\n",
    "predictions2.plot()\n",
    "plt.legend();\n",
    "\n",
    "print('RMSE:',np.sqrt(mean_squared_error(data.loc['2000-01-01':,'First Difference'],predictions2)))\n",
    "print('MAE',mean_absolute_error(data.loc['2000-01-01':,'First Difference'],predictions2))\n",
    "print('MAPE',mean_absolute_percentage_error(data.loc['2000-01-01':,'First Difference'],predictions2)*100) "
   ]
  },
  {
   "cell_type": "code",
   "execution_count": 29,
   "id": "13c7ed7c",
   "metadata": {},
   "outputs": [
    {
     "data": {
      "text/plain": [
       "<AxesSubplot:>"
      ]
     },
     "execution_count": 29,
     "metadata": {},
     "output_type": "execute_result"
    },
    {
     "data": {
      "image/png": "[encoded data removed]",
      "text/plain": [
       "<Figure size 432x288 with 1 Axes>"
      ]
     },
     "metadata": {
      "needs_background": "light"
     },
     "output_type": "display_data"
    }
   ],
   "source": [
    " import pickle\n",
    "with open('arimafoo.pkl', 'wb') as pkl:\n",
    "    pickle.dump(results2, pkl)\n",
    "    \n",
    "with open('arimafoo.pkl', 'rb') as pkl:\n",
    "    pickle_preds = pickle.load(pkl)\n",
    "    \n",
    "start = '2000-01-01'\n",
    "end = '2054-01-01'\n",
    "pickle_preds.predict(start, end).plot()"
   ]
  },
  {
   "cell_type": "code",
   "execution_count": 30,
   "id": "1b7b709c",
   "metadata": {},
   "outputs": [
    {
     "data": {
      "image/png": "[encoded data removed]",
      "text/plain": [
       "<Figure size 864x504 with 1 Axes>"
      ]
     },
     "metadata": {
      "needs_background": "light"
     },
     "output_type": "display_data"
    }
   ],
   "source": [
    "from statsmodels.tsa.arima.model import ARIMA\n",
    "\n",
    "arima = ARIMA(data.loc[:,'CO2'], order=(28, 2 ,20))\n",
    "resultf = arima.fit()\n",
    "predictionf = resultf.predict('2014-01-01', '2050-01-01')\n",
    "plt.figure(figsize=(12,7))\n",
    "plt.plot(data.loc[:,'CO2'],label='Actual')\n",
    "predictionf.plot()\n",
    "plt.legend();"
   ]
  },
  {
   "cell_type": "code",
   "execution_count": 31,
   "id": "6655d79b",
   "metadata": {},
   "outputs": [],
   "source": [
    "import pickle\n",
    "with open('arimaf.pkl', 'wb') as pkl:\n",
    "    pickle.dump(resultf, pkl)\n",
    "with open('arimaf.pkl', 'rb') as pkl:\n",
    "    pickle_preds = pickle.load(pkl)"
   ]
  },
  {
   "cell_type": "code",
   "execution_count": 32,
   "id": "3621202e",
   "metadata": {},
   "outputs": [
    {
     "data": {
      "text/plain": [
       "<AxesSubplot:>"
      ]
     },
     "execution_count": 32,
     "metadata": {},
     "output_type": "execute_result"
    },
    {
     "data": {
      "image/png": "[encoded data removed]",
      "text/plain": [
       "<Figure size 432x288 with 1 Axes>"
      ]
     },
     "metadata": {
      "needs_background": "light"
     },
     "output_type": "display_data"
    }
   ],
   "source": [
    "pickle_preds.predict('2014-01-01', '2050-01-01').plot() "
   ]
  },
  {
   "cell_type": "code",
   "execution_count": 8,
   "id": "9cf14c4c",
   "metadata": {},
   "outputs": [
    {
     "name": "stderr",
     "output_type": "stream",
     "text": [
      "WARNING: Ignoring invalid distribution -heel (c:\\users\\admin\\anaconda3\\lib\\site-packages)\n",
      "WARNING: Ignoring invalid distribution -heel (c:\\users\\admin\\anaconda3\\lib\\site-packages)\n",
      "  error: subprocess-exited-with-error\n",
      "  \n",
      "  Building wheel for pyarrow (pyproject.toml) did not run successfully.\n",
      "  exit code: 1\n",
      "  \n",
      "  [258 lines of output]\n",
      "  running bdist_wheel\n",
      "  running build\n",
      "  running build_py\n",
      "  creating build\n",
      "  creating build\\lib.win32-cpython-39\n",
      "  creating build\\lib.win32-cpython-39\\pyarrow\n",
      "  copying pyarrow\\benchmark.py -> build\\lib.win32-cpython-39\\pyarrow\n",
      "  copying pyarrow\\cffi.py -> build\\lib.win32-cpython-39\\pyarrow\n",
      "  copying pyarrow\\compute.py -> build\\lib.win32-cpython-39\\pyarrow\n",
      "  copying pyarrow\\conftest.py -> build\\lib.win32-cpython-39\\pyarrow\n",
      "  copying pyarrow\\csv.py -> build\\lib.win32-cpython-39\\pyarrow\n",
      "  copying pyarrow\\cuda.py -> build\\lib.win32-cpython-39\\pyarrow\n",
      "  copying pyarrow\\dataset.py -> build\\lib.win32-cpython-39\\pyarrow\n",
      "  copying pyarrow\\feather.py -> build\\lib.win32-cpython-39\\pyarrow\n",
      "  copying pyarrow\\filesystem.py -> build\\lib.win32-cpython-39\\pyarrow\n",
      "  copying pyarrow\\flight.py -> build\\lib.win32-cpython-39\\pyarrow\n",
      "  copying pyarrow\\fs.py -> build\\lib.win32-cpython-39\\pyarrow\n",
      "  copying pyarrow\\hdfs.py -> build\\lib.win32-cpython-39\\pyarrow\n",
      "  copying pyarrow\\ipc.py -> build\\lib.win32-cpython-39\\pyarrow\n",
      "  copying pyarrow\\json.py -> build\\lib.win32-cpython-39\\pyarrow\n",
      "  copying pyarrow\\jvm.py -> build\\lib.win32-cpython-39\\pyarrow\n",
      "  copying pyarrow\\orc.py -> build\\lib.win32-cpython-39\\pyarrow\n",
      "  copying pyarrow\\pandas_compat.py -> build\\lib.win32-cpython-39\\pyarrow\n",
      "  copying pyarrow\\plasma.py -> build\\lib.win32-cpython-39\\pyarrow\n",
      "  copying pyarrow\\serialization.py -> build\\lib.win32-cpython-39\\pyarrow\n",
      "  copying pyarrow\\substrait.py -> build\\lib.win32-cpython-39\\pyarrow\n",
      "  copying pyarrow\\types.py -> build\\lib.win32-cpython-39\\pyarrow\n",
      "  copying pyarrow\\util.py -> build\\lib.win32-cpython-39\\pyarrow\n",
      "  copying pyarrow\\_compute_docstrings.py -> build\\lib.win32-cpython-39\\pyarrow\n",
      "  copying pyarrow\\_generated_version.py -> build\\lib.win32-cpython-39\\pyarrow\n",
      "  copying pyarrow\\__init__.py -> build\\lib.win32-cpython-39\\pyarrow\n",
      "  creating build\\lib.win32-cpython-39\\pyarrow\\parquet\n",
      "  copying pyarrow\\parquet\\encryption.py -> build\\lib.win32-cpython-39\\pyarrow\\parquet\n",
      "  copying pyarrow\\parquet\\__init__.py -> build\\lib.win32-cpython-39\\pyarrow\\parquet\n",
      "  creating build\\lib.win32-cpython-39\\pyarrow\\tests\n",
      "  copying pyarrow\\tests\\arrow_16597.py -> build\\lib.win32-cpython-39\\pyarrow\\tests\n",
      "  copying pyarrow\\tests\\arrow_7980.py -> build\\lib.win32-cpython-39\\pyarrow\\tests\n",
      "  copying pyarrow\\tests\\conftest.py -> build\\lib.win32-cpython-39\\pyarrow\\tests\n",
      "  copying pyarrow\\tests\\deserialize_buffer.py -> build\\lib.win32-cpython-39\\pyarrow\\tests\n",
      "  copying pyarrow\\tests\\pandas_examples.py -> build\\lib.win32-cpython-39\\pyarrow\\tests\n",
      "  copying pyarrow\\tests\\pandas_threaded_import.py -> build\\lib.win32-cpython-39\\pyarrow\\tests\n",
      "  copying pyarrow\\tests\\read_record_batch.py -> build\\lib.win32-cpython-39\\pyarrow\\tests\n",
      "  copying pyarrow\\tests\\strategies.py -> build\\lib.win32-cpython-39\\pyarrow\\tests\n",
      "  copying pyarrow\\tests\\test_adhoc_memory_leak.py -> build\\lib.win32-cpython-39\\pyarrow\\tests\n",
      "  copying pyarrow\\tests\\test_array.py -> build\\lib.win32-cpython-39\\pyarrow\\tests\n",
      "  copying pyarrow\\tests\\test_builder.py -> build\\lib.win32-cpython-39\\pyarrow\\tests\n",
      "  copying pyarrow\\tests\\test_cffi.py -> build\\lib.win32-cpython-39\\pyarrow\\tests\n",
      "  copying pyarrow\\tests\\test_compute.py -> build\\lib.win32-cpython-39\\pyarrow\\tests\n",
      "  copying pyarrow\\tests\\test_convert_builtin.py -> build\\lib.win32-cpython-39\\pyarrow\\tests\n",
      "  copying pyarrow\\tests\\test_csv.py -> build\\lib.win32-cpython-39\\pyarrow\\tests\n",
      "  copying pyarrow\\tests\\test_cuda.py -> build\\lib.win32-cpython-39\\pyarrow\\tests\n",
      "  copying pyarrow\\tests\\test_cuda_numba_interop.py -> build\\lib.win32-cpython-39\\pyarrow\\tests\n",
      "  copying pyarrow\\tests\\test_cython.py -> build\\lib.win32-cpython-39\\pyarrow\\tests\n",
      "  copying pyarrow\\tests\\test_dataset.py -> build\\lib.win32-cpython-39\\pyarrow\\tests\n",
      "  copying pyarrow\\tests\\test_deprecations.py -> build\\lib.win32-cpython-39\\pyarrow\\tests\n",
      "  copying pyarrow\\tests\\test_exec_plan.py -> build\\lib.win32-cpython-39\\pyarrow\\tests\n",
      "  copying pyarrow\\tests\\test_extension_type.py -> build\\lib.win32-cpython-39\\pyarrow\\tests\n",
      "  copying pyarrow\\tests\\test_feather.py -> build\\lib.win32-cpython-39\\pyarrow\\tests\n",
      "  copying pyarrow\\tests\\test_filesystem.py -> build\\lib.win32-cpython-39\\pyarrow\\tests\n",
      "  copying pyarrow\\tests\\test_flight.py -> build\\lib.win32-cpython-39\\pyarrow\\tests\n",
      "  copying pyarrow\\tests\\test_fs.py -> build\\lib.win32-cpython-39\\pyarrow\\tests\n",
      "  copying pyarrow\\tests\\test_gandiva.py -> build\\lib.win32-cpython-39\\pyarrow\\tests\n",
      "  copying pyarrow\\tests\\test_gdb.py -> build\\lib.win32-cpython-39\\pyarrow\\tests\n",
      "  copying pyarrow\\tests\\test_hdfs.py -> build\\lib.win32-cpython-39\\pyarrow\\tests\n",
      "  copying pyarrow\\tests\\test_io.py -> build\\lib.win32-cpython-39\\pyarrow\\tests\n",
      "  copying pyarrow\\tests\\test_ipc.py -> build\\lib.win32-cpython-39\\pyarrow\\tests\n",
      "  copying pyarrow\\tests\\test_json.py -> build\\lib.win32-cpython-39\\pyarrow\\tests\n",
      "  copying pyarrow\\tests\\test_jvm.py -> build\\lib.win32-cpython-39\\pyarrow\\tests\n",
      "  copying pyarrow\\tests\\test_memory.py -> build\\lib.win32-cpython-39\\pyarrow\\tests\n",
      "  copying pyarrow\\tests\\test_misc.py -> build\\lib.win32-cpython-39\\pyarrow\\tests\n",
      "  copying pyarrow\\tests\\test_orc.py -> build\\lib.win32-cpython-39\\pyarrow\\tests\n",
      "  copying pyarrow\\tests\\test_pandas.py -> build\\lib.win32-cpython-39\\pyarrow\\tests\n",
      "  copying pyarrow\\tests\\test_plasma.py -> build\\lib.win32-cpython-39\\pyarrow\\tests\n",
      "  copying pyarrow\\tests\\test_plasma_tf_op.py -> build\\lib.win32-cpython-39\\pyarrow\\tests\n",
      "  copying pyarrow\\tests\\test_scalars.py -> build\\lib.win32-cpython-39\\pyarrow\\tests\n",
      "  copying pyarrow\\tests\\test_schema.py -> build\\lib.win32-cpython-39\\pyarrow\\tests\n",
      "  copying pyarrow\\tests\\test_serialization.py -> build\\lib.win32-cpython-39\\pyarrow\\tests\n",
      "  copying pyarrow\\tests\\test_serialization_deprecated.py -> build\\lib.win32-cpython-39\\pyarrow\\tests\n",
      "  copying pyarrow\\tests\\test_sparse_tensor.py -> build\\lib.win32-cpython-39\\pyarrow\\tests\n",
      "  copying pyarrow\\tests\\test_strategies.py -> build\\lib.win32-cpython-39\\pyarrow\\tests\n",
      "  copying pyarrow\\tests\\test_substrait.py -> build\\lib.win32-cpython-39\\pyarrow\\tests\n",
      "  copying pyarrow\\tests\\test_table.py -> build\\lib.win32-cpython-39\\pyarrow\\tests\n",
      "  copying pyarrow\\tests\\test_tensor.py -> build\\lib.win32-cpython-39\\pyarrow\\tests\n",
      "  copying pyarrow\\tests\\test_types.py -> build\\lib.win32-cpython-39\\pyarrow\\tests\n",
      "  copying pyarrow\\tests\\test_udf.py -> build\\lib.win32-cpython-39\\pyarrow\\tests\n",
      "  copying pyarrow\\tests\\test_util.py -> build\\lib.win32-cpython-39\\pyarrow\\tests\n",
      "  copying pyarrow\\tests\\util.py -> build\\lib.win32-cpython-39\\pyarrow\\tests\n",
      "  copying pyarrow\\tests\\__init__.py -> build\\lib.win32-cpython-39\\pyarrow\\tests\n",
      "  creating build\\lib.win32-cpython-39\\pyarrow\\vendored\n",
      "  copying pyarrow\\vendored\\docscrape.py -> build\\lib.win32-cpython-39\\pyarrow\\vendored\n",
      "  copying pyarrow\\vendored\\version.py -> build\\lib.win32-cpython-39\\pyarrow\\vendored\n",
      "  copying pyarrow\\vendored\\__init__.py -> build\\lib.win32-cpython-39\\pyarrow\\vendored\n",
      "  creating build\\lib.win32-cpython-39\\pyarrow\\tests\\parquet\n",
      "  copying pyarrow\\tests\\parquet\\common.py -> build\\lib.win32-cpython-39\\pyarrow\\tests\\parquet\n",
      "  copying pyarrow\\tests\\parquet\\conftest.py -> build\\lib.win32-cpython-39\\pyarrow\\tests\\parquet\n",
      "  copying pyarrow\\tests\\parquet\\encryption.py -> build\\lib.win32-cpython-39\\pyarrow\\tests\\parquet\n",
      "  copying pyarrow\\tests\\parquet\\test_basic.py -> build\\lib.win32-cpython-39\\pyarrow\\tests\\parquet\n",
      "  copying pyarrow\\tests\\parquet\\test_compliant_nested_type.py -> build\\lib.win32-cpython-39\\pyarrow\\tests\\parquet\n",
      "  copying pyarrow\\tests\\parquet\\test_dataset.py -> build\\lib.win32-cpython-39\\pyarrow\\tests\\parquet\n",
      "  copying pyarrow\\tests\\parquet\\test_data_types.py -> build\\lib.win32-cpython-39\\pyarrow\\tests\\parquet\n",
      "  copying pyarrow\\tests\\parquet\\test_datetime.py -> build\\lib.win32-cpython-39\\pyarrow\\tests\\parquet\n",
      "  copying pyarrow\\tests\\parquet\\test_encryption.py -> build\\lib.win32-cpython-39\\pyarrow\\tests\\parquet\n",
      "  copying pyarrow\\tests\\parquet\\test_metadata.py -> build\\lib.win32-cpython-39\\pyarrow\\tests\\parquet\n",
      "  copying pyarrow\\tests\\parquet\\test_pandas.py -> build\\lib.win32-cpython-39\\pyarrow\\tests\\parquet\n",
      "  copying pyarrow\\tests\\parquet\\test_parquet_file.py -> build\\lib.win32-cpython-39\\pyarrow\\tests\\parquet\n",
      "  copying pyarrow\\tests\\parquet\\test_parquet_writer.py -> build\\lib.win32-cpython-39\\pyarrow\\tests\\parquet\n",
      "  copying pyarrow\\tests\\parquet\\__init__.py -> build\\lib.win32-cpython-39\\pyarrow\\tests\\parquet\n",
      "  running egg_info\n",
      "  writing pyarrow.egg-info\\PKG-INFO\n",
      "  writing dependency_links to pyarrow.egg-info\\dependency_links.txt\n",
      "  writing entry points to pyarrow.egg-info\\entry_points.txt\n",
      "  writing requirements to pyarrow.egg-info\\requires.txt\n",
      "  writing top-level names to pyarrow.egg-info\\top_level.txt\n",
      "  reading manifest file 'pyarrow.egg-info\\SOURCES.txt'\n",
      "  reading manifest template 'MANIFEST.in'\n",
      "  warning: no files found matching '..\\LICENSE.txt'\n",
      "  warning: no files found matching '..\\NOTICE.txt'\n",
      "  warning: no previously-included files matching '*.so' found anywhere in distribution\n",
      "  warning: no previously-included files matching '*.pyc' found anywhere in distribution\n",
      "  warning: no previously-included files matching '*~' found anywhere in distribution\n",
      "  warning: no previously-included files matching '#*' found anywhere in distribution\n",
      "  warning: no previously-included files matching '.git*' found anywhere in distribution\n",
      "  warning: no previously-included files matching '.DS_Store' found anywhere in distribution\n",
      "  no previously-included directories found matching '.asv'\n",
      "  writing manifest file 'pyarrow.egg-info\\SOURCES.txt'\n",
      "  copying pyarrow\\__init__.pxd -> build\\lib.win32-cpython-39\\pyarrow\n",
      "  copying pyarrow\\_compute.pxd -> build\\lib.win32-cpython-39\\pyarrow\n",
      "  copying pyarrow\\_compute.pyx -> build\\lib.win32-cpython-39\\pyarrow\n",
      "  copying pyarrow\\_csv.pxd -> build\\lib.win32-cpython-39\\pyarrow\n",
      "  copying pyarrow\\_csv.pyx -> build\\lib.win32-cpython-39\\pyarrow\n",
      "  copying pyarrow\\_cuda.pxd -> build\\lib.win32-cpython-39\\pyarrow\n",
      "  copying pyarrow\\_cuda.pyx -> build\\lib.win32-cpython-39\\pyarrow\n",
      "  copying pyarrow\\_dataset.pxd -> build\\lib.win32-cpython-39\\pyarrow\n",
      "  copying pyarrow\\_dataset.pyx -> build\\lib.win32-cpython-39\\pyarrow\n",
      "  copying pyarrow\\_dataset_orc.pyx -> build\\lib.win32-cpython-39\\pyarrow\n",
      "  copying pyarrow\\_dataset_parquet.pyx -> build\\lib.win32-cpython-39\\pyarrow\n",
      "  copying pyarrow\\_exec_plan.pyx -> build\\lib.win32-cpython-39\\pyarrow\n",
      "  copying pyarrow\\_feather.pyx -> build\\lib.win32-cpython-39\\pyarrow\n",
      "  copying pyarrow\\_flight.pyx -> build\\lib.win32-cpython-39\\pyarrow\n",
      "  copying pyarrow\\_fs.pxd -> build\\lib.win32-cpython-39\\pyarrow\n",
      "  copying pyarrow\\_fs.pyx -> build\\lib.win32-cpython-39\\pyarrow\n",
      "  copying pyarrow\\_gcsfs.pyx -> build\\lib.win32-cpython-39\\pyarrow\n",
      "  copying pyarrow\\_hdfs.pyx -> build\\lib.win32-cpython-39\\pyarrow\n",
      "  copying pyarrow\\_hdfsio.pyx -> build\\lib.win32-cpython-39\\pyarrow\n",
      "  copying pyarrow\\_json.pyx -> build\\lib.win32-cpython-39\\pyarrow\n",
      "  copying pyarrow\\_orc.pxd -> build\\lib.win32-cpython-39\\pyarrow\n",
      "  copying pyarrow\\_orc.pyx -> build\\lib.win32-cpython-39\\pyarrow\n",
      "  copying pyarrow\\_parquet.pxd -> build\\lib.win32-cpython-39\\pyarrow\n",
      "  copying pyarrow\\_parquet.pyx -> build\\lib.win32-cpython-39\\pyarrow\n",
      "  copying pyarrow\\_parquet_encryption.pxd -> build\\lib.win32-cpython-39\\pyarrow\n",
      "  copying pyarrow\\_parquet_encryption.pyx -> build\\lib.win32-cpython-39\\pyarrow\n",
      "  copying pyarrow\\_plasma.pyx -> build\\lib.win32-cpython-39\\pyarrow\n",
      "  copying pyarrow\\_s3fs.pyx -> build\\lib.win32-cpython-39\\pyarrow\n",
      "  copying pyarrow\\_substrait.pyx -> build\\lib.win32-cpython-39\\pyarrow\n",
      "  copying pyarrow\\array.pxi -> build\\lib.win32-cpython-39\\pyarrow\n",
      "  copying pyarrow\\benchmark.pxi -> build\\lib.win32-cpython-39\\pyarrow\n",
      "  copying pyarrow\\builder.pxi -> build\\lib.win32-cpython-39\\pyarrow\n",
      "  copying pyarrow\\compat.pxi -> build\\lib.win32-cpython-39\\pyarrow\n",
      "  copying pyarrow\\config.pxi -> build\\lib.win32-cpython-39\\pyarrow\n",
      "  copying pyarrow\\error.pxi -> build\\lib.win32-cpython-39\\pyarrow\n",
      "  copying pyarrow\\gandiva.pyx -> build\\lib.win32-cpython-39\\pyarrow\n",
      "  copying pyarrow\\io.pxi -> build\\lib.win32-cpython-39\\pyarrow\n",
      "  copying pyarrow\\ipc.pxi -> build\\lib.win32-cpython-39\\pyarrow\n",
      "  copying pyarrow\\lib.pxd -> build\\lib.win32-cpython-39\\pyarrow\n",
      "  copying pyarrow\\lib.pyx -> build\\lib.win32-cpython-39\\pyarrow\n",
      "  copying pyarrow\\memory.pxi -> build\\lib.win32-cpython-39\\pyarrow\n",
      "  copying pyarrow\\pandas-shim.pxi -> build\\lib.win32-cpython-39\\pyarrow\n",
      "  copying pyarrow\\public-api.pxi -> build\\lib.win32-cpython-39\\pyarrow\n",
      "  copying pyarrow\\scalar.pxi -> build\\lib.win32-cpython-39\\pyarrow\n",
      "  copying pyarrow\\serialization.pxi -> build\\lib.win32-cpython-39\\pyarrow\n",
      "  copying pyarrow\\table.pxi -> build\\lib.win32-cpython-39\\pyarrow\n",
      "  copying pyarrow\\tensor.pxi -> build\\lib.win32-cpython-39\\pyarrow\n",
      "  copying pyarrow\\types.pxi -> build\\lib.win32-cpython-39\\pyarrow\n",
      "  creating build\\lib.win32-cpython-39\\pyarrow\\includes\n",
      "  copying pyarrow\\includes\\common.pxd -> build\\lib.win32-cpython-39\\pyarrow\\includes\n",
      "  copying pyarrow\\includes\\libarrow.pxd -> build\\lib.win32-cpython-39\\pyarrow\\includes\n",
      "  copying pyarrow\\includes\\libarrow_cuda.pxd -> build\\lib.win32-cpython-39\\pyarrow\\includes\n",
      "  copying pyarrow\\includes\\libarrow_dataset.pxd -> build\\lib.win32-cpython-39\\pyarrow\\includes\n",
      "  copying pyarrow\\includes\\libarrow_dataset_parquet.pxd -> build\\lib.win32-cpython-39\\pyarrow\\includes\n",
      "  copying pyarrow\\includes\\libarrow_feather.pxd -> build\\lib.win32-cpython-39\\pyarrow\\includes\n",
      "  copying pyarrow\\includes\\libarrow_flight.pxd -> build\\lib.win32-cpython-39\\pyarrow\\includes\n",
      "  copying pyarrow\\includes\\libarrow_fs.pxd -> build\\lib.win32-cpython-39\\pyarrow\\includes\n",
      "  copying pyarrow\\includes\\libarrow_python.pxd -> build\\lib.win32-cpython-39\\pyarrow\\includes\n",
      "  copying pyarrow\\includes\\libarrow_substrait.pxd -> build\\lib.win32-cpython-39\\pyarrow\\includes\n",
      "  copying pyarrow\\includes\\libgandiva.pxd -> build\\lib.win32-cpython-39\\pyarrow\\includes\n",
      "  copying pyarrow\\includes\\libplasma.pxd -> build\\lib.win32-cpython-39\\pyarrow\\includes\n",
      "  copying pyarrow\\includes\\__init__.pxd -> build\\lib.win32-cpython-39\\pyarrow\\includes\n",
      "  creating build\\lib.win32-cpython-39\\pyarrow\\tensorflow\n",
      "  copying pyarrow\\tensorflow\\plasma_op.cc -> build\\lib.win32-cpython-39\\pyarrow\\tensorflow\n",
      "  copying pyarrow\\tests\\bound_function_visit_strings.pyx -> build\\lib.win32-cpython-39\\pyarrow\\tests\n",
      "  copying pyarrow\\tests\\pyarrow_cython_example.pyx -> build\\lib.win32-cpython-39\\pyarrow\\tests\n",
      "  creating build\\lib.win32-cpython-39\\pyarrow\\tests\\data\n",
      "  creating build\\lib.win32-cpython-39\\pyarrow\\tests\\data\\feather\n",
      "  copying pyarrow\\tests\\data\\feather\\v0.17.0.version.2-compression.lz4.feather -> build\\lib.win32-cpython-39\\pyarrow\\tests\\data\\feather\n",
      "  creating build\\lib.win32-cpython-39\\pyarrow\\tests\\data\\orc\n",
      "  copying pyarrow\\tests\\data\\orc\\README.md -> build\\lib.win32-cpython-39\\pyarrow\\tests\\data\\orc\n",
      "  copying pyarrow\\tests\\data\\orc\\TestOrcFile.emptyFile.jsn.gz -> build\\lib.win32-cpython-39\\pyarrow\\tests\\data\\orc\n",
      "  copying pyarrow\\tests\\data\\orc\\TestOrcFile.emptyFile.orc -> build\\lib.win32-cpython-39\\pyarrow\\tests\\data\\orc\n",
      "  copying pyarrow\\tests\\data\\orc\\TestOrcFile.test1.jsn.gz -> build\\lib.win32-cpython-39\\pyarrow\\tests\\data\\orc\n",
      "  copying pyarrow\\tests\\data\\orc\\TestOrcFile.test1.orc -> build\\lib.win32-cpython-39\\pyarrow\\tests\\data\\orc\n",
      "  copying pyarrow\\tests\\data\\orc\\TestOrcFile.testDate1900.jsn.gz -> build\\lib.win32-cpython-39\\pyarrow\\tests\\data\\orc\n",
      "  copying pyarrow\\tests\\data\\orc\\TestOrcFile.testDate1900.orc -> build\\lib.win32-cpython-39\\pyarrow\\tests\\data\\orc\n",
      "  copying pyarrow\\tests\\data\\orc\\decimal.jsn.gz -> build\\lib.win32-cpython-39\\pyarrow\\tests\\data\\orc\n",
      "  copying pyarrow\\tests\\data\\orc\\decimal.orc -> build\\lib.win32-cpython-39\\pyarrow\\tests\\data\\orc\n",
      "  creating build\\lib.win32-cpython-39\\pyarrow\\tests\\data\\parquet\n",
      "  copying pyarrow\\tests\\data\\parquet\\v0.7.1.all-named-index.parquet -> build\\lib.win32-cpython-39\\pyarrow\\tests\\data\\parquet\n",
      "  copying pyarrow\\tests\\data\\parquet\\v0.7.1.column-metadata-handling.parquet -> build\\lib.win32-cpython-39\\pyarrow\\tests\\data\\parquet\n",
      "  copying pyarrow\\tests\\data\\parquet\\v0.7.1.parquet -> build\\lib.win32-cpython-39\\pyarrow\\tests\\data\\parquet\n",
      "  copying pyarrow\\tests\\data\\parquet\\v0.7.1.some-named-index.parquet -> build\\lib.win32-cpython-39\\pyarrow\\tests\\data\\parquet\n",
      "  running build_ext\n",
      "  creating C:\\Users\\Admin\\AppData\\Local\\Temp\\pip-install-1x7_droe\\pyarrow_8445351e5b46404fac4c1f04c65d6a4b\\build\\temp.win32-cpython-39\n",
      "  Traceback (most recent call last):\n",
      "    File \"C:\\Users\\Admin\\anaconda3\\lib\\site-packages\\pip\\_vendor\\pep517\\in_process\\_in_process.py\", line 363, in <module>\n",
      "      main()\n",
      "    File \"C:\\Users\\Admin\\anaconda3\\lib\\site-packages\\pip\\_vendor\\pep517\\in_process\\_in_process.py\", line 345, in main\n",
      "      json_out['return_val'] = hook(**hook_input['kwargs'])\n",
      "    File \"C:\\Users\\Admin\\anaconda3\\lib\\site-packages\\pip\\_vendor\\pep517\\in_process\\_in_process.py\", line 261, in build_wheel\n",
      "      return _build_backend().build_wheel(wheel_directory, config_settings,\n",
      "    File \"C:\\Users\\Admin\\AppData\\Local\\Temp\\pip-build-env-a_akm6eh\\overlay\\Lib\\site-packages\\setuptools\\build_meta.py\", line 412, in build_wheel\n",
      "      return self._build_with_temp_dir(['bdist_wheel'], '.whl',\n",
      "    File \"C:\\Users\\Admin\\AppData\\Local\\Temp\\pip-build-env-a_akm6eh\\overlay\\Lib\\site-packages\\setuptools\\build_meta.py\", line 397, in _build_with_temp_dir\n",
      "      self.run_setup()\n",
      "    File \"C:\\Users\\Admin\\AppData\\Local\\Temp\\pip-build-env-a_akm6eh\\overlay\\Lib\\site-packages\\setuptools\\build_meta.py\", line 482, in run_setup\n",
      "      super(_BuildMetaLegacyBackend,\n",
      "    File \"C:\\Users\\Admin\\AppData\\Local\\Temp\\pip-build-env-a_akm6eh\\overlay\\Lib\\site-packages\\setuptools\\build_meta.py\", line 335, in run_setup\n",
      "      exec(code, locals())\n",
      "    File \"<string>\", line 630, in <module>\n",
      "    File \"C:\\Users\\Admin\\AppData\\Local\\Temp\\pip-build-env-a_akm6eh\\overlay\\Lib\\site-packages\\setuptools\\__init__.py\", line 87, in setup\n",
      "      return distutils.core.setup(**attrs)\n",
      "    File \"C:\\Users\\Admin\\AppData\\Local\\Temp\\pip-build-env-a_akm6eh\\overlay\\Lib\\site-packages\\setuptools\\_distutils\\core.py\", line 185, in setup\n",
      "      return run_commands(dist)\n",
      "    File \"C:\\Users\\Admin\\AppData\\Local\\Temp\\pip-build-env-a_akm6eh\\overlay\\Lib\\site-packages\\setuptools\\_distutils\\core.py\", line 201, in run_commands\n",
      "      dist.run_commands()\n",
      "    File \"C:\\Users\\Admin\\AppData\\Local\\Temp\\pip-build-env-a_akm6eh\\overlay\\Lib\\site-packages\\setuptools\\_distutils\\dist.py\", line 973, in run_commands\n",
      "      self.run_command(cmd)\n",
      "    File \"C:\\Users\\Admin\\AppData\\Local\\Temp\\pip-build-env-a_akm6eh\\overlay\\Lib\\site-packages\\setuptools\\dist.py\", line 1217, in run_command\n",
      "      super().run_command(command)\n",
      "    File \"C:\\Users\\Admin\\AppData\\Local\\Temp\\pip-build-env-a_akm6eh\\overlay\\Lib\\site-packages\\setuptools\\_distutils\\dist.py\", line 992, in run_command\n",
      "      cmd_obj.run()\n",
      "    File \"C:\\Users\\Admin\\AppData\\Local\\Temp\\pip-build-env-a_akm6eh\\overlay\\Lib\\site-packages\\wheel\\bdist_wheel.py\", line 299, in run\n",
      "      self.run_command('build')\n",
      "    File \"C:\\Users\\Admin\\AppData\\Local\\Temp\\pip-build-env-a_akm6eh\\overlay\\Lib\\site-packages\\setuptools\\_distutils\\cmd.py\", line 319, in run_command\n",
      "      self.distribution.run_command(command)\n",
      "    File \"C:\\Users\\Admin\\AppData\\Local\\Temp\\pip-build-env-a_akm6eh\\overlay\\Lib\\site-packages\\setuptools\\dist.py\", line 1217, in run_command\n",
      "      super().run_command(command)\n",
      "    File \"C:\\Users\\Admin\\AppData\\Local\\Temp\\pip-build-env-a_akm6eh\\overlay\\Lib\\site-packages\\setuptools\\_distutils\\dist.py\", line 992, in run_command\n",
      "      cmd_obj.run()\n",
      "    File \"C:\\Users\\Admin\\AppData\\Local\\Temp\\pip-build-env-a_akm6eh\\overlay\\Lib\\site-packages\\setuptools\\_distutils\\command\\build.py\", line 132, in run\n",
      "      self.run_command(cmd_name)\n",
      "    File \"C:\\Users\\Admin\\AppData\\Local\\Temp\\pip-build-env-a_akm6eh\\overlay\\Lib\\site-packages\\setuptools\\_distutils\\cmd.py\", line 319, in run_command\n",
      "      self.distribution.run_command(command)\n",
      "    File \"C:\\Users\\Admin\\AppData\\Local\\Temp\\pip-build-env-a_akm6eh\\overlay\\Lib\\site-packages\\setuptools\\dist.py\", line 1217, in run_command\n",
      "      super().run_command(command)\n",
      "    File \"C:\\Users\\Admin\\AppData\\Local\\Temp\\pip-build-env-a_akm6eh\\overlay\\Lib\\site-packages\\setuptools\\_distutils\\dist.py\", line 992, in run_command\n",
      "      cmd_obj.run()\n",
      "    File \"<string>\", line 96, in run\n",
      "    File \"<string>\", line 316, in _run_cmake\n",
      "  RuntimeError: Not supported on 32-bit Windows\n",
      "  [end of output]\n",
      "  \n",
      "  note: This error originates from a subprocess, and is likely not a problem with pip.\n",
      "  ERROR: Failed building wheel for pyarrow\n",
      "ERROR: Could not build wheels for pyarrow, which is required to install pyproject.toml-based projects\n",
      "WARNING: Ignoring invalid distribution -heel (c:\\users\\admin\\anaconda3\\lib\\site-packages)\n",
      "WARNING: Ignoring invalid distribution -heel (c:\\users\\admin\\anaconda3\\lib\\site-packages)\n",
      "WARNING: Ignoring invalid distribution -heel (c:\\users\\admin\\anaconda3\\lib\\site-packages)\n",
      "'npm' is not recognized as an internal or external command,\n",
      "operable program or batch file.\n"
     ]
    }
   ],
   "source": [
    "#Install streamlit \n",
    "# NB : If any error occurs during installation process , run it again\n",
    "!pip install -q streamlit\n",
    "!npm install -g localtunnel -U"
   ]
  },
  {
   "cell_type": "code",
   "execution_count": 1,
   "id": "7fc5715b",
   "metadata": {},
   "outputs": [
    {
     "ename": "ModuleNotFoundError",
     "evalue": "No module named 'streamlit'",
     "output_type": "error",
     "traceback": [
      "\u001b[1;31m---------------------------------------------------------------------------\u001b[0m",
      "\u001b[1;31mModuleNotFoundError\u001b[0m                       Traceback (most recent call last)",
      "\u001b[1;32m~\\AppData\\Local\\Temp/ipykernel_6392/2084109494.py\u001b[0m in \u001b[0;36m<cell line: 1>\u001b[1;34m()\u001b[0m\n\u001b[1;32m----> 1\u001b[1;33m \u001b[1;32mimport\u001b[0m \u001b[0mstreamlit\u001b[0m \u001b[1;32mas\u001b[0m \u001b[0mst\u001b[0m\u001b[1;33m\u001b[0m\u001b[1;33m\u001b[0m\u001b[0m\n\u001b[0m\u001b[0;32m      2\u001b[0m \u001b[1;33m\u001b[0m\u001b[0m\n\u001b[0;32m      3\u001b[0m \u001b[1;32mimport\u001b[0m \u001b[0mpandas\u001b[0m \u001b[1;32mas\u001b[0m \u001b[0mpd\u001b[0m\u001b[1;33m\u001b[0m\u001b[1;33m\u001b[0m\u001b[0m\n\u001b[0;32m      4\u001b[0m \u001b[1;33m\u001b[0m\u001b[0m\n\u001b[0;32m      5\u001b[0m \u001b[1;32mimport\u001b[0m \u001b[0mplotly\u001b[0m\u001b[1;33m\u001b[0m\u001b[1;33m\u001b[0m\u001b[0m\n",
      "\u001b[1;31mModuleNotFoundError\u001b[0m: No module named 'streamlit'"
     ]
    }
   ],
   "source": [
    "%%writefile main.py \n",
    "\n",
    "import streamlit as st\n",
    "\n",
    "import pandas as pd\n",
    "\n",
    "import plotly\n",
    "\n",
    "import pickle\n",
    "\n",
    "import plotly.graph_objs as go\n",
    "\n",
    "\n",
    "def load_data():\n",
    "\n",
    "  #load original data\n",
    "\n",
    "    df_original = pd.read_csv('CO2 dataset.csv')\n",
    "\n",
    "    df_original.index = pd.to_datetime(df_original['Year'], format='%Y')\n",
    "\n",
    "    df_original.drop('Year', axis=1, inplace=True)\n",
    "\n",
    "    return df_original\n",
    "\n",
    "\n",
    "\n",
    "def load_pkl():\n",
    "\n",
    "    # load pkl file\n",
    "\n",
    "    pickled_model = pickle.load(open('arimafoo.pkl', 'rb'))\n",
    "\n",
    "    return pickled_model\n",
    "\n",
    "\n",
    "\n",
    "def user_input():\n",
    "\n",
    "    # user input select boxes\n",
    "\n",
    "    start = str(st.sidebar.selectbox(label='enter start', options=range(2015, 2050)))\n",
    "\n",
    "    end = str(st.sidebar.selectbox(label='enter end', options=range(2016, 2051)))\n",
    "\n",
    "    return start, end\n",
    "\n",
    "\n",
    "\n",
    "def predict(end):\n",
    "\n",
    "    # prediction using pkl\n",
    "\n",
    "    df = pd.DataFrame(load_pkl().predict('2015', end))\n",
    "\n",
    "    df.columns = ['CO2']\n",
    "\n",
    "\n",
    "    for i in range(len(df)):\n",
    "\n",
    "        if i == 0:\n",
    "\n",
    "            df.iloc[0, ] = df.iloc[0, ] + load_data().iloc[-1, ]\n",
    "\n",
    "        else:\n",
    "\n",
    "            df.iloc[i, ] = df.iloc[i, ] + df.iloc[i-1, ]\n",
    "\n",
    "\n",
    "    # merge original and predicted data\n",
    "\n",
    "    data = pd.concat([load_data(), df])\n",
    "\n",
    "    data.index = data.index.map(lambda x: x.strftime('%Y'))\n",
    "\n",
    "    data.index.name = 'Year'\n",
    "\n",
    "    return data\n",
    "\n",
    "\n",
    "\n",
    "def plot_raw_data(data):\n",
    "\n",
    "    fig = plotly.graph_objects.Figure()\n",
    "\n",
    "    fig.update_layout(width=850, height=650)\n",
    "\n",
    "    fig.add_trace(go.Scatter(x=data.index, y=data['CO2'], name='Air Quality'))\n",
    "\n",
    "    fig.layout.update(title_text=\"Yearly CO2 levels\", xaxis_title='Years')\n",
    "\n",
    "    fig.update_traces(mode=\"lines\", hovertemplate=None)\n",
    "\n",
    "    fig.update_layout(hovermode=\"x unified\", yaxis_title='CO2 levels', xaxis_rangeslider_visible=True)\n",
    "\n",
    "    st.plotly_chart(fig)\n",
    "\n",
    "\n",
    "\n",
    "def main():\n",
    "\n",
    "    # Title\n",
    "\n",
    "    st.title('Air Quality Forecasting')\n",
    "\n",
    "    st.sidebar.title('User Input')\n",
    "\n",
    "    ui_input = user_input()\n",
    "\n",
    "\n",
    "    # display forecasted values\n",
    "\n",
    "    st.sidebar.subheader('Forecasted Values')\n",
    "\n",
    "    st.sidebar.dataframe(predict(ui_input[1]).loc[ui_input[0]:ui_input[1], ])\n",
    "\n",
    "\n",
    "    # display past values\n",
    "\n",
    "    st.sidebar.subheader('Past Values')\n",
    "\n",
    "    st.sidebar.dataframe(predict(ui_input[1]).loc['1800':'2014', ], width=2000)\n",
    "\n",
    "\n",
    "    # plot the data\n",
    "\n",
    "    plot_raw_data(predict(ui_input[1]))\n",
    "\n",
    "\n",
    "\n",
    "if __name__ == '__main__':\n",
    "\n",
    "    main()"
   ]
  },
  {
   "cell_type": "markdown",
   "id": "3b5aa56d",
   "metadata": {},
   "source": [
    "!pip install streamlit"
   ]
  },
  {
   "cell_type": "code",
   "execution_count": 5,
   "id": "69d54966",
   "metadata": {},
   "outputs": [
    {
     "name": "stdout",
     "output_type": "stream",
     "text": [
      "Collecting streamlit"
     ]
    },
    {
     "name": "stderr",
     "output_type": "stream",
     "text": [
      "WARNING: Ignoring invalid distribution -heel (c:\\users\\admin\\anaconda3\\lib\\site-packages)\n",
      "WARNING: Ignoring invalid distribution -heel (c:\\users\\admin\\anaconda3\\lib\\site-packages)\n",
      "  error: subprocess-exited-with-error\n",
      "  \n",
      "  Building wheel for pyarrow (pyproject.toml) did not run successfully.\n",
      "  exit code: 1\n",
      "  \n",
      "  [258 lines of output]\n",
      "  running bdist_wheel\n",
      "  running build\n",
      "  running build_py\n",
      "  creating build\n",
      "  creating build\\lib.win32-cpython-39\n",
      "  creating build\\lib.win32-cpython-39\\pyarrow\n",
      "  copying pyarrow\\benchmark.py -> build\\lib.win32-cpython-39\\pyarrow\n",
      "  copying pyarrow\\cffi.py -> build\\lib.win32-cpython-39\\pyarrow\n",
      "  copying pyarrow\\compute.py -> build\\lib.win32-cpython-39\\pyarrow\n",
      "  copying pyarrow\\conftest.py -> build\\lib.win32-cpython-39\\pyarrow\n",
      "  copying pyarrow\\csv.py -> build\\lib.win32-cpython-39\\pyarrow\n",
      "  copying pyarrow\\cuda.py -> build\\lib.win32-cpython-39\\pyarrow\n",
      "  copying pyarrow\\dataset.py -> build\\lib.win32-cpython-39\\pyarrow\n",
      "  copying pyarrow\\feather.py -> build\\lib.win32-cpython-39\\pyarrow\n",
      "  copying pyarrow\\filesystem.py -> build\\lib.win32-cpython-39\\pyarrow\n",
      "  copying pyarrow\\flight.py -> build\\lib.win32-cpython-39\\pyarrow\n",
      "  copying pyarrow\\fs.py -> build\\lib.win32-cpython-39\\pyarrow\n",
      "  copying pyarrow\\hdfs.py -> build\\lib.win32-cpython-39\\pyarrow\n",
      "  copying pyarrow\\ipc.py -> build\\lib.win32-cpython-39\\pyarrow\n",
      "  copying pyarrow\\json.py -> build\\lib.win32-cpython-39\\pyarrow\n",
      "  copying pyarrow\\jvm.py -> build\\lib.win32-cpython-39\\pyarrow\n",
      "  copying pyarrow\\orc.py -> build\\lib.win32-cpython-39\\pyarrow\n",
      "  copying pyarrow\\pandas_compat.py -> build\\lib.win32-cpython-39\\pyarrow\n",
      "  copying pyarrow\\plasma.py -> build\\lib.win32-cpython-39\\pyarrow\n",
      "  copying pyarrow\\serialization.py -> build\\lib.win32-cpython-39\\pyarrow\n",
      "  copying pyarrow\\substrait.py -> build\\lib.win32-cpython-39\\pyarrow\n",
      "  copying pyarrow\\types.py -> build\\lib.win32-cpython-39\\pyarrow\n",
      "  copying pyarrow\\util.py -> build\\lib.win32-cpython-39\\pyarrow\n",
      "  copying pyarrow\\_compute_docstrings.py -> build\\lib.win32-cpython-39\\pyarrow\n",
      "  copying pyarrow\\_generated_version.py -> build\\lib.win32-cpython-39\\pyarrow\n",
      "  copying pyarrow\\__init__.py -> build\\lib.win32-cpython-39\\pyarrow\n",
      "  creating build\\lib.win32-cpython-39\\pyarrow\\parquet\n",
      "  copying pyarrow\\parquet\\encryption.py -> build\\lib.win32-cpython-39\\pyarrow\\parquet\n",
      "  copying pyarrow\\parquet\\__init__.py -> build\\lib.win32-cpython-39\\pyarrow\\parquet\n",
      "  creating build\\lib.win32-cpython-39\\pyarrow\\tests\n",
      "  copying pyarrow\\tests\\arrow_16597.py -> build\\lib.win32-cpython-39\\pyarrow\\tests\n",
      "  copying pyarrow\\tests\\arrow_7980.py -> build\\lib.win32-cpython-39\\pyarrow\\tests\n",
      "  copying pyarrow\\tests\\conftest.py -> build\\lib.win32-cpython-39\\pyarrow\\tests\n",
      "  copying pyarrow\\tests\\deserialize_buffer.py -> build\\lib.win32-cpython-39\\pyarrow\\tests\n",
      "  copying pyarrow\\tests\\pandas_examples.py -> build\\lib.win32-cpython-39\\pyarrow\\tests\n",
      "  copying pyarrow\\tests\\pandas_threaded_import.py -> build\\lib.win32-cpython-39\\pyarrow\\tests\n",
      "  copying pyarrow\\tests\\read_record_batch.py -> build\\lib.win32-cpython-39\\pyarrow\\tests\n",
      "  copying pyarrow\\tests\\strategies.py -> build\\lib.win32-cpython-39\\pyarrow\\tests\n",
      "  copying pyarrow\\tests\\test_adhoc_memory_leak.py -> build\\lib.win32-cpython-39\\pyarrow\\tests\n",
      "  copying pyarrow\\tests\\test_array.py -> build\\lib.win32-cpython-39\\pyarrow\\tests\n",
      "  copying pyarrow\\tests\\test_builder.py -> build\\lib.win32-cpython-39\\pyarrow\\tests\n",
      "  copying pyarrow\\tests\\test_cffi.py -> build\\lib.win32-cpython-39\\pyarrow\\tests\n",
      "  copying pyarrow\\tests\\test_compute.py -> build\\lib.win32-cpython-39\\pyarrow\\tests\n",
      "  copying pyarrow\\tests\\test_convert_builtin.py -> build\\lib.win32-cpython-39\\pyarrow\\tests\n",
      "  copying pyarrow\\tests\\test_csv.py -> build\\lib.win32-cpython-39\\pyarrow\\tests\n",
      "  copying pyarrow\\tests\\test_cuda.py -> build\\lib.win32-cpython-39\\pyarrow\\tests\n",
      "  copying pyarrow\\tests\\test_cuda_numba_interop.py -> build\\lib.win32-cpython-39\\pyarrow\\tests\n",
      "  copying pyarrow\\tests\\test_cython.py -> build\\lib.win32-cpython-39\\pyarrow\\tests\n",
      "  copying pyarrow\\tests\\test_dataset.py -> build\\lib.win32-cpython-39\\pyarrow\\tests\n",
      "  copying pyarrow\\tests\\test_deprecations.py -> build\\lib.win32-cpython-39\\pyarrow\\tests\n",
      "  copying pyarrow\\tests\\test_exec_plan.py -> build\\lib.win32-cpython-39\\pyarrow\\tests\n",
      "  copying pyarrow\\tests\\test_extension_type.py -> build\\lib.win32-cpython-39\\pyarrow\\tests\n",
      "  copying pyarrow\\tests\\test_feather.py -> build\\lib.win32-cpython-39\\pyarrow\\tests\n",
      "  copying pyarrow\\tests\\test_filesystem.py -> build\\lib.win32-cpython-39\\pyarrow\\tests\n",
      "  copying pyarrow\\tests\\test_flight.py -> build\\lib.win32-cpython-39\\pyarrow\\tests\n",
      "  copying pyarrow\\tests\\test_fs.py -> build\\lib.win32-cpython-39\\pyarrow\\tests\n",
      "  copying pyarrow\\tests\\test_gandiva.py -> build\\lib.win32-cpython-39\\pyarrow\\tests\n",
      "  copying pyarrow\\tests\\test_gdb.py -> build\\lib.win32-cpython-39\\pyarrow\\tests\n",
      "  copying pyarrow\\tests\\test_hdfs.py -> build\\lib.win32-cpython-39\\pyarrow\\tests\n",
      "  copying pyarrow\\tests\\test_io.py -> build\\lib.win32-cpython-39\\pyarrow\\tests\n",
      "  copying pyarrow\\tests\\test_ipc.py -> build\\lib.win32-cpython-39\\pyarrow\\tests\n",
      "  copying pyarrow\\tests\\test_json.py -> build\\lib.win32-cpython-39\\pyarrow\\tests\n",
      "  copying pyarrow\\tests\\test_jvm.py -> build\\lib.win32-cpython-39\\pyarrow\\tests\n",
      "  copying pyarrow\\tests\\test_memory.py -> build\\lib.win32-cpython-39\\pyarrow\\tests\n",
      "  copying pyarrow\\tests\\test_misc.py -> build\\lib.win32-cpython-39\\pyarrow\\tests\n",
      "  copying pyarrow\\tests\\test_orc.py -> build\\lib.win32-cpython-39\\pyarrow\\tests\n",
      "  copying pyarrow\\tests\\test_pandas.py -> build\\lib.win32-cpython-39\\pyarrow\\tests\n",
      "  copying pyarrow\\tests\\test_plasma.py -> build\\lib.win32-cpython-39\\pyarrow\\tests\n",
      "  copying pyarrow\\tests\\test_plasma_tf_op.py -> build\\lib.win32-cpython-39\\pyarrow\\tests\n",
      "  copying pyarrow\\tests\\test_scalars.py -> build\\lib.win32-cpython-39\\pyarrow\\tests\n",
      "  copying pyarrow\\tests\\test_schema.py -> build\\lib.win32-cpython-39\\pyarrow\\tests\n",
      "  copying pyarrow\\tests\\test_serialization.py -> build\\lib.win32-cpython-39\\pyarrow\\tests\n",
      "  copying pyarrow\\tests\\test_serialization_deprecated.py -> build\\lib.win32-cpython-39\\pyarrow\\tests\n",
      "  copying pyarrow\\tests\\test_sparse_tensor.py -> build\\lib.win32-cpython-39\\pyarrow\\tests\n",
      "  copying pyarrow\\tests\\test_strategies.py -> build\\lib.win32-cpython-39\\pyarrow\\tests\n",
      "  copying pyarrow\\tests\\test_substrait.py -> build\\lib.win32-cpython-39\\pyarrow\\tests\n",
      "  copying pyarrow\\tests\\test_table.py -> build\\lib.win32-cpython-39\\pyarrow\\tests\n",
      "  copying pyarrow\\tests\\test_tensor.py -> build\\lib.win32-cpython-39\\pyarrow\\tests\n",
      "  copying pyarrow\\tests\\test_types.py -> build\\lib.win32-cpython-39\\pyarrow\\tests\n",
      "  copying pyarrow\\tests\\test_udf.py -> build\\lib.win32-cpython-39\\pyarrow\\tests\n",
      "  copying pyarrow\\tests\\test_util.py -> build\\lib.win32-cpython-39\\pyarrow\\tests\n",
      "  copying pyarrow\\tests\\util.py -> build\\lib.win32-cpython-39\\pyarrow\\tests\n",
      "  copying pyarrow\\tests\\__init__.py -> build\\lib.win32-cpython-39\\pyarrow\\tests\n",
      "  creating build\\lib.win32-cpython-39\\pyarrow\\vendored\n",
      "  copying pyarrow\\vendored\\docscrape.py -> build\\lib.win32-cpython-39\\pyarrow\\vendored\n",
      "  copying pyarrow\\vendored\\version.py -> build\\lib.win32-cpython-39\\pyarrow\\vendored\n",
      "  copying pyarrow\\vendored\\__init__.py -> build\\lib.win32-cpython-39\\pyarrow\\vendored\n",
      "  creating build\\lib.win32-cpython-39\\pyarrow\\tests\\parquet\n",
      "  copying pyarrow\\tests\\parquet\\common.py -> build\\lib.win32-cpython-39\\pyarrow\\tests\\parquet\n",
      "  copying pyarrow\\tests\\parquet\\conftest.py -> build\\lib.win32-cpython-39\\pyarrow\\tests\\parquet\n",
      "  copying pyarrow\\tests\\parquet\\encryption.py -> build\\lib.win32-cpython-39\\pyarrow\\tests\\parquet\n",
      "  copying pyarrow\\tests\\parquet\\test_basic.py -> build\\lib.win32-cpython-39\\pyarrow\\tests\\parquet\n",
      "  copying pyarrow\\tests\\parquet\\test_compliant_nested_type.py -> build\\lib.win32-cpython-39\\pyarrow\\tests\\parquet\n",
      "  copying pyarrow\\tests\\parquet\\test_dataset.py -> build\\lib.win32-cpython-39\\pyarrow\\tests\\parquet\n",
      "  copying pyarrow\\tests\\parquet\\test_data_types.py -> build\\lib.win32-cpython-39\\pyarrow\\tests\\parquet\n",
      "  copying pyarrow\\tests\\parquet\\test_datetime.py -> build\\lib.win32-cpython-39\\pyarrow\\tests\\parquet\n",
      "  copying pyarrow\\tests\\parquet\\test_encryption.py -> build\\lib.win32-cpython-39\\pyarrow\\tests\\parquet\n",
      "  copying pyarrow\\tests\\parquet\\test_metadata.py -> build\\lib.win32-cpython-39\\pyarrow\\tests\\parquet\n",
      "  copying pyarrow\\tests\\parquet\\test_pandas.py -> build\\lib.win32-cpython-39\\pyarrow\\tests\\parquet\n",
      "  copying pyarrow\\tests\\parquet\\test_parquet_file.py -> build\\lib.win32-cpython-39\\pyarrow\\tests\\parquet\n",
      "  copying pyarrow\\tests\\parquet\\test_parquet_writer.py -> build\\lib.win32-cpython-39\\pyarrow\\tests\\parquet\n",
      "  copying pyarrow\\tests\\parquet\\__init__.py -> build\\lib.win32-cpython-39\\pyarrow\\tests\\parquet\n",
      "  running egg_info\n",
      "  writing pyarrow.egg-info\\PKG-INFO\n",
      "  writing dependency_links to pyarrow.egg-info\\dependency_links.txt\n",
      "  writing entry points to pyarrow.egg-info\\entry_points.txt\n",
      "  writing requirements to pyarrow.egg-info\\requires.txt\n",
      "  writing top-level names to pyarrow.egg-info\\top_level.txt\n",
      "  reading manifest file 'pyarrow.egg-info\\SOURCES.txt'\n",
      "  reading manifest template 'MANIFEST.in'\n",
      "  warning: no files found matching '..\\LICENSE.txt'\n",
      "  warning: no files found matching '..\\NOTICE.txt'\n",
      "  warning: no previously-included files matching '*.so' found anywhere in distribution\n",
      "  warning: no previously-included files matching '*.pyc' found anywhere in distribution\n",
      "  warning: no previously-included files matching '*~' found anywhere in distribution\n",
      "  warning: no previously-included files matching '#*' found anywhere in distribution\n",
      "  warning: no previously-included files matching '.git*' found anywhere in distribution\n",
      "  warning: no previously-included files matching '.DS_Store' found anywhere in distribution\n",
      "  no previously-included directories found matching '.asv'\n",
      "  writing manifest file 'pyarrow.egg-info\\SOURCES.txt'\n",
      "  copying pyarrow\\__init__.pxd -> build\\lib.win32-cpython-39\\pyarrow\n",
      "  copying pyarrow\\_compute.pxd -> build\\lib.win32-cpython-39\\pyarrow\n",
      "  copying pyarrow\\_compute.pyx -> build\\lib.win32-cpython-39\\pyarrow\n",
      "  copying pyarrow\\_csv.pxd -> build\\lib.win32-cpython-39\\pyarrow\n",
      "  copying pyarrow\\_csv.pyx -> build\\lib.win32-cpython-39\\pyarrow\n",
      "  copying pyarrow\\_cuda.pxd -> build\\lib.win32-cpython-39\\pyarrow\n",
      "  copying pyarrow\\_cuda.pyx -> build\\lib.win32-cpython-39\\pyarrow\n",
      "  copying pyarrow\\_dataset.pxd -> build\\lib.win32-cpython-39\\pyarrow\n",
      "  copying pyarrow\\_dataset.pyx -> build\\lib.win32-cpython-39\\pyarrow\n",
      "  copying pyarrow\\_dataset_orc.pyx -> build\\lib.win32-cpython-39\\pyarrow\n",
      "  copying pyarrow\\_dataset_parquet.pyx -> build\\lib.win32-cpython-39\\pyarrow\n",
      "  copying pyarrow\\_exec_plan.pyx -> build\\lib.win32-cpython-39\\pyarrow\n",
      "  copying pyarrow\\_feather.pyx -> build\\lib.win32-cpython-39\\pyarrow\n",
      "  copying pyarrow\\_flight.pyx -> build\\lib.win32-cpython-39\\pyarrow\n",
      "  copying pyarrow\\_fs.pxd -> build\\lib.win32-cpython-39\\pyarrow\n",
      "  copying pyarrow\\_fs.pyx -> build\\lib.win32-cpython-39\\pyarrow\n",
      "  copying pyarrow\\_gcsfs.pyx -> build\\lib.win32-cpython-39\\pyarrow\n",
      "  copying pyarrow\\_hdfs.pyx -> build\\lib.win32-cpython-39\\pyarrow\n",
      "  copying pyarrow\\_hdfsio.pyx -> build\\lib.win32-cpython-39\\pyarrow\n",
      "  copying pyarrow\\_json.pyx -> build\\lib.win32-cpython-39\\pyarrow\n",
      "  copying pyarrow\\_orc.pxd -> build\\lib.win32-cpython-39\\pyarrow\n",
      "  copying pyarrow\\_orc.pyx -> build\\lib.win32-cpython-39\\pyarrow\n",
      "  copying pyarrow\\_parquet.pxd -> build\\lib.win32-cpython-39\\pyarrow\n",
      "  copying pyarrow\\_parquet.pyx -> build\\lib.win32-cpython-39\\pyarrow\n",
      "  copying pyarrow\\_parquet_encryption.pxd -> build\\lib.win32-cpython-39\\pyarrow\n",
      "  copying pyarrow\\_parquet_encryption.pyx -> build\\lib.win32-cpython-39\\pyarrow\n",
      "  copying pyarrow\\_plasma.pyx -> build\\lib.win32-cpython-39\\pyarrow\n",
      "  copying pyarrow\\_s3fs.pyx -> build\\lib.win32-cpython-39\\pyarrow\n",
      "  copying pyarrow\\_substrait.pyx -> build\\lib.win32-cpython-39\\pyarrow"
     ]
    },
    {
     "name": "stdout",
     "output_type": "stream",
     "text": [
      "\n",
      "  Using cached streamlit-1.12.0-py2.py3-none-any.whl (9.1 MB)\n",
      "Collecting pyarrow>=4.0\n",
      "  Using cached pyarrow-9.0.0.tar.gz (873 kB)\n",
      "  Installing build dependencies: started\n",
      "  Installing build dependencies: finished with status 'done'\n",
      "  Getting requirements to build wheel: started\n",
      "  Getting requirements to build wheel: finished with status 'done'\n",
      "  Preparing metadata (pyproject.toml): started\n",
      "  Preparing metadata (pyproject.toml): finished with status 'done'\n",
      "Collecting rich>=10.11.0\n",
      "  Using cached rich-12.5.1-py3-none-any.whl (235 kB)\n",
      "Requirement already satisfied: python-dateutil in c:\\users\\admin\\anaconda3\\lib\\site-packages (from streamlit) (2.8.2)\n",
      "Collecting semver\n",
      "  Using cached semver-2.13.0-py2.py3-none-any.whl (12 kB)\n",
      "Requirement already satisfied: protobuf<4,>=3.12 in c:\\users\\admin\\anaconda3\\lib\\site-packages (from streamlit) (3.20.0)\n",
      "Requirement already satisfied: pandas>=0.21.0 in c:\\users\\admin\\anaconda3\\lib\\site-packages (from streamlit) (1.3.4)\n",
      "Requirement already satisfied: requests>=2.4 in c:\\users\\admin\\anaconda3\\lib\\site-packages (from streamlit) (2.26.0)\n",
      "Requirement already satisfied: pillow>=6.2.0 in c:\\users\\admin\\anaconda3\\lib\\site-packages (from streamlit) (8.4.0)\n",
      "Collecting tzlocal>=1.1\n",
      "  Using cached tzlocal-4.2-py3-none-any.whl (19 kB)\n",
      "Requirement already satisfied: numpy in c:\\users\\admin\\anaconda3\\lib\\site-packages (from streamlit) (1.22.4)\n",
      "Collecting pydeck>=0.1.dev5\n",
      "  Using cached pydeck-0.7.1-py2.py3-none-any.whl (4.3 MB)\n",
      "Requirement already satisfied: importlib-metadata>=1.4 in c:\\users\\admin\\anaconda3\\lib\\site-packages (from streamlit) (4.8.1)\n",
      "Requirement already satisfied: typing-extensions>=3.10.0.0 in c:\\users\\admin\\anaconda3\\lib\\site-packages (from streamlit) (3.10.0.2)\n",
      "Collecting validators>=0.2\n",
      "  Using cached validators-0.20.0-py3-none-any.whl\n",
      "Collecting altair>=3.2.0\n",
      "  Using cached altair-4.2.0-py3-none-any.whl (812 kB)\n",
      "Collecting cachetools>=4.0\n",
      "  Using cached cachetools-5.2.0-py3-none-any.whl (9.3 kB)\n",
      "Collecting gitpython!=3.1.19\n",
      "  Using cached GitPython-3.1.27-py3-none-any.whl (181 kB)\n",
      "Requirement already satisfied: tornado>=5.0 in c:\\users\\admin\\anaconda3\\lib\\site-packages (from streamlit) (6.1)\n",
      "Collecting pympler>=0.9\n",
      "  Using cached Pympler-1.0.1-py3-none-any.whl (164 kB)\n",
      "Requirement already satisfied: toml in c:\\users\\admin\\anaconda3\\lib\\site-packages (from streamlit) (0.10.2)\n",
      "Requirement already satisfied: packaging>=14.1 in c:\\users\\admin\\anaconda3\\lib\\site-packages (from streamlit) (21.3)\n",
      "Requirement already satisfied: watchdog in c:\\users\\admin\\anaconda3\\lib\\site-packages (from streamlit) (2.1.3)\n",
      "Requirement already satisfied: click>=7.0 in c:\\users\\admin\\anaconda3\\lib\\site-packages (from streamlit) (8.0.3)\n",
      "Collecting blinker>=1.0.0\n",
      "  Using cached blinker-1.5-py2.py3-none-any.whl (12 kB)\n",
      "Requirement already satisfied: jinja2 in c:\\users\\admin\\anaconda3\\lib\\site-packages (from altair>=3.2.0->streamlit) (2.11.3)\n",
      "Requirement already satisfied: jsonschema>=3.0 in c:\\users\\admin\\anaconda3\\lib\\site-packages (from altair>=3.2.0->streamlit) (3.2.0)\n",
      "Requirement already satisfied: toolz in c:\\users\\admin\\anaconda3\\lib\\site-packages (from altair>=3.2.0->streamlit) (0.11.1)\n",
      "Requirement already satisfied: entrypoints in c:\\users\\admin\\anaconda3\\lib\\site-packages (from altair>=3.2.0->streamlit) (0.3)\n",
      "Requirement already satisfied: colorama in c:\\users\\admin\\anaconda3\\lib\\site-packages (from click>=7.0->streamlit) (0.4.4)\n",
      "Collecting gitdb<5,>=4.0.1\n",
      "  Using cached gitdb-4.0.9-py3-none-any.whl (63 kB)\n",
      "Requirement already satisfied: zipp>=0.5 in c:\\users\\admin\\anaconda3\\lib\\site-packages (from importlib-metadata>=1.4->streamlit) (3.6.0)\n",
      "Requirement already satisfied: pyparsing!=3.0.5,>=2.0.2 in c:\\users\\admin\\anaconda3\\lib\\site-packages (from packaging>=14.1->streamlit) (3.0.4)\n",
      "Requirement already satisfied: pytz>=2017.3 in c:\\users\\admin\\anaconda3\\lib\\site-packages (from pandas>=0.21.0->streamlit) (2021.3)\n",
      "Requirement already satisfied: ipywidgets>=7.0.0 in c:\\users\\admin\\anaconda3\\lib\\site-packages (from pydeck>=0.1.dev5->streamlit) (7.6.5)\n",
      "Requirement already satisfied: ipykernel>=5.1.2 in c:\\users\\admin\\anaconda3\\lib\\site-packages (from pydeck>=0.1.dev5->streamlit) (6.4.1)\n",
      "Requirement already satisfied: traitlets>=4.3.2 in c:\\users\\admin\\anaconda3\\lib\\site-packages (from pydeck>=0.1.dev5->streamlit) (5.1.0)\n",
      "Requirement already satisfied: six>=1.5 in c:\\users\\admin\\anaconda3\\lib\\site-packages (from python-dateutil->streamlit) (1.16.0)\n",
      "Requirement already satisfied: certifi>=2017.4.17 in c:\\users\\admin\\anaconda3\\lib\\site-packages (from requests>=2.4->streamlit) (2021.10.8)\n",
      "Requirement already satisfied: idna<4,>=2.5 in c:\\users\\admin\\anaconda3\\lib\\site-packages (from requests>=2.4->streamlit) (3.2)\n",
      "Requirement already satisfied: urllib3<1.27,>=1.21.1 in c:\\users\\admin\\anaconda3\\lib\\site-packages (from requests>=2.4->streamlit) (1.26.7)\n",
      "Requirement already satisfied: charset-normalizer~=2.0.0 in c:\\users\\admin\\anaconda3\\lib\\site-packages (from requests>=2.4->streamlit) (2.0.4)\n",
      "Collecting commonmark<0.10.0,>=0.9.0\n",
      "  Using cached commonmark-0.9.1-py2.py3-none-any.whl (51 kB)\n",
      "Requirement already satisfied: pygments<3.0.0,>=2.6.0 in c:\\users\\admin\\anaconda3\\lib\\site-packages (from rich>=10.11.0->streamlit) (2.10.0)\n",
      "Collecting tzdata\n",
      "  Using cached tzdata-2022.2-py2.py3-none-any.whl (336 kB)\n",
      "Collecting pytz-deprecation-shim\n",
      "  Using cached pytz_deprecation_shim-0.1.0.post0-py2.py3-none-any.whl (15 kB)\n",
      "Requirement already satisfied: decorator>=3.4.0 in c:\\users\\admin\\anaconda3\\lib\\site-packages (from validators>=0.2->streamlit) (5.1.0)\n",
      "Collecting smmap<6,>=3.0.1\n",
      "  Using cached smmap-5.0.0-py3-none-any.whl (24 kB)\n",
      "Requirement already satisfied: ipython-genutils in c:\\users\\admin\\anaconda3\\lib\\site-packages (from ipykernel>=5.1.2->pydeck>=0.1.dev5->streamlit) (0.2.0)\n",
      "Requirement already satisfied: debugpy<2.0,>=1.0.0 in c:\\users\\admin\\anaconda3\\lib\\site-packages (from ipykernel>=5.1.2->pydeck>=0.1.dev5->streamlit) (1.4.1)\n",
      "Requirement already satisfied: jupyter-client<8.0 in c:\\users\\admin\\anaconda3\\lib\\site-packages (from ipykernel>=5.1.2->pydeck>=0.1.dev5->streamlit) (6.1.12)\n",
      "Requirement already satisfied: matplotlib-inline<0.2.0,>=0.1.0 in c:\\users\\admin\\anaconda3\\lib\\site-packages (from ipykernel>=5.1.2->pydeck>=0.1.dev5->streamlit) (0.1.2)\n",
      "Requirement already satisfied: ipython<8.0,>=7.23.1 in c:\\users\\admin\\anaconda3\\lib\\site-packages (from ipykernel>=5.1.2->pydeck>=0.1.dev5->streamlit) (7.32.0)\n",
      "Requirement already satisfied: widgetsnbextension~=3.5.0 in c:\\users\\admin\\anaconda3\\lib\\site-packages (from ipywidgets>=7.0.0->pydeck>=0.1.dev5->streamlit) (3.5.1)\n",
      "Requirement already satisfied: nbformat>=4.2.0 in c:\\users\\admin\\anaconda3\\lib\\site-packages (from ipywidgets>=7.0.0->pydeck>=0.1.dev5->streamlit) (5.1.3)\n",
      "Requirement already satisfied: jupyterlab-widgets>=1.0.0 in c:\\users\\admin\\anaconda3\\lib\\site-packages (from ipywidgets>=7.0.0->pydeck>=0.1.dev5->streamlit) (1.0.0)\n",
      "Requirement already satisfied: MarkupSafe>=0.23 in c:\\users\\admin\\anaconda3\\lib\\site-packages (from jinja2->altair>=3.2.0->streamlit) (2.0.1)\n",
      "Requirement already satisfied: setuptools in c:\\users\\admin\\anaconda3\\lib\\site-packages (from jsonschema>=3.0->altair>=3.2.0->streamlit) (58.0.4)\n",
      "Requirement already satisfied: attrs>=17.4.0 in c:\\users\\admin\\anaconda3\\lib\\site-packages (from jsonschema>=3.0->altair>=3.2.0->streamlit) (21.2.0)\n",
      "Requirement already satisfied: pyrsistent>=0.14.0 in c:\\users\\admin\\anaconda3\\lib\\site-packages (from jsonschema>=3.0->altair>=3.2.0->streamlit) (0.18.0)\n",
      "Requirement already satisfied: prompt-toolkit!=3.0.0,!=3.0.1,<3.1.0,>=2.0.0 in c:\\users\\admin\\anaconda3\\lib\\site-packages (from ipython<8.0,>=7.23.1->ipykernel>=5.1.2->pydeck>=0.1.dev5->streamlit) (3.0.20)\n",
      "Requirement already satisfied: jedi>=0.16 in c:\\users\\admin\\anaconda3\\lib\\site-packages (from ipython<8.0,>=7.23.1->ipykernel>=5.1.2->pydeck>=0.1.dev5->streamlit) (0.18.0)\n",
      "Requirement already satisfied: backcall in c:\\users\\admin\\anaconda3\\lib\\site-packages (from ipython<8.0,>=7.23.1->ipykernel>=5.1.2->pydeck>=0.1.dev5->streamlit) (0.2.0)\n",
      "Requirement already satisfied: pickleshare in c:\\users\\admin\\anaconda3\\lib\\site-packages (from ipython<8.0,>=7.23.1->ipykernel>=5.1.2->pydeck>=0.1.dev5->streamlit) (0.7.5)\n",
      "Requirement already satisfied: jupyter-core>=4.6.0 in c:\\users\\admin\\anaconda3\\lib\\site-packages (from jupyter-client<8.0->ipykernel>=5.1.2->pydeck>=0.1.dev5->streamlit) (4.8.1)\n",
      "Requirement already satisfied: pyzmq>=13 in c:\\users\\admin\\anaconda3\\lib\\site-packages (from jupyter-client<8.0->ipykernel>=5.1.2->pydeck>=0.1.dev5->streamlit) (22.2.1)\n",
      "Requirement already satisfied: notebook>=4.4.1 in c:\\users\\admin\\anaconda3\\lib\\site-packages (from widgetsnbextension~=3.5.0->ipywidgets>=7.0.0->pydeck>=0.1.dev5->streamlit) (6.4.5)\n",
      "Requirement already satisfied: parso<0.9.0,>=0.8.0 in c:\\users\\admin\\anaconda3\\lib\\site-packages (from jedi>=0.16->ipython<8.0,>=7.23.1->ipykernel>=5.1.2->pydeck>=0.1.dev5->streamlit) (0.8.2)\n",
      "Requirement already satisfied: pywin32>=1.0 in c:\\users\\admin\\anaconda3\\lib\\site-packages (from jupyter-core>=4.6.0->jupyter-client<8.0->ipykernel>=5.1.2->pydeck>=0.1.dev5->streamlit) (228)\n",
      "Requirement already satisfied: nbconvert in c:\\users\\admin\\anaconda3\\lib\\site-packages (from notebook>=4.4.1->widgetsnbextension~=3.5.0->ipywidgets>=7.0.0->pydeck>=0.1.dev5->streamlit) (6.1.0)\n",
      "Requirement already satisfied: Send2Trash>=1.5.0 in c:\\users\\admin\\anaconda3\\lib\\site-packages (from notebook>=4.4.1->widgetsnbextension~=3.5.0->ipywidgets>=7.0.0->pydeck>=0.1.dev5->streamlit) (1.8.0)\n",
      "Requirement already satisfied: argon2-cffi in c:\\users\\admin\\anaconda3\\lib\\site-packages (from notebook>=4.4.1->widgetsnbextension~=3.5.0->ipywidgets>=7.0.0->pydeck>=0.1.dev5->streamlit) (20.1.0)\n",
      "Requirement already satisfied: terminado>=0.8.3 in c:\\users\\admin\\anaconda3\\lib\\site-packages (from notebook>=4.4.1->widgetsnbextension~=3.5.0->ipywidgets>=7.0.0->pydeck>=0.1.dev5->streamlit) (0.9.4)\n",
      "Requirement already satisfied: prometheus-client in c:\\users\\admin\\anaconda3\\lib\\site-packages (from notebook>=4.4.1->widgetsnbextension~=3.5.0->ipywidgets>=7.0.0->pydeck>=0.1.dev5->streamlit) (0.11.0)\n",
      "Requirement already satisfied: wcwidth in c:\\users\\admin\\anaconda3\\lib\\site-packages (from prompt-toolkit!=3.0.0,!=3.0.1,<3.1.0,>=2.0.0->ipython<8.0,>=7.23.1->ipykernel>=5.1.2->pydeck>=0.1.dev5->streamlit) (0.2.5)\n",
      "Requirement already satisfied: pywinpty>=0.5 in c:\\users\\admin\\anaconda3\\lib\\site-packages (from terminado>=0.8.3->notebook>=4.4.1->widgetsnbextension~=3.5.0->ipywidgets>=7.0.0->pydeck>=0.1.dev5->streamlit) (0.5.7)\n",
      "Requirement already satisfied: cffi>=1.0.0 in c:\\users\\admin\\anaconda3\\lib\\site-packages (from argon2-cffi->notebook>=4.4.1->widgetsnbextension~=3.5.0->ipywidgets>=7.0.0->pydeck>=0.1.dev5->streamlit) (1.14.6)\n",
      "Requirement already satisfied: bleach in c:\\users\\admin\\anaconda3\\lib\\site-packages (from nbconvert->notebook>=4.4.1->widgetsnbextension~=3.5.0->ipywidgets>=7.0.0->pydeck>=0.1.dev5->streamlit) (4.0.0)\n",
      "Requirement already satisfied: defusedxml in c:\\users\\admin\\anaconda3\\lib\\site-packages (from nbconvert->notebook>=4.4.1->widgetsnbextension~=3.5.0->ipywidgets>=7.0.0->pydeck>=0.1.dev5->streamlit) (0.7.1)\n",
      "Requirement already satisfied: jupyterlab-pygments in c:\\users\\admin\\anaconda3\\lib\\site-packages (from nbconvert->notebook>=4.4.1->widgetsnbextension~=3.5.0->ipywidgets>=7.0.0->pydeck>=0.1.dev5->streamlit) (0.1.2)\n",
      "Requirement already satisfied: testpath in c:\\users\\admin\\anaconda3\\lib\\site-packages (from nbconvert->notebook>=4.4.1->widgetsnbextension~=3.5.0->ipywidgets>=7.0.0->pydeck>=0.1.dev5->streamlit) (0.5.0)\n",
      "Requirement already satisfied: mistune<2,>=0.8.1 in c:\\users\\admin\\anaconda3\\lib\\site-packages (from nbconvert->notebook>=4.4.1->widgetsnbextension~=3.5.0->ipywidgets>=7.0.0->pydeck>=0.1.dev5->streamlit) (0.8.4)\n",
      "Requirement already satisfied: pandocfilters>=1.4.1 in c:\\users\\admin\\anaconda3\\lib\\site-packages (from nbconvert->notebook>=4.4.1->widgetsnbextension~=3.5.0->ipywidgets>=7.0.0->pydeck>=0.1.dev5->streamlit) (1.4.3)\n",
      "Requirement already satisfied: nbclient<0.6.0,>=0.5.0 in c:\\users\\admin\\anaconda3\\lib\\site-packages (from nbconvert->notebook>=4.4.1->widgetsnbextension~=3.5.0->ipywidgets>=7.0.0->pydeck>=0.1.dev5->streamlit) (0.5.3)\n",
      "Requirement already satisfied: pycparser in c:\\users\\admin\\anaconda3\\lib\\site-packages (from cffi>=1.0.0->argon2-cffi->notebook>=4.4.1->widgetsnbextension~=3.5.0->ipywidgets>=7.0.0->pydeck>=0.1.dev5->streamlit) (2.20)\n",
      "Requirement already satisfied: async-generator in c:\\users\\admin\\anaconda3\\lib\\site-packages (from nbclient<0.6.0,>=0.5.0->nbconvert->notebook>=4.4.1->widgetsnbextension~=3.5.0->ipywidgets>=7.0.0->pydeck>=0.1.dev5->streamlit) (1.10)\n",
      "Requirement already satisfied: nest-asyncio in c:\\users\\admin\\anaconda3\\lib\\site-packages (from nbclient<0.6.0,>=0.5.0->nbconvert->notebook>=4.4.1->widgetsnbextension~=3.5.0->ipywidgets>=7.0.0->pydeck>=0.1.dev5->streamlit) (1.5.1)\n",
      "Requirement already satisfied: webencodings in c:\\users\\admin\\anaconda3\\lib\\site-packages (from bleach->nbconvert->notebook>=4.4.1->widgetsnbextension~=3.5.0->ipywidgets>=7.0.0->pydeck>=0.1.dev5->streamlit) (0.5.1)\n",
      "Building wheels for collected packages: pyarrow\n",
      "  Building wheel for pyarrow (pyproject.toml): started\n",
      "  Building wheel for pyarrow (pyproject.toml): finished with status 'error'\n",
      "Failed to build pyarrow\n",
      "\n",
      "[notice] A new release of pip available: 22.1.2 -> 22.2.2\n",
      "[notice] To update, run: python.exe -m pip install --upgrade pip\n"
     ]
    },
    {
     "name": "stderr",
     "output_type": "stream",
     "text": [
      "\n",
      "  copying pyarrow\\array.pxi -> build\\lib.win32-cpython-39\\pyarrow\n",
      "  copying pyarrow\\benchmark.pxi -> build\\lib.win32-cpython-39\\pyarrow\n",
      "  copying pyarrow\\builder.pxi -> build\\lib.win32-cpython-39\\pyarrow\n",
      "  copying pyarrow\\compat.pxi -> build\\lib.win32-cpython-39\\pyarrow\n",
      "  copying pyarrow\\config.pxi -> build\\lib.win32-cpython-39\\pyarrow\n",
      "  copying pyarrow\\error.pxi -> build\\lib.win32-cpython-39\\pyarrow\n",
      "  copying pyarrow\\gandiva.pyx -> build\\lib.win32-cpython-39\\pyarrow\n",
      "  copying pyarrow\\io.pxi -> build\\lib.win32-cpython-39\\pyarrow\n",
      "  copying pyarrow\\ipc.pxi -> build\\lib.win32-cpython-39\\pyarrow\n",
      "  copying pyarrow\\lib.pxd -> build\\lib.win32-cpython-39\\pyarrow\n",
      "  copying pyarrow\\lib.pyx -> build\\lib.win32-cpython-39\\pyarrow\n",
      "  copying pyarrow\\memory.pxi -> build\\lib.win32-cpython-39\\pyarrow\n",
      "  copying pyarrow\\pandas-shim.pxi -> build\\lib.win32-cpython-39\\pyarrow\n",
      "  copying pyarrow\\public-api.pxi -> build\\lib.win32-cpython-39\\pyarrow\n",
      "  copying pyarrow\\scalar.pxi -> build\\lib.win32-cpython-39\\pyarrow\n",
      "  copying pyarrow\\serialization.pxi -> build\\lib.win32-cpython-39\\pyarrow\n",
      "  copying pyarrow\\table.pxi -> build\\lib.win32-cpython-39\\pyarrow\n",
      "  copying pyarrow\\tensor.pxi -> build\\lib.win32-cpython-39\\pyarrow\n",
      "  copying pyarrow\\types.pxi -> build\\lib.win32-cpython-39\\pyarrow\n",
      "  creating build\\lib.win32-cpython-39\\pyarrow\\includes\n",
      "  copying pyarrow\\includes\\common.pxd -> build\\lib.win32-cpython-39\\pyarrow\\includes\n",
      "  copying pyarrow\\includes\\libarrow.pxd -> build\\lib.win32-cpython-39\\pyarrow\\includes\n",
      "  copying pyarrow\\includes\\libarrow_cuda.pxd -> build\\lib.win32-cpython-39\\pyarrow\\includes\n",
      "  copying pyarrow\\includes\\libarrow_dataset.pxd -> build\\lib.win32-cpython-39\\pyarrow\\includes\n",
      "  copying pyarrow\\includes\\libarrow_dataset_parquet.pxd -> build\\lib.win32-cpython-39\\pyarrow\\includes\n",
      "  copying pyarrow\\includes\\libarrow_feather.pxd -> build\\lib.win32-cpython-39\\pyarrow\\includes\n",
      "  copying pyarrow\\includes\\libarrow_flight.pxd -> build\\lib.win32-cpython-39\\pyarrow\\includes\n",
      "  copying pyarrow\\includes\\libarrow_fs.pxd -> build\\lib.win32-cpython-39\\pyarrow\\includes\n",
      "  copying pyarrow\\includes\\libarrow_python.pxd -> build\\lib.win32-cpython-39\\pyarrow\\includes\n",
      "  copying pyarrow\\includes\\libarrow_substrait.pxd -> build\\lib.win32-cpython-39\\pyarrow\\includes\n",
      "  copying pyarrow\\includes\\libgandiva.pxd -> build\\lib.win32-cpython-39\\pyarrow\\includes\n",
      "  copying pyarrow\\includes\\libplasma.pxd -> build\\lib.win32-cpython-39\\pyarrow\\includes\n",
      "  copying pyarrow\\includes\\__init__.pxd -> build\\lib.win32-cpython-39\\pyarrow\\includes\n",
      "  creating build\\lib.win32-cpython-39\\pyarrow\\tensorflow\n",
      "  copying pyarrow\\tensorflow\\plasma_op.cc -> build\\lib.win32-cpython-39\\pyarrow\\tensorflow\n",
      "  copying pyarrow\\tests\\bound_function_visit_strings.pyx -> build\\lib.win32-cpython-39\\pyarrow\\tests\n",
      "  copying pyarrow\\tests\\pyarrow_cython_example.pyx -> build\\lib.win32-cpython-39\\pyarrow\\tests\n",
      "  creating build\\lib.win32-cpython-39\\pyarrow\\tests\\data\n",
      "  creating build\\lib.win32-cpython-39\\pyarrow\\tests\\data\\feather\n",
      "  copying pyarrow\\tests\\data\\feather\\v0.17.0.version.2-compression.lz4.feather -> build\\lib.win32-cpython-39\\pyarrow\\tests\\data\\feather\n",
      "  creating build\\lib.win32-cpython-39\\pyarrow\\tests\\data\\orc\n",
      "  copying pyarrow\\tests\\data\\orc\\README.md -> build\\lib.win32-cpython-39\\pyarrow\\tests\\data\\orc\n",
      "  copying pyarrow\\tests\\data\\orc\\TestOrcFile.emptyFile.jsn.gz -> build\\lib.win32-cpython-39\\pyarrow\\tests\\data\\orc\n",
      "  copying pyarrow\\tests\\data\\orc\\TestOrcFile.emptyFile.orc -> build\\lib.win32-cpython-39\\pyarrow\\tests\\data\\orc\n",
      "  copying pyarrow\\tests\\data\\orc\\TestOrcFile.test1.jsn.gz -> build\\lib.win32-cpython-39\\pyarrow\\tests\\data\\orc\n",
      "  copying pyarrow\\tests\\data\\orc\\TestOrcFile.test1.orc -> build\\lib.win32-cpython-39\\pyarrow\\tests\\data\\orc\n",
      "  copying pyarrow\\tests\\data\\orc\\TestOrcFile.testDate1900.jsn.gz -> build\\lib.win32-cpython-39\\pyarrow\\tests\\data\\orc\n",
      "  copying pyarrow\\tests\\data\\orc\\TestOrcFile.testDate1900.orc -> build\\lib.win32-cpython-39\\pyarrow\\tests\\data\\orc\n",
      "  copying pyarrow\\tests\\data\\orc\\decimal.jsn.gz -> build\\lib.win32-cpython-39\\pyarrow\\tests\\data\\orc\n",
      "  copying pyarrow\\tests\\data\\orc\\decimal.orc -> build\\lib.win32-cpython-39\\pyarrow\\tests\\data\\orc\n",
      "  creating build\\lib.win32-cpython-39\\pyarrow\\tests\\data\\parquet\n",
      "  copying pyarrow\\tests\\data\\parquet\\v0.7.1.all-named-index.parquet -> build\\lib.win32-cpython-39\\pyarrow\\tests\\data\\parquet\n",
      "  copying pyarrow\\tests\\data\\parquet\\v0.7.1.column-metadata-handling.parquet -> build\\lib.win32-cpython-39\\pyarrow\\tests\\data\\parquet\n",
      "  copying pyarrow\\tests\\data\\parquet\\v0.7.1.parquet -> build\\lib.win32-cpython-39\\pyarrow\\tests\\data\\parquet\n",
      "  copying pyarrow\\tests\\data\\parquet\\v0.7.1.some-named-index.parquet -> build\\lib.win32-cpython-39\\pyarrow\\tests\\data\\parquet\n",
      "  running build_ext\n",
      "  creating C:\\Users\\Admin\\AppData\\Local\\Temp\\pip-install-pik43sur\\pyarrow_e9c01a3e7eba49038f294b5f5bf96e2b\\build\\temp.win32-cpython-39\n",
      "  Traceback (most recent call last):\n",
      "    File \"C:\\Users\\Admin\\anaconda3\\lib\\site-packages\\pip\\_vendor\\pep517\\in_process\\_in_process.py\", line 363, in <module>\n",
      "      main()\n",
      "    File \"C:\\Users\\Admin\\anaconda3\\lib\\site-packages\\pip\\_vendor\\pep517\\in_process\\_in_process.py\", line 345, in main\n",
      "      json_out['return_val'] = hook(**hook_input['kwargs'])\n",
      "    File \"C:\\Users\\Admin\\anaconda3\\lib\\site-packages\\pip\\_vendor\\pep517\\in_process\\_in_process.py\", line 261, in build_wheel\n",
      "      return _build_backend().build_wheel(wheel_directory, config_settings,\n",
      "    File \"C:\\Users\\Admin\\AppData\\Local\\Temp\\pip-build-env-efpb0hqp\\overlay\\Lib\\site-packages\\setuptools\\build_meta.py\", line 412, in build_wheel\n",
      "      return self._build_with_temp_dir(['bdist_wheel'], '.whl',\n",
      "    File \"C:\\Users\\Admin\\AppData\\Local\\Temp\\pip-build-env-efpb0hqp\\overlay\\Lib\\site-packages\\setuptools\\build_meta.py\", line 397, in _build_with_temp_dir\n",
      "      self.run_setup()\n",
      "    File \"C:\\Users\\Admin\\AppData\\Local\\Temp\\pip-build-env-efpb0hqp\\overlay\\Lib\\site-packages\\setuptools\\build_meta.py\", line 482, in run_setup\n",
      "      super(_BuildMetaLegacyBackend,\n",
      "    File \"C:\\Users\\Admin\\AppData\\Local\\Temp\\pip-build-env-efpb0hqp\\overlay\\Lib\\site-packages\\setuptools\\build_meta.py\", line 335, in run_setup\n",
      "      exec(code, locals())\n",
      "    File \"<string>\", line 630, in <module>\n",
      "    File \"C:\\Users\\Admin\\AppData\\Local\\Temp\\pip-build-env-efpb0hqp\\overlay\\Lib\\site-packages\\setuptools\\__init__.py\", line 87, in setup\n",
      "      return distutils.core.setup(**attrs)\n",
      "    File \"C:\\Users\\Admin\\AppData\\Local\\Temp\\pip-build-env-efpb0hqp\\overlay\\Lib\\site-packages\\setuptools\\_distutils\\core.py\", line 185, in setup\n",
      "      return run_commands(dist)\n",
      "    File \"C:\\Users\\Admin\\AppData\\Local\\Temp\\pip-build-env-efpb0hqp\\overlay\\Lib\\site-packages\\setuptools\\_distutils\\core.py\", line 201, in run_commands\n",
      "      dist.run_commands()\n",
      "    File \"C:\\Users\\Admin\\AppData\\Local\\Temp\\pip-build-env-efpb0hqp\\overlay\\Lib\\site-packages\\setuptools\\_distutils\\dist.py\", line 973, in run_commands\n",
      "      self.run_command(cmd)\n",
      "    File \"C:\\Users\\Admin\\AppData\\Local\\Temp\\pip-build-env-efpb0hqp\\overlay\\Lib\\site-packages\\setuptools\\dist.py\", line 1217, in run_command\n",
      "      super().run_command(command)\n",
      "    File \"C:\\Users\\Admin\\AppData\\Local\\Temp\\pip-build-env-efpb0hqp\\overlay\\Lib\\site-packages\\setuptools\\_distutils\\dist.py\", line 992, in run_command\n",
      "      cmd_obj.run()\n",
      "    File \"C:\\Users\\Admin\\AppData\\Local\\Temp\\pip-build-env-efpb0hqp\\overlay\\Lib\\site-packages\\wheel\\bdist_wheel.py\", line 299, in run\n",
      "      self.run_command('build')\n",
      "    File \"C:\\Users\\Admin\\AppData\\Local\\Temp\\pip-build-env-efpb0hqp\\overlay\\Lib\\site-packages\\setuptools\\_distutils\\cmd.py\", line 319, in run_command\n",
      "      self.distribution.run_command(command)\n",
      "    File \"C:\\Users\\Admin\\AppData\\Local\\Temp\\pip-build-env-efpb0hqp\\overlay\\Lib\\site-packages\\setuptools\\dist.py\", line 1217, in run_command\n",
      "      super().run_command(command)\n",
      "    File \"C:\\Users\\Admin\\AppData\\Local\\Temp\\pip-build-env-efpb0hqp\\overlay\\Lib\\site-packages\\setuptools\\_distutils\\dist.py\", line 992, in run_command\n",
      "      cmd_obj.run()\n",
      "    File \"C:\\Users\\Admin\\AppData\\Local\\Temp\\pip-build-env-efpb0hqp\\overlay\\Lib\\site-packages\\setuptools\\_distutils\\command\\build.py\", line 132, in run\n",
      "      self.run_command(cmd_name)\n",
      "    File \"C:\\Users\\Admin\\AppData\\Local\\Temp\\pip-build-env-efpb0hqp\\overlay\\Lib\\site-packages\\setuptools\\_distutils\\cmd.py\", line 319, in run_command\n",
      "      self.distribution.run_command(command)\n",
      "    File \"C:\\Users\\Admin\\AppData\\Local\\Temp\\pip-build-env-efpb0hqp\\overlay\\Lib\\site-packages\\setuptools\\dist.py\", line 1217, in run_command\n",
      "      super().run_command(command)\n",
      "    File \"C:\\Users\\Admin\\AppData\\Local\\Temp\\pip-build-env-efpb0hqp\\overlay\\Lib\\site-packages\\setuptools\\_distutils\\dist.py\", line 992, in run_command\n",
      "      cmd_obj.run()\n",
      "    File \"<string>\", line 96, in run\n",
      "    File \"<string>\", line 316, in _run_cmake\n",
      "  RuntimeError: Not supported on 32-bit Windows\n",
      "  [end of output]\n",
      "  \n",
      "  note: This error originates from a subprocess, and is likely not a problem with pip.\n",
      "  ERROR: Failed building wheel for pyarrow\n",
      "ERROR: Could not build wheels for pyarrow, which is required to install pyproject.toml-based projects\n",
      "WARNING: Ignoring invalid distribution -heel (c:\\users\\admin\\anaconda3\\lib\\site-packages)\n",
      "WARNING: Ignoring invalid distribution -heel (c:\\users\\admin\\anaconda3\\lib\\site-packages)\n",
      "WARNING: Ignoring invalid distribution -heel (c:\\users\\admin\\anaconda3\\lib\\site-packages)\n"
     ]
    }
   ],
   "source": [
    "!streamlit run main.py & npx localtunnel --port 8501 \n"
   ]
  },
  {
   "cell_type": "markdown",
   "id": "6c4d6c54",
   "metadata": {},
   "source": [
    "import streamlit as st"
   ]
  },
  {
   "cell_type": "markdown",
   "id": "93f07d21",
   "metadata": {},
   "source": [
    "##### "
   ]
  }
 ],
 "metadata": {
  "kernelspec": {
   "display_name": "Python 3 (ipykernel)",
   "language": "python",
   "name": "python3"
  },
  "language_info": {
   "codemirror_mode": {
    "name": "ipython",
    "version": 3
   },
   "file_extension": ".py",
   "mimetype": "text/x-python",
   "name": "python",
   "nbconvert_exporter": "python",
   "pygments_lexer": "ipython3",
   "version": "3.9.7"
  }
 },
 "nbformat": 4,
 "nbformat_minor": 5
}

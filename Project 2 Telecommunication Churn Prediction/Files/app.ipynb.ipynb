{
 "cells": [
  {
   "cell_type": "code",
   "execution_count": 1,
   "id": "af8c1eb2",
   "metadata": {},
   "outputs": [
    {
     "ename": "FileNotFoundError",
     "evalue": "[Errno 2] No such file or directory: 'Churn1.pkl'",
     "output_type": "error",
     "traceback": [
      "\u001b[1;31m---------------------------------------------------------------------------\u001b[0m",
      "\u001b[1;31mFileNotFoundError\u001b[0m                         Traceback (most recent call last)",
      "\u001b[1;32m~\\AppData\\Local\\Temp/ipykernel_5528/1263894301.py\u001b[0m in \u001b[0;36m<cell line: 12>\u001b[1;34m()\u001b[0m\n\u001b[0;32m     10\u001b[0m \u001b[1;32mimport\u001b[0m \u001b[0mpickle\u001b[0m\u001b[1;33m\u001b[0m\u001b[1;33m\u001b[0m\u001b[0m\n\u001b[0;32m     11\u001b[0m \u001b[0mfile1\u001b[0m\u001b[1;33m=\u001b[0m\u001b[1;34m\"Churn1.pkl\"\u001b[0m\u001b[1;33m\u001b[0m\u001b[1;33m\u001b[0m\u001b[0m\n\u001b[1;32m---> 12\u001b[1;33m \u001b[0mfileobj\u001b[0m\u001b[1;33m=\u001b[0m\u001b[0mopen\u001b[0m\u001b[1;33m(\u001b[0m\u001b[0mfile1\u001b[0m\u001b[1;33m,\u001b[0m\u001b[1;34m'rb'\u001b[0m\u001b[1;33m)\u001b[0m\u001b[1;33m\u001b[0m\u001b[1;33m\u001b[0m\u001b[0m\n\u001b[0m\u001b[0;32m     13\u001b[0m \u001b[0mmodel\u001b[0m\u001b[1;33m=\u001b[0m\u001b[0mpickle\u001b[0m\u001b[1;33m.\u001b[0m\u001b[0mload\u001b[0m\u001b[1;33m(\u001b[0m\u001b[0mfileobj\u001b[0m\u001b[1;33m)\u001b[0m\u001b[1;33m\u001b[0m\u001b[1;33m\u001b[0m\u001b[0m\n\u001b[0;32m     14\u001b[0m \u001b[1;31m#model = pickle.load(open('Customer_Churn_Prediction.pkl','rb'))\u001b[0m\u001b[1;33m\u001b[0m\u001b[1;33m\u001b[0m\u001b[0m\n",
      "\u001b[1;31mFileNotFoundError\u001b[0m: [Errno 2] No such file or directory: 'Churn1.pkl'"
     ]
    }
   ],
   "source": [
    "from flask import Flask, render_template, request\n",
    "import jsonify\n",
    "import requests\n",
    "import pickle\n",
    "import numpy as np\n",
    "import sklearn\n",
    "import matplotlib\n",
    "from sklearn.preprocessing import StandardScaler\n",
    "app = Flask(__name__)\n",
    "import pickle\n",
    "file1=\"Churn1.pkl\"\n",
    "fileobj=open(file1,'rb')\n",
    "model=pickle.load(fileobj)\n",
    "#model = pickle.load(open('Customer_Churn_Prediction.pkl','rb'))\n",
    "@app.route('/', methods=['GET'])\n",
    "def Home():\n",
    "    return render_template('Newfile.html')\n",
    "\n",
    "standard_to = StandardScaler()\n",
    "@app.route('/predict',methods=['POST'])\n",
    "def predict():\n",
    "    if request.method == 'POST':\n",
    "        account_length = int(request.form['account_length'])\n",
    "        #voice_mail_plan = int(request.form['voice_mail_plan'])\n",
    "        voice_mail_messages = int(request.form['voice_mail_messages'])\n",
    "        #day_mins = float(request.form['day_mins'])\n",
    "        evening_mins = float(request.form['evening_mins'])\n",
    "        night_mins = float(request.form['night_mins'])\n",
    "        international_mins = float(request.form['international_mins'])\n",
    "        customer_service_calls = int(request.form['customer_service_calls'])\n",
    "        international_plan = int(request.form['international_plan'])\n",
    "        #day_calls = int(request.form['day_calls'])\n",
    "        day_charge = float(request.form['day_charge'])\n",
    "        #evening_calls = int(request.form['evening_calls'])\n",
    "        evening_charge = float(request.form['evening_charge'])\n",
    "       # night_calls = int(request.form['night_calls'])\n",
    "        night_charge = float(request.form['night_charge'])\n",
    "        international_calls = int(request.form['international_calls'])\n",
    "        international_charge = float(request.form['international_charge'])\n",
    "        total_charge = float(request.form['total_charge'])\n",
    "        \n",
    "        prediction = model.predict([[account_length,voice_mail_messages,evening_mins, night_mins, international_mins,\n",
    "       customer_service_calls, international_plan,day_charge, evening_charge,night_charge, \n",
    "      international_calls, international_charge,total_charge]])\n",
    "        if prediction==1:\n",
    "             return render_template('Newfile.html',prediction_text=\"The Customer will leave the Company\")\n",
    "        else:\n",
    "             return render_template('Newfile.html',prediction_text=\"The Customer will not leave the Company\")\n",
    "                \n",
    "if __name__==\"__main__\":\n",
    "    app.run(debug=False)"
   ]
  },
  {
   "cell_type": "code",
   "execution_count": null,
   "id": "b46ea524",
   "metadata": {},
   "outputs": [],
   "source": []
  },
  {
   "cell_type": "code",
   "execution_count": null,
   "id": "bedd3f5e",
   "metadata": {},
   "outputs": [],
   "source": []
  },
  {
   "cell_type": "code",
   "execution_count": null,
   "id": "5112bd0c",
   "metadata": {},
   "outputs": [],
   "source": []
  }
 ],
 "metadata": {
  "kernelspec": {
   "display_name": "Python 3 (ipykernel)",
   "language": "python",
   "name": "python3"
  },
  "language_info": {
   "codemirror_mode": {
    "name": "ipython",
    "version": 3
   },
   "file_extension": ".py",
   "mimetype": "text/x-python",
   "name": "python",
   "nbconvert_exporter": "python",
   "pygments_lexer": "ipython3",
   "version": "3.9.7"
  }
 },
 "nbformat": 4,
 "nbformat_minor": 5
}

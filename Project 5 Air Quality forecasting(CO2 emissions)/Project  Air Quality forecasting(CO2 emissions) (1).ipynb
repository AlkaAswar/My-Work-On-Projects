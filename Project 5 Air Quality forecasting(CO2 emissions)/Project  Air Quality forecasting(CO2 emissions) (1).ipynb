{
 "cells": [
  {
   "cell_type": "markdown",
   "id": "0e6b3ee2",
   "metadata": {},
   "source": [
    "<p style=\"font-family:verdana;color:#29285D;font-size:200%;text-align:center\"><b>🛒\n",
    "    Air Quality forecasting(CO2 emissions)  🛒<br>\n",
    "    </p> \n",
    "<p style=\"font-family:verdana;text-align:center\">***************</p>\n"
   ]
  },
  {
   "cell_type": "markdown",
   "id": "c39874e1",
   "metadata": {},
   "source": [
    "<h2 style=\"background-color:green;font-family:verdana;color:white;font-size:100%;text-align:center;border-radius:10px 10px;letter-spacing:0.5px;padding: 10px\"> Step 1 : Understand The Business Problem </h2> "
   ]
  },
  {
   "cell_type": "markdown",
   "id": "d17f1d87",
   "metadata": {},
   "source": [
    "<div style=\"color:white;\n",
    "           display:fill;\n",
    "           background-color:#29285D;\n",
    "           padding: 10px;\n",
    "           font-family:Verdana;\n",
    "           letter-spacing:0.5px\">\n",
    "    <h3 style=\"color:white;padding-left:20px\"><b>Business Statement 👀</b></h3>\n",
    "       <p style=\"color:white;font-size:110%;padding-left:50px\">\n",
    "          To forecast Co2 levels for an organization so that the organization can follow government norms\n",
    "with respect to Co2 emission levels.\n",
    "        </p>\n",
    "    </div>"
   ]
  },
  {
   "cell_type": "markdown",
   "id": "7170aea0",
   "metadata": {},
   "source": [
    " <h2 style=\"background-color:green;font-family:verdana;color:white;font-size:100%;text-align:center;border-radius:10px 10px;letter-spacing:0.5px;padding: 10px\"> Step 2 : Load The Data </h2> "
   ]
  },
  {
   "cell_type": "code",
   "execution_count": 1,
   "id": "9553e54b",
   "metadata": {},
   "outputs": [],
   "source": [
    "#Importing libraries\n",
    "import pandas as pd\n",
    "from pandas import read_csv\n",
    "from matplotlib import pyplot"
   ]
  },
  {
   "cell_type": "code",
   "execution_count": 2,
   "id": "3cb911bb",
   "metadata": {},
   "outputs": [
    {
     "data": {
      "text/html": [
       "<div>\n",
       "<style scoped>\n",
       "    .dataframe tbody tr th:only-of-type {\n",
       "        vertical-align: middle;\n",
       "    }\n",
       "\n",
       "    .dataframe tbody tr th {\n",
       "        vertical-align: top;\n",
       "    }\n",
       "\n",
       "    .dataframe thead th {\n",
       "        text-align: right;\n",
       "    }\n",
       "</style>\n",
       "<table border=\"1\" class=\"dataframe\">\n",
       "  <thead>\n",
       "    <tr style=\"text-align: right;\">\n",
       "      <th></th>\n",
       "      <th>Year</th>\n",
       "      <th>CO2</th>\n",
       "    </tr>\n",
       "  </thead>\n",
       "  <tbody>\n",
       "    <tr>\n",
       "      <th>0</th>\n",
       "      <td>1800.0</td>\n",
       "      <td>0.00568</td>\n",
       "    </tr>\n",
       "    <tr>\n",
       "      <th>1</th>\n",
       "      <td>1801.0</td>\n",
       "      <td>0.00561</td>\n",
       "    </tr>\n",
       "    <tr>\n",
       "      <th>2</th>\n",
       "      <td>1802.0</td>\n",
       "      <td>0.00555</td>\n",
       "    </tr>\n",
       "    <tr>\n",
       "      <th>3</th>\n",
       "      <td>1803.0</td>\n",
       "      <td>0.00548</td>\n",
       "    </tr>\n",
       "    <tr>\n",
       "      <th>4</th>\n",
       "      <td>1804.0</td>\n",
       "      <td>0.00542</td>\n",
       "    </tr>\n",
       "    <tr>\n",
       "      <th>...</th>\n",
       "      <td>...</td>\n",
       "      <td>...</td>\n",
       "    </tr>\n",
       "    <tr>\n",
       "      <th>210</th>\n",
       "      <td>2010.0</td>\n",
       "      <td>15.60000</td>\n",
       "    </tr>\n",
       "    <tr>\n",
       "      <th>211</th>\n",
       "      <td>2011.0</td>\n",
       "      <td>15.60000</td>\n",
       "    </tr>\n",
       "    <tr>\n",
       "      <th>212</th>\n",
       "      <td>2012.0</td>\n",
       "      <td>14.80000</td>\n",
       "    </tr>\n",
       "    <tr>\n",
       "      <th>213</th>\n",
       "      <td>2013.0</td>\n",
       "      <td>14.70000</td>\n",
       "    </tr>\n",
       "    <tr>\n",
       "      <th>214</th>\n",
       "      <td>2014.0</td>\n",
       "      <td>15.10000</td>\n",
       "    </tr>\n",
       "  </tbody>\n",
       "</table>\n",
       "<p>215 rows × 2 columns</p>\n",
       "</div>"
      ],
      "text/plain": [
       "       Year       CO2\n",
       "0    1800.0   0.00568\n",
       "1    1801.0   0.00561\n",
       "2    1802.0   0.00555\n",
       "3    1803.0   0.00548\n",
       "4    1804.0   0.00542\n",
       "..      ...       ...\n",
       "210  2010.0  15.60000\n",
       "211  2011.0  15.60000\n",
       "212  2012.0  14.80000\n",
       "213  2013.0  14.70000\n",
       "214  2014.0  15.10000\n",
       "\n",
       "[215 rows x 2 columns]"
      ]
     },
     "execution_count": 2,
     "metadata": {},
     "output_type": "execute_result"
    }
   ],
   "source": [
    "#Import the data\n",
    "data = pd.read_excel('CO2 dataset.xlsx')\n",
    "data                   # will show 1st 5 rows only"
   ]
  },
  {
   "cell_type": "markdown",
   "id": "9437846d",
   "metadata": {},
   "source": [
    "<h2 style=\"background-color:green;font-family:verdana;color:white;font-size:100%;text-align:center;border-radius:10px 10px;letter-spacing:0.5px;padding: 10px\"> Step 3: EDA and Visualization </h2> "
   ]
  },
  {
   "cell_type": "code",
   "execution_count": 3,
   "id": "6a32bcde",
   "metadata": {},
   "outputs": [
    {
     "data": {
      "text/plain": [
       "(215, 2)"
      ]
     },
     "execution_count": 3,
     "metadata": {},
     "output_type": "execute_result"
    }
   ],
   "source": [
    "data.shape  # will show rows and columns"
   ]
  },
  {
   "cell_type": "code",
   "execution_count": 4,
   "id": "de47bf97",
   "metadata": {},
   "outputs": [
    {
     "data": {
      "text/plain": [
       "Year    0\n",
       "CO2     0\n",
       "dtype: int64"
      ]
     },
     "execution_count": 4,
     "metadata": {},
     "output_type": "execute_result"
    }
   ],
   "source": [
    "data.isnull().sum()          # This functin will show the total null values in our data"
   ]
  },
  {
   "cell_type": "code",
   "execution_count": 5,
   "id": "45d32e68",
   "metadata": {},
   "outputs": [
    {
     "name": "stdout",
     "output_type": "stream",
     "text": [
      "<class 'pandas.core.frame.DataFrame'>\n",
      "RangeIndex: 215 entries, 0 to 214\n",
      "Data columns (total 2 columns):\n",
      " #   Column  Non-Null Count  Dtype  \n",
      "---  ------  --------------  -----  \n",
      " 0   Year    215 non-null    float64\n",
      " 1   CO2     215 non-null    float64\n",
      "dtypes: float64(2)\n",
      "memory usage: 3.4 KB\n"
     ]
    }
   ],
   "source": [
    "data.info()             # this function will show the all information about the data"
   ]
  },
  {
   "cell_type": "code",
   "execution_count": 6,
   "id": "6ef96b5a",
   "metadata": {},
   "outputs": [
    {
     "data": {
      "text/html": [
       "<div>\n",
       "<style scoped>\n",
       "    .dataframe tbody tr th:only-of-type {\n",
       "        vertical-align: middle;\n",
       "    }\n",
       "\n",
       "    .dataframe tbody tr th {\n",
       "        vertical-align: top;\n",
       "    }\n",
       "\n",
       "    .dataframe thead th {\n",
       "        text-align: right;\n",
       "    }\n",
       "</style>\n",
       "<table border=\"1\" class=\"dataframe\">\n",
       "  <thead>\n",
       "    <tr style=\"text-align: right;\">\n",
       "      <th></th>\n",
       "      <th>Year</th>\n",
       "      <th>CO2</th>\n",
       "    </tr>\n",
       "  </thead>\n",
       "  <tbody>\n",
       "    <tr>\n",
       "      <th>count</th>\n",
       "      <td>215.000000</td>\n",
       "      <td>215.000000</td>\n",
       "    </tr>\n",
       "    <tr>\n",
       "      <th>mean</th>\n",
       "      <td>1907.000000</td>\n",
       "      <td>6.741970</td>\n",
       "    </tr>\n",
       "    <tr>\n",
       "      <th>std</th>\n",
       "      <td>62.209324</td>\n",
       "      <td>6.522437</td>\n",
       "    </tr>\n",
       "    <tr>\n",
       "      <th>min</th>\n",
       "      <td>1800.000000</td>\n",
       "      <td>0.001750</td>\n",
       "    </tr>\n",
       "    <tr>\n",
       "      <th>25%</th>\n",
       "      <td>1853.500000</td>\n",
       "      <td>0.041050</td>\n",
       "    </tr>\n",
       "    <tr>\n",
       "      <th>50%</th>\n",
       "      <td>1907.000000</td>\n",
       "      <td>6.390000</td>\n",
       "    </tr>\n",
       "    <tr>\n",
       "      <th>75%</th>\n",
       "      <td>1960.500000</td>\n",
       "      <td>11.500000</td>\n",
       "    </tr>\n",
       "    <tr>\n",
       "      <th>max</th>\n",
       "      <td>2014.000000</td>\n",
       "      <td>18.200000</td>\n",
       "    </tr>\n",
       "  </tbody>\n",
       "</table>\n",
       "</div>"
      ],
      "text/plain": [
       "              Year         CO2\n",
       "count   215.000000  215.000000\n",
       "mean   1907.000000    6.741970\n",
       "std      62.209324    6.522437\n",
       "min    1800.000000    0.001750\n",
       "25%    1853.500000    0.041050\n",
       "50%    1907.000000    6.390000\n",
       "75%    1960.500000   11.500000\n",
       "max    2014.000000   18.200000"
      ]
     },
     "execution_count": 6,
     "metadata": {},
     "output_type": "execute_result"
    }
   ],
   "source": [
    "data.describe()          # This function will describe the data"
   ]
  },
  {
   "cell_type": "code",
   "execution_count": 7,
   "id": "44063281",
   "metadata": {},
   "outputs": [
    {
     "data": {
      "text/html": [
       "<div>\n",
       "<style scoped>\n",
       "    .dataframe tbody tr th:only-of-type {\n",
       "        vertical-align: middle;\n",
       "    }\n",
       "\n",
       "    .dataframe tbody tr th {\n",
       "        vertical-align: top;\n",
       "    }\n",
       "\n",
       "    .dataframe thead th {\n",
       "        text-align: right;\n",
       "    }\n",
       "</style>\n",
       "<table border=\"1\" class=\"dataframe\">\n",
       "  <thead>\n",
       "    <tr style=\"text-align: right;\">\n",
       "      <th></th>\n",
       "      <th>Year</th>\n",
       "      <th>CO2</th>\n",
       "    </tr>\n",
       "  </thead>\n",
       "  <tbody>\n",
       "  </tbody>\n",
       "</table>\n",
       "</div>"
      ],
      "text/plain": [
       "Empty DataFrame\n",
       "Columns: [Year, CO2]\n",
       "Index: []"
      ]
     },
     "execution_count": 7,
     "metadata": {},
     "output_type": "execute_result"
    }
   ],
   "source": [
    "data[data.duplicated()]              # No duplicated data present in ur dataset"
   ]
  },
  {
   "cell_type": "code",
   "execution_count": 8,
   "id": "f4b748c5",
   "metadata": {},
   "outputs": [
    {
     "data": {
      "text/html": [
       "<div>\n",
       "<style scoped>\n",
       "    .dataframe tbody tr th:only-of-type {\n",
       "        vertical-align: middle;\n",
       "    }\n",
       "\n",
       "    .dataframe tbody tr th {\n",
       "        vertical-align: top;\n",
       "    }\n",
       "\n",
       "    .dataframe thead th {\n",
       "        text-align: right;\n",
       "    }\n",
       "</style>\n",
       "<table border=\"1\" class=\"dataframe\">\n",
       "  <thead>\n",
       "    <tr style=\"text-align: right;\">\n",
       "      <th></th>\n",
       "      <th>Year</th>\n",
       "      <th>CO2</th>\n",
       "    </tr>\n",
       "  </thead>\n",
       "  <tbody>\n",
       "    <tr>\n",
       "      <th>0</th>\n",
       "      <td>1800</td>\n",
       "      <td>0.00568</td>\n",
       "    </tr>\n",
       "    <tr>\n",
       "      <th>1</th>\n",
       "      <td>1801</td>\n",
       "      <td>0.00561</td>\n",
       "    </tr>\n",
       "    <tr>\n",
       "      <th>2</th>\n",
       "      <td>1802</td>\n",
       "      <td>0.00555</td>\n",
       "    </tr>\n",
       "    <tr>\n",
       "      <th>3</th>\n",
       "      <td>1803</td>\n",
       "      <td>0.00548</td>\n",
       "    </tr>\n",
       "    <tr>\n",
       "      <th>4</th>\n",
       "      <td>1804</td>\n",
       "      <td>0.00542</td>\n",
       "    </tr>\n",
       "    <tr>\n",
       "      <th>...</th>\n",
       "      <td>...</td>\n",
       "      <td>...</td>\n",
       "    </tr>\n",
       "    <tr>\n",
       "      <th>210</th>\n",
       "      <td>2010</td>\n",
       "      <td>15.60000</td>\n",
       "    </tr>\n",
       "    <tr>\n",
       "      <th>211</th>\n",
       "      <td>2011</td>\n",
       "      <td>15.60000</td>\n",
       "    </tr>\n",
       "    <tr>\n",
       "      <th>212</th>\n",
       "      <td>2012</td>\n",
       "      <td>14.80000</td>\n",
       "    </tr>\n",
       "    <tr>\n",
       "      <th>213</th>\n",
       "      <td>2013</td>\n",
       "      <td>14.70000</td>\n",
       "    </tr>\n",
       "    <tr>\n",
       "      <th>214</th>\n",
       "      <td>2014</td>\n",
       "      <td>15.10000</td>\n",
       "    </tr>\n",
       "  </tbody>\n",
       "</table>\n",
       "<p>215 rows × 2 columns</p>\n",
       "</div>"
      ],
      "text/plain": [
       "     Year       CO2\n",
       "0    1800   0.00568\n",
       "1    1801   0.00561\n",
       "2    1802   0.00555\n",
       "3    1803   0.00548\n",
       "4    1804   0.00542\n",
       "..    ...       ...\n",
       "210  2010  15.60000\n",
       "211  2011  15.60000\n",
       "212  2012  14.80000\n",
       "213  2013  14.70000\n",
       "214  2014  15.10000\n",
       "\n",
       "[215 rows x 2 columns]"
      ]
     },
     "execution_count": 8,
     "metadata": {},
     "output_type": "execute_result"
    }
   ],
   "source": [
    "data['Year'] = data['Year'].astype(int)      #convert the year column from float to int\n",
    "data"
   ]
  },
  {
   "cell_type": "markdown",
   "id": "17043506",
   "metadata": {},
   "source": [
    "<h2 style=\"color:#DC7633;\">Visualization </h2>\n"
   ]
  },
  {
   "cell_type": "code",
   "execution_count": 9,
   "id": "c0b077b6",
   "metadata": {},
   "outputs": [
    {
     "data": {
      "text/html": [
       "<div>\n",
       "<style scoped>\n",
       "    .dataframe tbody tr th:only-of-type {\n",
       "        vertical-align: middle;\n",
       "    }\n",
       "\n",
       "    .dataframe tbody tr th {\n",
       "        vertical-align: top;\n",
       "    }\n",
       "\n",
       "    .dataframe thead th {\n",
       "        text-align: right;\n",
       "    }\n",
       "</style>\n",
       "<table border=\"1\" class=\"dataframe\">\n",
       "  <thead>\n",
       "    <tr style=\"text-align: right;\">\n",
       "      <th></th>\n",
       "      <th>CO2</th>\n",
       "    </tr>\n",
       "    <tr>\n",
       "      <th>Year</th>\n",
       "      <th></th>\n",
       "    </tr>\n",
       "  </thead>\n",
       "  <tbody>\n",
       "    <tr>\n",
       "      <th>1800</th>\n",
       "      <td>0.00568</td>\n",
       "    </tr>\n",
       "    <tr>\n",
       "      <th>1801</th>\n",
       "      <td>0.00561</td>\n",
       "    </tr>\n",
       "    <tr>\n",
       "      <th>1802</th>\n",
       "      <td>0.00555</td>\n",
       "    </tr>\n",
       "    <tr>\n",
       "      <th>1803</th>\n",
       "      <td>0.00548</td>\n",
       "    </tr>\n",
       "    <tr>\n",
       "      <th>1804</th>\n",
       "      <td>0.00542</td>\n",
       "    </tr>\n",
       "  </tbody>\n",
       "</table>\n",
       "</div>"
      ],
      "text/plain": [
       "          CO2\n",
       "Year         \n",
       "1800  0.00568\n",
       "1801  0.00561\n",
       "1802  0.00555\n",
       "1803  0.00548\n",
       "1804  0.00542"
      ]
     },
     "execution_count": 9,
     "metadata": {},
     "output_type": "execute_result"
    }
   ],
   "source": [
    "data.index = data['Year']\n",
    "data.drop(columns='Year',inplace=True)\n",
    "data.head()\n"
   ]
  },
  {
   "cell_type": "markdown",
   "id": "d1560c6d",
   "metadata": {},
   "source": [
    "<h2 style=\"color:#DC7633;\">Density Plot</h2>\n"
   ]
  },
  {
   "cell_type": "code",
   "execution_count": 10,
   "id": "ebf5c1c2",
   "metadata": {},
   "outputs": [
    {
     "data": {
      "image/png": "[encoded data removed]",
      "text/plain": [
       "<Figure size 432x288 with 1 Axes>"
      ]
     },
     "metadata": {
      "needs_background": "light"
     },
     "output_type": "display_data"
    }
   ],
   "source": [
    "data.plot(kind='kde')\n",
    "pyplot.show()"
   ]
  },
  {
   "cell_type": "markdown",
   "id": "8fce2b37",
   "metadata": {},
   "source": [
    "<h2 style=\"color:#DC7633;\">Histogram</h2>\n"
   ]
  },
  {
   "cell_type": "code",
   "execution_count": 11,
   "id": "10a97fcf",
   "metadata": {},
   "outputs": [
    {
     "data": {
      "text/plain": [
       "array([[<AxesSubplot:title={'center':'CO2'}>]], dtype=object)"
      ]
     },
     "execution_count": 11,
     "metadata": {},
     "output_type": "execute_result"
    },
    {
     "data": {
      "image/png": "[encoded data removed]",
      "text/plain": [
       "<Figure size 432x288 with 1 Axes>"
      ]
     },
     "metadata": {
      "needs_background": "light"
     },
     "output_type": "display_data"
    }
   ],
   "source": [
    "data.hist()"
   ]
  },
  {
   "cell_type": "markdown",
   "id": "49f25929",
   "metadata": {},
   "source": [
    "<h2 style=\"color:#DC7633;\">Line plot</h2>\n"
   ]
  },
  {
   "cell_type": "code",
   "execution_count": 12,
   "id": "a8b5ffa5",
   "metadata": {},
   "outputs": [
    {
     "data": {
      "text/plain": [
       "<AxesSubplot:xlabel='Year'>"
      ]
     },
     "execution_count": 12,
     "metadata": {},
     "output_type": "execute_result"
    },
    {
     "data": {
      "image/png": "[encoded data removed]",
      "text/plain": [
       "<Figure size 432x288 with 1 Axes>"
      ]
     },
     "metadata": {
      "needs_background": "light"
     },
     "output_type": "display_data"
    }
   ],
   "source": [
    "data.plot()"
   ]
  },
  {
   "cell_type": "markdown",
   "id": "44851f6e",
   "metadata": {},
   "source": [
    "<h2 style=\"color:#DC7633;\">Lag Plot</h2>\n"
   ]
  },
  {
   "cell_type": "code",
   "execution_count": 13,
   "id": "39f47699",
   "metadata": {},
   "outputs": [
    {
     "data": {
      "image/png": "[encoded data removed]",
      "text/plain": [
       "<Figure size 432x288 with 1 Axes>"
      ]
     },
     "metadata": {
      "needs_background": "light"
     },
     "output_type": "display_data"
    }
   ],
   "source": [
    "from pandas.plotting import lag_plot\n",
    "\n",
    "lag_plot(data)\n",
    "pyplot.show()"
   ]
  },
  {
   "cell_type": "markdown",
   "id": "b3b4f3f4",
   "metadata": {},
   "source": [
    "<div style=\"color:white;\n",
    "           display:fill;\n",
    "           background-color:#29285D;\n",
    "           padding: 10px;\n",
    "           font-family:Verdana;\n",
    "           letter-spacing:0.5px\">\n",
    "    <h3 style=\"color:white;padding-left:20px\"><b>Interface 👀</b></h3>\n",
    "       <p style=\"color:white;font-size:110%;padding-left:50px\">\n",
    "         1) After the total observation we can see the trend of our data and we have higher rate between -5 to +5<br><br>\n",
    "          2) There is trend in ur data because after some perid its going high suddenly and its moving up direction<br><br>\n",
    "           3) The Data is linear we can see using log plot\n",
    "        </p>\n",
    "    </div>"
   ]
  },
  {
   "cell_type": "code",
   "execution_count": 14,
   "id": "71c811e4",
   "metadata": {},
   "outputs": [],
   "source": [
    "from statsmodels.tsa.seasonal import seasonal_decompose\n",
    "decompose_data = seasonal_decompose(data, model=\"additive\", period=1)\n"
   ]
  },
  {
   "cell_type": "code",
   "execution_count": 15,
   "id": "9fdbf19e",
   "metadata": {},
   "outputs": [
    {
     "data": {
      "image/png": "[encoded data removed]",
      "text/plain": [
       "<Figure size 432x288 with 4 Axes>"
      ]
     },
     "execution_count": 15,
     "metadata": {},
     "output_type": "execute_result"
    },
    {
     "data": {
      "image/png": "[encoded data removed]",
      "text/plain": [
       "<Figure size 432x288 with 4 Axes>"
      ]
     },
     "metadata": {
      "needs_background": "light"
     },
     "output_type": "display_data"
    }
   ],
   "source": [
    "decompose_data.plot()"
   ]
  },
  {
   "cell_type": "code",
   "execution_count": 16,
   "id": "54607d83",
   "metadata": {},
   "outputs": [
    {
     "data": {
      "text/plain": [
       "<AxesSubplot:xlabel='Year'>"
      ]
     },
     "execution_count": 16,
     "metadata": {},
     "output_type": "execute_result"
    },
    {
     "data": {
      "image/png": "[encoded data removed]",
      "text/plain": [
       "<Figure size 432x288 with 1 Axes>"
      ]
     },
     "metadata": {
      "needs_background": "light"
     },
     "output_type": "display_data"
    }
   ],
   "source": [
    "seasonality=decompose_data.seasonal\n",
    "seasonality.plot(color='green')"
   ]
  },
  {
   "cell_type": "markdown",
   "id": "02720317",
   "metadata": {},
   "source": [
    "<h2 style=\"color:#DC7633;\">ACF Plot</h2>\n"
   ]
  },
  {
   "cell_type": "code",
   "execution_count": 17,
   "id": "486d3f51",
   "metadata": {},
   "outputs": [
    {
     "data": {
      "image/png": "[encoded data removed]",
      "text/plain": [
       "<Figure size 432x288 with 1 Axes>"
      ]
     },
     "metadata": {
      "needs_background": "light"
     },
     "output_type": "display_data"
    }
   ],
   "source": [
    "#To check for the stationarity of the time series, statsmodels provides a plot_acf method to plot an autocorrelation plot.\n",
    "from statsmodels.graphics.tsaplots import plot_acf\n",
    "\n",
    "plot_acf(data,lags=30)\n",
    "\n",
    "pyplot.show()"
   ]
  },
  {
   "cell_type": "markdown",
   "id": "b6c34cac",
   "metadata": {},
   "source": [
    "<div style=\"color:white;\n",
    "           display:fill;\n",
    "           background-color:#29285D;\n",
    "           padding: 10px;\n",
    "           font-family:Verdana;\n",
    "           letter-spacing:0.5px\">\n",
    "    <h3 style=\"color:white;padding-left:20px\"><b>Interface 👀</b></h3>\n",
    "       <p style=\"color:white;font-size:110%;padding-left:50px\">\n",
    "         Here the blue area is the confidence interval<br><br>\n",
    "            The candles started coming inside after the 20th candle. <br><br>\n",
    "            This can be due to the seasonality of 20-30 years.\n",
    "        </p>\n",
    "    </div>\n"
   ]
  },
  {
   "cell_type": "code",
   "execution_count": 18,
   "id": "5eefa127",
   "metadata": {},
   "outputs": [],
   "source": [
    "import matplotlib.pyplot as plt\n",
    "%matplotlib  inline\n",
    "from pandas import read_csv\n"
   ]
  },
  {
   "cell_type": "markdown",
   "id": "b10b1290",
   "metadata": {},
   "source": [
    "<h2 style=\"color:#DC7633;\">Testing the data set by dicky-fuller method: </h2>\n"
   ]
  },
  {
   "cell_type": "code",
   "execution_count": 19,
   "id": "520af3f1",
   "metadata": {},
   "outputs": [
    {
     "name": "stdout",
     "output_type": "stream",
     "text": [
      "1. ADF :  -0.3784627751558866\n",
      "2. P-Value :  0.9136330950336238\n",
      "3. Num Of Lags :  0\n",
      "4. Num Of Observations Used For ADF Regression and Critical Values Calculation : 214\n",
      "5. Critical Values :\n",
      "\t 1% :  -3.4612821203214907\n",
      "\t 5% :  -2.875142613826617\n",
      "\t 10% :  -2.574020122281422\n"
     ]
    }
   ],
   "source": [
    "from statsmodels.tsa.stattools import adfuller\n",
    "dftest = adfuller(data.CO2, autolag = 'AIC')\n",
    "print(\"1. ADF : \",dftest[0])\n",
    "print(\"2. P-Value : \", dftest[1])\n",
    "print(\"3. Num Of Lags : \", dftest[2])\n",
    "print(\"4. Num Of Observations Used For ADF Regression and Critical Values Calculation :\", dftest[3])\n",
    "print(\"5. Critical Values :\")\n",
    "for key, val in dftest[4].items():\n",
    "    print(\"\\t\",key, \": \", val)"
   ]
  },
  {
   "cell_type": "markdown",
   "id": "2d043d8e",
   "metadata": {},
   "source": [
    "<div style=\"color:white;\n",
    "           display:fill;\n",
    "           background-color:#29285D;\n",
    "           padding: 10px;\n",
    "           font-family:Verdana;\n",
    "           letter-spacing:0.5px\">\n",
    "    <h3 style=\"color:white;padding-left:20px\"><b>Interface 👀</b></h3>\n",
    "       <p style=\"color:white;font-size:110%;padding-left:50px\">\n",
    "         Here in the output, we can see that the p-value of the data set is more than 0.05.<br> \n",
    "            Because of this reason only,  we can interpret the data as non-stationary\n",
    "        </p>\n",
    "    </div>\n"
   ]
  },
  {
   "cell_type": "markdown",
   "id": "2fe659e5",
   "metadata": {},
   "source": [
    "<h2 style=\"color:#DC7633;\">log-transformed time-series </h2>\n"
   ]
  },
  {
   "cell_type": "code",
   "execution_count": 20,
   "id": "613bcfa5",
   "metadata": {},
   "outputs": [
    {
     "data": {
      "image/png": "[encoded data removed]",
      "text/plain": [
       "<Figure size 432x288 with 1 Axes>"
      ]
     },
     "metadata": {
      "needs_background": "light"
     },
     "output_type": "display_data"
    },
    {
     "data": {
      "image/png": "[encoded data removed]",
      "text/plain": [
       "<Figure size 432x288 with 1 Axes>"
      ]
     },
     "metadata": {
      "needs_background": "light"
     },
     "output_type": "display_data"
    }
   ],
   "source": [
    "import numpy as np\n",
    "log_data = pd.DataFrame(data.CO2.apply(lambda x : np.log(x)))\n",
    "log_diff = log_data - log_data.shift()\n",
    "#ax1 = plt.subplot()\n",
    "log_diff.plot(title='after log transformed & differencing');\n",
    "ax2 = plt.subplot()\n",
    "data.plot(title='original'); "
   ]
  },
  {
   "cell_type": "code",
   "execution_count": 21,
   "id": "9a955f9e",
   "metadata": {},
   "outputs": [
    {
     "name": "stdout",
     "output_type": "stream",
     "text": [
      "p-value : 1.2565875448384037e-23\n"
     ]
    }
   ],
   "source": [
    "test = adfuller(log_diff.dropna().CO2)\n",
    "print(\"p-value :\", test[1]) "
   ]
  },
  {
   "cell_type": "markdown",
   "id": "7810775d",
   "metadata": {},
   "source": [
    " <div style=\"color:white;\n",
    "           display:fill;\n",
    "           background-color:#29285D;\n",
    "           padding: 10px;\n",
    "           font-family:Verdana;\n",
    "           letter-spacing:0.5px\">\n",
    "    <h3 style=\"color:white;padding-left:20px\"><b>Interface 👀</b></h3>\n",
    "       <p style=\"color:white;font-size:110%;padding-left:50px\">\n",
    "        1) We try to normalize the seasonality value by the difference of log to CO2 count and shifted \n",
    "    the log value of CO2 count to one step.  <br><br>\n",
    "    2) we have got a good p-value near about 0.02 and lower than 0.05 in that we can consider over data is stationary.\n",
    "        </p>\n",
    "    </div>\n",
    "    "
   ]
  },
  {
   "cell_type": "code",
   "execution_count": null,
   "id": "c54a773a",
   "metadata": {},
   "outputs": [],
   "source": []
  },
  {
   "cell_type": "code",
   "execution_count": null,
   "id": "9f343468",
   "metadata": {},
   "outputs": [],
   "source": []
  },
  {
   "cell_type": "code",
   "execution_count": null,
   "id": "5d6c199e",
   "metadata": {},
   "outputs": [],
   "source": []
  }
 ],
 "metadata": {
  "kernelspec": {
   "display_name": "Python 3 (ipykernel)",
   "language": "python",
   "name": "python3"
  },
  "language_info": {
   "codemirror_mode": {
    "name": "ipython",
    "version": 3
   },
   "file_extension": ".py",
   "mimetype": "text/x-python",
   "name": "python",
   "nbconvert_exporter": "python",
   "pygments_lexer": "ipython3",
   "version": "3.9.7"
  }
 },
 "nbformat": 4,
 "nbformat_minor": 5
}

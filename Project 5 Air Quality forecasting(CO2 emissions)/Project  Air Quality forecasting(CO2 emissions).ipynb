{
 "cells": [
  {
   "cell_type": "markdown",
   "id": "c32458d3",
   "metadata": {},
   "source": [
    "<p style=\"font-family:verdana;color:#29285D;font-size:200%;text-align:center\"><b>🛒\n",
    "    Air Quality forecasting(CO2 emissions)  🛒<br>\n",
    "    </p> \n",
    "<p style=\"font-family:verdana;text-align:center\">***************</p>\n"
   ]
  },
  {
   "cell_type": "markdown",
   "id": "47339865",
   "metadata": {},
   "source": [
    "\n",
    "<h2 style=\"background-color:green;font-family:verdana;color:white;font-size:100%;text-align:center;border-radius:10px 10px;letter-spacing:0.5px;padding: 10px\"> Step 1 : Understand The Business Problem </h2> "
   ]
  },
  {
   "cell_type": "markdown",
   "id": "97045eb6",
   "metadata": {},
   "source": [
    "<div style=\"color:white;\n",
    "           display:fill;\n",
    "           background-color:#29285D;\n",
    "           padding: 10px;\n",
    "           font-family:Verdana;\n",
    "           letter-spacing:0.5px\">\n",
    "    <h3 style=\"color:white;padding-left:20px\"><b>Business Statement 👀</b></h3>\n",
    "       <p style=\"color:white;font-size:110%;padding-left:50px\">\n",
    "          To forecast Co2 levels for an organization so that the organization can follow government norms\n",
    "with respect to Co2 emission levels.\n",
    "        </p>\n",
    "    </div>"
   ]
  },
  {
   "cell_type": "markdown",
   "id": "74ce7c8f",
   "metadata": {},
   "source": [
    " <h2 style=\"background-color:green;font-family:verdana;color:white;font-size:100%;text-align:center;border-radius:10px 10px;letter-spacing:0.5px;padding: 10px\"> Step 2 : Load The Data </h2> "
   ]
  },
  {
   "cell_type": "code",
   "execution_count": 59,
   "id": "9553e54b",
   "metadata": {},
   "outputs": [],
   "source": [
    "#Importing libraries\n",
    "import warnings\n",
    "import numpy as np\n",
    "\n",
    "from sklearn.linear_model import LinearRegression\n",
    "from sklearn.metrics import mean_squared_error, mean_absolute_error\n",
    "\n",
    "from statsmodels.tsa.arima.model import ARIMA\n",
    "from statsmodels.tsa.stattools import adfuller, kpss \n",
    "\n",
    "import pandas as pd\n",
    "from pandas import read_csv\n",
    "from matplotlib import pyplot as plt\n",
    "\n",
    "from matplotlib import pyplot# Import libraries\n",
    "from pandas import read_csv\n",
    "from matplotlib import pyplot\n",
    "from numpy import sqrt\n",
    "import warnings\n",
    "import itertools\n",
    "import pandas as pd\n",
    "import numpy as np\n",
    "import matplotlib.pyplot as plt\n",
    "import statsmodels.api as sm\n",
    "import warnings\n",
    "warnings.filterwarnings(\"ignore\")"
   ]
  },
  {
   "cell_type": "code",
   "execution_count": 60,
   "id": "3cb911bb",
   "metadata": {},
   "outputs": [
    {
     "data": {
      "text/html": [
       "<div>\n",
       "<style scoped>\n",
       "    .dataframe tbody tr th:only-of-type {\n",
       "        vertical-align: middle;\n",
       "    }\n",
       "\n",
       "    .dataframe tbody tr th {\n",
       "        vertical-align: top;\n",
       "    }\n",
       "\n",
       "    .dataframe thead th {\n",
       "        text-align: right;\n",
       "    }\n",
       "</style>\n",
       "<table border=\"1\" class=\"dataframe\">\n",
       "  <thead>\n",
       "    <tr style=\"text-align: right;\">\n",
       "      <th></th>\n",
       "      <th>Year</th>\n",
       "      <th>CO2</th>\n",
       "    </tr>\n",
       "  </thead>\n",
       "  <tbody>\n",
       "    <tr>\n",
       "      <th>0</th>\n",
       "      <td>1800.0</td>\n",
       "      <td>0.00568</td>\n",
       "    </tr>\n",
       "    <tr>\n",
       "      <th>1</th>\n",
       "      <td>1801.0</td>\n",
       "      <td>0.00561</td>\n",
       "    </tr>\n",
       "    <tr>\n",
       "      <th>2</th>\n",
       "      <td>1802.0</td>\n",
       "      <td>0.00555</td>\n",
       "    </tr>\n",
       "    <tr>\n",
       "      <th>3</th>\n",
       "      <td>1803.0</td>\n",
       "      <td>0.00548</td>\n",
       "    </tr>\n",
       "    <tr>\n",
       "      <th>4</th>\n",
       "      <td>1804.0</td>\n",
       "      <td>0.00542</td>\n",
       "    </tr>\n",
       "  </tbody>\n",
       "</table>\n",
       "</div>"
      ],
      "text/plain": [
       "     Year      CO2\n",
       "0  1800.0  0.00568\n",
       "1  1801.0  0.00561\n",
       "2  1802.0  0.00555\n",
       "3  1803.0  0.00548\n",
       "4  1804.0  0.00542"
      ]
     },
     "execution_count": 60,
     "metadata": {},
     "output_type": "execute_result"
    }
   ],
   "source": [
    "#Import the data\n",
    "data = pd.read_excel('CO2 dataset.xlsx')\n",
    "data.head()                   # will show 1st 5 rows only"
   ]
  },
  {
   "cell_type": "markdown",
   "id": "83bc5bf7",
   "metadata": {},
   "source": [
    "<h2 style=\"background-color:green;font-family:verdana;color:white;font-size:100%;text-align:center;border-radius:10px 10px;letter-spacing:0.5px;padding: 10px\"> Step 3: EDA and Visualization </h2> "
   ]
  },
  {
   "cell_type": "code",
   "execution_count": 61,
   "id": "6a32bcde",
   "metadata": {},
   "outputs": [
    {
     "data": {
      "text/plain": [
       "(215, 2)"
      ]
     },
     "execution_count": 61,
     "metadata": {},
     "output_type": "execute_result"
    }
   ],
   "source": [
    "data.shape  # will show rows and columns"
   ]
  },
  {
   "cell_type": "code",
   "execution_count": 62,
   "id": "de47bf97",
   "metadata": {},
   "outputs": [
    {
     "data": {
      "text/plain": [
       "Year    0\n",
       "CO2     0\n",
       "dtype: int64"
      ]
     },
     "execution_count": 62,
     "metadata": {},
     "output_type": "execute_result"
    }
   ],
   "source": [
    "data.isnull().sum()          # This functin will show the total null values in our data"
   ]
  },
  {
   "cell_type": "code",
   "execution_count": 63,
   "id": "45d32e68",
   "metadata": {},
   "outputs": [
    {
     "name": "stdout",
     "output_type": "stream",
     "text": [
      "<class 'pandas.core.frame.DataFrame'>\n",
      "RangeIndex: 215 entries, 0 to 214\n",
      "Data columns (total 2 columns):\n",
      " #   Column  Non-Null Count  Dtype  \n",
      "---  ------  --------------  -----  \n",
      " 0   Year    215 non-null    float64\n",
      " 1   CO2     215 non-null    float64\n",
      "dtypes: float64(2)\n",
      "memory usage: 3.4 KB\n"
     ]
    }
   ],
   "source": [
    "data.info()             # this function will show the all information about the data"
   ]
  },
  {
   "cell_type": "code",
   "execution_count": 64,
   "id": "6ef96b5a",
   "metadata": {},
   "outputs": [
    {
     "data": {
      "text/html": [
       "<div>\n",
       "<style scoped>\n",
       "    .dataframe tbody tr th:only-of-type {\n",
       "        vertical-align: middle;\n",
       "    }\n",
       "\n",
       "    .dataframe tbody tr th {\n",
       "        vertical-align: top;\n",
       "    }\n",
       "\n",
       "    .dataframe thead th {\n",
       "        text-align: right;\n",
       "    }\n",
       "</style>\n",
       "<table border=\"1\" class=\"dataframe\">\n",
       "  <thead>\n",
       "    <tr style=\"text-align: right;\">\n",
       "      <th></th>\n",
       "      <th>Year</th>\n",
       "      <th>CO2</th>\n",
       "    </tr>\n",
       "  </thead>\n",
       "  <tbody>\n",
       "    <tr>\n",
       "      <th>count</th>\n",
       "      <td>215.000000</td>\n",
       "      <td>215.000000</td>\n",
       "    </tr>\n",
       "    <tr>\n",
       "      <th>mean</th>\n",
       "      <td>1907.000000</td>\n",
       "      <td>6.741970</td>\n",
       "    </tr>\n",
       "    <tr>\n",
       "      <th>std</th>\n",
       "      <td>62.209324</td>\n",
       "      <td>6.522437</td>\n",
       "    </tr>\n",
       "    <tr>\n",
       "      <th>min</th>\n",
       "      <td>1800.000000</td>\n",
       "      <td>0.001750</td>\n",
       "    </tr>\n",
       "    <tr>\n",
       "      <th>25%</th>\n",
       "      <td>1853.500000</td>\n",
       "      <td>0.041050</td>\n",
       "    </tr>\n",
       "    <tr>\n",
       "      <th>50%</th>\n",
       "      <td>1907.000000</td>\n",
       "      <td>6.390000</td>\n",
       "    </tr>\n",
       "    <tr>\n",
       "      <th>75%</th>\n",
       "      <td>1960.500000</td>\n",
       "      <td>11.500000</td>\n",
       "    </tr>\n",
       "    <tr>\n",
       "      <th>max</th>\n",
       "      <td>2014.000000</td>\n",
       "      <td>18.200000</td>\n",
       "    </tr>\n",
       "  </tbody>\n",
       "</table>\n",
       "</div>"
      ],
      "text/plain": [
       "              Year         CO2\n",
       "count   215.000000  215.000000\n",
       "mean   1907.000000    6.741970\n",
       "std      62.209324    6.522437\n",
       "min    1800.000000    0.001750\n",
       "25%    1853.500000    0.041050\n",
       "50%    1907.000000    6.390000\n",
       "75%    1960.500000   11.500000\n",
       "max    2014.000000   18.200000"
      ]
     },
     "execution_count": 64,
     "metadata": {},
     "output_type": "execute_result"
    }
   ],
   "source": [
    "data.describe()          # This function will describe the data"
   ]
  },
  {
   "cell_type": "code",
   "execution_count": 65,
   "id": "19756486",
   "metadata": {},
   "outputs": [
    {
     "data": {
      "text/plain": [
       "Year    0.000000\n",
       "CO2     0.362736\n",
       "dtype: float64"
      ]
     },
     "execution_count": 65,
     "metadata": {},
     "output_type": "execute_result"
    }
   ],
   "source": [
    "data.skew()  # positively skewed"
   ]
  },
  {
   "cell_type": "code",
   "execution_count": 66,
   "id": "29078203",
   "metadata": {},
   "outputs": [
    {
     "data": {
      "text/plain": [
       "80"
      ]
     },
     "execution_count": 66,
     "metadata": {},
     "output_type": "execute_result"
    }
   ],
   "source": [
    "len(data[data['CO2']<1]) # 37% CO2 values are less then 1 "
   ]
  },
  {
   "cell_type": "code",
   "execution_count": 67,
   "id": "d7355c6e",
   "metadata": {},
   "outputs": [
    {
     "data": {
      "text/html": [
       "<div>\n",
       "<style scoped>\n",
       "    .dataframe tbody tr th:only-of-type {\n",
       "        vertical-align: middle;\n",
       "    }\n",
       "\n",
       "    .dataframe tbody tr th {\n",
       "        vertical-align: top;\n",
       "    }\n",
       "\n",
       "    .dataframe thead th {\n",
       "        text-align: right;\n",
       "    }\n",
       "</style>\n",
       "<table border=\"1\" class=\"dataframe\">\n",
       "  <thead>\n",
       "    <tr style=\"text-align: right;\">\n",
       "      <th></th>\n",
       "      <th>Year</th>\n",
       "      <th>CO2</th>\n",
       "    </tr>\n",
       "  </thead>\n",
       "  <tbody>\n",
       "    <tr>\n",
       "      <th>179</th>\n",
       "      <td>1979.0</td>\n",
       "      <td>18.2</td>\n",
       "    </tr>\n",
       "  </tbody>\n",
       "</table>\n",
       "</div>"
      ],
      "text/plain": [
       "       Year   CO2\n",
       "179  1979.0  18.2"
      ]
     },
     "execution_count": 67,
     "metadata": {},
     "output_type": "execute_result"
    }
   ],
   "source": [
    "data[data['CO2'] == data['CO2'].max()]\n"
   ]
  },
  {
   "cell_type": "code",
   "execution_count": 68,
   "id": "44063281",
   "metadata": {},
   "outputs": [
    {
     "data": {
      "text/html": [
       "<div>\n",
       "<style scoped>\n",
       "    .dataframe tbody tr th:only-of-type {\n",
       "        vertical-align: middle;\n",
       "    }\n",
       "\n",
       "    .dataframe tbody tr th {\n",
       "        vertical-align: top;\n",
       "    }\n",
       "\n",
       "    .dataframe thead th {\n",
       "        text-align: right;\n",
       "    }\n",
       "</style>\n",
       "<table border=\"1\" class=\"dataframe\">\n",
       "  <thead>\n",
       "    <tr style=\"text-align: right;\">\n",
       "      <th></th>\n",
       "      <th>Year</th>\n",
       "      <th>CO2</th>\n",
       "    </tr>\n",
       "  </thead>\n",
       "  <tbody>\n",
       "  </tbody>\n",
       "</table>\n",
       "</div>"
      ],
      "text/plain": [
       "Empty DataFrame\n",
       "Columns: [Year, CO2]\n",
       "Index: []"
      ]
     },
     "execution_count": 68,
     "metadata": {},
     "output_type": "execute_result"
    }
   ],
   "source": [
    "data[data.duplicated()]              # No duplicated data present in ur dataset"
   ]
  },
  {
   "cell_type": "code",
   "execution_count": 69,
   "id": "dea34b6c",
   "metadata": {},
   "outputs": [
    {
     "data": {
      "text/html": [
       "<div>\n",
       "<style scoped>\n",
       "    .dataframe tbody tr th:only-of-type {\n",
       "        vertical-align: middle;\n",
       "    }\n",
       "\n",
       "    .dataframe tbody tr th {\n",
       "        vertical-align: top;\n",
       "    }\n",
       "\n",
       "    .dataframe thead th {\n",
       "        text-align: right;\n",
       "    }\n",
       "</style>\n",
       "<table border=\"1\" class=\"dataframe\">\n",
       "  <thead>\n",
       "    <tr style=\"text-align: right;\">\n",
       "      <th></th>\n",
       "      <th>Year</th>\n",
       "      <th>CO2</th>\n",
       "    </tr>\n",
       "  </thead>\n",
       "  <tbody>\n",
       "    <tr>\n",
       "      <th>0</th>\n",
       "      <td>1800</td>\n",
       "      <td>0.00568</td>\n",
       "    </tr>\n",
       "    <tr>\n",
       "      <th>1</th>\n",
       "      <td>1801</td>\n",
       "      <td>0.00561</td>\n",
       "    </tr>\n",
       "    <tr>\n",
       "      <th>2</th>\n",
       "      <td>1802</td>\n",
       "      <td>0.00555</td>\n",
       "    </tr>\n",
       "    <tr>\n",
       "      <th>3</th>\n",
       "      <td>1803</td>\n",
       "      <td>0.00548</td>\n",
       "    </tr>\n",
       "    <tr>\n",
       "      <th>4</th>\n",
       "      <td>1804</td>\n",
       "      <td>0.00542</td>\n",
       "    </tr>\n",
       "    <tr>\n",
       "      <th>...</th>\n",
       "      <td>...</td>\n",
       "      <td>...</td>\n",
       "    </tr>\n",
       "    <tr>\n",
       "      <th>210</th>\n",
       "      <td>2010</td>\n",
       "      <td>15.60000</td>\n",
       "    </tr>\n",
       "    <tr>\n",
       "      <th>211</th>\n",
       "      <td>2011</td>\n",
       "      <td>15.60000</td>\n",
       "    </tr>\n",
       "    <tr>\n",
       "      <th>212</th>\n",
       "      <td>2012</td>\n",
       "      <td>14.80000</td>\n",
       "    </tr>\n",
       "    <tr>\n",
       "      <th>213</th>\n",
       "      <td>2013</td>\n",
       "      <td>14.70000</td>\n",
       "    </tr>\n",
       "    <tr>\n",
       "      <th>214</th>\n",
       "      <td>2014</td>\n",
       "      <td>15.10000</td>\n",
       "    </tr>\n",
       "  </tbody>\n",
       "</table>\n",
       "<p>215 rows × 2 columns</p>\n",
       "</div>"
      ],
      "text/plain": [
       "     Year       CO2\n",
       "0    1800   0.00568\n",
       "1    1801   0.00561\n",
       "2    1802   0.00555\n",
       "3    1803   0.00548\n",
       "4    1804   0.00542\n",
       "..    ...       ...\n",
       "210  2010  15.60000\n",
       "211  2011  15.60000\n",
       "212  2012  14.80000\n",
       "213  2013  14.70000\n",
       "214  2014  15.10000\n",
       "\n",
       "[215 rows x 2 columns]"
      ]
     },
     "execution_count": 69,
     "metadata": {},
     "output_type": "execute_result"
    }
   ],
   "source": [
    "data['Year'] = data['Year'].astype(int)      #convert the year column from float to int\n",
    "data"
   ]
  },
  {
   "cell_type": "markdown",
   "id": "b48b420d",
   "metadata": {},
   "source": [
    "<h2 style=\"color:#DC7633;\">Visualization </h2>\n"
   ]
  },
  {
   "cell_type": "code",
   "execution_count": 70,
   "id": "81779a34",
   "metadata": {},
   "outputs": [
    {
     "data": {
      "text/html": [
       "<div>\n",
       "<style scoped>\n",
       "    .dataframe tbody tr th:only-of-type {\n",
       "        vertical-align: middle;\n",
       "    }\n",
       "\n",
       "    .dataframe tbody tr th {\n",
       "        vertical-align: top;\n",
       "    }\n",
       "\n",
       "    .dataframe thead th {\n",
       "        text-align: right;\n",
       "    }\n",
       "</style>\n",
       "<table border=\"1\" class=\"dataframe\">\n",
       "  <thead>\n",
       "    <tr style=\"text-align: right;\">\n",
       "      <th></th>\n",
       "      <th>CO2</th>\n",
       "    </tr>\n",
       "    <tr>\n",
       "      <th>Year</th>\n",
       "      <th></th>\n",
       "    </tr>\n",
       "  </thead>\n",
       "  <tbody>\n",
       "    <tr>\n",
       "      <th>1800-01-01</th>\n",
       "      <td>0.00568</td>\n",
       "    </tr>\n",
       "    <tr>\n",
       "      <th>1801-01-01</th>\n",
       "      <td>0.00561</td>\n",
       "    </tr>\n",
       "    <tr>\n",
       "      <th>1802-01-01</th>\n",
       "      <td>0.00555</td>\n",
       "    </tr>\n",
       "    <tr>\n",
       "      <th>1803-01-01</th>\n",
       "      <td>0.00548</td>\n",
       "    </tr>\n",
       "    <tr>\n",
       "      <th>1804-01-01</th>\n",
       "      <td>0.00542</td>\n",
       "    </tr>\n",
       "  </tbody>\n",
       "</table>\n",
       "</div>"
      ],
      "text/plain": [
       "                CO2\n",
       "Year               \n",
       "1800-01-01  0.00568\n",
       "1801-01-01  0.00561\n",
       "1802-01-01  0.00555\n",
       "1803-01-01  0.00548\n",
       "1804-01-01  0.00542"
      ]
     },
     "execution_count": 70,
     "metadata": {},
     "output_type": "execute_result"
    }
   ],
   "source": [
    "\n",
    "data.index = pd.to_datetime(data['Year'], format='%Y')\n",
    "data.drop('Year',axis=1, inplace=True)\n",
    "data.head()\n"
   ]
  },
  {
   "cell_type": "markdown",
   "id": "fd0a183b",
   "metadata": {},
   "source": [
    "##### <h2 style=\"color:#DC7633;\">Density Plot</h2>\n"
   ]
  },
  {
   "cell_type": "code",
   "execution_count": 71,
   "id": "c13dab79",
   "metadata": {},
   "outputs": [
    {
     "data": {
      "image/png": "[encoded data removed]",
      "text/plain": [
       "<Figure size 432x288 with 1 Axes>"
      ]
     },
     "metadata": {
      "needs_background": "light"
     },
     "output_type": "display_data"
    }
   ],
   "source": [
    "data.plot(kind='kde')\n",
    "pyplot.show()"
   ]
  },
  {
   "cell_type": "markdown",
   "id": "198b4e90",
   "metadata": {},
   "source": [
    "5 <h2 style=\"color:#DC7633;\">Histogram</h2>\n"
   ]
  },
  {
   "cell_type": "code",
   "execution_count": 72,
   "id": "11f453ae",
   "metadata": {},
   "outputs": [
    {
     "data": {
      "text/plain": [
       "array([[<AxesSubplot:title={'center':'CO2'}>]], dtype=object)"
      ]
     },
     "execution_count": 72,
     "metadata": {},
     "output_type": "execute_result"
    },
    {
     "data": {
      "image/png": "[encoded data removed]",
      "text/plain": [
       "<Figure size 432x288 with 1 Axes>"
      ]
     },
     "metadata": {
      "needs_background": "light"
     },
     "output_type": "display_data"
    }
   ],
   "source": [
    " data.hist()\n",
    "\n"
   ]
  },
  {
   "cell_type": "code",
   "execution_count": 73,
   "id": "ee2ce074",
   "metadata": {},
   "outputs": [
    {
     "data": {
      "text/plain": [
       "<AxesSubplot:ylabel='Count'>"
      ]
     },
     "execution_count": 73,
     "metadata": {},
     "output_type": "execute_result"
    },
    {
     "data": {
      "image/png": "[encoded data removed]",
      "text/plain": [
       "<Figure size 432x288 with 1 Axes>"
      ]
     },
     "metadata": {
      "needs_background": "light"
     },
     "output_type": "display_data"
    }
   ],
   "source": [
    " import seaborn as sns\n",
    "sns.histplot(data) \n"
   ]
  },
  {
   "cell_type": "markdown",
   "id": "492b87a7",
   "metadata": {},
   "source": [
    "<h2 style=\"color:#DC7633;\">Line plot</h2>\n"
   ]
  },
  {
   "cell_type": "code",
   "execution_count": 74,
   "id": "a8b5ffa5",
   "metadata": {},
   "outputs": [
    {
     "data": {
      "text/plain": [
       "<AxesSubplot:xlabel='Year'>"
      ]
     },
     "execution_count": 74,
     "metadata": {},
     "output_type": "execute_result"
    },
    {
     "data": {
      "image/png": "[encoded data removed]",
      "text/plain": [
       "<Figure size 432x288 with 1 Axes>"
      ]
     },
     "metadata": {
      "needs_background": "light"
     },
     "output_type": "display_data"
    }
   ],
   "source": [
    "data.plot()              # we can see there is a upword trend in plot"
   ]
  },
  {
   "cell_type": "markdown",
   "id": "fada4f66",
   "metadata": {},
   "source": [
    "<h2 style=\"color:#DC7633;\">Box Plot</h2>\n"
   ]
  },
  {
   "cell_type": "code",
   "execution_count": 75,
   "id": "4bbc9eaa",
   "metadata": {},
   "outputs": [
    {
     "data": {
      "text/plain": [
       "<AxesSubplot:xlabel='CO2'>"
      ]
     },
     "execution_count": 75,
     "metadata": {},
     "output_type": "execute_result"
    },
    {
     "data": {
      "image/png": "[encoded data removed]",
      "text/plain": [
       "<Figure size 1008x144 with 1 Axes>"
      ]
     },
     "metadata": {
      "needs_background": "light"
     },
     "output_type": "display_data"
    }
   ],
   "source": [
    "# Boxplot for ever\n",
    "import seaborn as sns\n",
    "plt.figure(figsize=(14,2))\n",
    "sns.boxplot(x = data['CO2'], palette='Pastel1')"
   ]
  },
  {
   "cell_type": "markdown",
   "id": "065ff183",
   "metadata": {},
   "source": [
    "<h2 style=\"color:#DC7633;\">Lag Plot</h2>\n"
   ]
  },
  {
   "cell_type": "code",
   "execution_count": 76,
   "id": "ad496197",
   "metadata": {},
   "outputs": [
    {
     "data": {
      "image/png": "[encoded data removed]",
      "text/plain": [
       "<Figure size 432x288 with 1 Axes>"
      ]
     },
     "metadata": {
      "needs_background": "light"
     },
     "output_type": "display_data"
    }
   ],
   "source": [
    "from pandas.plotting import lag_plot\n",
    "from matplotlib import pyplot\n",
    "lag_plot(data)\n",
    "pyplot.show()                  # data is linear"
   ]
  },
  {
   "cell_type": "markdown",
   "id": "1e5dc6e2",
   "metadata": {},
   "source": [
    "<div style=\"color:white;\n",
    "           display:fill;\n",
    "           background-color:#29285D;\n",
    "           padding: 10px;\n",
    "           font-family:Verdana;\n",
    "           letter-spacing:0.5px\">\n",
    "    <h3 style=\"color:white;padding-left:20px\"><b>Interface 👀</b></h3>\n",
    "       <p style=\"color:white;font-size:110%;padding-left:50px\">\n",
    "         1) After the total observation we can see the trend of our data and we have higher rate between -5 to +5<br><br>\n",
    "          2) There is trend in ur data because after some perid its going high suddenly and its moving up direction<br><br>\n",
    "           3) The Data is linear we can see using log plot\n",
    "        </p>\n",
    "    </div>"
   ]
  },
  {
   "cell_type": "markdown",
   "id": "3110bc6b",
   "metadata": {},
   "source": [
    "\n",
    "\n",
    "<h2 style=\"color:#DC7633;\">seasonal_decomposet</h2>\n"
   ]
  },
  {
   "cell_type": "code",
   "execution_count": 77,
   "id": "59bde68c",
   "metadata": {},
   "outputs": [
    {
     "data": {
      "image/png": "[encoded data removed]",
      "text/plain": [
       "<Figure size 432x288 with 4 Axes>"
      ]
     },
     "metadata": {
      "needs_background": "light"
     },
     "output_type": "display_data"
    }
   ],
   "source": [
    "import matplotlib.pyplot as plt\n",
    "from statsmodels.tsa.seasonal import seasonal_decompose\n",
    "\n",
    "decompose_ts_add = seasonal_decompose(data.CO2,period=12)\n",
    "decompose_ts_add.plot()\n",
    "plt.show()"
   ]
  },
  {
   "cell_type": "code",
   "execution_count": 78,
   "id": "54607d83",
   "metadata": {},
   "outputs": [
    {
     "data": {
      "text/plain": [
       "<AxesSubplot:xlabel='Year'>"
      ]
     },
     "execution_count": 78,
     "metadata": {},
     "output_type": "execute_result"
    },
    {
     "data": {
      "image/png": "[encoded data removed]",
      "text/plain": [
       "<Figure size 432x288 with 1 Axes>"
      ]
     },
     "metadata": {
      "needs_background": "light"
     },
     "output_type": "display_data"
    }
   ],
   "source": [
    "seasonality=decompose_ts_add.seasonal\n",
    "seasonality.plot(color='green')"
   ]
  },
  {
   "cell_type": "markdown",
   "id": "a506fbe7",
   "metadata": {},
   "source": [
    " <div style=\"color:white;\n",
    "           display:fill;\n",
    "           background-color:#29285D;\n",
    "           padding: 10px;\n",
    "           font-family:Verdana;\n",
    "           letter-spacing:0.5px\">\n",
    "    <h3 style=\"color:white;padding-left:20px\"><b>Interface 👀</b></h3>\n",
    "       <p style=\"color:white;font-size:110%;padding-left:50px\">\n",
    "         1) In the seasonality graph, we can see the seasonality structure for every year, which is cyclic and repeatedly providing the same value. <br><br>\n",
    "  2) To check for the stationarity of the time series, statsmodels provides a plot_acf method to plot an              autocorrelation plot.<br>\n",
    "        </p>\n",
    "    </div>"
   ]
  },
  {
   "cell_type": "markdown",
   "id": "f87159f7",
   "metadata": {},
   "source": [
    "<h2 style=\"color:#DC7633;\">ACF Plot</h2>\n"
   ]
  },
  {
   "cell_type": "code",
   "execution_count": 79,
   "id": "52e66932",
   "metadata": {},
   "outputs": [
    {
     "data": {
      "image/png": "[encoded data removed]",
      "text/plain": [
       "<Figure size 432x288 with 1 Axes>"
      ]
     },
     "metadata": {
      "needs_background": "light"
     },
     "output_type": "display_data"
    },
    {
     "data": {
      "image/png": "[encoded data removed]",
      "text/plain": [
       "<Figure size 432x288 with 1 Axes>"
      ]
     },
     "metadata": {
      "needs_background": "light"
     },
     "output_type": "display_data"
    }
   ],
   "source": [
    "#To check for the stationarity of the time series, statsmodels provides a plot_acf method to plot an autocorrelation plot.\n",
    "# It will check the correlation between previous data \n",
    "from statsmodels.graphics.tsaplots import plot_acf\n",
    "from statsmodels.graphics.tsaplots import plot_pacf\n",
    "\n",
    "plot_acf(data,lags=30)\n",
    "plot_pacf(data)\n",
    "pyplot.show()"
   ]
  },
  {
   "cell_type": "markdown",
   "id": "e1e62983",
   "metadata": {},
   "source": [
    " <div style=\"color:white;\n",
    "           display:fill;\n",
    "           background-color:#29285D;\n",
    "           padding: 10px;\n",
    "           font-family:Verdana;\n",
    "           letter-spacing:0.5px\">\n",
    "    <h3 style=\"color:white;padding-left:20px\"><b>Interface 👀</b></h3>\n",
    "       <p style=\"color:white;font-size:110%;padding-left:50px\">\n",
    "        1)  Here the blue area is the confidence interval<br><br>\n",
    "         2) Each candle is present on previous or historical data it means if we know the historical/Past year CO2 then we             can forecast next year CO2 <br><br>\n",
    "           3) There are strongly psitive correlation \n",
    "    </p>\n",
    "    </div>\n"
   ]
  },
  {
   "cell_type": "markdown",
   "id": "2a0a9b5f",
   "metadata": {},
   "source": [
    " <h2 style=\"background-color:green;font-family:verdana;color:white;font-size:100%;text-align:center;border-radius:10px 10px;letter-spacing:0.5px;padding: 10px\"> Step 4 : Pre-Process Data </h2> "
   ]
  },
  {
   "cell_type": "markdown",
   "id": "8bf2bacd",
   "metadata": {},
   "source": [
    "<h3 style=\"color:orange;\">Stationary data means? </h3>\n",
    "\n",
    "1) constant mean\n",
    "\n",
    "2) constant variance\n",
    "\n",
    "3) constant covariance (uncorrelated)\n",
    "\n",
    "We verify this by observing change in mean, variance, autocorrelation and with a statistical test (ADFuller test)\n",
    "\n",
    "\n",
    " <h3 style=\"color:green;\">Following are the Techniques to check data is stationary or not ?</h3>\n",
    "\n",
    "1) Augmented Dickey-fuller test\n",
    "\n",
    "2) Kwiatkowski-Phillips-Schmidt-Shin (KPSS)\n",
    "\n",
    "3) Rolling Statistics\n"
   ]
  },
  {
   "cell_type": "markdown",
   "id": "10febba8",
   "metadata": {},
   "source": [
    "<h3 style=\"color:blue;\">1) Augmented Dickey-fuller test or not? </h3>\n"
   ]
  },
  {
   "cell_type": "code",
   "execution_count": 80,
   "id": "04bf1d25",
   "metadata": {},
   "outputs": [
    {
     "name": "stdout",
     "output_type": "stream",
     "text": [
      "Observations of Dickey-fuller test\n",
      "\n",
      " > Is the de-trended data stationary ?\n",
      "Test statistic = -0.378\n",
      "P-value = 0.914\n",
      "Critical values :\n",
      "\t1%: -3.4612821203214907 - The data is not stationary with 99% confidence\n",
      "\t5%: -2.875142613826617 - The data is not stationary with 95% confidence\n",
      "\t10%: -2.574020122281422 - The data is not stationary with 90% confidence\n"
     ]
    }
   ],
   "source": [
    "from statsmodels.tsa.stattools import adfuller\n",
    "print(\"Observations of Dickey-fuller test\")\n",
    "\n",
    "\n",
    "print(\"\\n > Is the de-trended data stationary ?\")\n",
    "dftest = adfuller(data['CO2'].dropna(), autolag='AIC')\n",
    "print(\"Test statistic = {:.3f}\".format(dftest[0]))\n",
    "print(\"P-value = {:.3f}\".format(dftest[1]))\n",
    "print(\"Critical values :\")\n",
    "for k, v in dftest[4].items():\n",
    "    print(\"\\t{}: {} - The data is {} stationary with {}% confidence\".format(k, v, \"not\" if v<dftest[0] else \"\", 100-int(k[:-1])))\n",
    "    "
   ]
  },
  {
   "cell_type": "markdown",
   "id": "f91ab951",
   "metadata": {},
   "source": [
    " <div style=\"color:white;\n",
    "           display:fill;\n",
    "           background-color:#29285D;\n",
    "           padding: 10px;\n",
    "           font-family:Verdana;\n",
    "           letter-spacing:0.5px\">\n",
    "    <h3 style=\"color:white;padding-left:20px\"><b>Interface 👀</b></h3>\n",
    "       <p style=\"color:white;font-size:110%;padding-left:50px\">\n",
    "        Augmented Dicky Fuller test is a statistical test for stionarity.<br> \n",
    "        If the p value is less than 0.05, the series is stationary, otherwise non-stationary. \n",
    "    </p>\n",
    "    </div>"
   ]
  },
  {
   "cell_type": "markdown",
   "id": "0b8fda67",
   "metadata": {},
   "source": [
    "<h3 style=\"color:blue;\">2) Kwiatkowski-Phillips-Schmidt-Shin (KPSS) or not? </h3>\n"
   ]
  },
  {
   "cell_type": "code",
   "execution_count": 81,
   "id": "3562eb6b",
   "metadata": {},
   "outputs": [
    {
     "name": "stdout",
     "output_type": "stream",
     "text": [
      "Test Statistic: 0.220000\n",
      "p-value: 0.010000\n",
      "Critical values:\n",
      "\t10%: 0.119\n",
      "\t5%: 0.146\n",
      "\t2.5%: 0.176\n",
      "\t1%: 0.216\n"
     ]
    }
   ],
   "source": [
    "result_kpss_ct_log=kpss(data['CO2'],regression=\"ct\")\n",
    "print('Test Statistic: %f' % np.round(result_kpss_ct_log[0],2))\n",
    "print('p-value: %f' %result_kpss_ct_log[1])\n",
    "print('Critical values:')\n",
    "for key, value in result_kpss_ct_log[3].items():\n",
    "     print('\\t%s: %.3f' %(key, value))"
   ]
  },
  {
   "cell_type": "markdown",
   "id": "9cfa76d7",
   "metadata": {},
   "source": [
    "<div style=\"color:white;\n",
    "           display:fill;\n",
    "           background-color:#29285D;\n",
    "           padding: 10px;\n",
    "           font-family:Verdana;\n",
    "           letter-spacing:0.5px\">\n",
    "    <h3 style=\"color:white;padding-left:20px\"><b>Interface 👀</b></h3>\n",
    "       <p style=\"color:white;font-size:110%;padding-left:50px\">\n",
    "         If the p-value is less than a predefined alpha level (typically 0.05), we reject the null hypothesis.      \n",
    "    </p>\n",
    "    </div>"
   ]
  },
  {
   "cell_type": "markdown",
   "id": "6c9d3461",
   "metadata": {},
   "source": [
    " <h3 style=\"color:blue;\">3) Rolling Statistics Test</h3>\n"
   ]
  },
  {
   "cell_type": "code",
   "execution_count": 82,
   "id": "b298a5ac",
   "metadata": {},
   "outputs": [
    {
     "data": {
      "image/png": "[encoded data removed]",
      "text/plain": [
       "<Figure size 432x288 with 1 Axes>"
      ]
     },
     "metadata": {
      "needs_background": "light"
     },
     "output_type": "display_data"
    }
   ],
   "source": [
    "rmean=data.rolling(window=12).mean()\n",
    "rstd=data.rolling(window=12).std()\n",
    "#print(rmean,rstd)\n",
    "orig=plt.plot(data , color='black',label='Original')\n",
    "mean= plt.plot(rmean , color='red',label='Rolling Mean')\n",
    "std=plt.plot(rstd,color='blue',label = 'Rolling Standard Deviation')\n",
    "plt.legend(loc='best')\n",
    "plt.title(\"Rolling mean and standard deviation\")\n",
    "plt.show(block=False)"
   ]
  },
  {
   "cell_type": "markdown",
   "id": "bb42c9b9",
   "metadata": {},
   "source": [
    "<div style=\"color:white;\n",
    "           display:fill;\n",
    "           background-color:#29285D;\n",
    "           padding: 10px;\n",
    "           font-family:Verdana;\n",
    "           letter-spacing:0.5px\">\n",
    "    <h3 style=\"color:white;padding-left:20px\"><b>Interface 👀</b></h3>\n",
    "       <p style=\"color:white;font-size:110%;padding-left:50px\">\n",
    "        In this graph we can see mean and variance is not constant so we can say our data is non stationary \n",
    "    </p>\n",
    "    </div>"
   ]
  },
  {
   "cell_type": "markdown",
   "id": "9593b878",
   "metadata": {},
   "source": [
    "  <h2 style=\"color:Orange;\">    Making Time Series Stationary Test</h2>\n",
    "<h3 style=\"color:Green;\">    Differencing Test</h3>\n",
    "<h4 style=\"color:blue;\">  First  Differencing Test</h4>\n"
   ]
  },
  {
   "cell_type": "code",
   "execution_count": 83,
   "id": "6fa870f5",
   "metadata": {},
   "outputs": [
    {
     "data": {
      "text/plain": [
       "[<matplotlib.lines.Line2D at 0xad0148>]"
      ]
     },
     "execution_count": 83,
     "metadata": {},
     "output_type": "execute_result"
    },
    {
     "data": {
      "image/png": "[encoded data removed]",
      "text/plain": [
       "<Figure size 432x288 with 1 Axes>"
      ]
     },
     "metadata": {
      "needs_background": "light"
     },
     "output_type": "display_data"
    }
   ],
   "source": [
    "import numpy as np\n",
    "\n",
    " # making the data stationary\n",
    "#data['First Difference'] = data['CO2'] - data['CO2'].shift(1)\n",
    "#plt.plot(data['First Difference'])\n",
    "#data1=data.copy()\n",
    "data['First Difference'] = data['CO2'] - data['CO2'].shift(1)\n",
    "plt.plot(data['First Difference'])"
   ]
  },
  {
   "cell_type": "code",
   "execution_count": 84,
   "id": "99b75145",
   "metadata": {},
   "outputs": [
    {
     "data": {
      "image/png": "[encoded data removed]",
      "text/plain": [
       "<Figure size 432x288 with 1 Axes>"
      ]
     },
     "metadata": {
      "needs_background": "light"
     },
     "output_type": "display_data"
    }
   ],
   "source": [
    "rmean=data['First Difference'].rolling(window=12).mean()\n",
    "rstd=data['First Difference'].rolling(window=12).std()\n",
    "#print(rmean,rstd)\n",
    "orig=plt.plot(data['First Difference'] , color='black',label='Original')\n",
    "mean= plt.plot(rmean , color='red',label='Rolling Mean')\n",
    "std=plt.plot(rstd,color='blue',label = 'Rolling Standard Deviation')\n",
    "plt.legend(loc='best')\n",
    "plt.title(\"Rolling mean and standard deviation\")\n",
    "plt.show(block=False)"
   ]
  },
  {
   "cell_type": "code",
   "execution_count": 85,
   "id": "7ad6d43a",
   "metadata": {},
   "outputs": [
    {
     "name": "stdout",
     "output_type": "stream",
     "text": [
      " > Is the data stationary ?\n",
      "Test statistic = -3.780\n",
      "P-value = 0.003\n",
      "Critical values :\n",
      "\t1%: -3.4638151713286316 - The data is  stationary with 99% confidence\n",
      "\t5%: -2.876250632135043 - The data is  stationary with 95% confidence\n",
      "\t10%: -2.574611347821651 - The data is  stationary with 90% confidence\n"
     ]
    }
   ],
   "source": [
    "from statsmodels.tsa.stattools import adfuller\n",
    "\n",
    "print(\" > Is the data stationary ?\")\n",
    "dftest = adfuller(data['First Difference'].dropna(),autolag='AIC')\n",
    "print(\"Test statistic = {:.3f}\".format(dftest[0]))\n",
    "print(\"P-value = {:.3f}\".format(dftest[1]))\n",
    "print(\"Critical values :\")\n",
    "for k, v in dftest[4].items():\n",
    "    print(\"\\t{}: {} - The data is {} stationary with {}% confidence\".format(k, v, \"not\" if v<dftest[0] else \"\", 100-int(k[:-1])))\n",
    "    "
   ]
  },
  {
   "cell_type": "code",
   "execution_count": 86,
   "id": "dab14fbe",
   "metadata": {},
   "outputs": [
    {
     "name": "stdout",
     "output_type": "stream",
     "text": [
      "Test Statistic: 0.110000\n",
      "p-value: 0.100000\n",
      "Critical values:\n",
      "\t10%: 0.119\n",
      "\t5%: 0.146\n",
      "\t2.5%: 0.176\n",
      "\t1%: 0.216\n"
     ]
    }
   ],
   "source": [
    "result_kpss_ct_log=kpss(data['First Difference'].dropna(),regression=\"ct\")\n",
    "print('Test Statistic: %f' % np.round(result_kpss_ct_log[0],2))\n",
    "print('p-value: %f' %result_kpss_ct_log[1])\n",
    "print('Critical values:')\n",
    "for key, value in result_kpss_ct_log[3].items():\n",
    "     print('\\t%s: %.3f' %(key, value))"
   ]
  },
  {
   "cell_type": "markdown",
   "id": "a5dbd73e",
   "metadata": {},
   "source": [
    "<div style=\"color:white;\n",
    "           display:fill;\n",
    "           background-color:#29285D;\n",
    "           padding: 10px;\n",
    "           font-family:Verdana;\n",
    "           letter-spacing:0.5px\">\n",
    "    <h3 style=\"color:white;padding-left:20px\"><b>Interface 👀</b></h3>\n",
    "       <p style=\"color:white;font-size:110%;padding-left:50px\">\n",
    "         1) p value is less than 0.05, the series is stationary. <br>\n",
    "        2) In this graph we can see mean and variance is not constant so we can say our data is non stationary<br> \n",
    "         3) If the p-value is greater than a predefined alpha level (typically 0.05), we accept the null hypothesis.      \n",
    "    </p>\n",
    "    </div>"
   ]
  },
  {
   "cell_type": "markdown",
   "id": "5a5ecac1",
   "metadata": {},
   "source": [
    " <h2 style=\"background-color:green;font-family:verdana;color:white;font-size:100%;text-align:center;border-radius:10px 10px;letter-spacing:0.5px;padding: 10px\"> Step 5 : Partition of Data </h2> "
   ]
  },
  {
   "cell_type": "code",
   "execution_count": 87,
   "id": "07cb26a9",
   "metadata": {},
   "outputs": [],
   "source": [
    "import pandas as pd\n",
    "import numpy as np\n",
    "import matplotlib.pyplot as plt\n",
    "import seaborn as sns\n",
    "import statsmodels.api as sm\n",
    "from statsmodels.tsa.seasonal import seasonal_decompose\n",
    "from statsmodels.tsa.holtwinters import SimpleExpSmoothing # SES\n",
    "from statsmodels.tsa.holtwinters import Holt # Holts Exponential Smoothing\n",
    "from statsmodels.tsa.holtwinters import ExponentialSmoothing # \n",
    "import statsmodels.graphics.tsaplots as tsa_plots\n",
    "import statsmodels.tsa.statespace as tm_models\n",
    "from datetime import datetime,time"
   ]
  },
  {
   "cell_type": "code",
   "execution_count": 88,
   "id": "8d885ef6",
   "metadata": {},
   "outputs": [],
   "source": [
    "Train = data.head(180)\n",
    "Test =data.tail(35)"
   ]
  },
  {
   "cell_type": "code",
   "execution_count": 89,
   "id": "c533608a",
   "metadata": {},
   "outputs": [],
   "source": [
    "# Creating a function to calculate the MAPE value for test data \n",
    "def MAPE(pred,org):\n",
    "    temp = np.abs((pred-org))*100/org\n",
    "    return np.mean(temp)"
   ]
  },
  {
   "cell_type": "markdown",
   "id": "6bebffdb",
   "metadata": {},
   "source": [
    "  <h2 style=\"color:Orange;\">  Simple Exponential Method</h2>\n"
   ]
  },
  {
   "cell_type": "code",
   "execution_count": 90,
   "id": "ac310e95",
   "metadata": {},
   "outputs": [
    {
     "name": "stdout",
     "output_type": "stream",
     "text": [
      "MAE: 0.7594402120707794\n",
      "RMSE : 0.9711142323936686 \n",
      "MAPE : 4.810371631853253\n"
     ]
    },
    {
     "data": {
      "image/png": "[encoded data removed]",
      "text/plain": [
       "<Figure size 432x288 with 1 Axes>"
      ]
     },
     "metadata": {
      "needs_background": "light"
     },
     "output_type": "display_data"
    }
   ],
   "source": [
    "\n",
    "ses_model = SimpleExpSmoothing(Train['CO2']).fit(smoothing_level=0.2)\n",
    "#ses_model = SimpleExpSmoothing(Train.CO2).fit(smoothing_level=0.3, optimized=False)\n",
    "pred_ses = ses_model.predict(start = Test.index[0],end = Test.index[-1])\n",
    "\n",
    "plt.plot(Test.CO2)\n",
    "plt.plot(pred_ses)\n",
    "\n",
    "rmse = sqrt(mean_squared_error(Test.CO2, pred_ses))\n",
    "print('MAE:', mean_absolute_error(Test.CO2,pred_ses)) \n",
    "print('RMSE :',rmse ,'\\n''MAPE :',MAPE(pred_ses,Test.CO2))\n",
    "\n",
    "\n",
    "\n"
   ]
  },
  {
   "cell_type": "markdown",
   "id": "eafb8a7b",
   "metadata": {},
   "source": [
    "  <h2 style=\"color:Orange;\"> Holt method</h2>\n"
   ]
  },
  {
   "cell_type": "code",
   "execution_count": 91,
   "id": "627cb031",
   "metadata": {},
   "outputs": [
    {
     "name": "stdout",
     "output_type": "stream",
     "text": [
      "RMSE : 1.9823783810843776 \n",
      "MAPE : 9.152119890666583\n",
      "MAE: 1.4697651406977243\n"
     ]
    },
    {
     "data": {
      "image/png": "[encoded data removed]",
      "text/plain": [
       "<Figure size 432x288 with 1 Axes>"
      ]
     },
     "metadata": {
      "needs_background": "light"
     },
     "output_type": "display_data"
    }
   ],
   "source": [
    "# Holt method \n",
    "hw_model = Holt(Train[\"CO2\"]).fit(smoothing_level=0.02, smoothing_slope=0.2)\n",
    "pred_hw = hw_model.predict(start = Test.index[0],end = Test.index[-1])\n",
    "rmse = sqrt(mean_squared_error(Test.CO2, pred_hw))\n",
    "plt.plot(Test.CO2)\n",
    "plt.plot(pred_hw)\n",
    "print('RMSE :',rmse ,'\\n''MAPE :',MAPE(pred_hw,Test.CO2))\n",
    "print('MAE:', mean_absolute_error(Test.CO2,pred_hw)) \n",
    "\n",
    " "
   ]
  },
  {
   "cell_type": "code",
   "execution_count": 92,
   "id": "914b4bfb",
   "metadata": {},
   "outputs": [
    {
     "name": "stdout",
     "output_type": "stream",
     "text": [
      "RMSE : 5.10961949396093 \n",
      "MAPE : 29.33718022241913\n",
      "MAE: 4.717558185713573\n"
     ]
    },
    {
     "data": {
      "image/png": "[encoded data removed]",
      "text/plain": [
       "<Figure size 432x288 with 1 Axes>"
      ]
     },
     "metadata": {
      "needs_background": "light"
     },
     "output_type": "display_data"
    }
   ],
   "source": [
    "# Holts winter exponential smoothing with additive seasonality and additive trend\n",
    "\n",
    "hwe_model_add_add = ExponentialSmoothing(Train[\"CO2\"],seasonal=\"add\",trend=\"add\",seasonal_periods=4,damped=True).fit()\n",
    "pred_hwe_add_add = hwe_model_add_add.predict(start = Test.index[0],end = Test.index[-1])\n",
    "#MAPE(pred_hwe_add_add,Test.CO2)\n",
    "plt.plot(Test.CO2)\n",
    "plt.plot(pred_hwe_add_add)\n",
    "rmse = sqrt(mean_squared_error(Test.CO2, pred_hwe_add_add))\n",
    "print('RMSE :',rmse ,'\\n''MAPE :',MAPE(pred_hwe_add_add,Test.CO2))\n",
    "print('MAE:', mean_absolute_error(Test.CO2,pred_hwe_add_add)) "
   ]
  },
  {
   "cell_type": "code",
   "execution_count": 93,
   "id": "ac1f11be",
   "metadata": {},
   "outputs": [
    {
     "data": {
      "text/plain": [
       "<matplotlib.legend.Legend at 0xe8a5b0>"
      ]
     },
     "execution_count": 93,
     "metadata": {},
     "output_type": "execute_result"
    },
    {
     "data": {
      "image/png": "[encoded data removed]",
      "text/plain": [
       "<Figure size 432x288 with 1 Axes>"
      ]
     },
     "metadata": {
      "needs_background": "light"
     },
     "output_type": "display_data"
    }
   ],
   "source": [
    "# Visualization of Forecasted values for Test data set using different methods \n",
    "plt.plot(Train.index, Train[\"CO2\"], label='Train',color=\"black\")\n",
    "plt.plot(Test.index, Test[\"CO2\"], label='Test',color=\"blue\")\n",
    "plt.plot(pred_ses.index, pred_ses, label='SimpleExponential',color=\"green\")\n",
    "plt.plot(pred_hw.index, pred_hw, label='Holts_winter',color=\"red\")\n",
    "plt.plot(pred_hwe_add_add.index,pred_hwe_add_add,label=\"HoltsWinterExponential_1\",color=\"brown\")\n",
    "plt.legend(loc='best')"
   ]
  },
  {
   "cell_type": "code",
   "execution_count": 94,
   "id": "c9e1d1d9",
   "metadata": {},
   "outputs": [
    {
     "name": "stdout",
     "output_type": "stream",
     "text": [
      "Dataset 205, Validation 10\n"
     ]
    }
   ],
   "source": [
    "##### separate out a validation dataset\n",
    "split_point = len(data) - 10\n",
    "dataset, validation = data[0:split_point], data[split_point:]\n",
    "print('Dataset %d, Validation %d' % (len(dataset), len(validation)))\n",
    "dataset.to_csv('dataset.csv', header=False)\n",
    "validation.to_csv('validation.csv', header=False)"
   ]
  },
  {
   "cell_type": "code",
   "execution_count": 95,
   "id": "5667aa7f",
   "metadata": {},
   "outputs": [],
   "source": [
    "# evaluate a persistence model\n",
    "from pandas import read_csv\n",
    "from sklearn.metrics import mean_squared_error\n",
    "from math import sqrt\n",
    "import pandas as pd\n",
    "#train1 = pd.read_excel('CO2 dataset.xlsx', header=None, index_col=0, parse_dates=True, squeeze=True)\n",
    "X = data['CO2'].values\n",
    "train, test = X[1:180], X[180:]\n"
   ]
  },
  {
   "cell_type": "code",
   "execution_count": 96,
   "id": "f62c0a7f",
   "metadata": {},
   "outputs": [
    {
     "name": "stdout",
     "output_type": "stream",
     "text": [
      ">Predicted=18.200, Expected=18.100\n",
      ">Predicted=18.100, Expected=17.300\n",
      ">Predicted=17.300, Expected=16.600\n",
      ">Predicted=16.600, Expected=16.200\n",
      ">Predicted=16.200, Expected=16.600\n",
      ">Predicted=16.600, Expected=16.300\n",
      ">Predicted=16.300, Expected=15.500\n",
      ">Predicted=15.500, Expected=16.200\n",
      ">Predicted=16.200, Expected=16.900\n",
      ">Predicted=16.900, Expected=17.000\n",
      ">Predicted=17.000, Expected=15.700\n",
      ">Predicted=15.700, Expected=15.200\n",
      ">Predicted=15.200, Expected=15.500\n",
      ">Predicted=15.500, Expected=15.500\n",
      ">Predicted=15.500, Expected=15.700\n",
      ">Predicted=15.700, Expected=15.900\n",
      ">Predicted=15.900, Expected=16.200\n",
      ">Predicted=16.200, Expected=16.600\n",
      ">Predicted=16.600, Expected=16.800\n",
      ">Predicted=16.800, Expected=16.900\n",
      ">Predicted=16.900, Expected=17.400\n",
      ">Predicted=17.400, Expected=17.000\n",
      ">Predicted=17.000, Expected=16.600\n",
      ">Predicted=16.600, Expected=17.500\n",
      ">Predicted=17.500, Expected=17.300\n",
      ">Predicted=17.300, Expected=17.300\n",
      ">Predicted=17.300, Expected=16.700\n",
      ">Predicted=16.700, Expected=16.800\n",
      ">Predicted=16.800, Expected=16.800\n",
      ">Predicted=16.800, Expected=15.900\n",
      ">Predicted=15.900, Expected=15.600\n",
      ">Predicted=15.600, Expected=15.600\n",
      ">Predicted=15.600, Expected=14.800\n",
      ">Predicted=14.800, Expected=14.700\n",
      ">Predicted=14.700, Expected=15.100\n",
      "\n",
      "RMSE : 0.5096217084409629\n",
      "MAE: 0.40285714285714297\n",
      "MAPE : 2.481352103015203\n"
     ]
    }
   ],
   "source": [
    "# walk-forward validation\n",
    "history = [x for x in train]\n",
    "predictions = list()\n",
    "for i in range(len(test)):\n",
    "    yhat = history[-1]\n",
    "    predictions.append(yhat)\n",
    "# observation\n",
    "    obs = test[i]\n",
    "    history.append(obs)\n",
    "    print('>Predicted=%.3f, Expected=%.3f' % (yhat, obs))\n",
    "# report performance\n",
    "rmse = sqrt(mean_squared_error(test, predictions))\n",
    "MAPE=MAPE(predictions,test)\n",
    "print('\\nRMSE :',rmse)\n",
    "print('MAE:', mean_absolute_error(test,predictions)) \n",
    "print('MAPE :',MAPE)"
   ]
  },
  {
   "cell_type": "markdown",
   "id": "0afe24e0",
   "metadata": {},
   "source": [
    "\n",
    "  <h2 style=\"color:Orange;\">   ARIMA Hyperparameters</h2>\n"
   ]
  },
  {
   "cell_type": "code",
   "execution_count": 97,
   "id": "425596a1",
   "metadata": {},
   "outputs": [
    {
     "name": "stdout",
     "output_type": "stream",
     "text": [
      "0.5096217084409629\n"
     ]
    }
   ],
   "source": [
    "# grid search ARIMA parameters for a time series\n",
    "\n",
    "import warnings\n",
    "from pandas import read_csv\n",
    "from statsmodels.tsa.arima_model import ARIMA\n",
    "from sklearn.metrics import mean_squared_error\n",
    "from math import sqrt\n",
    "\n",
    "\n",
    "# evaluate an ARIMA model for a given order (p,d,q) and return RMSE\n",
    "def evaluate_arima_model(X, arima_order):\n",
    "# prepare training dataset\n",
    "    history = [x for x in train]\n",
    "# make predictions\n",
    "    predictions = list()\n",
    "    for t in range(len(test)):\n",
    "        model = ARIMA(history, order=arima_order)\n",
    "# model_fit = model.fit(disp=0)\n",
    "        model_fit = model.fit(disp=0)\n",
    "        yhat = model_fit.forecast()[0]\n",
    "        predictions.append(yhat)\n",
    "        history.append(test[t])\n",
    "# calculate out of sample error\n",
    "    rmse = sqrt(mean_squared_error(test, predictions))\n",
    "    return rmse\n",
    "print(rmse)"
   ]
  },
  {
   "cell_type": "markdown",
   "id": "638554cf",
   "metadata": {},
   "source": [
    "\n",
    "<h2 style=\"color:Orange;\">  Grid search for p,d,q values</h2>\n"
   ]
  },
  {
   "cell_type": "code",
   "execution_count": 98,
   "id": "2ef41b83",
   "metadata": {},
   "outputs": [],
   "source": [
    "# evaluate combinations of p, d and q values for an ARIMA model\n",
    "def evaluate_models(dataset, p_values, d_values, q_values):\n",
    "    #dataset = dataset.astype('float32')\n",
    "    best_score, best_cfg = float('inf'), None\n",
    "    for p in p_values:\n",
    "        for d in d_values:\n",
    "            for q in q_values:\n",
    "                order = (p,d,q)\n",
    "                try:\n",
    "                    rmse = evaluate_arima_model(train, order)\n",
    "                    if rmse < best_score:\n",
    "                        best_score, best_cfg = rmse, order\n",
    "                    print('ARIMA%s RMSE=%.3f' % (order,rmse))\n",
    "                    \n",
    "                except:\n",
    "                    continue\n",
    "    print('Best ARIMA%s RMSE=%.3f' % (best_cfg, best_score))"
   ]
  },
  {
   "cell_type": "code",
   "execution_count": null,
   "id": "744b3021",
   "metadata": {},
   "outputs": [
    {
     "name": "stdout",
     "output_type": "stream",
     "text": [
      "ARIMA(0, 0, 0) RMSE=10.516\n",
      "ARIMA(0, 0, 1) RMSE=5.438\n",
      "ARIMA(0, 1, 0) RMSE=0.533\n",
      "ARIMA(0, 1, 1) RMSE=0.542\n",
      "ARIMA(0, 1, 2) RMSE=0.532\n",
      "ARIMA(0, 2, 0) RMSE=0.687\n",
      "ARIMA(0, 2, 1) RMSE=0.569\n",
      "ARIMA(0, 2, 2) RMSE=0.584\n",
      "ARIMA(1, 0, 0) RMSE=0.508\n",
      "ARIMA(1, 1, 0) RMSE=0.541\n",
      "ARIMA(1, 1, 1) RMSE=0.541\n",
      "ARIMA(1, 1, 2) RMSE=0.530\n",
      "ARIMA(1, 2, 0) RMSE=0.685\n",
      "ARIMA(1, 2, 1) RMSE=0.581\n",
      "ARIMA(2, 0, 0) RMSE=0.511\n",
      "ARIMA(2, 1, 0) RMSE=0.534\n",
      "ARIMA(2, 1, 1) RMSE=0.531\n"
     ]
    }
   ],
   "source": [
    "\n",
    "# evaluate parameters\n",
    "p_values = range(0, 3)\n",
    "d_values = range(0, 3)\n",
    "q_values = range(0, 3)\n",
    "warnings.filterwarnings(\"ignore\")\n",
    "evaluate_models(data.values, p_values, d_values, q_values)\n"
   ]
  },
  {
   "cell_type": "markdown",
   "id": "1b33e1fa",
   "metadata": {},
   "source": [
    " <h2 style=\"color:Orange;\">  Build Model based on the optimized values</h2>\n"
   ]
  },
  {
   "cell_type": "code",
   "execution_count": null,
   "id": "89cecea1",
   "metadata": {},
   "outputs": [],
   "source": [
    "##### save finalized model to file\n",
    "from pandas import read_csv\n",
    "from statsmodels.tsa.arima_model import ARIMA\n",
    "import numpy"
   ]
  },
  {
   "cell_type": "code",
   "execution_count": null,
   "id": "f9ab9186",
   "metadata": {},
   "outputs": [],
   "source": [
    "train_data = data.loc[:'2000-01-01','CO2']\n",
    "test_data = data.loc['2000-01-01':]"
   ]
  },
  {
   "cell_type": "code",
   "execution_count": null,
   "id": "4113a2bb",
   "metadata": {},
   "outputs": [],
   "source": [
    "from statsmodels.tsa.ar_model import AutoReg\n",
    "\n",
    "\n",
    "# Instantiate and fit the AR model with training data\n",
    "ar_model = AutoReg(train_data, lags=15).fit()\n",
    "\n",
    "# Print Summary\n",
    "print(ar_model.summary())"
   ]
  },
  {
   "cell_type": "code",
   "execution_count": null,
   "id": "18bc75f7",
   "metadata": {},
   "outputs": [],
   "source": [
    "ar_forecast = ar_model.predict('2000-01-01', '2014-01-01')\n",
    "\n",
    "plt.title('AR Model Results', size=7)\n",
    "plt.plot(data.loc['2000-01-01':,'CO2'],label='Actual')\n",
    "plt.plot(ar_forecast,label='Predicted')\n",
    "plt.legend();\n",
    "\n",
    "print('RMSE:', np.sqrt(mean_squared_error(data.loc['2000-01-01':,'CO2'],ar_forecast)))\n",
    "print('MAE:', mean_absolute_error(data.loc['2000-01-01':,'CO2'],ar_forecast))"
   ]
  },
  {
   "cell_type": "code",
   "execution_count": null,
   "id": "aadcafb1",
   "metadata": {},
   "outputs": [],
   "source": [
    "train_datafd = data.loc['1801-01-01':'2000-01-01','First Difference']\n",
    "\n",
    "# Instantiate and fit the AR model with training data\n",
    "ar_modelfd = AutoReg(train_datafd, lags=15).fit()\n",
    "\n",
    "# Print Summary\n",
    "#print(ar_modelfd.summary())\n",
    "\n",
    "ar_forecastfd = ar_modelfd.predict('2000-01-01', '2014-01-01')\n",
    "plt.title('AR Model Results', size=6)\n",
    "plt.plot(data.loc['2000-01-01':,'First Difference'],label='Actual')\n",
    "plt.plot(ar_forecastfd,label='Predicted')\n",
    "plt.legend();\n",
    "\n",
    "print('RMSE:',np.sqrt(mean_squared_error(data.loc['2000-01-01':,'First Difference'],ar_forecastfd)))\n",
    "print('MAE:',mean_absolute_error(data.loc['2000-01-01':,'First Difference'],ar_forecastfd))"
   ]
  },
  {
   "cell_type": "code",
   "execution_count": null,
   "id": "5672c12f",
   "metadata": {},
   "outputs": [],
   "source": [
    "from statsmodels.tsa.arima.model import ARIMA\n",
    "\n",
    "arima2 = ARIMA(data.loc[:,'First Difference'], order=(1,0,0))\n",
    "results2 = arima2.fit()\n",
    "predictions2 = results2.predict('2000-01-01', '2014-01-01')\n",
    "\n",
    "plt.plot(data.loc['2000-01-01':,'First Difference'],label='Actual')\n",
    "predictions2.plot()\n",
    "plt.legend();\n",
    "\n",
    "print('RMSE:',np.sqrt(mean_squared_error(data.loc['2000-01-01':,'First Difference'],predictions2)))\n",
    "print('MAE',mean_absolute_error(data.loc['2000-01-01':,'First Difference'],predictions2))"
   ]
  },
  {
   "cell_type": "code",
   "execution_count": null,
   "id": "fcdef329",
   "metadata": {},
   "outputs": [],
   "source": [
    "#Error on the test data\n",
    "val=pd.read_csv('validation.csv',header=None)\n",
    "rmse = sqrt(mean_squared_error(val[1], forecast))\n",
    "rmse"
   ]
  },
  {
   "cell_type": "markdown",
   "id": "592397da",
   "metadata": {},
   "source": [
    "  <h2 style=\"color:Orange;\"> Combine train and test data and build final model</h2>\n",
    "\n"
   ]
  },
  {
   "cell_type": "code",
   "execution_count": 56,
   "id": "b14fe58b",
   "metadata": {},
   "outputs": [],
   "source": [
    "model = ARIMA(X, order=(1,0,0))\n",
    "model_fit = model.fit()"
   ]
  },
  {
   "cell_type": "code",
   "execution_count": 57,
   "id": "f07bf275",
   "metadata": {},
   "outputs": [
    {
     "ename": "AttributeError",
     "evalue": "'ARIMAResults' object has no attribute 'plot_predict'",
     "output_type": "error",
     "traceback": [
      "\u001b[1;31m---------------------------------------------------------------------------\u001b[0m",
      "\u001b[1;31mAttributeError\u001b[0m                            Traceback (most recent call last)",
      "\u001b[1;32m~\\AppData\\Local\\Temp/ipykernel_2520/1745250532.py\u001b[0m in \u001b[0;36m<cell line: 2>\u001b[1;34m()\u001b[0m\n\u001b[0;32m      1\u001b[0m \u001b[0mforecast\u001b[0m\u001b[1;33m=\u001b[0m\u001b[0mmodel_fit\u001b[0m\u001b[1;33m.\u001b[0m\u001b[0mforecast\u001b[0m\u001b[1;33m(\u001b[0m\u001b[0msteps\u001b[0m\u001b[1;33m=\u001b[0m\u001b[1;36m10\u001b[0m\u001b[1;33m)\u001b[0m\u001b[1;33m[\u001b[0m\u001b[1;36m0\u001b[0m\u001b[1;33m]\u001b[0m\u001b[1;33m\u001b[0m\u001b[1;33m\u001b[0m\u001b[0m\n\u001b[1;32m----> 2\u001b[1;33m \u001b[0mmodel_fit\u001b[0m\u001b[1;33m.\u001b[0m\u001b[0mplot_predict\u001b[0m\u001b[1;33m(\u001b[0m\u001b[1;36m1\u001b[0m\u001b[1;33m,\u001b[0m\u001b[1;36m216\u001b[0m\u001b[1;33m)\u001b[0m\u001b[1;33m\u001b[0m\u001b[1;33m\u001b[0m\u001b[0m\n\u001b[0m",
      "\u001b[1;32m~\\anaconda3\\lib\\site-packages\\statsmodels\\base\\wrapper.py\u001b[0m in \u001b[0;36m__getattribute__\u001b[1;34m(self, attr)\u001b[0m\n\u001b[0;32m     32\u001b[0m             \u001b[1;32mpass\u001b[0m\u001b[1;33m\u001b[0m\u001b[1;33m\u001b[0m\u001b[0m\n\u001b[0;32m     33\u001b[0m \u001b[1;33m\u001b[0m\u001b[0m\n\u001b[1;32m---> 34\u001b[1;33m         \u001b[0mobj\u001b[0m \u001b[1;33m=\u001b[0m \u001b[0mgetattr\u001b[0m\u001b[1;33m(\u001b[0m\u001b[0mresults\u001b[0m\u001b[1;33m,\u001b[0m \u001b[0mattr\u001b[0m\u001b[1;33m)\u001b[0m\u001b[1;33m\u001b[0m\u001b[1;33m\u001b[0m\u001b[0m\n\u001b[0m\u001b[0;32m     35\u001b[0m         \u001b[0mdata\u001b[0m \u001b[1;33m=\u001b[0m \u001b[0mresults\u001b[0m\u001b[1;33m.\u001b[0m\u001b[0mmodel\u001b[0m\u001b[1;33m.\u001b[0m\u001b[0mdata\u001b[0m\u001b[1;33m\u001b[0m\u001b[1;33m\u001b[0m\u001b[0m\n\u001b[0;32m     36\u001b[0m         \u001b[0mhow\u001b[0m \u001b[1;33m=\u001b[0m \u001b[0mself\u001b[0m\u001b[1;33m.\u001b[0m\u001b[0m_wrap_attrs\u001b[0m\u001b[1;33m.\u001b[0m\u001b[0mget\u001b[0m\u001b[1;33m(\u001b[0m\u001b[0mattr\u001b[0m\u001b[1;33m)\u001b[0m\u001b[1;33m\u001b[0m\u001b[1;33m\u001b[0m\u001b[0m\n",
      "\u001b[1;31mAttributeError\u001b[0m: 'ARIMAResults' object has no attribute 'plot_predict'"
     ]
    }
   ],
   "source": [
    "forecast=model_fit.forecast(steps=10)[0]\n",
    "model_fit.plot_predict(1,216)"
   ]
  },
  {
   "cell_type": "code",
   "execution_count": 51,
   "id": "3aa4fb27",
   "metadata": {},
   "outputs": [
    {
     "data": {
      "text/plain": [
       "array([15.11169564, 15.13674119, 15.23927583, 15.30869499, 15.37214879,\n",
       "       15.4450635 , 15.51579898, 15.58517425, 15.65553166, 15.72583444])"
      ]
     },
     "execution_count": 51,
     "metadata": {},
     "output_type": "execute_result"
    }
   ],
   "source": [
    "forecast"
   ]
  },
  {
   "cell_type": "code",
   "execution_count": null,
   "id": "19916b27",
   "metadata": {},
   "outputs": [],
   "source": []
  },
  {
   "cell_type": "code",
   "execution_count": null,
   "id": "a562ec87",
   "metadata": {},
   "outputs": [],
   "source": []
  },
  {
   "cell_type": "code",
   "execution_count": null,
   "id": "50db389f",
   "metadata": {},
   "outputs": [],
   "source": []
  },
  {
   "cell_type": "code",
   "execution_count": null,
   "id": "c7d9db67",
   "metadata": {},
   "outputs": [],
   "source": []
  },
  {
   "cell_type": "code",
   "execution_count": null,
   "id": "9253d5d5",
   "metadata": {},
   "outputs": [],
   "source": []
  },
  {
   "cell_type": "code",
   "execution_count": null,
   "id": "ff9a5b8b",
   "metadata": {},
   "outputs": [],
   "source": []
  },
  {
   "cell_type": "code",
   "execution_count": null,
   "id": "211eee73",
   "metadata": {},
   "outputs": [],
   "source": []
  },
  {
   "cell_type": "code",
   "execution_count": null,
   "id": "c2b54672",
   "metadata": {},
   "outputs": [],
   "source": []
  },
  {
   "cell_type": "code",
   "execution_count": null,
   "id": "ffe721df",
   "metadata": {},
   "outputs": [],
   "source": []
  },
  {
   "cell_type": "code",
   "execution_count": null,
   "id": "56bb14aa",
   "metadata": {},
   "outputs": [],
   "source": []
  },
  {
   "cell_type": "code",
   "execution_count": null,
   "id": "d3fb77f3",
   "metadata": {},
   "outputs": [],
   "source": []
  },
  {
   "cell_type": "code",
   "execution_count": null,
   "id": "d74d1538",
   "metadata": {},
   "outputs": [],
   "source": []
  },
  {
   "cell_type": "code",
   "execution_count": null,
   "id": "e4db9178",
   "metadata": {},
   "outputs": [],
   "source": []
  },
  {
   "cell_type": "code",
   "execution_count": null,
   "id": "e44e6ed4",
   "metadata": {},
   "outputs": [],
   "source": []
  },
  {
   "cell_type": "code",
   "execution_count": null,
   "id": "dbcb34bc",
   "metadata": {},
   "outputs": [],
   "source": []
  },
  {
   "cell_type": "code",
   "execution_count": null,
   "id": "c330520e",
   "metadata": {},
   "outputs": [],
   "source": []
  },
  {
   "cell_type": "code",
   "execution_count": null,
   "id": "502f7523",
   "metadata": {},
   "outputs": [],
   "source": []
  },
  {
   "cell_type": "code",
   "execution_count": null,
   "id": "19c750fe",
   "metadata": {},
   "outputs": [],
   "source": []
  },
  {
   "cell_type": "code",
   "execution_count": null,
   "id": "830dfdf1",
   "metadata": {},
   "outputs": [],
   "source": []
  },
  {
   "cell_type": "code",
   "execution_count": null,
   "id": "8c624a62",
   "metadata": {},
   "outputs": [],
   "source": []
  },
  {
   "cell_type": "code",
   "execution_count": null,
   "id": "ebec53d8",
   "metadata": {},
   "outputs": [],
   "source": []
  },
  {
   "cell_type": "code",
   "execution_count": null,
   "id": "9ef09370",
   "metadata": {},
   "outputs": [],
   "source": []
  },
  {
   "cell_type": "code",
   "execution_count": null,
   "id": "86ecaded",
   "metadata": {},
   "outputs": [],
   "source": []
  },
  {
   "cell_type": "code",
   "execution_count": null,
   "id": "e80fc0b0",
   "metadata": {},
   "outputs": [],
   "source": []
  },
  {
   "cell_type": "code",
   "execution_count": null,
   "id": "469d2331",
   "metadata": {},
   "outputs": [],
   "source": []
  },
  {
   "cell_type": "code",
   "execution_count": null,
   "id": "d6e3067b",
   "metadata": {},
   "outputs": [],
   "source": []
  },
  {
   "cell_type": "markdown",
   "id": "f46abf06",
   "metadata": {},
   "source": []
  },
  {
   "cell_type": "code",
   "execution_count": null,
   "id": "2fa82c7f",
   "metadata": {},
   "outputs": [],
   "source": []
  },
  {
   "cell_type": "code",
   "execution_count": null,
   "id": "599888f4",
   "metadata": {},
   "outputs": [],
   "source": []
  },
  {
   "cell_type": "code",
   "execution_count": null,
   "id": "13fb924c",
   "metadata": {},
   "outputs": [],
   "source": []
  },
  {
   "cell_type": "code",
   "execution_count": null,
   "id": "7707c996",
   "metadata": {},
   "outputs": [],
   "source": []
  },
  {
   "cell_type": "code",
   "execution_count": null,
   "id": "39394488",
   "metadata": {},
   "outputs": [],
   "source": []
  },
  {
   "cell_type": "code",
   "execution_count": 37,
   "id": "2918a04e",
   "metadata": {},
   "outputs": [],
   "source": [
    "train=data.head(180)    # first 180 rows will be stored in train variable\n",
    "test=data.tail(35)      # last 35 rows will be stored in test variable"
   ]
  },
  {
   "cell_type": "code",
   "execution_count": 38,
   "id": "5aa3a048",
   "metadata": {},
   "outputs": [
    {
     "data": {
      "text/plain": [
       "[<matplotlib.lines.Line2D at 0x11755298>]"
      ]
     },
     "execution_count": 38,
     "metadata": {},
     "output_type": "execute_result"
    },
    {
     "data": {
      "image/png": "[encoded data removed]",
      "text/plain": [
       "<Figure size 864x288 with 2 Axes>"
      ]
     },
     "metadata": {
      "needs_background": "light"
     },
     "output_type": "display_data"
    }
   ],
   "source": [
    "plt.figure(figsize=(12,4))\n",
    "plt.subplot(121)\n",
    "plt.plot(train, color='green')\n",
    "\n",
    "plt.subplot(122)\n",
    "plt.plot(test['CO2'], color = 'red')"
   ]
  },
  {
   "cell_type": "code",
   "execution_count": 39,
   "id": "485c67d3",
   "metadata": {},
   "outputs": [
    {
     "name": "stdout",
     "output_type": "stream",
     "text": [
      "                            AutoReg Model Results                             \n",
      "==============================================================================\n",
      "Dep. Variable:                    CO2   No. Observations:                  180\n",
      "Model:                    AutoReg(15)   Log Likelihood                -131.034\n",
      "Method:               Conditional MLE   S.D. of innovations              0.535\n",
      "Date:                Thu, 18 Aug 2022   AIC                             -1.044\n",
      "Time:                        15:30:09   BIC                             -0.724\n",
      "Sample:                    01-01-1815   HQIC                            -0.914\n",
      "                         - 01-01-1979                                         \n",
      "==============================================================================\n",
      "                 coef    std err          z      P>|z|      [0.025      0.975]\n",
      "------------------------------------------------------------------------------\n",
      "intercept      0.0626      0.058      1.071      0.284      -0.052       0.177\n",
      "CO2.L1         0.8924      0.078     11.435      0.000       0.739       1.045\n",
      "CO2.L2         0.0293      0.104      0.281      0.779      -0.175       0.234\n",
      "CO2.L3         0.1598      0.104      1.534      0.125      -0.044       0.364\n",
      "CO2.L4        -0.1388      0.105     -1.324      0.185      -0.344       0.067\n",
      "CO2.L5         0.2008      0.105      1.908      0.056      -0.005       0.407\n",
      "CO2.L6         0.0078      0.106      0.074      0.941      -0.200       0.215\n",
      "CO2.L7        -0.0053      0.106     -0.050      0.960      -0.213       0.202\n",
      "CO2.L8        -0.2939      0.105     -2.801      0.005      -0.500      -0.088\n",
      "CO2.L9         0.0411      0.107      0.383      0.702      -0.169       0.252\n",
      "CO2.L10        0.1133      0.108      1.047      0.295      -0.099       0.325\n",
      "CO2.L11       -0.0576      0.108     -0.533      0.594      -0.270       0.154\n",
      "CO2.L12       -0.0486      0.108     -0.449      0.653      -0.261       0.163\n",
      "CO2.L13        0.0842      0.107      0.785      0.432      -0.126       0.294\n",
      "CO2.L14        0.1437      0.108      1.335      0.182      -0.067       0.355\n",
      "CO2.L15       -0.1159      0.082     -1.414      0.157      -0.277       0.045\n",
      "                                    Roots                                     \n",
      "==============================================================================\n",
      "                   Real          Imaginary           Modulus         Frequency\n",
      "------------------------------------------------------------------------------\n",
      "AR.1            -1.2341           -0.0000j            1.2341           -0.5000\n",
      "AR.2            -1.0140           -0.5231j            1.1410           -0.4242\n",
      "AR.3            -1.0140           +0.5231j            1.1410            0.4242\n",
      "AR.4            -0.7692           -0.8985j            1.1828           -0.3627\n",
      "AR.5            -0.7692           +0.8985j            1.1828            0.3627\n",
      "AR.6            -0.3115           -1.0410j            1.0867           -0.2963\n",
      "AR.7            -0.3115           +1.0410j            1.0867            0.2963\n",
      "AR.8             0.3344           -1.0879j            1.1381           -0.2025\n",
      "AR.9             0.3344           +1.0879j            1.1381            0.2025\n",
      "AR.10            0.6664           -0.9192j            1.1353           -0.1502\n",
      "AR.11            0.6664           +0.9192j            1.1353            0.1502\n",
      "AR.12            0.9896           -0.0000j            0.9896           -0.0000\n",
      "AR.13            1.1088           -0.3506j            1.1629           -0.0487\n",
      "AR.14            1.1088           +0.3506j            1.1629            0.0487\n",
      "AR.15            1.4551           -0.0000j            1.4551           -0.0000\n",
      "------------------------------------------------------------------------------\n"
     ]
    }
   ],
   "source": [
    "from statsmodels.tsa.ar_model import AutoReg\n",
    "\n",
    "\n",
    "# Instantiate and fit the AR model with training data\n",
    "ar_model = AutoReg(train, lags=15).fit()\n",
    "\n",
    "# Print Summary\n",
    "print(ar_model.summary())"
   ]
  },
  {
   "cell_type": "code",
   "execution_count": 40,
   "id": "39859490",
   "metadata": {},
   "outputs": [
    {
     "name": "stdout",
     "output_type": "stream",
     "text": [
      "RMSE: 9.682122722990846\n",
      "MAE: 9.41078179036637\n"
     ]
    },
    {
     "data": {
      "image/png": "[encoded data removed]",
      "text/plain": [
       "<Figure size 432x288 with 1 Axes>"
      ]
     },
     "metadata": {
      "needs_background": "light"
     },
     "output_type": "display_data"
    }
   ],
   "source": [
    "ar_forecast = ar_model.predict('2000-01-01', '2014-01-01')\n",
    "\n",
    "plt.title('AR Model Results', size=20)\n",
    "plt.plot(data.loc['2000-01-01':,'CO2'],label='Actual')\n",
    "plt.plot(ar_forecast,label='Predicted')\n",
    "plt.legend();\n",
    "\n",
    "print('RMSE:', np.sqrt(mean_squared_error(data.loc['2000-01-01':,'CO2'],ar_forecast)))\n",
    "print('MAE:', mean_absolute_error(data.loc['2000-01-01':,'CO2'],ar_forecast))\n",
    "\n"
   ]
  },
  {
   "cell_type": "code",
   "execution_count": null,
   "id": "9aea9bac",
   "metadata": {},
   "outputs": [],
   "source": []
  },
  {
   "cell_type": "code",
   "execution_count": null,
   "id": "8b86499e",
   "metadata": {},
   "outputs": [],
   "source": []
  },
  {
   "cell_type": "code",
   "execution_count": null,
   "id": "fef50010",
   "metadata": {},
   "outputs": [],
   "source": []
  },
  {
   "cell_type": "code",
   "execution_count": null,
   "id": "4b88fcb4",
   "metadata": {},
   "outputs": [],
   "source": []
  },
  {
   "cell_type": "code",
   "execution_count": null,
   "id": "db6cc6d0",
   "metadata": {},
   "outputs": [],
   "source": []
  },
  {
   "cell_type": "code",
   "execution_count": null,
   "id": "c4a0d98e",
   "metadata": {},
   "outputs": [],
   "source": []
  },
  {
   "cell_type": "code",
   "execution_count": 47,
   "id": "84f498c6",
   "metadata": {},
   "outputs": [
    {
     "data": {
      "text/html": [
       "<div>\n",
       "<style scoped>\n",
       "    .dataframe tbody tr th:only-of-type {\n",
       "        vertical-align: middle;\n",
       "    }\n",
       "\n",
       "    .dataframe tbody tr th {\n",
       "        vertical-align: top;\n",
       "    }\n",
       "\n",
       "    .dataframe thead th {\n",
       "        text-align: right;\n",
       "    }\n",
       "</style>\n",
       "<table border=\"1\" class=\"dataframe\">\n",
       "  <thead>\n",
       "    <tr style=\"text-align: right;\">\n",
       "      <th></th>\n",
       "      <th>CO2</th>\n",
       "    </tr>\n",
       "    <tr>\n",
       "      <th>Year</th>\n",
       "      <th></th>\n",
       "    </tr>\n",
       "  </thead>\n",
       "  <tbody>\n",
       "    <tr>\n",
       "      <th>1980</th>\n",
       "      <td>18.1</td>\n",
       "    </tr>\n",
       "    <tr>\n",
       "      <th>1981</th>\n",
       "      <td>17.3</td>\n",
       "    </tr>\n",
       "    <tr>\n",
       "      <th>1982</th>\n",
       "      <td>16.6</td>\n",
       "    </tr>\n",
       "    <tr>\n",
       "      <th>1983</th>\n",
       "      <td>16.2</td>\n",
       "    </tr>\n",
       "    <tr>\n",
       "      <th>1984</th>\n",
       "      <td>16.6</td>\n",
       "    </tr>\n",
       "  </tbody>\n",
       "</table>\n",
       "</div>"
      ],
      "text/plain": [
       "       CO2\n",
       "Year      \n",
       "1980  18.1\n",
       "1981  17.3\n",
       "1982  16.6\n",
       "1983  16.2\n",
       "1984  16.6"
      ]
     },
     "execution_count": 47,
     "metadata": {},
     "output_type": "execute_result"
    }
   ],
   "source": [
    "test.head()"
   ]
  },
  {
   "cell_type": "code",
   "execution_count": 49,
   "id": "8c7d5d5e",
   "metadata": {},
   "outputs": [],
   "source": [
    "from statsmodels.tsa.api import ExponentialSmoothing, SimpleExpSmoothing, Holt "
   ]
  },
  {
   "cell_type": "code",
   "execution_count": 54,
   "id": "c92c1ab1",
   "metadata": {},
   "outputs": [],
   "source": [
    "\n",
    "model = SimpleExpSmoothing(train.values)\n",
    "model_fitted = model.fit()"
   ]
  },
  {
   "cell_type": "code",
   "execution_count": 57,
   "id": "9662c688",
   "metadata": {},
   "outputs": [
    {
     "name": "stdout",
     "output_type": "stream",
     "text": [
      "coefficients {'smoothing_level': 0.9508931192982845, 'smoothing_trend': nan, 'smoothing_seasonal': nan, 'damping_trend': nan, 'initial_level': 0.005679728221868851, 'initial_trend': nan, 'initial_seasons': array([], dtype=float64), 'use_boxcox': False, 'lamda': None, 'remove_bias': False}\n",
      "[18.15554011 18.15554011 18.15554011 18.15554011 18.15554011 18.15554011\n",
      " 18.15554011 18.15554011 18.15554011 18.15554011 18.15554011 18.15554011\n",
      " 18.15554011 18.15554011 18.15554011 18.15554011 18.15554011 18.15554011\n",
      " 18.15554011 18.15554011 18.15554011 18.15554011 18.15554011 18.15554011\n",
      " 18.15554011 18.15554011 18.15554011 18.15554011 18.15554011 18.15554011\n",
      " 18.15554011 18.15554011 18.15554011 18.15554011 18.15554011]\n"
     ]
    }
   ],
   "source": [
    "\n",
    "print('coefficients',model_fitted.params)\n",
    "predictions = model_fitted.predict(start=len(train), end=len(train) + len(test)-1)\n",
    "print(predictions)"
   ]
  },
  {
   "cell_type": "code",
   "execution_count": null,
   "id": "1c9b92d0",
   "metadata": {},
   "outputs": [],
   "source": []
  },
  {
   "cell_type": "markdown",
   "id": "7caa0075",
   "metadata": {},
   "source": [
    "### Choosing a model\n",
    "Exponential smoothings methods are appropriate for non-stationary data (ie data with a trend and seasonal data).\n",
    "\n",
    "ARIMA models should be used on stationary data only. One should therefore remove the trend of the data (via deflating or logging), and then look at the differenced series."
   ]
  },
  {
   "cell_type": "markdown",
   "id": "071204fd",
   "metadata": {},
   "source": [
    "<h3 style=\"color:orange;\">Smoothing Techniques </h3>\n",
    "<p> \n",
    "\n",
    "1) Simple Moving Average\n",
    "\n",
    "2) Moving AverageSimple \n",
    "\n",
    "3) Exponential SmoothinDouble\n",
    "\n",
    "\n",
    "5) Holt's Exponential Smoothing</p>"
   ]
  },
  {
   "cell_type": "code",
   "execution_count": 33,
   "id": "c71fad39",
   "metadata": {},
   "outputs": [],
   "source": []
  },
  {
   "cell_type": "code",
   "execution_count": 72,
   "id": "620ca742",
   "metadata": {},
   "outputs": [
    {
     "data": {
      "text/plain": [
       "[<matplotlib.lines.Line2D at 0x4e38fa0>]"
      ]
     },
     "execution_count": 72,
     "metadata": {},
     "output_type": "execute_result"
    },
    {
     "data": {
      "image/png": "[encoded data removed]",
      "text/plain": [
       "<Figure size 432x288 with 1 Axes>"
      ]
     },
     "metadata": {
      "needs_background": "light"
     },
     "output_type": "display_data"
    }
   ],
   "source": [
    "data1['MA5'] = train['CO2'].rolling(window=5).mean()\n",
    "plt.title('Simple moving average MA5', size=20)\n",
    "plt.plot(data1['CO2'], label='Original')\n",
    "plt.plot(data1['MA5'], label='MA5')"
   ]
  },
  {
   "cell_type": "code",
   "execution_count": 73,
   "id": "a8b5f7cb",
   "metadata": {},
   "outputs": [],
   "source": [
    "def MAPE(pred,org):\n",
    "    temp = np.abs((pred-org)/org)*100\n",
    "    return np.mean(temp)"
   ]
  },
  {
   "cell_type": "code",
   "execution_count": 74,
   "id": "2c2b8418",
   "metadata": {},
   "outputs": [
    {
     "data": {
      "image/png": "[encoded data removed]",
      "text/plain": [
       "<Figure size 432x288 with 1 Axes>"
      ]
     },
     "metadata": {
      "needs_background": "light"
     },
     "output_type": "display_data"
    }
   ],
   "source": [
    " # Simple Exponential Smoothing\n",
    "\n",
    "fit1 = SimpleExpSmoothing(train.CO2).fit(smoothing_level=0.3, optimized=False)\n",
    "\n",
    "plt.title('Simple Exponential Smoothing', size=20)\n",
    "plt.plot(train.CO2)\n",
    "plt.plot(fit1.fittedvalues, color='black', label = 'weight 0.3')\n",
    "plt.legend();"
   ]
  },
  {
   "cell_type": "code",
   "execution_count": 75,
   "id": "82a90760",
   "metadata": {},
   "outputs": [
    {
     "data": {
      "text/plain": [
       "134491.143304654"
      ]
     },
     "execution_count": 75,
     "metadata": {},
     "output_type": "execute_result"
    }
   ],
   "source": [
    "ses_model = SimpleExpSmoothing(train[\"CO2\"]).fit(smoothing_level=0.2)\n",
    "pred_ses = ses_model.predict(start = train.index[0],end = train.index[-1])\n",
    "MAPE(pred_ses,data.CO2)"
   ]
  },
  {
   "cell_type": "code",
   "execution_count": null,
   "id": "64fd46e1",
   "metadata": {},
   "outputs": [],
   "source": []
  },
  {
   "cell_type": "code",
   "execution_count": 76,
   "id": "1741bdf6",
   "metadata": {},
   "outputs": [
    {
     "data": {
      "text/plain": [
       "<matplotlib.legend.Legend at 0x4ccf8f8>"
      ]
     },
     "execution_count": 76,
     "metadata": {},
     "output_type": "execute_result"
    },
    {
     "data": {
      "image/png": "[encoded data removed]",
      "text/plain": [
       "<Figure size 432x288 with 1 Axes>"
      ]
     },
     "metadata": {
      "needs_background": "light"
     },
     "output_type": "display_data"
    }
   ],
   "source": [
    " from statsmodels.tsa.holtwinters import ExponentialSmoothing\n",
    "doublexp = ExponentialSmoothing(train.CO2, trend='mul').fit()\n",
    "\n",
    "plt.title('Double Exponential Smoohing', size=20)\n",
    "plt.plot(train.CO2, label = 'actual')\n",
    "plt.plot(doublexp.fittedvalues, label = 'fitted')\n",
    "plt.legend()"
   ]
  }
 ],
 "metadata": {
  "kernelspec": {
   "display_name": "Python 3 (ipykernel)",
   "language": "python",
   "name": "python3"
  },
  "language_info": {
   "codemirror_mode": {
    "name": "ipython",
    "version": 3
   },
   "file_extension": ".py",
   "mimetype": "text/x-python",
   "name": "python",
   "nbconvert_exporter": "python",
   "pygments_lexer": "ipython3",
   "version": "3.9.7"
  }
 },
 "nbformat": 4,
 "nbformat_minor": 5
}

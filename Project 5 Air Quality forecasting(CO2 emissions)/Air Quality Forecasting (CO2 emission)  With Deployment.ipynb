{
  "metadata": {
    "kernelspec": {
      "language": "python",
      "display_name": "Python 3",
      "name": "python3"
    },
    "language_info": {
      "name": "python",
      "version": "3.7.12",
      "mimetype": "text/x-python",
      "codemirror_mode": {
        "name": "ipython",
        "version": 3
      },
      "pygments_lexer": "ipython3",
      "nbconvert_exporter": "python",
      "file_extension": ".py"
    },
    "colab": {
      "name": "air-co.ipynb",
      "provenance": []
    }
  },
  "nbformat_minor": 0,
  "nbformat": 4,
  "cells": [
    {
      "cell_type": "markdown",
      "source": [
        "<p style=\"font-family:verdana;color:#29285D;font-size:200%;text-align:center\"><b>🛒\n",
        "    Air Quality forecasting(CO2 emissions)  🛒<br>\n",
        "    </p> \n",
        "<p style=\"font-family:verdana;text-align:center\">***************</p>\n"
      ],
      "metadata": {
        "id": "cEPsYThCiMdO"
      }
    },
    {
      "cell_type": "markdown",
      "source": [
        "\n",
        "<h2 style=\"background-color:green;font-family:verdana;color:white;font-size:100%;text-align:center;border-radius:10px 10px;letter-spacing:0.5px;padding: 10px\"> Step 1 : Understand The Business Problem </h2> "
      ],
      "metadata": {
        "id": "xqHogm1FiMdX"
      }
    },
    {
      "cell_type": "markdown",
      "source": [
        "<div style=\"color:white;\n",
        "           display:fill;\n",
        "           background-color:#29285D;\n",
        "           padding: 10px;\n",
        "           font-family:Verdana;\n",
        "           letter-spacing:0.5px\">\n",
        "    <h3 style=\"color:white;padding-left:20px\"><b>Business Statement 👀</b></h3>\n",
        "       <p style=\"color:white;font-size:110%;padding-left:50px\">\n",
        "          To forecast Co2 levels for an organization so that the organization can follow government norms\n",
        "with respect to Co2 emission levels.\n",
        "        </p>\n",
        "    </div>"
      ],
      "metadata": {
        "id": "2ot95uUPiMdY"
      }
    },
    {
      "cell_type": "markdown",
      "source": [
        " <h2 style=\"background-color:green;font-family:verdana;color:white;font-size:100%;text-align:center;border-radius:10px 10px;letter-spacing:0.5px;padding: 10px\"> Step 2 : Load The Data </h2> "
      ],
      "metadata": {
        "id": "D4yJx6TPiMda"
      }
    },
    {
      "cell_type": "code",
      "source": [
        "#Importing libraries\n",
        "import warnings\n",
        "import numpy as np\n",
        "\n",
        "from sklearn.linear_model import LinearRegression\n",
        "from sklearn.metrics import mean_squared_error, mean_absolute_error\n",
        "\n",
        "from statsmodels.tsa.arima.model import ARIMA\n",
        "from statsmodels.tsa.stattools import adfuller, kpss \n",
        "\n",
        "import pandas as pd\n",
        "from pandas import read_csv\n",
        "from matplotlib import pyplot as plt\n",
        "\n",
        "from matplotlib import pyplot# Import libraries\n",
        "from pandas import read_csv\n",
        "from matplotlib import pyplot\n",
        "from numpy import sqrt\n",
        "import warnings\n",
        "import itertools\n",
        "import pandas as pd\n",
        "import numpy as np\n",
        "import matplotlib.pyplot as plt\n",
        "import statsmodels.api as sm\n",
        "import warnings\n",
        "warnings.filterwarnings(\"ignore\")"
      ],
      "metadata": {
        "execution": {
          "iopub.status.busy": "2022-08-22T07:35:34.667450Z",
          "iopub.execute_input": "2022-08-22T07:35:34.668302Z",
          "iopub.status.idle": "2022-08-22T07:35:36.942486Z",
          "shell.execute_reply.started": "2022-08-22T07:35:34.668190Z",
          "shell.execute_reply": "2022-08-22T07:35:36.940594Z"
        },
        "trusted": true,
        "id": "mJ1dDDwiiMdb"
      },
      "execution_count": 81,
      "outputs": []
    },
    {
      "cell_type": "code",
      "source": [
        "#Import the data\n",
        "data = pd.read_csv('CO2 dataset.csv')\n",
        "data.head()                   # will show 1st 5 rows only"
      ],
      "metadata": {
        "execution": {
          "iopub.status.busy": "2022-08-22T07:35:36.944547Z",
          "iopub.execute_input": "2022-08-22T07:35:36.945005Z",
          "iopub.status.idle": "2022-08-22T07:35:36.974989Z",
          "shell.execute_reply.started": "2022-08-22T07:35:36.944955Z",
          "shell.execute_reply": "2022-08-22T07:35:36.974024Z"
        },
        "trusted": true,
        "colab": {
          "base_uri": "https://localhost:8080/",
          "height": 206
        },
        "id": "Dw_fhexXiMdd",
        "outputId": "655e05e1-34b2-49d3-daff-d0d9d4176708"
      },
      "execution_count": null,
      "outputs": [
        {
          "output_type": "execute_result",
          "data": {
            "text/plain": [
              "     Year      CO2\n",
              "0  1800.0  0.00568\n",
              "1  1801.0  0.00561\n",
              "2  1802.0  0.00555\n",
              "3  1803.0  0.00548\n",
              "4  1804.0  0.00542"
            ],
            "text/html": [
              "\n",
              "  <div id=\"df-58bf029c-7457-4d5f-8e04-29e558fa9366\">\n",
              "    <div class=\"colab-df-container\">\n",
              "      <div>\n",
              "<style scoped>\n",
              "    .dataframe tbody tr th:only-of-type {\n",
              "        vertical-align: middle;\n",
              "    }\n",
              "\n",
              "    .dataframe tbody tr th {\n",
              "        vertical-align: top;\n",
              "    }\n",
              "\n",
              "    .dataframe thead th {\n",
              "        text-align: right;\n",
              "    }\n",
              "</style>\n",
              "<table border=\"1\" class=\"dataframe\">\n",
              "  <thead>\n",
              "    <tr style=\"text-align: right;\">\n",
              "      <th></th>\n",
              "      <th>Year</th>\n",
              "      <th>CO2</th>\n",
              "    </tr>\n",
              "  </thead>\n",
              "  <tbody>\n",
              "    <tr>\n",
              "      <th>0</th>\n",
              "      <td>1800.0</td>\n",
              "      <td>0.00568</td>\n",
              "    </tr>\n",
              "    <tr>\n",
              "      <th>1</th>\n",
              "      <td>1801.0</td>\n",
              "      <td>0.00561</td>\n",
              "    </tr>\n",
              "    <tr>\n",
              "      <th>2</th>\n",
              "      <td>1802.0</td>\n",
              "      <td>0.00555</td>\n",
              "    </tr>\n",
              "    <tr>\n",
              "      <th>3</th>\n",
              "      <td>1803.0</td>\n",
              "      <td>0.00548</td>\n",
              "    </tr>\n",
              "    <tr>\n",
              "      <th>4</th>\n",
              "      <td>1804.0</td>\n",
              "      <td>0.00542</td>\n",
              "    </tr>\n",
              "  </tbody>\n",
              "</table>\n",
              "</div>\n",
              "      <button class=\"colab-df-convert\" onclick=\"convertToInteractive('df-58bf029c-7457-4d5f-8e04-29e558fa9366')\"\n",
              "              title=\"Convert this dataframe to an interactive table.\"\n",
              "              style=\"display:none;\">\n",
              "        \n",
              "  <svg xmlns=\"http://www.w3.org/2000/svg\" height=\"24px\"viewBox=\"0 0 24 24\"\n",
              "       width=\"24px\">\n",
              "    <path d=\"M0 0h24v24H0V0z\" fill=\"none\"/>\n",
              "    <path d=\"M18.56 5.44l.94 2.06.94-2.06 2.06-.94-2.06-.94-.94-2.06-.94 2.06-2.06.94zm-11 1L8.5 8.5l.94-2.06 2.06-.94-2.06-.94L8.5 2.5l-.94 2.06-2.06.94zm10 10l.94 2.06.94-2.06 2.06-.94-2.06-.94-.94-2.06-.94 2.06-2.06.94z\"/><path d=\"M17.41 7.96l-1.37-1.37c-.4-.4-.92-.59-1.43-.59-.52 0-1.04.2-1.43.59L10.3 9.45l-7.72 7.72c-.78.78-.78 2.05 0 2.83L4 21.41c.39.39.9.59 1.41.59.51 0 1.02-.2 1.41-.59l7.78-7.78 2.81-2.81c.8-.78.8-2.07 0-2.86zM5.41 20L4 18.59l7.72-7.72 1.47 1.35L5.41 20z\"/>\n",
              "  </svg>\n",
              "      </button>\n",
              "      \n",
              "  <style>\n",
              "    .colab-df-container {\n",
              "      display:flex;\n",
              "      flex-wrap:wrap;\n",
              "      gap: 12px;\n",
              "    }\n",
              "\n",
              "    .colab-df-convert {\n",
              "      background-color: #E8F0FE;\n",
              "      border: none;\n",
              "      border-radius: 50%;\n",
              "      cursor: pointer;\n",
              "      display: none;\n",
              "      fill: #1967D2;\n",
              "      height: 32px;\n",
              "      padding: 0 0 0 0;\n",
              "      width: 32px;\n",
              "    }\n",
              "\n",
              "    .colab-df-convert:hover {\n",
              "      background-color: #E2EBFA;\n",
              "      box-shadow: 0px 1px 2px rgba(60, 64, 67, 0.3), 0px 1px 3px 1px rgba(60, 64, 67, 0.15);\n",
              "      fill: #174EA6;\n",
              "    }\n",
              "\n",
              "    [theme=dark] .colab-df-convert {\n",
              "      background-color: #3B4455;\n",
              "      fill: #D2E3FC;\n",
              "    }\n",
              "\n",
              "    [theme=dark] .colab-df-convert:hover {\n",
              "      background-color: #434B5C;\n",
              "      box-shadow: 0px 1px 3px 1px rgba(0, 0, 0, 0.15);\n",
              "      filter: drop-shadow(0px 1px 2px rgba(0, 0, 0, 0.3));\n",
              "      fill: #FFFFFF;\n",
              "    }\n",
              "  </style>\n",
              "\n",
              "      <script>\n",
              "        const buttonEl =\n",
              "          document.querySelector('#df-58bf029c-7457-4d5f-8e04-29e558fa9366 button.colab-df-convert');\n",
              "        buttonEl.style.display =\n",
              "          google.colab.kernel.accessAllowed ? 'block' : 'none';\n",
              "\n",
              "        async function convertToInteractive(key) {\n",
              "          const element = document.querySelector('#df-58bf029c-7457-4d5f-8e04-29e558fa9366');\n",
              "          const dataTable =\n",
              "            await google.colab.kernel.invokeFunction('convertToInteractive',\n",
              "                                                     [key], {});\n",
              "          if (!dataTable) return;\n",
              "\n",
              "          const docLinkHtml = 'Like what you see? Visit the ' +\n",
              "            '<a target=\"_blank\" href=https://colab.research.google.com/notebooks/data_table.ipynb>data table notebook</a>'\n",
              "            + ' to learn more about interactive tables.';\n",
              "          element.innerHTML = '';\n",
              "          dataTable['output_type'] = 'display_data';\n",
              "          await google.colab.output.renderOutput(dataTable, element);\n",
              "          const docLink = document.createElement('div');\n",
              "          docLink.innerHTML = docLinkHtml;\n",
              "          element.appendChild(docLink);\n",
              "        }\n",
              "      </script>\n",
              "    </div>\n",
              "  </div>\n",
              "  "
            ]
          },
          "metadata": {},
          "execution_count": 2
        }
      ]
    },
    {
      "cell_type": "markdown",
      "source": [
        "<h2 style=\"background-color:green;font-family:verdana;color:white;font-size:100%;text-align:center;border-radius:10px 10px;letter-spacing:0.5px;padding: 10px\"> Step 3: EDA and Visualization </h2> "
      ],
      "metadata": {
        "id": "KB1FDCEOiMde"
      }
    },
    {
      "cell_type": "code",
      "source": [
        "data=data.loc[:214]\n",
        "data.shape  # will show rows and columns"
      ],
      "metadata": {
        "execution": {
          "iopub.status.busy": "2022-08-22T07:35:39.347711Z",
          "iopub.execute_input": "2022-08-22T07:35:39.348184Z",
          "iopub.status.idle": "2022-08-22T07:35:39.358162Z",
          "shell.execute_reply.started": "2022-08-22T07:35:39.348143Z",
          "shell.execute_reply": "2022-08-22T07:35:39.356347Z"
        },
        "trusted": true,
        "colab": {
          "base_uri": "https://localhost:8080/"
        },
        "id": "8FSXIpmdiMdf",
        "outputId": "45c7f7e5-5c4f-4822-be40-0e6087723c4c"
      },
      "execution_count": null,
      "outputs": [
        {
          "output_type": "execute_result",
          "data": {
            "text/plain": [
              "(215, 2)"
            ]
          },
          "metadata": {},
          "execution_count": 3
        }
      ]
    },
    {
      "cell_type": "code",
      "source": [
        "\n",
        "data.isnull().sum()          # This functin will show the total null values in our data"
      ],
      "metadata": {
        "execution": {
          "iopub.status.busy": "2022-08-22T07:35:39.737244Z",
          "iopub.execute_input": "2022-08-22T07:35:39.738490Z",
          "iopub.status.idle": "2022-08-22T07:35:39.753348Z",
          "shell.execute_reply.started": "2022-08-22T07:35:39.738431Z",
          "shell.execute_reply": "2022-08-22T07:35:39.750652Z"
        },
        "trusted": true,
        "colab": {
          "base_uri": "https://localhost:8080/"
        },
        "id": "CgQ0NFBdiMdg",
        "outputId": "9905965f-2d8c-4564-e408-b911272e52c8"
      },
      "execution_count": null,
      "outputs": [
        {
          "output_type": "execute_result",
          "data": {
            "text/plain": [
              "Year    0\n",
              "CO2     0\n",
              "dtype: int64"
            ]
          },
          "metadata": {},
          "execution_count": 4
        }
      ]
    },
    {
      "cell_type": "code",
      "source": [
        "data.info()             # this function will show the all information about the data"
      ],
      "metadata": {
        "execution": {
          "iopub.status.busy": "2022-08-22T07:35:40.145753Z",
          "iopub.execute_input": "2022-08-22T07:35:40.146204Z",
          "iopub.status.idle": "2022-08-22T07:35:40.174639Z",
          "shell.execute_reply.started": "2022-08-22T07:35:40.146168Z",
          "shell.execute_reply": "2022-08-22T07:35:40.173691Z"
        },
        "trusted": true,
        "colab": {
          "base_uri": "https://localhost:8080/"
        },
        "id": "GHGCFoWqiMdh",
        "outputId": "5d19c29a-ca1b-4b51-e068-7ee975df1e21"
      },
      "execution_count": null,
      "outputs": [
        {
          "output_type": "stream",
          "name": "stdout",
          "text": [
            "<class 'pandas.core.frame.DataFrame'>\n",
            "RangeIndex: 215 entries, 0 to 214\n",
            "Data columns (total 2 columns):\n",
            " #   Column  Non-Null Count  Dtype  \n",
            "---  ------  --------------  -----  \n",
            " 0   Year    215 non-null    float64\n",
            " 1   CO2     215 non-null    float64\n",
            "dtypes: float64(2)\n",
            "memory usage: 3.5 KB\n"
          ]
        }
      ]
    },
    {
      "cell_type": "code",
      "source": [
        "data.describe()          # This function will describe the data"
      ],
      "metadata": {
        "execution": {
          "iopub.status.busy": "2022-08-22T07:35:40.417774Z",
          "iopub.execute_input": "2022-08-22T07:35:40.418806Z",
          "iopub.status.idle": "2022-08-22T07:35:40.442577Z",
          "shell.execute_reply.started": "2022-08-22T07:35:40.418763Z",
          "shell.execute_reply": "2022-08-22T07:35:40.441677Z"
        },
        "trusted": true,
        "colab": {
          "base_uri": "https://localhost:8080/",
          "height": 300
        },
        "id": "S3EBThs4iMdi",
        "outputId": "294eeb5b-bd2e-4950-d114-a988f2162c76"
      },
      "execution_count": null,
      "outputs": [
        {
          "output_type": "execute_result",
          "data": {
            "text/plain": [
              "              Year         CO2\n",
              "count   215.000000  215.000000\n",
              "mean   1907.000000    6.741970\n",
              "std      62.209324    6.522437\n",
              "min    1800.000000    0.001750\n",
              "25%    1853.500000    0.041050\n",
              "50%    1907.000000    6.390000\n",
              "75%    1960.500000   11.500000\n",
              "max    2014.000000   18.200000"
            ],
            "text/html": [
              "\n",
              "  <div id=\"df-5259eece-45ca-4d5a-ad73-bda09fc44623\">\n",
              "    <div class=\"colab-df-container\">\n",
              "      <div>\n",
              "<style scoped>\n",
              "    .dataframe tbody tr th:only-of-type {\n",
              "        vertical-align: middle;\n",
              "    }\n",
              "\n",
              "    .dataframe tbody tr th {\n",
              "        vertical-align: top;\n",
              "    }\n",
              "\n",
              "    .dataframe thead th {\n",
              "        text-align: right;\n",
              "    }\n",
              "</style>\n",
              "<table border=\"1\" class=\"dataframe\">\n",
              "  <thead>\n",
              "    <tr style=\"text-align: right;\">\n",
              "      <th></th>\n",
              "      <th>Year</th>\n",
              "      <th>CO2</th>\n",
              "    </tr>\n",
              "  </thead>\n",
              "  <tbody>\n",
              "    <tr>\n",
              "      <th>count</th>\n",
              "      <td>215.000000</td>\n",
              "      <td>215.000000</td>\n",
              "    </tr>\n",
              "    <tr>\n",
              "      <th>mean</th>\n",
              "      <td>1907.000000</td>\n",
              "      <td>6.741970</td>\n",
              "    </tr>\n",
              "    <tr>\n",
              "      <th>std</th>\n",
              "      <td>62.209324</td>\n",
              "      <td>6.522437</td>\n",
              "    </tr>\n",
              "    <tr>\n",
              "      <th>min</th>\n",
              "      <td>1800.000000</td>\n",
              "      <td>0.001750</td>\n",
              "    </tr>\n",
              "    <tr>\n",
              "      <th>25%</th>\n",
              "      <td>1853.500000</td>\n",
              "      <td>0.041050</td>\n",
              "    </tr>\n",
              "    <tr>\n",
              "      <th>50%</th>\n",
              "      <td>1907.000000</td>\n",
              "      <td>6.390000</td>\n",
              "    </tr>\n",
              "    <tr>\n",
              "      <th>75%</th>\n",
              "      <td>1960.500000</td>\n",
              "      <td>11.500000</td>\n",
              "    </tr>\n",
              "    <tr>\n",
              "      <th>max</th>\n",
              "      <td>2014.000000</td>\n",
              "      <td>18.200000</td>\n",
              "    </tr>\n",
              "  </tbody>\n",
              "</table>\n",
              "</div>\n",
              "      <button class=\"colab-df-convert\" onclick=\"convertToInteractive('df-5259eece-45ca-4d5a-ad73-bda09fc44623')\"\n",
              "              title=\"Convert this dataframe to an interactive table.\"\n",
              "              style=\"display:none;\">\n",
              "        \n",
              "  <svg xmlns=\"http://www.w3.org/2000/svg\" height=\"24px\"viewBox=\"0 0 24 24\"\n",
              "       width=\"24px\">\n",
              "    <path d=\"M0 0h24v24H0V0z\" fill=\"none\"/>\n",
              "    <path d=\"M18.56 5.44l.94 2.06.94-2.06 2.06-.94-2.06-.94-.94-2.06-.94 2.06-2.06.94zm-11 1L8.5 8.5l.94-2.06 2.06-.94-2.06-.94L8.5 2.5l-.94 2.06-2.06.94zm10 10l.94 2.06.94-2.06 2.06-.94-2.06-.94-.94-2.06-.94 2.06-2.06.94z\"/><path d=\"M17.41 7.96l-1.37-1.37c-.4-.4-.92-.59-1.43-.59-.52 0-1.04.2-1.43.59L10.3 9.45l-7.72 7.72c-.78.78-.78 2.05 0 2.83L4 21.41c.39.39.9.59 1.41.59.51 0 1.02-.2 1.41-.59l7.78-7.78 2.81-2.81c.8-.78.8-2.07 0-2.86zM5.41 20L4 18.59l7.72-7.72 1.47 1.35L5.41 20z\"/>\n",
              "  </svg>\n",
              "      </button>\n",
              "      \n",
              "  <style>\n",
              "    .colab-df-container {\n",
              "      display:flex;\n",
              "      flex-wrap:wrap;\n",
              "      gap: 12px;\n",
              "    }\n",
              "\n",
              "    .colab-df-convert {\n",
              "      background-color: #E8F0FE;\n",
              "      border: none;\n",
              "      border-radius: 50%;\n",
              "      cursor: pointer;\n",
              "      display: none;\n",
              "      fill: #1967D2;\n",
              "      height: 32px;\n",
              "      padding: 0 0 0 0;\n",
              "      width: 32px;\n",
              "    }\n",
              "\n",
              "    .colab-df-convert:hover {\n",
              "      background-color: #E2EBFA;\n",
              "      box-shadow: 0px 1px 2px rgba(60, 64, 67, 0.3), 0px 1px 3px 1px rgba(60, 64, 67, 0.15);\n",
              "      fill: #174EA6;\n",
              "    }\n",
              "\n",
              "    [theme=dark] .colab-df-convert {\n",
              "      background-color: #3B4455;\n",
              "      fill: #D2E3FC;\n",
              "    }\n",
              "\n",
              "    [theme=dark] .colab-df-convert:hover {\n",
              "      background-color: #434B5C;\n",
              "      box-shadow: 0px 1px 3px 1px rgba(0, 0, 0, 0.15);\n",
              "      filter: drop-shadow(0px 1px 2px rgba(0, 0, 0, 0.3));\n",
              "      fill: #FFFFFF;\n",
              "    }\n",
              "  </style>\n",
              "\n",
              "      <script>\n",
              "        const buttonEl =\n",
              "          document.querySelector('#df-5259eece-45ca-4d5a-ad73-bda09fc44623 button.colab-df-convert');\n",
              "        buttonEl.style.display =\n",
              "          google.colab.kernel.accessAllowed ? 'block' : 'none';\n",
              "\n",
              "        async function convertToInteractive(key) {\n",
              "          const element = document.querySelector('#df-5259eece-45ca-4d5a-ad73-bda09fc44623');\n",
              "          const dataTable =\n",
              "            await google.colab.kernel.invokeFunction('convertToInteractive',\n",
              "                                                     [key], {});\n",
              "          if (!dataTable) return;\n",
              "\n",
              "          const docLinkHtml = 'Like what you see? Visit the ' +\n",
              "            '<a target=\"_blank\" href=https://colab.research.google.com/notebooks/data_table.ipynb>data table notebook</a>'\n",
              "            + ' to learn more about interactive tables.';\n",
              "          element.innerHTML = '';\n",
              "          dataTable['output_type'] = 'display_data';\n",
              "          await google.colab.output.renderOutput(dataTable, element);\n",
              "          const docLink = document.createElement('div');\n",
              "          docLink.innerHTML = docLinkHtml;\n",
              "          element.appendChild(docLink);\n",
              "        }\n",
              "      </script>\n",
              "    </div>\n",
              "  </div>\n",
              "  "
            ]
          },
          "metadata": {},
          "execution_count": 6
        }
      ]
    },
    {
      "cell_type": "code",
      "source": [
        "data.skew()  # positively skewed"
      ],
      "metadata": {
        "execution": {
          "iopub.status.busy": "2022-08-22T07:35:40.747545Z",
          "iopub.execute_input": "2022-08-22T07:35:40.748749Z",
          "iopub.status.idle": "2022-08-22T07:35:40.760918Z",
          "shell.execute_reply.started": "2022-08-22T07:35:40.748701Z",
          "shell.execute_reply": "2022-08-22T07:35:40.759473Z"
        },
        "trusted": true,
        "colab": {
          "base_uri": "https://localhost:8080/"
        },
        "id": "CZFw0K_WiMdi",
        "outputId": "99e06ba0-6183-461e-d01a-ba0016f1b97f"
      },
      "execution_count": null,
      "outputs": [
        {
          "output_type": "execute_result",
          "data": {
            "text/plain": [
              "Year    0.000000\n",
              "CO2     0.362736\n",
              "dtype: float64"
            ]
          },
          "metadata": {},
          "execution_count": 7
        }
      ]
    },
    {
      "cell_type": "code",
      "source": [
        "len(data[data['CO2']<1]) # 37% CO2 values are less then 1 "
      ],
      "metadata": {
        "execution": {
          "iopub.status.busy": "2022-08-22T07:35:41.037946Z",
          "iopub.execute_input": "2022-08-22T07:35:41.038872Z",
          "iopub.status.idle": "2022-08-22T07:35:41.049221Z",
          "shell.execute_reply.started": "2022-08-22T07:35:41.038817Z",
          "shell.execute_reply": "2022-08-22T07:35:41.047925Z"
        },
        "trusted": true,
        "colab": {
          "base_uri": "https://localhost:8080/"
        },
        "id": "EbHYLNQKiMdj",
        "outputId": "beaaa907-82ee-4005-e47a-ed780602fe3a"
      },
      "execution_count": null,
      "outputs": [
        {
          "output_type": "execute_result",
          "data": {
            "text/plain": [
              "80"
            ]
          },
          "metadata": {},
          "execution_count": 8
        }
      ]
    },
    {
      "cell_type": "code",
      "source": [
        "data[data['CO2'] == data['CO2'].max()]\n"
      ],
      "metadata": {
        "execution": {
          "iopub.status.busy": "2022-08-22T07:35:41.370176Z",
          "iopub.execute_input": "2022-08-22T07:35:41.371003Z",
          "iopub.status.idle": "2022-08-22T07:35:41.383440Z",
          "shell.execute_reply.started": "2022-08-22T07:35:41.370958Z",
          "shell.execute_reply": "2022-08-22T07:35:41.382156Z"
        },
        "trusted": true,
        "colab": {
          "base_uri": "https://localhost:8080/",
          "height": 81
        },
        "id": "NyCTg5dWiMdk",
        "outputId": "8f06f670-2ad8-4be6-f542-ce28af5dcf3a"
      },
      "execution_count": null,
      "outputs": [
        {
          "output_type": "execute_result",
          "data": {
            "text/plain": [
              "       Year   CO2\n",
              "179  1979.0  18.2"
            ],
            "text/html": [
              "\n",
              "  <div id=\"df-e3c92777-d779-4342-ab38-83aa1b16c434\">\n",
              "    <div class=\"colab-df-container\">\n",
              "      <div>\n",
              "<style scoped>\n",
              "    .dataframe tbody tr th:only-of-type {\n",
              "        vertical-align: middle;\n",
              "    }\n",
              "\n",
              "    .dataframe tbody tr th {\n",
              "        vertical-align: top;\n",
              "    }\n",
              "\n",
              "    .dataframe thead th {\n",
              "        text-align: right;\n",
              "    }\n",
              "</style>\n",
              "<table border=\"1\" class=\"dataframe\">\n",
              "  <thead>\n",
              "    <tr style=\"text-align: right;\">\n",
              "      <th></th>\n",
              "      <th>Year</th>\n",
              "      <th>CO2</th>\n",
              "    </tr>\n",
              "  </thead>\n",
              "  <tbody>\n",
              "    <tr>\n",
              "      <th>179</th>\n",
              "      <td>1979.0</td>\n",
              "      <td>18.2</td>\n",
              "    </tr>\n",
              "  </tbody>\n",
              "</table>\n",
              "</div>\n",
              "      <button class=\"colab-df-convert\" onclick=\"convertToInteractive('df-e3c92777-d779-4342-ab38-83aa1b16c434')\"\n",
              "              title=\"Convert this dataframe to an interactive table.\"\n",
              "              style=\"display:none;\">\n",
              "        \n",
              "  <svg xmlns=\"http://www.w3.org/2000/svg\" height=\"24px\"viewBox=\"0 0 24 24\"\n",
              "       width=\"24px\">\n",
              "    <path d=\"M0 0h24v24H0V0z\" fill=\"none\"/>\n",
              "    <path d=\"M18.56 5.44l.94 2.06.94-2.06 2.06-.94-2.06-.94-.94-2.06-.94 2.06-2.06.94zm-11 1L8.5 8.5l.94-2.06 2.06-.94-2.06-.94L8.5 2.5l-.94 2.06-2.06.94zm10 10l.94 2.06.94-2.06 2.06-.94-2.06-.94-.94-2.06-.94 2.06-2.06.94z\"/><path d=\"M17.41 7.96l-1.37-1.37c-.4-.4-.92-.59-1.43-.59-.52 0-1.04.2-1.43.59L10.3 9.45l-7.72 7.72c-.78.78-.78 2.05 0 2.83L4 21.41c.39.39.9.59 1.41.59.51 0 1.02-.2 1.41-.59l7.78-7.78 2.81-2.81c.8-.78.8-2.07 0-2.86zM5.41 20L4 18.59l7.72-7.72 1.47 1.35L5.41 20z\"/>\n",
              "  </svg>\n",
              "      </button>\n",
              "      \n",
              "  <style>\n",
              "    .colab-df-container {\n",
              "      display:flex;\n",
              "      flex-wrap:wrap;\n",
              "      gap: 12px;\n",
              "    }\n",
              "\n",
              "    .colab-df-convert {\n",
              "      background-color: #E8F0FE;\n",
              "      border: none;\n",
              "      border-radius: 50%;\n",
              "      cursor: pointer;\n",
              "      display: none;\n",
              "      fill: #1967D2;\n",
              "      height: 32px;\n",
              "      padding: 0 0 0 0;\n",
              "      width: 32px;\n",
              "    }\n",
              "\n",
              "    .colab-df-convert:hover {\n",
              "      background-color: #E2EBFA;\n",
              "      box-shadow: 0px 1px 2px rgba(60, 64, 67, 0.3), 0px 1px 3px 1px rgba(60, 64, 67, 0.15);\n",
              "      fill: #174EA6;\n",
              "    }\n",
              "\n",
              "    [theme=dark] .colab-df-convert {\n",
              "      background-color: #3B4455;\n",
              "      fill: #D2E3FC;\n",
              "    }\n",
              "\n",
              "    [theme=dark] .colab-df-convert:hover {\n",
              "      background-color: #434B5C;\n",
              "      box-shadow: 0px 1px 3px 1px rgba(0, 0, 0, 0.15);\n",
              "      filter: drop-shadow(0px 1px 2px rgba(0, 0, 0, 0.3));\n",
              "      fill: #FFFFFF;\n",
              "    }\n",
              "  </style>\n",
              "\n",
              "      <script>\n",
              "        const buttonEl =\n",
              "          document.querySelector('#df-e3c92777-d779-4342-ab38-83aa1b16c434 button.colab-df-convert');\n",
              "        buttonEl.style.display =\n",
              "          google.colab.kernel.accessAllowed ? 'block' : 'none';\n",
              "\n",
              "        async function convertToInteractive(key) {\n",
              "          const element = document.querySelector('#df-e3c92777-d779-4342-ab38-83aa1b16c434');\n",
              "          const dataTable =\n",
              "            await google.colab.kernel.invokeFunction('convertToInteractive',\n",
              "                                                     [key], {});\n",
              "          if (!dataTable) return;\n",
              "\n",
              "          const docLinkHtml = 'Like what you see? Visit the ' +\n",
              "            '<a target=\"_blank\" href=https://colab.research.google.com/notebooks/data_table.ipynb>data table notebook</a>'\n",
              "            + ' to learn more about interactive tables.';\n",
              "          element.innerHTML = '';\n",
              "          dataTable['output_type'] = 'display_data';\n",
              "          await google.colab.output.renderOutput(dataTable, element);\n",
              "          const docLink = document.createElement('div');\n",
              "          docLink.innerHTML = docLinkHtml;\n",
              "          element.appendChild(docLink);\n",
              "        }\n",
              "      </script>\n",
              "    </div>\n",
              "  </div>\n",
              "  "
            ]
          },
          "metadata": {},
          "execution_count": 9
        }
      ]
    },
    {
      "cell_type": "code",
      "source": [
        "data[data.duplicated()]              # No duplicated data present in ur dataset"
      ],
      "metadata": {
        "execution": {
          "iopub.status.busy": "2022-08-22T07:35:41.567395Z",
          "iopub.execute_input": "2022-08-22T07:35:41.568242Z",
          "iopub.status.idle": "2022-08-22T07:35:41.580038Z",
          "shell.execute_reply.started": "2022-08-22T07:35:41.568199Z",
          "shell.execute_reply": "2022-08-22T07:35:41.578412Z"
        },
        "trusted": true,
        "colab": {
          "base_uri": "https://localhost:8080/",
          "height": 49
        },
        "id": "DXVLOzppiMdk",
        "outputId": "acc3c5f4-2c15-46ad-aa52-4511d5e1e939"
      },
      "execution_count": null,
      "outputs": [
        {
          "output_type": "execute_result",
          "data": {
            "text/plain": [
              "Empty DataFrame\n",
              "Columns: [Year, CO2]\n",
              "Index: []"
            ],
            "text/html": [
              "\n",
              "  <div id=\"df-efdee46b-d894-46d8-bf93-166847e25760\">\n",
              "    <div class=\"colab-df-container\">\n",
              "      <div>\n",
              "<style scoped>\n",
              "    .dataframe tbody tr th:only-of-type {\n",
              "        vertical-align: middle;\n",
              "    }\n",
              "\n",
              "    .dataframe tbody tr th {\n",
              "        vertical-align: top;\n",
              "    }\n",
              "\n",
              "    .dataframe thead th {\n",
              "        text-align: right;\n",
              "    }\n",
              "</style>\n",
              "<table border=\"1\" class=\"dataframe\">\n",
              "  <thead>\n",
              "    <tr style=\"text-align: right;\">\n",
              "      <th></th>\n",
              "      <th>Year</th>\n",
              "      <th>CO2</th>\n",
              "    </tr>\n",
              "  </thead>\n",
              "  <tbody>\n",
              "  </tbody>\n",
              "</table>\n",
              "</div>\n",
              "      <button class=\"colab-df-convert\" onclick=\"convertToInteractive('df-efdee46b-d894-46d8-bf93-166847e25760')\"\n",
              "              title=\"Convert this dataframe to an interactive table.\"\n",
              "              style=\"display:none;\">\n",
              "        \n",
              "  <svg xmlns=\"http://www.w3.org/2000/svg\" height=\"24px\"viewBox=\"0 0 24 24\"\n",
              "       width=\"24px\">\n",
              "    <path d=\"M0 0h24v24H0V0z\" fill=\"none\"/>\n",
              "    <path d=\"M18.56 5.44l.94 2.06.94-2.06 2.06-.94-2.06-.94-.94-2.06-.94 2.06-2.06.94zm-11 1L8.5 8.5l.94-2.06 2.06-.94-2.06-.94L8.5 2.5l-.94 2.06-2.06.94zm10 10l.94 2.06.94-2.06 2.06-.94-2.06-.94-.94-2.06-.94 2.06-2.06.94z\"/><path d=\"M17.41 7.96l-1.37-1.37c-.4-.4-.92-.59-1.43-.59-.52 0-1.04.2-1.43.59L10.3 9.45l-7.72 7.72c-.78.78-.78 2.05 0 2.83L4 21.41c.39.39.9.59 1.41.59.51 0 1.02-.2 1.41-.59l7.78-7.78 2.81-2.81c.8-.78.8-2.07 0-2.86zM5.41 20L4 18.59l7.72-7.72 1.47 1.35L5.41 20z\"/>\n",
              "  </svg>\n",
              "      </button>\n",
              "      \n",
              "  <style>\n",
              "    .colab-df-container {\n",
              "      display:flex;\n",
              "      flex-wrap:wrap;\n",
              "      gap: 12px;\n",
              "    }\n",
              "\n",
              "    .colab-df-convert {\n",
              "      background-color: #E8F0FE;\n",
              "      border: none;\n",
              "      border-radius: 50%;\n",
              "      cursor: pointer;\n",
              "      display: none;\n",
              "      fill: #1967D2;\n",
              "      height: 32px;\n",
              "      padding: 0 0 0 0;\n",
              "      width: 32px;\n",
              "    }\n",
              "\n",
              "    .colab-df-convert:hover {\n",
              "      background-color: #E2EBFA;\n",
              "      box-shadow: 0px 1px 2px rgba(60, 64, 67, 0.3), 0px 1px 3px 1px rgba(60, 64, 67, 0.15);\n",
              "      fill: #174EA6;\n",
              "    }\n",
              "\n",
              "    [theme=dark] .colab-df-convert {\n",
              "      background-color: #3B4455;\n",
              "      fill: #D2E3FC;\n",
              "    }\n",
              "\n",
              "    [theme=dark] .colab-df-convert:hover {\n",
              "      background-color: #434B5C;\n",
              "      box-shadow: 0px 1px 3px 1px rgba(0, 0, 0, 0.15);\n",
              "      filter: drop-shadow(0px 1px 2px rgba(0, 0, 0, 0.3));\n",
              "      fill: #FFFFFF;\n",
              "    }\n",
              "  </style>\n",
              "\n",
              "      <script>\n",
              "        const buttonEl =\n",
              "          document.querySelector('#df-efdee46b-d894-46d8-bf93-166847e25760 button.colab-df-convert');\n",
              "        buttonEl.style.display =\n",
              "          google.colab.kernel.accessAllowed ? 'block' : 'none';\n",
              "\n",
              "        async function convertToInteractive(key) {\n",
              "          const element = document.querySelector('#df-efdee46b-d894-46d8-bf93-166847e25760');\n",
              "          const dataTable =\n",
              "            await google.colab.kernel.invokeFunction('convertToInteractive',\n",
              "                                                     [key], {});\n",
              "          if (!dataTable) return;\n",
              "\n",
              "          const docLinkHtml = 'Like what you see? Visit the ' +\n",
              "            '<a target=\"_blank\" href=https://colab.research.google.com/notebooks/data_table.ipynb>data table notebook</a>'\n",
              "            + ' to learn more about interactive tables.';\n",
              "          element.innerHTML = '';\n",
              "          dataTable['output_type'] = 'display_data';\n",
              "          await google.colab.output.renderOutput(dataTable, element);\n",
              "          const docLink = document.createElement('div');\n",
              "          docLink.innerHTML = docLinkHtml;\n",
              "          element.appendChild(docLink);\n",
              "        }\n",
              "      </script>\n",
              "    </div>\n",
              "  </div>\n",
              "  "
            ]
          },
          "metadata": {},
          "execution_count": 10
        }
      ]
    },
    {
      "cell_type": "code",
      "source": [
        "data['Year'] = data['Year'].astype(int)      #convert the year column from float to int\n",
        "data"
      ],
      "metadata": {
        "execution": {
          "iopub.status.busy": "2022-08-22T07:35:41.787348Z",
          "iopub.execute_input": "2022-08-22T07:35:41.787831Z",
          "iopub.status.idle": "2022-08-22T07:35:41.804938Z",
          "shell.execute_reply.started": "2022-08-22T07:35:41.787793Z",
          "shell.execute_reply": "2022-08-22T07:35:41.803699Z"
        },
        "trusted": true,
        "colab": {
          "base_uri": "https://localhost:8080/",
          "height": 424
        },
        "id": "VqkoahBLiMdl",
        "outputId": "235f71ca-300d-4cd4-a3d8-e1f0c2a73efe"
      },
      "execution_count": null,
      "outputs": [
        {
          "output_type": "execute_result",
          "data": {
            "text/plain": [
              "     Year       CO2\n",
              "0    1800   0.00568\n",
              "1    1801   0.00561\n",
              "2    1802   0.00555\n",
              "3    1803   0.00548\n",
              "4    1804   0.00542\n",
              "..    ...       ...\n",
              "210  2010  15.60000\n",
              "211  2011  15.60000\n",
              "212  2012  14.80000\n",
              "213  2013  14.70000\n",
              "214  2014  15.10000\n",
              "\n",
              "[215 rows x 2 columns]"
            ],
            "text/html": [
              "\n",
              "  <div id=\"df-1297180f-d75c-4272-b386-357c5d6ee8ce\">\n",
              "    <div class=\"colab-df-container\">\n",
              "      <div>\n",
              "<style scoped>\n",
              "    .dataframe tbody tr th:only-of-type {\n",
              "        vertical-align: middle;\n",
              "    }\n",
              "\n",
              "    .dataframe tbody tr th {\n",
              "        vertical-align: top;\n",
              "    }\n",
              "\n",
              "    .dataframe thead th {\n",
              "        text-align: right;\n",
              "    }\n",
              "</style>\n",
              "<table border=\"1\" class=\"dataframe\">\n",
              "  <thead>\n",
              "    <tr style=\"text-align: right;\">\n",
              "      <th></th>\n",
              "      <th>Year</th>\n",
              "      <th>CO2</th>\n",
              "    </tr>\n",
              "  </thead>\n",
              "  <tbody>\n",
              "    <tr>\n",
              "      <th>0</th>\n",
              "      <td>1800</td>\n",
              "      <td>0.00568</td>\n",
              "    </tr>\n",
              "    <tr>\n",
              "      <th>1</th>\n",
              "      <td>1801</td>\n",
              "      <td>0.00561</td>\n",
              "    </tr>\n",
              "    <tr>\n",
              "      <th>2</th>\n",
              "      <td>1802</td>\n",
              "      <td>0.00555</td>\n",
              "    </tr>\n",
              "    <tr>\n",
              "      <th>3</th>\n",
              "      <td>1803</td>\n",
              "      <td>0.00548</td>\n",
              "    </tr>\n",
              "    <tr>\n",
              "      <th>4</th>\n",
              "      <td>1804</td>\n",
              "      <td>0.00542</td>\n",
              "    </tr>\n",
              "    <tr>\n",
              "      <th>...</th>\n",
              "      <td>...</td>\n",
              "      <td>...</td>\n",
              "    </tr>\n",
              "    <tr>\n",
              "      <th>210</th>\n",
              "      <td>2010</td>\n",
              "      <td>15.60000</td>\n",
              "    </tr>\n",
              "    <tr>\n",
              "      <th>211</th>\n",
              "      <td>2011</td>\n",
              "      <td>15.60000</td>\n",
              "    </tr>\n",
              "    <tr>\n",
              "      <th>212</th>\n",
              "      <td>2012</td>\n",
              "      <td>14.80000</td>\n",
              "    </tr>\n",
              "    <tr>\n",
              "      <th>213</th>\n",
              "      <td>2013</td>\n",
              "      <td>14.70000</td>\n",
              "    </tr>\n",
              "    <tr>\n",
              "      <th>214</th>\n",
              "      <td>2014</td>\n",
              "      <td>15.10000</td>\n",
              "    </tr>\n",
              "  </tbody>\n",
              "</table>\n",
              "<p>215 rows × 2 columns</p>\n",
              "</div>\n",
              "      <button class=\"colab-df-convert\" onclick=\"convertToInteractive('df-1297180f-d75c-4272-b386-357c5d6ee8ce')\"\n",
              "              title=\"Convert this dataframe to an interactive table.\"\n",
              "              style=\"display:none;\">\n",
              "        \n",
              "  <svg xmlns=\"http://www.w3.org/2000/svg\" height=\"24px\"viewBox=\"0 0 24 24\"\n",
              "       width=\"24px\">\n",
              "    <path d=\"M0 0h24v24H0V0z\" fill=\"none\"/>\n",
              "    <path d=\"M18.56 5.44l.94 2.06.94-2.06 2.06-.94-2.06-.94-.94-2.06-.94 2.06-2.06.94zm-11 1L8.5 8.5l.94-2.06 2.06-.94-2.06-.94L8.5 2.5l-.94 2.06-2.06.94zm10 10l.94 2.06.94-2.06 2.06-.94-2.06-.94-.94-2.06-.94 2.06-2.06.94z\"/><path d=\"M17.41 7.96l-1.37-1.37c-.4-.4-.92-.59-1.43-.59-.52 0-1.04.2-1.43.59L10.3 9.45l-7.72 7.72c-.78.78-.78 2.05 0 2.83L4 21.41c.39.39.9.59 1.41.59.51 0 1.02-.2 1.41-.59l7.78-7.78 2.81-2.81c.8-.78.8-2.07 0-2.86zM5.41 20L4 18.59l7.72-7.72 1.47 1.35L5.41 20z\"/>\n",
              "  </svg>\n",
              "      </button>\n",
              "      \n",
              "  <style>\n",
              "    .colab-df-container {\n",
              "      display:flex;\n",
              "      flex-wrap:wrap;\n",
              "      gap: 12px;\n",
              "    }\n",
              "\n",
              "    .colab-df-convert {\n",
              "      background-color: #E8F0FE;\n",
              "      border: none;\n",
              "      border-radius: 50%;\n",
              "      cursor: pointer;\n",
              "      display: none;\n",
              "      fill: #1967D2;\n",
              "      height: 32px;\n",
              "      padding: 0 0 0 0;\n",
              "      width: 32px;\n",
              "    }\n",
              "\n",
              "    .colab-df-convert:hover {\n",
              "      background-color: #E2EBFA;\n",
              "      box-shadow: 0px 1px 2px rgba(60, 64, 67, 0.3), 0px 1px 3px 1px rgba(60, 64, 67, 0.15);\n",
              "      fill: #174EA6;\n",
              "    }\n",
              "\n",
              "    [theme=dark] .colab-df-convert {\n",
              "      background-color: #3B4455;\n",
              "      fill: #D2E3FC;\n",
              "    }\n",
              "\n",
              "    [theme=dark] .colab-df-convert:hover {\n",
              "      background-color: #434B5C;\n",
              "      box-shadow: 0px 1px 3px 1px rgba(0, 0, 0, 0.15);\n",
              "      filter: drop-shadow(0px 1px 2px rgba(0, 0, 0, 0.3));\n",
              "      fill: #FFFFFF;\n",
              "    }\n",
              "  </style>\n",
              "\n",
              "      <script>\n",
              "        const buttonEl =\n",
              "          document.querySelector('#df-1297180f-d75c-4272-b386-357c5d6ee8ce button.colab-df-convert');\n",
              "        buttonEl.style.display =\n",
              "          google.colab.kernel.accessAllowed ? 'block' : 'none';\n",
              "\n",
              "        async function convertToInteractive(key) {\n",
              "          const element = document.querySelector('#df-1297180f-d75c-4272-b386-357c5d6ee8ce');\n",
              "          const dataTable =\n",
              "            await google.colab.kernel.invokeFunction('convertToInteractive',\n",
              "                                                     [key], {});\n",
              "          if (!dataTable) return;\n",
              "\n",
              "          const docLinkHtml = 'Like what you see? Visit the ' +\n",
              "            '<a target=\"_blank\" href=https://colab.research.google.com/notebooks/data_table.ipynb>data table notebook</a>'\n",
              "            + ' to learn more about interactive tables.';\n",
              "          element.innerHTML = '';\n",
              "          dataTable['output_type'] = 'display_data';\n",
              "          await google.colab.output.renderOutput(dataTable, element);\n",
              "          const docLink = document.createElement('div');\n",
              "          docLink.innerHTML = docLinkHtml;\n",
              "          element.appendChild(docLink);\n",
              "        }\n",
              "      </script>\n",
              "    </div>\n",
              "  </div>\n",
              "  "
            ]
          },
          "metadata": {},
          "execution_count": 11
        }
      ]
    },
    {
      "cell_type": "markdown",
      "source": [
        "<h2 style=\"color:#DC7633;\">Visualization </h2>\n"
      ],
      "metadata": {
        "id": "OHz3fFh6iMdm"
      }
    },
    {
      "cell_type": "code",
      "source": [
        "\n",
        "data.index = pd.to_datetime(data['Year'], format='%Y')\n",
        "data.drop('Year',axis=1, inplace=True)\n",
        "data.head()\n"
      ],
      "metadata": {
        "execution": {
          "iopub.status.busy": "2022-08-22T07:35:42.247679Z",
          "iopub.execute_input": "2022-08-22T07:35:42.248442Z",
          "iopub.status.idle": "2022-08-22T07:35:42.267423Z",
          "shell.execute_reply.started": "2022-08-22T07:35:42.248402Z",
          "shell.execute_reply": "2022-08-22T07:35:42.265495Z"
        },
        "trusted": true,
        "colab": {
          "base_uri": "https://localhost:8080/",
          "height": 238
        },
        "id": "N0tUdMwKiMdm",
        "outputId": "ebebcd50-9cbb-45f1-bf6e-458c963c8d35"
      },
      "execution_count": null,
      "outputs": [
        {
          "output_type": "execute_result",
          "data": {
            "text/plain": [
              "                CO2\n",
              "Year               \n",
              "1800-01-01  0.00568\n",
              "1801-01-01  0.00561\n",
              "1802-01-01  0.00555\n",
              "1803-01-01  0.00548\n",
              "1804-01-01  0.00542"
            ],
            "text/html": [
              "\n",
              "  <div id=\"df-0917e8ce-27fe-40e3-844e-988f7a7ac213\">\n",
              "    <div class=\"colab-df-container\">\n",
              "      <div>\n",
              "<style scoped>\n",
              "    .dataframe tbody tr th:only-of-type {\n",
              "        vertical-align: middle;\n",
              "    }\n",
              "\n",
              "    .dataframe tbody tr th {\n",
              "        vertical-align: top;\n",
              "    }\n",
              "\n",
              "    .dataframe thead th {\n",
              "        text-align: right;\n",
              "    }\n",
              "</style>\n",
              "<table border=\"1\" class=\"dataframe\">\n",
              "  <thead>\n",
              "    <tr style=\"text-align: right;\">\n",
              "      <th></th>\n",
              "      <th>CO2</th>\n",
              "    </tr>\n",
              "    <tr>\n",
              "      <th>Year</th>\n",
              "      <th></th>\n",
              "    </tr>\n",
              "  </thead>\n",
              "  <tbody>\n",
              "    <tr>\n",
              "      <th>1800-01-01</th>\n",
              "      <td>0.00568</td>\n",
              "    </tr>\n",
              "    <tr>\n",
              "      <th>1801-01-01</th>\n",
              "      <td>0.00561</td>\n",
              "    </tr>\n",
              "    <tr>\n",
              "      <th>1802-01-01</th>\n",
              "      <td>0.00555</td>\n",
              "    </tr>\n",
              "    <tr>\n",
              "      <th>1803-01-01</th>\n",
              "      <td>0.00548</td>\n",
              "    </tr>\n",
              "    <tr>\n",
              "      <th>1804-01-01</th>\n",
              "      <td>0.00542</td>\n",
              "    </tr>\n",
              "  </tbody>\n",
              "</table>\n",
              "</div>\n",
              "      <button class=\"colab-df-convert\" onclick=\"convertToInteractive('df-0917e8ce-27fe-40e3-844e-988f7a7ac213')\"\n",
              "              title=\"Convert this dataframe to an interactive table.\"\n",
              "              style=\"display:none;\">\n",
              "        \n",
              "  <svg xmlns=\"http://www.w3.org/2000/svg\" height=\"24px\"viewBox=\"0 0 24 24\"\n",
              "       width=\"24px\">\n",
              "    <path d=\"M0 0h24v24H0V0z\" fill=\"none\"/>\n",
              "    <path d=\"M18.56 5.44l.94 2.06.94-2.06 2.06-.94-2.06-.94-.94-2.06-.94 2.06-2.06.94zm-11 1L8.5 8.5l.94-2.06 2.06-.94-2.06-.94L8.5 2.5l-.94 2.06-2.06.94zm10 10l.94 2.06.94-2.06 2.06-.94-2.06-.94-.94-2.06-.94 2.06-2.06.94z\"/><path d=\"M17.41 7.96l-1.37-1.37c-.4-.4-.92-.59-1.43-.59-.52 0-1.04.2-1.43.59L10.3 9.45l-7.72 7.72c-.78.78-.78 2.05 0 2.83L4 21.41c.39.39.9.59 1.41.59.51 0 1.02-.2 1.41-.59l7.78-7.78 2.81-2.81c.8-.78.8-2.07 0-2.86zM5.41 20L4 18.59l7.72-7.72 1.47 1.35L5.41 20z\"/>\n",
              "  </svg>\n",
              "      </button>\n",
              "      \n",
              "  <style>\n",
              "    .colab-df-container {\n",
              "      display:flex;\n",
              "      flex-wrap:wrap;\n",
              "      gap: 12px;\n",
              "    }\n",
              "\n",
              "    .colab-df-convert {\n",
              "      background-color: #E8F0FE;\n",
              "      border: none;\n",
              "      border-radius: 50%;\n",
              "      cursor: pointer;\n",
              "      display: none;\n",
              "      fill: #1967D2;\n",
              "      height: 32px;\n",
              "      padding: 0 0 0 0;\n",
              "      width: 32px;\n",
              "    }\n",
              "\n",
              "    .colab-df-convert:hover {\n",
              "      background-color: #E2EBFA;\n",
              "      box-shadow: 0px 1px 2px rgba(60, 64, 67, 0.3), 0px 1px 3px 1px rgba(60, 64, 67, 0.15);\n",
              "      fill: #174EA6;\n",
              "    }\n",
              "\n",
              "    [theme=dark] .colab-df-convert {\n",
              "      background-color: #3B4455;\n",
              "      fill: #D2E3FC;\n",
              "    }\n",
              "\n",
              "    [theme=dark] .colab-df-convert:hover {\n",
              "      background-color: #434B5C;\n",
              "      box-shadow: 0px 1px 3px 1px rgba(0, 0, 0, 0.15);\n",
              "      filter: drop-shadow(0px 1px 2px rgba(0, 0, 0, 0.3));\n",
              "      fill: #FFFFFF;\n",
              "    }\n",
              "  </style>\n",
              "\n",
              "      <script>\n",
              "        const buttonEl =\n",
              "          document.querySelector('#df-0917e8ce-27fe-40e3-844e-988f7a7ac213 button.colab-df-convert');\n",
              "        buttonEl.style.display =\n",
              "          google.colab.kernel.accessAllowed ? 'block' : 'none';\n",
              "\n",
              "        async function convertToInteractive(key) {\n",
              "          const element = document.querySelector('#df-0917e8ce-27fe-40e3-844e-988f7a7ac213');\n",
              "          const dataTable =\n",
              "            await google.colab.kernel.invokeFunction('convertToInteractive',\n",
              "                                                     [key], {});\n",
              "          if (!dataTable) return;\n",
              "\n",
              "          const docLinkHtml = 'Like what you see? Visit the ' +\n",
              "            '<a target=\"_blank\" href=https://colab.research.google.com/notebooks/data_table.ipynb>data table notebook</a>'\n",
              "            + ' to learn more about interactive tables.';\n",
              "          element.innerHTML = '';\n",
              "          dataTable['output_type'] = 'display_data';\n",
              "          await google.colab.output.renderOutput(dataTable, element);\n",
              "          const docLink = document.createElement('div');\n",
              "          docLink.innerHTML = docLinkHtml;\n",
              "          element.appendChild(docLink);\n",
              "        }\n",
              "      </script>\n",
              "    </div>\n",
              "  </div>\n",
              "  "
            ]
          },
          "metadata": {},
          "execution_count": 12
        }
      ]
    },
    {
      "cell_type": "markdown",
      "source": [
        "\n",
        "<h2 style=\"color:#DC7633;\">Density Plot</h2>\n"
      ],
      "metadata": {
        "id": "ZsqlZ10RiMdm"
      }
    },
    {
      "cell_type": "code",
      "source": [
        "data.plot(kind='kde')\n",
        "pyplot.show()"
      ],
      "metadata": {
        "execution": {
          "iopub.status.busy": "2022-08-22T07:35:42.647058Z",
          "iopub.execute_input": "2022-08-22T07:35:42.647883Z",
          "iopub.status.idle": "2022-08-22T07:35:42.933363Z",
          "shell.execute_reply.started": "2022-08-22T07:35:42.647837Z",
          "shell.execute_reply": "2022-08-22T07:35:42.931614Z"
        },
        "trusted": true,
        "colab": {
          "base_uri": "https://localhost:8080/",
          "height": 265
        },
        "id": "2_j7jumTiMdn",
        "outputId": "6222e4e2-f524-4dac-c9fa-92811235e68a"
      },
      "execution_count": null,
      "outputs": [
        {
          "output_type": "display_data",
          "data": {
            "text/plain": [
              "<Figure size 432x288 with 1 Axes>"
            ],
            "image/png": "[encoded data removed]"
          },
          "metadata": {
            "needs_background": "light"
          }
        }
      ]
    },
    {
      "cell_type": "markdown",
      "source": [
        "5 <h2 style=\"color:#DC7633;\">Histogram</h2>\n"
      ],
      "metadata": {
        "id": "kKq5XFEuiMdn"
      }
    },
    {
      "cell_type": "code",
      "source": [
        " data.hist()\n",
        "\n"
      ],
      "metadata": {
        "execution": {
          "iopub.status.busy": "2022-08-22T07:35:43.097447Z",
          "iopub.execute_input": "2022-08-22T07:35:43.098624Z",
          "iopub.status.idle": "2022-08-22T07:35:43.338964Z",
          "shell.execute_reply.started": "2022-08-22T07:35:43.098560Z",
          "shell.execute_reply": "2022-08-22T07:35:43.337357Z"
        },
        "trusted": true,
        "colab": {
          "base_uri": "https://localhost:8080/",
          "height": 316
        },
        "id": "P9Hfr-sniMdo",
        "outputId": "400668ee-99f8-41e3-e2fe-354143f31cd4"
      },
      "execution_count": null,
      "outputs": [
        {
          "output_type": "execute_result",
          "data": {
            "text/plain": [
              "array([[<matplotlib.axes._subplots.AxesSubplot object at 0x7f473089b4d0>]],\n",
              "      dtype=object)"
            ]
          },
          "metadata": {},
          "execution_count": 14
        },
        {
          "output_type": "display_data",
          "data": {
            "text/plain": [
              "<Figure size 432x288 with 1 Axes>"
            ],
            "image/png": "[encoded data removed]"
          },
          "metadata": {
            "needs_background": "light"
          }
        }
      ]
    },
    {
      "cell_type": "code",
      "source": [
        " import seaborn as sns\n",
        "sns.histplot(data) \n"
      ],
      "metadata": {
        "execution": {
          "iopub.status.busy": "2022-08-22T07:35:43.341413Z",
          "iopub.execute_input": "2022-08-22T07:35:43.342197Z",
          "iopub.status.idle": "2022-08-22T07:35:43.764413Z",
          "shell.execute_reply.started": "2022-08-22T07:35:43.342136Z",
          "shell.execute_reply": "2022-08-22T07:35:43.763522Z"
        },
        "trusted": true,
        "colab": {
          "base_uri": "https://localhost:8080/",
          "height": 282
        },
        "id": "8-IQuObViMdo",
        "outputId": "67ae20fd-3d89-4762-f3d7-abdbda3f26d1"
      },
      "execution_count": null,
      "outputs": [
        {
          "output_type": "execute_result",
          "data": {
            "text/plain": [
              "<matplotlib.axes._subplots.AxesSubplot at 0x7f473086cad0>"
            ]
          },
          "metadata": {},
          "execution_count": 15
        },
        {
          "output_type": "display_data",
          "data": {
            "text/plain": [
              "<Figure size 432x288 with 1 Axes>"
            ],
            "image/png": "[encoded data removed]"
          },
          "metadata": {
            "needs_background": "light"
          }
        }
      ]
    },
    {
      "cell_type": "markdown",
      "source": [
        "<h2 style=\"color:#DC7633;\">Line plot</h2>\n"
      ],
      "metadata": {
        "id": "dIhmf0tYiMdo"
      }
    },
    {
      "cell_type": "code",
      "source": [
        "data.plot()              # we can see there is a upword trend in plot"
      ],
      "metadata": {
        "execution": {
          "iopub.status.busy": "2022-08-22T07:35:43.766387Z",
          "iopub.execute_input": "2022-08-22T07:35:43.766827Z",
          "iopub.status.idle": "2022-08-22T07:35:44.048143Z",
          "shell.execute_reply.started": "2022-08-22T07:35:43.766789Z",
          "shell.execute_reply": "2022-08-22T07:35:44.046664Z"
        },
        "trusted": true,
        "colab": {
          "base_uri": "https://localhost:8080/",
          "height": 296
        },
        "id": "uWbQLgESiMdp",
        "outputId": "a0c451dd-632e-4b97-de02-9842831e9f42"
      },
      "execution_count": null,
      "outputs": [
        {
          "output_type": "execute_result",
          "data": {
            "text/plain": [
              "<matplotlib.axes._subplots.AxesSubplot at 0x7f47306c8050>"
            ]
          },
          "metadata": {},
          "execution_count": 16
        },
        {
          "output_type": "display_data",
          "data": {
            "text/plain": [
              "<Figure size 432x288 with 1 Axes>"
            ],
            "image/png": "[encoded data removed]"
          },
          "metadata": {
            "needs_background": "light"
          }
        }
      ]
    },
    {
      "cell_type": "markdown",
      "source": [
        "<h2 style=\"color:#DC7633;\">Box Plot</h2>\n"
      ],
      "metadata": {
        "id": "9rIGpvKDiMdp"
      }
    },
    {
      "cell_type": "code",
      "source": [
        "# Boxplot for ever\n",
        "import seaborn as sns\n",
        "plt.figure(figsize=(14,2))\n",
        "sns.boxplot(x = data['CO2'], palette='Pastel1')"
      ],
      "metadata": {
        "execution": {
          "iopub.status.busy": "2022-08-22T07:35:44.147323Z",
          "iopub.execute_input": "2022-08-22T07:35:44.147829Z",
          "iopub.status.idle": "2022-08-22T07:35:44.273501Z",
          "shell.execute_reply.started": "2022-08-22T07:35:44.147791Z",
          "shell.execute_reply": "2022-08-22T07:35:44.272289Z"
        },
        "trusted": true,
        "colab": {
          "base_uri": "https://localhost:8080/",
          "height": 188
        },
        "id": "E90RZwlmiMdp",
        "outputId": "96a7e2b1-9ccf-4030-eb22-f1c83babbcbd"
      },
      "execution_count": null,
      "outputs": [
        {
          "output_type": "execute_result",
          "data": {
            "text/plain": [
              "<matplotlib.axes._subplots.AxesSubplot at 0x7f472fd71b50>"
            ]
          },
          "metadata": {},
          "execution_count": 17
        },
        {
          "output_type": "display_data",
          "data": {
            "text/plain": [
              "<Figure size 1008x144 with 1 Axes>"
            ],
            "image/png": "[encoded data removed]"
          },
          "metadata": {
            "needs_background": "light"
          }
        }
      ]
    },
    {
      "cell_type": "markdown",
      "source": [
        "<h2 style=\"color:#DC7633;\">Lag Plot</h2>\n"
      ],
      "metadata": {
        "id": "SjGZgxmDiMdp"
      }
    },
    {
      "cell_type": "code",
      "source": [
        "from pandas.plotting import lag_plot\n",
        "from matplotlib import pyplot\n",
        "lag_plot(data)\n",
        "pyplot.show()                  # data is linear"
      ],
      "metadata": {
        "execution": {
          "iopub.status.busy": "2022-08-22T07:35:44.588320Z",
          "iopub.execute_input": "2022-08-22T07:35:44.588752Z",
          "iopub.status.idle": "2022-08-22T07:35:44.823971Z",
          "shell.execute_reply.started": "2022-08-22T07:35:44.588717Z",
          "shell.execute_reply": "2022-08-22T07:35:44.822480Z"
        },
        "trusted": true,
        "colab": {
          "base_uri": "https://localhost:8080/",
          "height": 279
        },
        "id": "HrL0QKvziMdq",
        "outputId": "498fe47c-6f47-4ca4-f0d2-d347bf360064"
      },
      "execution_count": null,
      "outputs": [
        {
          "output_type": "display_data",
          "data": {
            "text/plain": [
              "<Figure size 432x288 with 1 Axes>"
            ],
            "image/png": "[encoded data removed]"
          },
          "metadata": {
            "needs_background": "light"
          }
        }
      ]
    },
    {
      "cell_type": "markdown",
      "source": [
        "<div style=\"color:white;\n",
        "           display:fill;\n",
        "           background-color:#29285D;\n",
        "           padding: 10px;\n",
        "           font-family:Verdana;\n",
        "           letter-spacing:0.5px\">\n",
        "    <h3 style=\"color:white;padding-left:20px\"><b>Interface 👀</b></h3>\n",
        "       <p style=\"color:white;font-size:110%;padding-left:50px\">\n",
        "         1) After the total observation we can see the trend of our data and we have higher rate between -5 to +5<br><br>\n",
        "          2) There is trend in ur data because after some perid its going high suddenly and its moving up direction<br><br>\n",
        "           3) The Data is linear we can see using log plot\n",
        "        </p>\n",
        "    </div>"
      ],
      "metadata": {
        "id": "FnXs3xW-iMdq"
      }
    },
    {
      "cell_type": "markdown",
      "source": [
        "\n",
        "\n",
        "<h2 style=\"color:#DC7633;\">seasonal_decomposet</h2>\n"
      ],
      "metadata": {
        "id": "xCCKu5v5iMdq"
      }
    },
    {
      "cell_type": "code",
      "source": [
        "import matplotlib.pyplot as plt\n",
        "from statsmodels.tsa.seasonal import seasonal_decompose\n",
        "\n",
        "decompose_ts_add = seasonal_decompose(data.CO2,period=12)\n",
        "decompose_ts_add.plot()\n",
        "plt.show()"
      ],
      "metadata": {
        "execution": {
          "iopub.status.busy": "2022-08-22T07:35:45.247182Z",
          "iopub.execute_input": "2022-08-22T07:35:45.247591Z",
          "iopub.status.idle": "2022-08-22T07:35:46.055727Z",
          "shell.execute_reply.started": "2022-08-22T07:35:45.247558Z",
          "shell.execute_reply": "2022-08-22T07:35:46.054010Z"
        },
        "trusted": true,
        "colab": {
          "base_uri": "https://localhost:8080/",
          "height": 297
        },
        "id": "0s6zFmltiMdq",
        "outputId": "e93412fb-3ba4-4255-c968-cc3de6730c4b"
      },
      "execution_count": null,
      "outputs": [
        {
          "output_type": "display_data",
          "data": {
            "text/plain": [
              "<Figure size 432x288 with 4 Axes>"
            ],
            "image/png": "[encoded data removed]"
          },
          "metadata": {
            "needs_background": "light"
          }
        }
      ]
    },
    {
      "cell_type": "code",
      "source": [
        "seasonality=decompose_ts_add.seasonal\n",
        "seasonality.plot(color='green')"
      ],
      "metadata": {
        "execution": {
          "iopub.status.busy": "2022-08-22T07:35:46.058236Z",
          "iopub.execute_input": "2022-08-22T07:35:46.058813Z",
          "iopub.status.idle": "2022-08-22T07:35:46.322369Z",
          "shell.execute_reply.started": "2022-08-22T07:35:46.058752Z",
          "shell.execute_reply": "2022-08-22T07:35:46.320707Z"
        },
        "trusted": true,
        "colab": {
          "base_uri": "https://localhost:8080/",
          "height": 296
        },
        "id": "NQXoq_wLiMdr",
        "outputId": "a205a9f0-ff41-4154-e5e3-fc5db0f9b43c"
      },
      "execution_count": null,
      "outputs": [
        {
          "output_type": "execute_result",
          "data": {
            "text/plain": [
              "<matplotlib.axes._subplots.AxesSubplot at 0x7f472d3ce2d0>"
            ]
          },
          "metadata": {},
          "execution_count": 20
        },
        {
          "output_type": "display_data",
          "data": {
            "text/plain": [
              "<Figure size 432x288 with 1 Axes>"
            ],
            "image/png": "[encoded data removed]"
          },
          "metadata": {
            "needs_background": "light"
          }
        }
      ]
    },
    {
      "cell_type": "markdown",
      "source": [
        " <div style=\"color:white;\n",
        "           display:fill;\n",
        "           background-color:#29285D;\n",
        "           padding: 10px;\n",
        "           font-family:Verdana;\n",
        "           letter-spacing:0.5px\">\n",
        "    <h3 style=\"color:white;padding-left:20px\"><b>Interface 👀</b></h3>\n",
        "       <p style=\"color:white;font-size:110%;padding-left:50px\">\n",
        "         1) In the seasonality graph, we can see the seasonality structure for every year, which is cyclic and repeatedly providing the same value. <br><br>\n",
        "  2) To check for the stationarity of the time series, statsmodels provides a plot_acf method to plot an              autocorrelation plot.<br>\n",
        "        </p>\n",
        "    </div>"
      ],
      "metadata": {
        "id": "GxbE-THCiMdr"
      }
    },
    {
      "cell_type": "markdown",
      "source": [
        "<h2 style=\"color:#DC7633;\">ACF Plot</h2>\n"
      ],
      "metadata": {
        "id": "zVSvz9mriMdr"
      }
    },
    {
      "cell_type": "code",
      "source": [
        "#To check for the stationarity of the time series, statsmodels provides a plot_acf method to plot an autocorrelation plot.\n",
        "# It will check the correlation between previous data \n",
        "from statsmodels.graphics.tsaplots import plot_acf\n",
        "from statsmodels.graphics.tsaplots import plot_pacf\n",
        "\n",
        "plot_acf(data,lags=30)\n",
        "plot_pacf(data)\n",
        "pyplot.show()\n"
      ],
      "metadata": {
        "execution": {
          "iopub.status.busy": "2022-08-22T07:35:46.324875Z",
          "iopub.execute_input": "2022-08-22T07:35:46.325326Z",
          "iopub.status.idle": "2022-08-22T07:35:46.730208Z",
          "shell.execute_reply.started": "2022-08-22T07:35:46.325263Z",
          "shell.execute_reply": "2022-08-22T07:35:46.729002Z"
        },
        "trusted": true,
        "colab": {
          "base_uri": "https://localhost:8080/",
          "height": 545
        },
        "id": "EAK81JaMiMdr",
        "outputId": "1f9c9c63-a354-41e5-f681-da25382db6a3"
      },
      "execution_count": null,
      "outputs": [
        {
          "output_type": "display_data",
          "data": {
            "text/plain": [
              "<Figure size 432x288 with 1 Axes>"
            ],
            "image/png": "[encoded data removed]"
          },
          "metadata": {
            "needs_background": "light"
          }
        },
        {
          "output_type": "display_data",
          "data": {
            "text/plain": [
              "<Figure size 432x288 with 1 Axes>"
            ],
            "image/png": "[encoded data removed]"
          },
          "metadata": {
            "needs_background": "light"
          }
        }
      ]
    },
    {
      "cell_type": "markdown",
      "source": [
        " <div style=\"color:white;\n",
        "           display:fill;\n",
        "           background-color:#29285D;\n",
        "           padding: 10px;\n",
        "           font-family:Verdana;\n",
        "           letter-spacing:0.5px\">\n",
        "    <h3 style=\"color:white;padding-left:20px\"><b>Interface 👀</b></h3>\n",
        "       <p style=\"color:white;font-size:110%;padding-left:50px\">\n",
        "        1)  Here the blue area is the confidence interval<br><br>\n",
        "         2) Each candle is present on previous or historical data it means if we know the historical/Past year CO2 then we             can forecast next year CO2 <br><br>\n",
        "           3) There are strongly psitive correlation \n",
        "    </p>\n",
        "    </div>\n"
      ],
      "metadata": {
        "id": "EA4b585SiMds"
      }
    },
    {
      "cell_type": "markdown",
      "source": [
        " <h2 style=\"background-color:green;font-family:verdana;color:white;font-size:100%;text-align:center;border-radius:10px 10px;letter-spacing:0.5px;padding: 10px\"> Step 4 : Pre-Process Data </h2> "
      ],
      "metadata": {
        "id": "aJjCYlQsiMds"
      }
    },
    {
      "cell_type": "markdown",
      "source": [
        "<h3 style=\"color:orange;\">Stationary data means? </h3>\n",
        "\n",
        "1) constant mean\n",
        "\n",
        "2) constant variance\n",
        "\n",
        "3) constant covariance (uncorrelated)\n",
        "\n",
        "We verify this by observing change in mean, variance, autocorrelation and with a statistical test (ADFuller test)\n",
        "\n",
        "\n",
        " <h3 style=\"color:green;\">Following are the Techniques to check data is stationary or not ?</h3>\n",
        "\n",
        "1) Augmented Dickey-fuller test\n",
        "\n",
        "2) Kwiatkowski-Phillips-Schmidt-Shin (KPSS)\n",
        "\n",
        "3) Rolling Statistics\n"
      ],
      "metadata": {
        "id": "ixyHKTQ4iMds"
      }
    },
    {
      "cell_type": "markdown",
      "source": [
        "<h3 style=\"color:blue;\">1) Augmented Dickey-fuller test or not? </h3>\n"
      ],
      "metadata": {
        "id": "0NtsH3oWiMdt"
      }
    },
    {
      "cell_type": "code",
      "source": [
        "from statsmodels.tsa.stattools import adfuller\n",
        "print(\"Observations of Dickey-fuller test\")\n",
        "\n",
        "\n",
        "print(\"\\n > Is the de-trended data stationary ?\")\n",
        "dftest = adfuller(data['CO2'].dropna(), autolag='AIC')\n",
        "print(\"Test statistic = {:.3f}\".format(dftest[0]))\n",
        "print(\"P-value = {:.3f}\".format(dftest[1]))\n",
        "print(\"Critical values :\")\n",
        "for k, v in dftest[4].items():\n",
        "    print(\"\\t{}: {} - The data is {} stationary with {}% confidence\".format(k, v, \"not\" if v<dftest[0] else \"\", 100-int(k[:-1])))\n",
        "    "
      ],
      "metadata": {
        "execution": {
          "iopub.status.busy": "2022-08-22T07:35:47.167907Z",
          "iopub.execute_input": "2022-08-22T07:35:47.169408Z",
          "iopub.status.idle": "2022-08-22T07:35:47.196954Z",
          "shell.execute_reply.started": "2022-08-22T07:35:47.169347Z",
          "shell.execute_reply": "2022-08-22T07:35:47.195517Z"
        },
        "trusted": true,
        "colab": {
          "base_uri": "https://localhost:8080/"
        },
        "id": "SsW-SfToiMdt",
        "outputId": "a45dd9aa-e4dc-49d2-a716-e42e67f197c1"
      },
      "execution_count": null,
      "outputs": [
        {
          "output_type": "stream",
          "name": "stdout",
          "text": [
            "Observations of Dickey-fuller test\n",
            "\n",
            " > Is the de-trended data stationary ?\n",
            "Test statistic = -0.378\n",
            "P-value = 0.914\n",
            "Critical values :\n",
            "\t1%: -3.4612821203214907 - The data is not stationary with 99% confidence\n",
            "\t5%: -2.875142613826617 - The data is not stationary with 95% confidence\n",
            "\t10%: -2.574020122281422 - The data is not stationary with 90% confidence\n"
          ]
        }
      ]
    },
    {
      "cell_type": "markdown",
      "source": [
        " <div style=\"color:white;\n",
        "           display:fill;\n",
        "           background-color:#29285D;\n",
        "           padding: 10px;\n",
        "           font-family:Verdana;\n",
        "           letter-spacing:0.5px\">\n",
        "    <h3 style=\"color:white;padding-left:20px\"><b>Interface 👀</b></h3>\n",
        "       <p style=\"color:white;font-size:110%;padding-left:50px\">\n",
        "        Augmented Dicky Fuller test is a statistical test for stionarity.<br> \n",
        "        If the p value is less than 0.05, the series is stationary, otherwise non-stationary. \n",
        "    </p>\n",
        "    </div>"
      ],
      "metadata": {
        "id": "3BlDssKqiMdt"
      }
    },
    {
      "cell_type": "markdown",
      "source": [
        "<h3 style=\"color:blue;\">2) Kwiatkowski-Phillips-Schmidt-Shin (KPSS) or not? </h3>\n"
      ],
      "metadata": {
        "id": "7IgTZYgPiMdu"
      }
    },
    {
      "cell_type": "code",
      "source": [
        "result_kpss_ct_log=kpss(data['CO2'],regression=\"ct\")\n",
        "print('Test Statistic: %f' % np.round(result_kpss_ct_log[0],2))\n",
        "print('p-value: %f' %result_kpss_ct_log[1])\n",
        "print('Critical values:')\n",
        "for key, value in result_kpss_ct_log[3].items():\n",
        "     print('\\t%s: %.3f' %(key, value))"
      ],
      "metadata": {
        "execution": {
          "iopub.status.busy": "2022-08-22T07:35:47.815851Z",
          "iopub.execute_input": "2022-08-22T07:35:47.816275Z",
          "iopub.status.idle": "2022-08-22T07:35:47.828038Z",
          "shell.execute_reply.started": "2022-08-22T07:35:47.816240Z",
          "shell.execute_reply": "2022-08-22T07:35:47.825898Z"
        },
        "trusted": true,
        "colab": {
          "base_uri": "https://localhost:8080/"
        },
        "id": "qXpOLY3BiMdu",
        "outputId": "3e9431a4-79eb-4e11-9ac0-f087125054f4"
      },
      "execution_count": null,
      "outputs": [
        {
          "output_type": "stream",
          "name": "stdout",
          "text": [
            "Test Statistic: 0.220000\n",
            "p-value: 0.010000\n",
            "Critical values:\n",
            "\t10%: 0.119\n",
            "\t5%: 0.146\n",
            "\t2.5%: 0.176\n",
            "\t1%: 0.216\n"
          ]
        }
      ]
    },
    {
      "cell_type": "markdown",
      "source": [
        "<div style=\"color:white;\n",
        "           display:fill;\n",
        "           background-color:#29285D;\n",
        "           padding: 10px;\n",
        "           font-family:Verdana;\n",
        "           letter-spacing:0.5px\">\n",
        "    <h3 style=\"color:white;padding-left:20px\"><b>Interface 👀</b></h3>\n",
        "       <p style=\"color:white;font-size:110%;padding-left:50px\">\n",
        "         If the p-value is less than a predefined alpha level (typically 0.05), we reject the null hypothesis.      \n",
        "    </p>\n",
        "    </div>"
      ],
      "metadata": {
        "id": "CQKCgpuwiMdu"
      }
    },
    {
      "cell_type": "markdown",
      "source": [
        " <h3 style=\"color:blue;\">3) Rolling Statistics Test</h3>\n"
      ],
      "metadata": {
        "id": "r17P0fG5iMdu"
      }
    },
    {
      "cell_type": "code",
      "source": [
        "rmean=data.rolling(window=12).mean()\n",
        "rstd=data.rolling(window=12).std()\n",
        "#print(rmean,rstd)\n",
        "orig=plt.plot(data , color='black',label='Original')\n",
        "mean= plt.plot(rmean , color='red',label='Rolling Mean')\n",
        "std=plt.plot(rstd,color='blue',label = 'Rolling Standard Deviation')\n",
        "plt.legend(loc='best')\n",
        "plt.title(\"Rolling mean and standard deviation\")\n",
        "plt.show(block=False)"
      ],
      "metadata": {
        "execution": {
          "iopub.status.busy": "2022-08-22T07:35:48.616550Z",
          "iopub.execute_input": "2022-08-22T07:35:48.618916Z",
          "iopub.status.idle": "2022-08-22T07:35:48.845854Z",
          "shell.execute_reply.started": "2022-08-22T07:35:48.618749Z",
          "shell.execute_reply": "2022-08-22T07:35:48.844226Z"
        },
        "trusted": true,
        "colab": {
          "base_uri": "https://localhost:8080/",
          "height": 281
        },
        "id": "MOo5UrepiMdv",
        "outputId": "d2505fde-7495-47b5-b580-d90fd494ac05"
      },
      "execution_count": null,
      "outputs": [
        {
          "output_type": "display_data",
          "data": {
            "text/plain": [
              "<Figure size 432x288 with 1 Axes>"
            ],
            "image/png": "[encoded data removed]"
          },
          "metadata": {
            "needs_background": "light"
          }
        }
      ]
    },
    {
      "cell_type": "markdown",
      "source": [
        "<div style=\"color:white;\n",
        "           display:fill;\n",
        "           background-color:#29285D;\n",
        "           padding: 10px;\n",
        "           font-family:Verdana;\n",
        "           letter-spacing:0.5px\">\n",
        "    <h3 style=\"color:white;padding-left:20px\"><b>Interface 👀</b></h3>\n",
        "       <p style=\"color:white;font-size:110%;padding-left:50px\">\n",
        "        In this graph we can see mean and variance is not constant so we can say our data is non stationary \n",
        "    </p>\n",
        "    </div>"
      ],
      "metadata": {
        "id": "Xpca5vgNiMdv"
      }
    },
    {
      "cell_type": "markdown",
      "source": [
        "  <h2 style=\"color:Orange;\">    Making Time Series Stationary Test</h2>\n",
        "<h3 style=\"color:Green;\">    Differencing Test</h3>\n",
        "<h4 style=\"color:blue;\">  First  Differencing Test</h4>\n"
      ],
      "metadata": {
        "id": "XlMRVPRciMdv"
      }
    },
    {
      "cell_type": "code",
      "source": [
        "import numpy as np\n",
        "\n",
        " # making the data stationary\n",
        "#data['First Difference'] = data['CO2'] - data['CO2'].shift(1)\n",
        "#plt.plot(data['First Difference'])\n",
        "#data1=data.copy()\n",
        "data['First Difference'] = data['CO2'] - data['CO2'].shift(1)\n",
        "plt.plot(data['First Difference'])"
      ],
      "metadata": {
        "execution": {
          "iopub.status.busy": "2022-08-22T07:35:49.177853Z",
          "iopub.execute_input": "2022-08-22T07:35:49.178342Z",
          "iopub.status.idle": "2022-08-22T07:35:49.358352Z",
          "shell.execute_reply.started": "2022-08-22T07:35:49.178296Z",
          "shell.execute_reply": "2022-08-22T07:35:49.357105Z"
        },
        "trusted": true,
        "colab": {
          "base_uri": "https://localhost:8080/",
          "height": 282
        },
        "id": "u_OZ_7iPiMdw",
        "outputId": "8e0e15b1-4276-4292-a5af-00358950a752"
      },
      "execution_count": null,
      "outputs": [
        {
          "output_type": "execute_result",
          "data": {
            "text/plain": [
              "[<matplotlib.lines.Line2D at 0x7f472d1c7510>]"
            ]
          },
          "metadata": {},
          "execution_count": 25
        },
        {
          "output_type": "display_data",
          "data": {
            "text/plain": [
              "<Figure size 432x288 with 1 Axes>"
            ],
            "image/png": "[encoded data removed]"
          },
          "metadata": {
            "needs_background": "light"
          }
        }
      ]
    },
    {
      "cell_type": "code",
      "source": [
        "plot_acf(data['First Difference'].dropna(),lags=25)\n",
        "plot_pacf(data['First Difference'].dropna(),lags=25)"
      ],
      "metadata": {
        "execution": {
          "iopub.status.busy": "2022-08-22T07:35:49.366756Z",
          "iopub.execute_input": "2022-08-22T07:35:49.367204Z",
          "iopub.status.idle": "2022-08-22T07:35:49.852006Z",
          "shell.execute_reply.started": "2022-08-22T07:35:49.367169Z",
          "shell.execute_reply": "2022-08-22T07:35:49.849549Z"
        },
        "trusted": true,
        "colab": {
          "base_uri": "https://localhost:8080/",
          "height": 809
        },
        "id": "M99mOJN-iMdw",
        "outputId": "bcc2e00c-6cb1-4686-9705-734c7f91fedf"
      },
      "execution_count": null,
      "outputs": [
        {
          "output_type": "execute_result",
          "data": {
            "text/plain": [
              "<Figure size 432x288 with 1 Axes>"
            ],
            "image/png": "[encoded data removed]"
          },
          "metadata": {},
          "execution_count": 26
        },
        {
          "output_type": "display_data",
          "data": {
            "text/plain": [
              "<Figure size 432x288 with 1 Axes>"
            ],
            "image/png": "[encoded data removed]"
          },
          "metadata": {
            "needs_background": "light"
          }
        },
        {
          "output_type": "display_data",
          "data": {
            "text/plain": [
              "<Figure size 432x288 with 1 Axes>"
            ],
            "image/png": "[encoded data removed]"
          },
          "metadata": {
            "needs_background": "light"
          }
        }
      ]
    },
    {
      "cell_type": "code",
      "source": [
        "rmean=data['First Difference'].rolling(window=12).mean()\n",
        "rstd=data['First Difference'].rolling(window=12).std()\n",
        "#print(rmean,rstd)\n",
        "orig=plt.plot(data['First Difference'] , color='black',label='Original')\n",
        "mean= plt.plot(rmean , color='red',label='Rolling Mean')\n",
        "std=plt.plot(rstd,color='blue',label = 'Rolling Standard Deviation')\n",
        "plt.legend(loc='best')\n",
        "plt.title(\"Rolling mean and standard deviation\")\n",
        "plt.show(block=False)"
      ],
      "metadata": {
        "execution": {
          "iopub.status.busy": "2022-08-22T07:35:49.854423Z",
          "iopub.execute_input": "2022-08-22T07:35:49.855343Z",
          "iopub.status.idle": "2022-08-22T07:35:50.064165Z",
          "shell.execute_reply.started": "2022-08-22T07:35:49.855288Z",
          "shell.execute_reply": "2022-08-22T07:35:50.062592Z"
        },
        "trusted": true,
        "colab": {
          "base_uri": "https://localhost:8080/",
          "height": 281
        },
        "id": "0qq28sNuiMdw",
        "outputId": "ea0eaf2b-3c39-47aa-f481-92cd09c54e7b"
      },
      "execution_count": null,
      "outputs": [
        {
          "output_type": "display_data",
          "data": {
            "text/plain": [
              "<Figure size 432x288 with 1 Axes>"
            ],
            "image/png": "[encoded data removed]"
          },
          "metadata": {
            "needs_background": "light"
          }
        }
      ]
    },
    {
      "cell_type": "code",
      "source": [
        "from statsmodels.tsa.stattools import adfuller\n",
        "\n",
        "print(\" > Is the data stationary ?\")\n",
        "dftest = adfuller(data['First Difference'].dropna(),autolag='AIC')\n",
        "print(\"Test statistic = {:.3f}\".format(dftest[0]))\n",
        "print(\"P-value = {:.3f}\".format(dftest[1]))\n",
        "print(\"Critical values :\")\n",
        "for k, v in dftest[4].items():\n",
        "    print(\"\\t{}: {} - The data is {} stationary with {}% confidence\".format(k, v, \"not\" if v<dftest[0] else \"\", 100-int(k[:-1])))\n",
        "    "
      ],
      "metadata": {
        "execution": {
          "iopub.status.busy": "2022-08-22T07:35:50.065979Z",
          "iopub.execute_input": "2022-08-22T07:35:50.066466Z",
          "iopub.status.idle": "2022-08-22T07:35:50.092624Z",
          "shell.execute_reply.started": "2022-08-22T07:35:50.066416Z",
          "shell.execute_reply": "2022-08-22T07:35:50.091023Z"
        },
        "trusted": true,
        "colab": {
          "base_uri": "https://localhost:8080/"
        },
        "id": "Jx8S2QB_iMdw",
        "outputId": "14dad24e-b678-4e43-f189-69d607b0dce3"
      },
      "execution_count": null,
      "outputs": [
        {
          "output_type": "stream",
          "name": "stdout",
          "text": [
            " > Is the data stationary ?\n",
            "Test statistic = -3.780\n",
            "P-value = 0.003\n",
            "Critical values :\n",
            "\t1%: -3.4638151713286316 - The data is  stationary with 99% confidence\n",
            "\t5%: -2.876250632135043 - The data is  stationary with 95% confidence\n",
            "\t10%: -2.574611347821651 - The data is  stationary with 90% confidence\n"
          ]
        }
      ]
    },
    {
      "cell_type": "code",
      "source": [
        "result_kpss_ct_log=kpss(data['First Difference'].dropna(),regression=\"ct\")\n",
        "print('Test Statistic: %f' % np.round(result_kpss_ct_log[0],2))\n",
        "print('p-value: %f' %result_kpss_ct_log[1])\n",
        "print('Critical values:')\n",
        "for key, value in result_kpss_ct_log[3].items():\n",
        "     print('\\t%s: %.3f' %(key, value))"
      ],
      "metadata": {
        "execution": {
          "iopub.status.busy": "2022-08-22T07:35:50.095379Z",
          "iopub.execute_input": "2022-08-22T07:35:50.096449Z",
          "iopub.status.idle": "2022-08-22T07:35:50.108579Z",
          "shell.execute_reply.started": "2022-08-22T07:35:50.096396Z",
          "shell.execute_reply": "2022-08-22T07:35:50.106952Z"
        },
        "trusted": true,
        "colab": {
          "base_uri": "https://localhost:8080/"
        },
        "id": "zHOFBSFiiMdx",
        "outputId": "35ba5a5a-f446-4506-e8d1-1b489f1dc67f"
      },
      "execution_count": null,
      "outputs": [
        {
          "output_type": "stream",
          "name": "stdout",
          "text": [
            "Test Statistic: 0.110000\n",
            "p-value: 0.100000\n",
            "Critical values:\n",
            "\t10%: 0.119\n",
            "\t5%: 0.146\n",
            "\t2.5%: 0.176\n",
            "\t1%: 0.216\n"
          ]
        }
      ]
    },
    {
      "cell_type": "markdown",
      "source": [
        "<div style=\"color:white;\n",
        "           display:fill;\n",
        "           background-color:#29285D;\n",
        "           padding: 10px;\n",
        "           font-family:Verdana;\n",
        "           letter-spacing:0.5px\">\n",
        "    <h3 style=\"color:white;padding-left:20px\"><b>Interface 👀</b></h3>\n",
        "       <p style=\"color:white;font-size:110%;padding-left:50px\">\n",
        "         1) p value is less than 0.05, the series is stationary. <br>\n",
        "        2) In this graph we can see mean and variance is not constant so we can say our data is non stationary<br> \n",
        "         3) If the p-value is greater than a predefined alpha level (typically 0.05), we accept the null hypothesis.      \n",
        "    </p>\n",
        "    </div>"
      ],
      "metadata": {
        "id": "2meCES5QiMdx"
      }
    },
    {
      "cell_type": "code",
      "source": [
        " data"
      ],
      "metadata": {
        "execution": {
          "iopub.status.busy": "2022-08-22T07:35:50.255496Z",
          "iopub.execute_input": "2022-08-22T07:35:50.256006Z",
          "iopub.status.idle": "2022-08-22T07:35:50.274486Z",
          "shell.execute_reply.started": "2022-08-22T07:35:50.255968Z",
          "shell.execute_reply": "2022-08-22T07:35:50.272999Z"
        },
        "trusted": true,
        "colab": {
          "base_uri": "https://localhost:8080/",
          "height": 455
        },
        "id": "rpFZovidiMdx",
        "outputId": "f73aa2f6-81d9-4df5-bb9c-f1680a34e952"
      },
      "execution_count": null,
      "outputs": [
        {
          "output_type": "execute_result",
          "data": {
            "text/plain": [
              "                 CO2  First Difference\n",
              "Year                                  \n",
              "1800-01-01   0.00568               NaN\n",
              "1801-01-01   0.00561          -0.00007\n",
              "1802-01-01   0.00555          -0.00006\n",
              "1803-01-01   0.00548          -0.00007\n",
              "1804-01-01   0.00542          -0.00006\n",
              "...              ...               ...\n",
              "2010-01-01  15.60000          -0.30000\n",
              "2011-01-01  15.60000           0.00000\n",
              "2012-01-01  14.80000          -0.80000\n",
              "2013-01-01  14.70000          -0.10000\n",
              "2014-01-01  15.10000           0.40000\n",
              "\n",
              "[215 rows x 2 columns]"
            ],
            "text/html": [
              "\n",
              "  <div id=\"df-8f84d747-2bc8-473f-a0a4-e678301a4128\">\n",
              "    <div class=\"colab-df-container\">\n",
              "      <div>\n",
              "<style scoped>\n",
              "    .dataframe tbody tr th:only-of-type {\n",
              "        vertical-align: middle;\n",
              "    }\n",
              "\n",
              "    .dataframe tbody tr th {\n",
              "        vertical-align: top;\n",
              "    }\n",
              "\n",
              "    .dataframe thead th {\n",
              "        text-align: right;\n",
              "    }\n",
              "</style>\n",
              "<table border=\"1\" class=\"dataframe\">\n",
              "  <thead>\n",
              "    <tr style=\"text-align: right;\">\n",
              "      <th></th>\n",
              "      <th>CO2</th>\n",
              "      <th>First Difference</th>\n",
              "    </tr>\n",
              "    <tr>\n",
              "      <th>Year</th>\n",
              "      <th></th>\n",
              "      <th></th>\n",
              "    </tr>\n",
              "  </thead>\n",
              "  <tbody>\n",
              "    <tr>\n",
              "      <th>1800-01-01</th>\n",
              "      <td>0.00568</td>\n",
              "      <td>NaN</td>\n",
              "    </tr>\n",
              "    <tr>\n",
              "      <th>1801-01-01</th>\n",
              "      <td>0.00561</td>\n",
              "      <td>-0.00007</td>\n",
              "    </tr>\n",
              "    <tr>\n",
              "      <th>1802-01-01</th>\n",
              "      <td>0.00555</td>\n",
              "      <td>-0.00006</td>\n",
              "    </tr>\n",
              "    <tr>\n",
              "      <th>1803-01-01</th>\n",
              "      <td>0.00548</td>\n",
              "      <td>-0.00007</td>\n",
              "    </tr>\n",
              "    <tr>\n",
              "      <th>1804-01-01</th>\n",
              "      <td>0.00542</td>\n",
              "      <td>-0.00006</td>\n",
              "    </tr>\n",
              "    <tr>\n",
              "      <th>...</th>\n",
              "      <td>...</td>\n",
              "      <td>...</td>\n",
              "    </tr>\n",
              "    <tr>\n",
              "      <th>2010-01-01</th>\n",
              "      <td>15.60000</td>\n",
              "      <td>-0.30000</td>\n",
              "    </tr>\n",
              "    <tr>\n",
              "      <th>2011-01-01</th>\n",
              "      <td>15.60000</td>\n",
              "      <td>0.00000</td>\n",
              "    </tr>\n",
              "    <tr>\n",
              "      <th>2012-01-01</th>\n",
              "      <td>14.80000</td>\n",
              "      <td>-0.80000</td>\n",
              "    </tr>\n",
              "    <tr>\n",
              "      <th>2013-01-01</th>\n",
              "      <td>14.70000</td>\n",
              "      <td>-0.10000</td>\n",
              "    </tr>\n",
              "    <tr>\n",
              "      <th>2014-01-01</th>\n",
              "      <td>15.10000</td>\n",
              "      <td>0.40000</td>\n",
              "    </tr>\n",
              "  </tbody>\n",
              "</table>\n",
              "<p>215 rows × 2 columns</p>\n",
              "</div>\n",
              "      <button class=\"colab-df-convert\" onclick=\"convertToInteractive('df-8f84d747-2bc8-473f-a0a4-e678301a4128')\"\n",
              "              title=\"Convert this dataframe to an interactive table.\"\n",
              "              style=\"display:none;\">\n",
              "        \n",
              "  <svg xmlns=\"http://www.w3.org/2000/svg\" height=\"24px\"viewBox=\"0 0 24 24\"\n",
              "       width=\"24px\">\n",
              "    <path d=\"M0 0h24v24H0V0z\" fill=\"none\"/>\n",
              "    <path d=\"M18.56 5.44l.94 2.06.94-2.06 2.06-.94-2.06-.94-.94-2.06-.94 2.06-2.06.94zm-11 1L8.5 8.5l.94-2.06 2.06-.94-2.06-.94L8.5 2.5l-.94 2.06-2.06.94zm10 10l.94 2.06.94-2.06 2.06-.94-2.06-.94-.94-2.06-.94 2.06-2.06.94z\"/><path d=\"M17.41 7.96l-1.37-1.37c-.4-.4-.92-.59-1.43-.59-.52 0-1.04.2-1.43.59L10.3 9.45l-7.72 7.72c-.78.78-.78 2.05 0 2.83L4 21.41c.39.39.9.59 1.41.59.51 0 1.02-.2 1.41-.59l7.78-7.78 2.81-2.81c.8-.78.8-2.07 0-2.86zM5.41 20L4 18.59l7.72-7.72 1.47 1.35L5.41 20z\"/>\n",
              "  </svg>\n",
              "      </button>\n",
              "      \n",
              "  <style>\n",
              "    .colab-df-container {\n",
              "      display:flex;\n",
              "      flex-wrap:wrap;\n",
              "      gap: 12px;\n",
              "    }\n",
              "\n",
              "    .colab-df-convert {\n",
              "      background-color: #E8F0FE;\n",
              "      border: none;\n",
              "      border-radius: 50%;\n",
              "      cursor: pointer;\n",
              "      display: none;\n",
              "      fill: #1967D2;\n",
              "      height: 32px;\n",
              "      padding: 0 0 0 0;\n",
              "      width: 32px;\n",
              "    }\n",
              "\n",
              "    .colab-df-convert:hover {\n",
              "      background-color: #E2EBFA;\n",
              "      box-shadow: 0px 1px 2px rgba(60, 64, 67, 0.3), 0px 1px 3px 1px rgba(60, 64, 67, 0.15);\n",
              "      fill: #174EA6;\n",
              "    }\n",
              "\n",
              "    [theme=dark] .colab-df-convert {\n",
              "      background-color: #3B4455;\n",
              "      fill: #D2E3FC;\n",
              "    }\n",
              "\n",
              "    [theme=dark] .colab-df-convert:hover {\n",
              "      background-color: #434B5C;\n",
              "      box-shadow: 0px 1px 3px 1px rgba(0, 0, 0, 0.15);\n",
              "      filter: drop-shadow(0px 1px 2px rgba(0, 0, 0, 0.3));\n",
              "      fill: #FFFFFF;\n",
              "    }\n",
              "  </style>\n",
              "\n",
              "      <script>\n",
              "        const buttonEl =\n",
              "          document.querySelector('#df-8f84d747-2bc8-473f-a0a4-e678301a4128 button.colab-df-convert');\n",
              "        buttonEl.style.display =\n",
              "          google.colab.kernel.accessAllowed ? 'block' : 'none';\n",
              "\n",
              "        async function convertToInteractive(key) {\n",
              "          const element = document.querySelector('#df-8f84d747-2bc8-473f-a0a4-e678301a4128');\n",
              "          const dataTable =\n",
              "            await google.colab.kernel.invokeFunction('convertToInteractive',\n",
              "                                                     [key], {});\n",
              "          if (!dataTable) return;\n",
              "\n",
              "          const docLinkHtml = 'Like what you see? Visit the ' +\n",
              "            '<a target=\"_blank\" href=https://colab.research.google.com/notebooks/data_table.ipynb>data table notebook</a>'\n",
              "            + ' to learn more about interactive tables.';\n",
              "          element.innerHTML = '';\n",
              "          dataTable['output_type'] = 'display_data';\n",
              "          await google.colab.output.renderOutput(dataTable, element);\n",
              "          const docLink = document.createElement('div');\n",
              "          docLink.innerHTML = docLinkHtml;\n",
              "          element.appendChild(docLink);\n",
              "        }\n",
              "      </script>\n",
              "    </div>\n",
              "  </div>\n",
              "  "
            ]
          },
          "metadata": {},
          "execution_count": 30
        }
      ]
    },
    {
      "cell_type": "code",
      "source": [
        "import pandas as pd\n",
        "import numpy as np\n",
        "import matplotlib.pyplot as plt\n",
        "import seaborn as sns\n",
        "import statsmodels.api as sm\n",
        "from statsmodels.tsa.seasonal import seasonal_decompose\n",
        "from statsmodels.tsa.holtwinters import SimpleExpSmoothing # SES\n",
        "from statsmodels.tsa.holtwinters import Holt # Holts Exponential Smoothing\n",
        "from statsmodels.tsa.holtwinters import ExponentialSmoothing # \n",
        "import statsmodels.graphics.tsaplots as tsa_plots\n",
        "import statsmodels.tsa.statespace as tm_models\n",
        "from datetime import datetime,time"
      ],
      "metadata": {
        "execution": {
          "iopub.status.busy": "2022-08-22T07:35:50.448102Z",
          "iopub.execute_input": "2022-08-22T07:35:50.448571Z",
          "iopub.status.idle": "2022-08-22T07:35:50.456981Z",
          "shell.execute_reply.started": "2022-08-22T07:35:50.448535Z",
          "shell.execute_reply": "2022-08-22T07:35:50.455268Z"
        },
        "trusted": true,
        "id": "VT4tFLcviMdy"
      },
      "execution_count": null,
      "outputs": []
    },
    {
      "cell_type": "code",
      "source": [
        "Train = data.head(180)\n",
        "Test =data.tail(35)"
      ],
      "metadata": {
        "execution": {
          "iopub.status.busy": "2022-08-22T07:35:50.696625Z",
          "iopub.execute_input": "2022-08-22T07:35:50.697069Z",
          "iopub.status.idle": "2022-08-22T07:35:50.702691Z",
          "shell.execute_reply.started": "2022-08-22T07:35:50.697032Z",
          "shell.execute_reply": "2022-08-22T07:35:50.701748Z"
        },
        "trusted": true,
        "id": "B55n0WetiMdy"
      },
      "execution_count": null,
      "outputs": []
    },
    {
      "cell_type": "code",
      "source": [
        "# Creating a function to calculate the MAPE value for test data \n",
        "def MAPE(pred,org):\n",
        "    temp = np.abs((pred-org))*100/org\n",
        "    return np.mean(temp)"
      ],
      "metadata": {
        "execution": {
          "iopub.status.busy": "2022-08-22T07:35:50.907340Z",
          "iopub.execute_input": "2022-08-22T07:35:50.908742Z",
          "iopub.status.idle": "2022-08-22T07:35:50.921485Z",
          "shell.execute_reply.started": "2022-08-22T07:35:50.908681Z",
          "shell.execute_reply": "2022-08-22T07:35:50.919767Z"
        },
        "trusted": true,
        "id": "8t3DUzhNiMdy"
      },
      "execution_count": null,
      "outputs": []
    },
    {
      "cell_type": "markdown",
      "source": [
        "  <h2 style=\"color:Orange;\">  Simple Exponential Method</h2>\n"
      ],
      "metadata": {
        "id": "dQDpSc2giMdz"
      }
    },
    {
      "cell_type": "code",
      "source": [
        "\n",
        "ses_model = SimpleExpSmoothing(Train['CO2']).fit(smoothing_level=0.2)\n",
        "#ses_model = SimpleExpSmoothing(Train.CO2).fit(smoothing_level=0.3, optimized=False)\n",
        "pred_ses = ses_model.predict(start = Test.index[0],end = Test.index[-1])\n",
        "\n",
        "plt.plot(Test.CO2)\n",
        "plt.plot(pred_ses)\n",
        "\n",
        "rmse = sqrt(mean_squared_error(Test.CO2, pred_ses))\n",
        "print('MAE:', mean_absolute_error(Test.CO2,pred_ses)) \n",
        "print('RMSE :',rmse ,'\\n''MAPE :',MAPE(pred_ses,Test.CO2))\n",
        "\n",
        "\n",
        "\n"
      ],
      "metadata": {
        "execution": {
          "iopub.status.busy": "2022-08-22T07:35:51.378310Z",
          "iopub.execute_input": "2022-08-22T07:35:51.379460Z",
          "iopub.status.idle": "2022-08-22T07:35:51.679400Z",
          "shell.execute_reply.started": "2022-08-22T07:35:51.379402Z",
          "shell.execute_reply": "2022-08-22T07:35:51.678463Z"
        },
        "trusted": true,
        "colab": {
          "base_uri": "https://localhost:8080/",
          "height": 317
        },
        "id": "U4e4wyj3iMdz",
        "outputId": "4fe02d85-44df-4779-ed97-30717f49f355"
      },
      "execution_count": null,
      "outputs": [
        {
          "output_type": "stream",
          "name": "stdout",
          "text": [
            "MAE: 0.7594402120707794\n",
            "RMSE : 0.9711142323936686 \n",
            "MAPE : 4.810371631853253\n"
          ]
        },
        {
          "output_type": "display_data",
          "data": {
            "text/plain": [
              "<Figure size 432x288 with 1 Axes>"
            ],
            "image/png": "[encoded data removed]"
          },
          "metadata": {
            "needs_background": "light"
          }
        }
      ]
    },
    {
      "cell_type": "markdown",
      "source": [
        "  <h2 style=\"color:Orange;\"> Holt method</h2>\n"
      ],
      "metadata": {
        "id": "Y9MT2WXQiMdz"
      }
    },
    {
      "cell_type": "code",
      "source": [
        "# Holt method \n",
        "hw_model = Holt(Train[\"CO2\"]).fit(smoothing_level=0.02, smoothing_slope=0.2)\n",
        "pred_hw = hw_model.predict(start = Test.index[0],end = Test.index[-1])\n",
        "rmse = sqrt(mean_squared_error(Test.CO2, pred_hw))\n",
        "plt.plot(Test.CO2)\n",
        "plt.plot(pred_hw)\n",
        "print('RMSE :',rmse ,'\\n''MAPE :',MAPE(pred_hw,Test.CO2))\n",
        "print('MAE:', mean_absolute_error(Test.CO2,pred_hw)) \n",
        "\n",
        " "
      ],
      "metadata": {
        "execution": {
          "iopub.status.busy": "2022-08-22T07:35:51.807536Z",
          "iopub.execute_input": "2022-08-22T07:35:51.808896Z",
          "iopub.status.idle": "2022-08-22T07:35:52.082659Z",
          "shell.execute_reply.started": "2022-08-22T07:35:51.808853Z",
          "shell.execute_reply": "2022-08-22T07:35:52.081671Z"
        },
        "trusted": true,
        "colab": {
          "base_uri": "https://localhost:8080/",
          "height": 317
        },
        "id": "85S6GbZciMdz",
        "outputId": "0670ac74-89e9-4dba-c612-bea7357add3e"
      },
      "execution_count": null,
      "outputs": [
        {
          "output_type": "stream",
          "name": "stdout",
          "text": [
            "RMSE : 1.9823784453655764 \n",
            "MAPE : 9.152120317490075\n",
            "MAE: 1.4697652088725872\n"
          ]
        },
        {
          "output_type": "display_data",
          "data": {
            "text/plain": [
              "<Figure size 432x288 with 1 Axes>"
            ],
            "image/png": "[encoded data removed]"
          },
          "metadata": {
            "needs_background": "light"
          }
        }
      ]
    },
    {
      "cell_type": "markdown",
      "source": [
        "  <h2 style=\"color:Orange;\"> Holts winter exponential smoothing with additive seasonality and additive trend\n",
        "</h2>\n",
        "\n"
      ],
      "metadata": {
        "id": "F6MKf4MRiMd0"
      }
    },
    {
      "cell_type": "code",
      "source": [
        "# Holts winter exponential smoothing with additive seasonality and additive trend\n",
        "\n",
        "hwe_model_add_add = ExponentialSmoothing(Train[\"CO2\"],seasonal=\"add\",trend=\"add\",seasonal_periods=4,damped=True).fit()\n",
        "pred_hwe_add_add = hwe_model_add_add.predict(start = Test.index[0],end = Test.index[-1])\n",
        "#MAPE(pred_hwe_add_add,Test.CO2)\n",
        "plt.plot(Test.CO2)\n",
        "plt.plot(pred_hwe_add_add)\n",
        "rmse = sqrt(mean_squared_error(Test.CO2, pred_hwe_add_add))\n",
        "print('RMSE :',rmse ,'\\n''MAPE :',MAPE(pred_hwe_add_add,Test.CO2))\n",
        "print('MAE:', mean_absolute_error(Test.CO2,pred_hwe_add_add)) "
      ],
      "metadata": {
        "execution": {
          "iopub.status.busy": "2022-08-22T07:35:52.237099Z",
          "iopub.execute_input": "2022-08-22T07:35:52.237507Z",
          "iopub.status.idle": "2022-08-22T07:35:52.600005Z",
          "shell.execute_reply.started": "2022-08-22T07:35:52.237472Z",
          "shell.execute_reply": "2022-08-22T07:35:52.598469Z"
        },
        "trusted": true,
        "colab": {
          "base_uri": "https://localhost:8080/",
          "height": 320
        },
        "id": "v0mn90QWiMd0",
        "outputId": "8476636d-e5c1-431d-ded7-6d60342bd0b7"
      },
      "execution_count": null,
      "outputs": [
        {
          "output_type": "stream",
          "name": "stdout",
          "text": [
            "RMSE : 5.109619692304882 \n",
            "MAPE : 29.337181360060075\n",
            "MAE: 4.717558369938694\n"
          ]
        },
        {
          "output_type": "display_data",
          "data": {
            "text/plain": [
              "<Figure size 432x288 with 1 Axes>"
            ],
            "image/png": "[encoded data removed]"
          },
          "metadata": {
            "needs_background": "light"
          }
        }
      ]
    },
    {
      "cell_type": "code",
      "source": [
        "# Visualization of Forecasted values for Test data set using different methods \n",
        "plt.plot(Train.index, Train[\"CO2\"], label='Train',color=\"black\")\n",
        "plt.plot(Test.index, Test[\"CO2\"], label='Test',color=\"blue\")\n",
        "plt.plot(pred_ses.index, pred_ses, label='SimpleExponential',color=\"green\")\n",
        "plt.plot(pred_hw.index, pred_hw, label='Halt method',color=\"red\")\n",
        "plt.plot(pred_hwe_add_add.index,pred_hwe_add_add,label=\"hwe_add_add\",color=\"brown\")\n",
        "plt.legend(loc='best')"
      ],
      "metadata": {
        "execution": {
          "iopub.status.busy": "2022-08-22T07:35:52.602620Z",
          "iopub.execute_input": "2022-08-22T07:35:52.603089Z",
          "iopub.status.idle": "2022-08-22T07:35:52.824121Z",
          "shell.execute_reply.started": "2022-08-22T07:35:52.603046Z",
          "shell.execute_reply": "2022-08-22T07:35:52.822564Z"
        },
        "trusted": true,
        "colab": {
          "base_uri": "https://localhost:8080/",
          "height": 282
        },
        "id": "B-TpGcKZiMd0",
        "outputId": "7d2c00fe-8314-4626-d82e-5607ddb32997"
      },
      "execution_count": null,
      "outputs": [
        {
          "output_type": "execute_result",
          "data": {
            "text/plain": [
              "<matplotlib.legend.Legend at 0x7f472cde3b10>"
            ]
          },
          "metadata": {},
          "execution_count": 37
        },
        {
          "output_type": "display_data",
          "data": {
            "text/plain": [
              "<Figure size 432x288 with 1 Axes>"
            ],
            "image/png": "[encoded data removed]"
          },
          "metadata": {
            "needs_background": "light"
          }
        }
      ]
    },
    {
      "cell_type": "code",
      "source": [
        "##### separate out a validation dataset\n",
        "split_point = len(data) - 10\n",
        "dataset, validation = data[0:split_point], data[split_point:]\n",
        "print('Dataset %d, Validation %d' % (len(dataset), len(validation)))\n",
        "dataset.to_csv('dataset.csv', header=False)\n",
        "validation.to_csv('validation.csv', header=False)"
      ],
      "metadata": {
        "execution": {
          "iopub.status.busy": "2022-08-22T07:35:52.826512Z",
          "iopub.execute_input": "2022-08-22T07:35:52.826918Z",
          "iopub.status.idle": "2022-08-22T07:35:52.841109Z",
          "shell.execute_reply.started": "2022-08-22T07:35:52.826882Z",
          "shell.execute_reply": "2022-08-22T07:35:52.839762Z"
        },
        "trusted": true,
        "colab": {
          "base_uri": "https://localhost:8080/"
        },
        "id": "ABebJI6giMd0",
        "outputId": "a43e27da-df53-4a2a-f94d-76088408a1d1"
      },
      "execution_count": null,
      "outputs": [
        {
          "output_type": "stream",
          "name": "stdout",
          "text": [
            "Dataset 205, Validation 10\n"
          ]
        }
      ]
    },
    {
      "cell_type": "code",
      "source": [
        "# evaluate a persistence model\n",
        "from pandas import read_csv\n",
        "from sklearn.metrics import mean_squared_error\n",
        "from math import sqrt\n",
        "import pandas as pd\n",
        "#train1 = pd.read_excel('CO2 dataset.xlsx', header=None, index_col=0, parse_dates=True, squeeze=True)\n",
        "X = data['CO2'].values\n",
        "train, test = X[1:180], X[180:]\n"
      ],
      "metadata": {
        "execution": {
          "iopub.status.busy": "2022-08-22T07:35:52.907868Z",
          "iopub.execute_input": "2022-08-22T07:35:52.908353Z",
          "iopub.status.idle": "2022-08-22T07:35:52.915007Z",
          "shell.execute_reply.started": "2022-08-22T07:35:52.908314Z",
          "shell.execute_reply": "2022-08-22T07:35:52.913895Z"
        },
        "trusted": true,
        "id": "y2KVofp7iMd1"
      },
      "execution_count": null,
      "outputs": []
    },
    {
      "cell_type": "code",
      "source": [
        "# walk-forward validation\n",
        "history = [x for x in train]\n",
        "predictions = list()\n",
        "for i in range(len(test)):\n",
        "    yhat = history[-1]\n",
        "    predictions.append(yhat)\n",
        "# observation\n",
        "    obs = test[i]\n",
        "    history.append(obs)\n",
        "    print('>Predicted=%.3f, Expected=%.3f' % (yhat, obs))\n",
        "# report performance\n",
        "rmse = sqrt(mean_squared_error(test, predictions))\n",
        "MAPE=MAPE(predictions,test)\n",
        "print('\\nRMSE :',rmse)\n",
        "print('MAE:', mean_absolute_error(test,predictions)) \n",
        "print('MAPE :',MAPE)"
      ],
      "metadata": {
        "execution": {
          "iopub.status.busy": "2022-08-22T07:35:53.127619Z",
          "iopub.execute_input": "2022-08-22T07:35:53.128196Z",
          "iopub.status.idle": "2022-08-22T07:35:53.137901Z",
          "shell.execute_reply.started": "2022-08-22T07:35:53.128162Z",
          "shell.execute_reply": "2022-08-22T07:35:53.136261Z"
        },
        "trusted": true,
        "colab": {
          "base_uri": "https://localhost:8080/"
        },
        "id": "hafLEY4iiMd1",
        "outputId": "fbd3090e-0e2d-4410-dca3-437f854cae67"
      },
      "execution_count": null,
      "outputs": [
        {
          "output_type": "stream",
          "name": "stdout",
          "text": [
            ">Predicted=18.200, Expected=18.100\n",
            ">Predicted=18.100, Expected=17.300\n",
            ">Predicted=17.300, Expected=16.600\n",
            ">Predicted=16.600, Expected=16.200\n",
            ">Predicted=16.200, Expected=16.600\n",
            ">Predicted=16.600, Expected=16.300\n",
            ">Predicted=16.300, Expected=15.500\n",
            ">Predicted=15.500, Expected=16.200\n",
            ">Predicted=16.200, Expected=16.900\n",
            ">Predicted=16.900, Expected=17.000\n",
            ">Predicted=17.000, Expected=15.700\n",
            ">Predicted=15.700, Expected=15.200\n",
            ">Predicted=15.200, Expected=15.500\n",
            ">Predicted=15.500, Expected=15.500\n",
            ">Predicted=15.500, Expected=15.700\n",
            ">Predicted=15.700, Expected=15.900\n",
            ">Predicted=15.900, Expected=16.200\n",
            ">Predicted=16.200, Expected=16.600\n",
            ">Predicted=16.600, Expected=16.800\n",
            ">Predicted=16.800, Expected=16.900\n",
            ">Predicted=16.900, Expected=17.400\n",
            ">Predicted=17.400, Expected=17.000\n",
            ">Predicted=17.000, Expected=16.600\n",
            ">Predicted=16.600, Expected=17.500\n",
            ">Predicted=17.500, Expected=17.300\n",
            ">Predicted=17.300, Expected=17.300\n",
            ">Predicted=17.300, Expected=16.700\n",
            ">Predicted=16.700, Expected=16.800\n",
            ">Predicted=16.800, Expected=16.800\n",
            ">Predicted=16.800, Expected=15.900\n",
            ">Predicted=15.900, Expected=15.600\n",
            ">Predicted=15.600, Expected=15.600\n",
            ">Predicted=15.600, Expected=14.800\n",
            ">Predicted=14.800, Expected=14.700\n",
            ">Predicted=14.700, Expected=15.100\n",
            "\n",
            "RMSE : 0.5096217084409629\n",
            "MAE: 0.40285714285714297\n",
            "MAPE : 2.481352103015203\n"
          ]
        }
      ]
    },
    {
      "cell_type": "markdown",
      "source": [
        "\n",
        "  <h2 style=\"color:Orange;\">   ARIMA Hyperparameters</h2>\n"
      ],
      "metadata": {
        "id": "rhUSGbxQiMd1"
      }
    },
    {
      "cell_type": "code",
      "source": [
        "# grid search ARIMA parameters for a time series\n",
        "\n",
        "import warnings\n",
        "from pandas import read_csv\n",
        "from statsmodels.tsa.arima_model import ARIMA\n",
        "from sklearn.metrics import mean_squared_error\n",
        "from math import sqrt\n",
        "\n",
        "\n",
        "# evaluate an ARIMA model for a given order (p,d,q) and return RMSE\n",
        "def evaluate_arima_model(X, arima_order):\n",
        "# prepare training dataset\n",
        "    history = [x for x in train]\n",
        "# make predictions\n",
        "    predictions = list()\n",
        "    for t in range(len(test)):\n",
        "        model = ARIMA(history, order=arima_order)\n",
        "# model_fit = model.fit(disp=0)\n",
        "        model_fit = model.fit(disp=0)\n",
        "        yhat = model_fit.forecast()[0]\n",
        "        predictions.append(yhat)\n",
        "        history.append(test[t])\n",
        "# calculate out of sample error\n",
        "    rmse = sqrt(mean_squared_error(test, predictions))\n",
        "    return rmse\n",
        "print(rmse)"
      ],
      "metadata": {
        "execution": {
          "iopub.status.busy": "2022-08-22T07:35:53.587831Z",
          "iopub.execute_input": "2022-08-22T07:35:53.589077Z",
          "iopub.status.idle": "2022-08-22T07:35:53.600728Z",
          "shell.execute_reply.started": "2022-08-22T07:35:53.589031Z",
          "shell.execute_reply": "2022-08-22T07:35:53.599265Z"
        },
        "trusted": true,
        "colab": {
          "base_uri": "https://localhost:8080/"
        },
        "id": "HNIap0RsiMd1",
        "outputId": "ff27710b-368d-46c9-a410-0eb913e2cdf0"
      },
      "execution_count": null,
      "outputs": [
        {
          "output_type": "stream",
          "name": "stdout",
          "text": [
            "0.5096217084409629\n"
          ]
        }
      ]
    },
    {
      "cell_type": "markdown",
      "source": [
        "\n",
        "<h2 style=\"color:Orange;\">  Grid search for p,d,q values</h2>\n"
      ],
      "metadata": {
        "id": "w1MJyz1tiMd2"
      }
    },
    {
      "cell_type": "code",
      "source": [
        "# evaluate combinations of p, d and q values for an ARIMA model\n",
        "def evaluate_models(dataset, p_values, d_values, q_values):\n",
        "    #dataset = dataset.astype('float32')\n",
        "    best_score, best_cfg = float('inf'), None\n",
        "    for p in p_values:\n",
        "        for d in d_values:\n",
        "            for q in q_values:\n",
        "                order = (p,d,q)\n",
        "                try:\n",
        "                    rmse = evaluate_arima_model(train, order)\n",
        "                    if rmse < best_score:\n",
        "                        best_score, best_cfg = rmse, order\n",
        "                    print('ARIMA%s RMSE=%.3f' % (order,rmse))\n",
        "                    \n",
        "                except:\n",
        "                    continue\n",
        "    print('Best ARIMA%s RMSE=%.3f' % (best_cfg, best_score))"
      ],
      "metadata": {
        "execution": {
          "iopub.status.busy": "2022-08-22T07:35:54.047738Z",
          "iopub.execute_input": "2022-08-22T07:35:54.049143Z",
          "iopub.status.idle": "2022-08-22T07:35:54.056347Z",
          "shell.execute_reply.started": "2022-08-22T07:35:54.049048Z",
          "shell.execute_reply": "2022-08-22T07:35:54.055419Z"
        },
        "trusted": true,
        "id": "zRLN6YeiiMd2"
      },
      "execution_count": null,
      "outputs": []
    },
    {
      "cell_type": "code",
      "source": [
        "\n",
        "# evaluate parameters\n",
        "p_values = range(0, 3)\n",
        "d_values = range(0, 3)\n",
        "q_values = range(0, 3)\n",
        "warnings.filterwarnings(\"ignore\")\n",
        "evaluate_models(data.values, p_values, d_values, q_values)\n"
      ],
      "metadata": {
        "execution": {
          "iopub.status.busy": "2022-08-22T07:35:54.327504Z",
          "iopub.execute_input": "2022-08-22T07:35:54.328292Z",
          "iopub.status.idle": "2022-08-22T07:35:54.335744Z",
          "shell.execute_reply.started": "2022-08-22T07:35:54.328254Z",
          "shell.execute_reply": "2022-08-22T07:35:54.334636Z"
        },
        "trusted": true,
        "colab": {
          "base_uri": "https://localhost:8080/"
        },
        "id": "juRYTYoCiMd2",
        "outputId": "8bda021d-7200-4598-9e81-d8a1490979da"
      },
      "execution_count": null,
      "outputs": [
        {
          "output_type": "stream",
          "name": "stdout",
          "text": [
            "ARIMA(0, 0, 0) RMSE=10.516\n",
            "ARIMA(0, 0, 1) RMSE=5.438\n",
            "ARIMA(0, 1, 0) RMSE=0.533\n",
            "ARIMA(0, 1, 1) RMSE=0.542\n",
            "ARIMA(0, 1, 2) RMSE=0.532\n",
            "ARIMA(0, 2, 0) RMSE=0.687\n",
            "ARIMA(0, 2, 1) RMSE=0.569\n",
            "ARIMA(0, 2, 2) RMSE=0.584\n",
            "ARIMA(1, 0, 0) RMSE=0.507\n",
            "ARIMA(1, 1, 0) RMSE=0.541\n",
            "ARIMA(1, 1, 1) RMSE=0.541\n",
            "ARIMA(1, 1, 2) RMSE=0.530\n",
            "ARIMA(1, 2, 0) RMSE=0.685\n",
            "ARIMA(1, 2, 1) RMSE=0.581\n",
            "ARIMA(2, 0, 0) RMSE=0.509\n",
            "ARIMA(2, 1, 0) RMSE=0.534\n",
            "ARIMA(2, 1, 1) RMSE=0.531\n",
            "ARIMA(2, 1, 2) RMSE=0.534\n",
            "ARIMA(2, 2, 0) RMSE=0.620\n",
            "ARIMA(2, 2, 1) RMSE=0.582\n",
            "ARIMA(2, 2, 2) RMSE=0.576\n",
            "Best ARIMA(1, 0, 0) RMSE=0.507\n"
          ]
        }
      ]
    },
    {
      "cell_type": "markdown",
      "source": [
        "<h2 style=\"color:Orange;\">  Build Model based on the optimized values</h2>\n"
      ],
      "metadata": {
        "id": "BpSGJHkPiMd2"
      }
    },
    {
      "cell_type": "code",
      "source": [
        "##### save finalized model to file\n",
        "from pandas import read_csv\n",
        "from statsmodels.tsa.arima_model import ARIMA\n",
        "import numpy"
      ],
      "metadata": {
        "execution": {
          "iopub.status.busy": "2022-08-22T07:35:54.867765Z",
          "iopub.execute_input": "2022-08-22T07:35:54.868669Z",
          "iopub.status.idle": "2022-08-22T07:35:54.873384Z",
          "shell.execute_reply.started": "2022-08-22T07:35:54.868633Z",
          "shell.execute_reply": "2022-08-22T07:35:54.872440Z"
        },
        "trusted": true,
        "id": "A5JGZGI4iMd3"
      },
      "execution_count": null,
      "outputs": []
    },
    {
      "cell_type": "code",
      "source": [
        "train_data = data.loc[:'2000-01-01','CO2']\n",
        "test_data = data.loc['2000-01-01':]"
      ],
      "metadata": {
        "execution": {
          "iopub.status.busy": "2022-08-22T07:35:55.108537Z",
          "iopub.execute_input": "2022-08-22T07:35:55.108981Z",
          "iopub.status.idle": "2022-08-22T07:35:55.117591Z",
          "shell.execute_reply.started": "2022-08-22T07:35:55.108946Z",
          "shell.execute_reply": "2022-08-22T07:35:55.115892Z"
        },
        "trusted": true,
        "id": "QeYEsqfqiMd3"
      },
      "execution_count": null,
      "outputs": []
    },
    {
      "cell_type": "code",
      "source": [
        "from statsmodels.tsa.ar_model import AutoReg\n",
        "\n",
        "\n",
        "# Instantiate and fit the AR model with training data\n",
        "ar_model = AutoReg(train_data, lags=15).fit()\n",
        "\n",
        "# Print Summary\n",
        "#print(ar_model.summary())"
      ],
      "metadata": {
        "execution": {
          "iopub.status.busy": "2022-08-22T07:35:55.337361Z",
          "iopub.execute_input": "2022-08-22T07:35:55.338844Z",
          "iopub.status.idle": "2022-08-22T07:35:55.352924Z",
          "shell.execute_reply.started": "2022-08-22T07:35:55.338803Z",
          "shell.execute_reply": "2022-08-22T07:35:55.351891Z"
        },
        "trusted": true,
        "id": "CLVYZ3y7iMd3"
      },
      "execution_count": null,
      "outputs": []
    },
    {
      "cell_type": "code",
      "source": [
        "ar_forecast = ar_model.predict('2000-01-01', '2014-01-01')\n",
        "\n",
        "plt.title('AR Model Results', size=7)\n",
        "plt.plot(data.loc['2000-01-01':,'CO2'],label='Actual')\n",
        "plt.plot(ar_forecast,label='Predicted')\n",
        "plt.legend();\n",
        "\n",
        "print('RMSE:', np.sqrt(mean_squared_error(data.loc['2000-01-01':,'CO2'],ar_forecast)))\n",
        "print('MAE:', mean_absolute_error(data.loc['2000-01-01':,'CO2'],ar_forecast))"
      ],
      "metadata": {
        "execution": {
          "iopub.status.busy": "2022-08-22T07:35:55.567467Z",
          "iopub.execute_input": "2022-08-22T07:35:55.568517Z",
          "iopub.status.idle": "2022-08-22T07:35:55.795628Z",
          "shell.execute_reply.started": "2022-08-22T07:35:55.568462Z",
          "shell.execute_reply": "2022-08-22T07:35:55.794579Z"
        },
        "trusted": true,
        "colab": {
          "base_uri": "https://localhost:8080/",
          "height": 311
        },
        "id": "PvevTGoBiMd3",
        "outputId": "01d99740-93e0-4c2d-95b6-70fb7a8fbda1"
      },
      "execution_count": null,
      "outputs": [
        {
          "output_type": "stream",
          "name": "stdout",
          "text": [
            "RMSE: 2.8993895391271165\n",
            "MAE: 2.4944883862327614\n"
          ]
        },
        {
          "output_type": "display_data",
          "data": {
            "text/plain": [
              "<Figure size 432x288 with 1 Axes>"
            ],
            "image/png": "[encoded data removed]"
          },
          "metadata": {
            "needs_background": "light"
          }
        }
      ]
    },
    {
      "cell_type": "code",
      "source": [
        "train_datafd = data.loc['1801-01-01':'2000-01-01','First Difference']\n",
        "\n",
        "# Instantiate and fit the AR model with training data\n",
        "ar_modelfd = AutoReg(train_datafd, lags=15).fit()\n",
        "\n",
        "# Print Summary\n",
        "#print(ar_modelfd.summary())\n",
        "\n",
        "ar_forecastfd = ar_modelfd.predict('2000-01-01', '2014-01-01')\n",
        "plt.title('AR Model Results', size=6)\n",
        "plt.plot(data.loc['2000-01-01':,'First Difference'],label='Actual')\n",
        "plt.plot(ar_forecastfd,label='Predicted')\n",
        "plt.legend();\n",
        "\n",
        "print('RMSE:',np.sqrt(mean_squared_error(data.loc['2000-01-01':,'First Difference'],ar_forecastfd)))\n",
        "print('MAE:',mean_absolute_error(data.loc['2000-01-01':,'First Difference'],ar_forecastfd))"
      ],
      "metadata": {
        "execution": {
          "iopub.status.busy": "2022-08-22T07:35:55.800535Z",
          "iopub.execute_input": "2022-08-22T07:35:55.801218Z",
          "iopub.status.idle": "2022-08-22T07:35:56.031924Z",
          "shell.execute_reply.started": "2022-08-22T07:35:55.801182Z",
          "shell.execute_reply": "2022-08-22T07:35:56.030661Z"
        },
        "trusted": true,
        "colab": {
          "base_uri": "https://localhost:8080/",
          "height": 310
        },
        "id": "mzJgOSBHiMd4",
        "outputId": "4ee5aafb-724b-4e82-b388-c40ad68b6cf5"
      },
      "execution_count": null,
      "outputs": [
        {
          "output_type": "stream",
          "name": "stdout",
          "text": [
            "RMSE: 0.5778821815728581\n",
            "MAE: 0.4887965066595153\n"
          ]
        },
        {
          "output_type": "display_data",
          "data": {
            "text/plain": [
              "<Figure size 432x288 with 1 Axes>"
            ],
            "image/png": "[encoded data removed]"
          },
          "metadata": {
            "needs_background": "light"
          }
        }
      ]
    },
    {
      "cell_type": "code",
      "source": [
        "from statsmodels.tsa.arima.model import ARIMA\n",
        "from sklearn.metrics import mean_absolute_percentage_error\n",
        "\n",
        "arima2 = ARIMA(data.loc[:,'First Difference'], order=(7, 1, 2))\n",
        "results2 = arima2.fit()\n",
        "predictions2 = results2.predict('2000-01-01', '2014-01-01')\n",
        "\n",
        "plt.plot(data.loc['2000-01-01':,'First Difference'],label='Actual')\n",
        "predictions2.plot()\n",
        "plt.legend();\n",
        "\n",
        "print('RMSE:',np.sqrt(mean_squared_error(data.loc['2000-01-01':,'First Difference'],predictions2)))\n",
        "print('MAE',mean_absolute_error(data.loc['2000-01-01':,'First Difference'],predictions2))\n",
        "print('MAPE',mean_absolute_percentage_error(data.loc['2000-01-01':,'First Difference'],predictions2)*100) "
      ],
      "metadata": {
        "execution": {
          "iopub.status.busy": "2022-08-22T07:35:56.035749Z",
          "iopub.execute_input": "2022-08-22T07:35:56.036095Z",
          "iopub.status.idle": "2022-08-22T07:35:58.159733Z",
          "shell.execute_reply.started": "2022-08-22T07:35:56.036062Z",
          "shell.execute_reply": "2022-08-22T07:35:58.158438Z"
        },
        "trusted": true,
        "colab": {
          "base_uri": "https://localhost:8080/",
          "height": 307
        },
        "id": "U9mb_BjkiMd4",
        "outputId": "ed2fd8c2-2b06-4c54-9966-b881f30d7a58"
      },
      "execution_count": null,
      "outputs": [
        {
          "output_type": "stream",
          "name": "stdout",
          "text": [
            "RMSE: 0.49279580387153366\n",
            "MAE 0.40361768499371414\n",
            "MAPE 6008612661506823.0\n"
          ]
        },
        {
          "output_type": "display_data",
          "data": {
            "text/plain": [
              "<Figure size 432x288 with 1 Axes>"
            ],
            "image/png": "[encoded data removed]"
          },
          "metadata": {
            "needs_background": "light"
          }
        }
      ]
    },
    {
      "cell_type": "code",
      "source": [
        ""
      ],
      "metadata": {
        "id": "xUEQchutoa-C"
      },
      "execution_count": null,
      "outputs": []
    },
    {
      "cell_type": "code",
      "source": [
        " import pickle\n",
        "with open('arimafoo.pkl', 'wb') as pkl:\n",
        "    pickle.dump(results2, pkl)\n",
        "    \n",
        "with open('arimafoo.pkl', 'rb') as pkl:\n",
        "    pickle_preds = pickle.load(pkl)\n",
        "    \n",
        "start = '2000-01-01'\n",
        "end = '2054-01-01'\n",
        "pickle_preds.predict(start, end).plot()"
      ],
      "metadata": {
        "execution": {
          "iopub.status.busy": "2022-08-22T07:35:58.163302Z",
          "iopub.execute_input": "2022-08-22T07:35:58.163766Z",
          "iopub.status.idle": "2022-08-22T07:35:58.405157Z",
          "shell.execute_reply.started": "2022-08-22T07:35:58.163728Z",
          "shell.execute_reply": "2022-08-22T07:35:58.403729Z"
        },
        "trusted": true,
        "colab": {
          "base_uri": "https://localhost:8080/",
          "height": 282
        },
        "id": "ZkIwN0CHiMd4",
        "outputId": "55d574f9-63a9-4300-85c0-119bc665035b"
      },
      "execution_count": null,
      "outputs": [
        {
          "output_type": "execute_result",
          "data": {
            "text/plain": [
              "<matplotlib.axes._subplots.AxesSubplot at 0x7f4730d54990>"
            ]
          },
          "metadata": {},
          "execution_count": 74
        },
        {
          "output_type": "display_data",
          "data": {
            "text/plain": [
              "<Figure size 432x288 with 1 Axes>"
            ],
            "image/png": "[encoded data removed]"
          },
          "metadata": {
            "needs_background": "light"
          }
        }
      ]
    },
    {
      "cell_type": "code",
      "source": [
        "from statsmodels.tsa.arima.model import ARIMA\n",
        "\n",
        "arima = ARIMA(data.loc[:,'CO2'], order=(28, 2 ,20))\n",
        "resultf = arima.fit()\n",
        "predictionf = resultf.predict('2014-01-01', '2050-01-01')\n",
        "plt.figure(figsize=(12,7))\n",
        "plt.plot(data.loc[:,'CO2'],label='Actual')\n",
        "predictionf.plot()\n",
        "plt.legend();"
      ],
      "metadata": {
        "execution": {
          "iopub.status.busy": "2022-08-22T07:35:58.407070Z",
          "iopub.execute_input": "2022-08-22T07:35:58.407473Z",
          "iopub.status.idle": "2022-08-22T07:36:31.923329Z",
          "shell.execute_reply.started": "2022-08-22T07:35:58.407437Z",
          "shell.execute_reply": "2022-08-22T07:36:31.922417Z"
        },
        "trusted": true,
        "colab": {
          "base_uri": "https://localhost:8080/",
          "height": 402
        },
        "id": "XQWT5apRiMd4",
        "outputId": "880bdecf-2a64-4d2c-f1ea-3b018693317f"
      },
      "execution_count": null,
      "outputs": [
        {
          "output_type": "display_data",
          "data": {
            "text/plain": [
              "<Figure size 864x504 with 1 Axes>"
            ],
            "image/png": "[encoded data removed]"
          },
          "metadata": {
            "needs_background": "light"
          }
        }
      ]
    },
    {
      "cell_type": "code",
      "source": [
        "import pickle\n",
        "with open('arimaf.pkl', 'wb') as pkl:\n",
        "    pickle.dump(resultf, pkl)\n",
        "with open('arimaf.pkl', 'rb') as pkl:\n",
        "    pickle_preds = pickle.load(pkl)"
      ],
      "metadata": {
        "execution": {
          "iopub.status.busy": "2022-08-22T07:36:31.925480Z",
          "iopub.execute_input": "2022-08-22T07:36:31.926031Z",
          "iopub.status.idle": "2022-08-22T07:36:32.029692Z",
          "shell.execute_reply.started": "2022-08-22T07:36:31.925997Z",
          "shell.execute_reply": "2022-08-22T07:36:32.028797Z"
        },
        "trusted": true,
        "id": "IIwSpRpPiMd5"
      },
      "execution_count": null,
      "outputs": []
    },
    {
      "cell_type": "code",
      "source": [
        "pickle_preds.predict('2014-01-01', '2050-01-01').plot() "
      ],
      "metadata": {
        "execution": {
          "iopub.status.busy": "2022-08-22T07:36:32.031052Z",
          "iopub.execute_input": "2022-08-22T07:36:32.031767Z",
          "iopub.status.idle": "2022-08-22T07:36:32.035797Z",
          "shell.execute_reply.started": "2022-08-22T07:36:32.031729Z",
          "shell.execute_reply": "2022-08-22T07:36:32.034910Z"
        },
        "trusted": true,
        "colab": {
          "base_uri": "https://localhost:8080/",
          "height": 282
        },
        "id": "ilR3oTdliMd5",
        "outputId": "a4d910be-1770-402c-e8c8-80be029bf6f6"
      },
      "execution_count": null,
      "outputs": [
        {
          "output_type": "execute_result",
          "data": {
            "text/plain": [
              "<matplotlib.axes._subplots.AxesSubplot at 0x7f472b66f310>"
            ]
          },
          "metadata": {},
          "execution_count": 77
        },
        {
          "output_type": "display_data",
          "data": {
            "text/plain": [
              "<Figure size 432x288 with 1 Axes>"
            ],
            "image/png": "[encoded data removed]"
          },
          "metadata": {
            "needs_background": "light"
          }
        }
      ]
    },
    {
      "cell_type": "code",
      "source": [
        "#Install streamlit \n",
        "# NB : If any error occurs during installation process , run it again\n",
        "!pip install -q streamlit\n",
        "!npm install -g localtunnel -U"
      ],
      "metadata": {
        "execution": {
          "iopub.status.busy": "2022-08-22T07:36:32.036925Z",
          "iopub.execute_input": "2022-08-22T07:36:32.037918Z",
          "iopub.status.idle": "2022-08-22T07:36:57.296110Z",
          "shell.execute_reply.started": "2022-08-22T07:36:32.037882Z",
          "shell.execute_reply": "2022-08-22T07:36:57.294942Z"
        },
        "trusted": true,
        "colab": {
          "base_uri": "https://localhost:8080/"
        },
        "id": "_SLgVQJ2iMd5",
        "outputId": "79155cdc-ba8e-405d-cd15-dd3ae8e4b774"
      },
      "execution_count": null,
      "outputs": [
        {
          "output_type": "stream",
          "name": "stdout",
          "text": [
            "\u001b[K\u001b[?25h/tools/node/bin/lt -> /tools/node/lib/node_modules/localtunnel/bin/lt.js\n",
            "+ localtunnel@2.0.2\n",
            "updated 1 package in 1.06s\n"
          ]
        }
      ]
    },
    {
      "cell_type": "code",
      "source": [
        "%%writefile main.py \n",
        "\n",
        "import streamlit as st\n",
        "\n",
        "import pandas as pd\n",
        "\n",
        "import plotly\n",
        "\n",
        "import pickle\n",
        "\n",
        "import plotly.graph_objs as go\n",
        "\n",
        "\n",
        "def load_data():\n",
        "\n",
        "  #load original data\n",
        "\n",
        "    df_original = pd.read_csv('CO2 dataset.csv')\n",
        "\n",
        "    df_original.index = pd.to_datetime(df_original['Year'], format='%Y')\n",
        "\n",
        "    df_original.drop('Year', axis=1, inplace=True)\n",
        "\n",
        "    return df_original\n",
        "\n",
        "\n",
        "\n",
        "def load_pkl():\n",
        "\n",
        "    # load pkl file\n",
        "\n",
        "    pickled_model = pickle.load(open('arimafoo.pkl', 'rb'))\n",
        "\n",
        "    return pickled_model\n",
        "\n",
        "\n",
        "\n",
        "def user_input():\n",
        "\n",
        "    # user input select boxes\n",
        "\n",
        "    start = str(st.sidebar.selectbox(label='enter start', options=range(2015, 2050)))\n",
        "\n",
        "    end = str(st.sidebar.selectbox(label='enter end', options=range(2016, 2051)))\n",
        "\n",
        "    return start, end\n",
        "\n",
        "\n",
        "\n",
        "def predict(end):\n",
        "\n",
        "    # prediction using pkl\n",
        "\n",
        "    df = pd.DataFrame(load_pkl().predict('2015', end))\n",
        "\n",
        "    df.columns = ['CO2']\n",
        "\n",
        "\n",
        "    for i in range(len(df)):\n",
        "\n",
        "        if i == 0:\n",
        "\n",
        "            df.iloc[0, ] = df.iloc[0, ] + load_data().iloc[-1, ]\n",
        "\n",
        "        else:\n",
        "\n",
        "            df.iloc[i, ] = df.iloc[i, ] + df.iloc[i-1, ]\n",
        "\n",
        "\n",
        "    # merge original and predicted data\n",
        "\n",
        "    data = pd.concat([load_data(), df])\n",
        "\n",
        "    data.index = data.index.map(lambda x: x.strftime('%Y'))\n",
        "\n",
        "    data.index.name = 'Year'\n",
        "\n",
        "    return data\n",
        "\n",
        "\n",
        "\n",
        "def plot_raw_data(data):\n",
        "\n",
        "    fig = plotly.graph_objects.Figure()\n",
        "\n",
        "    fig.update_layout(width=850, height=650)\n",
        "\n",
        "    fig.add_trace(go.Scatter(x=data.index, y=data['CO2'], name='Air Quality'))\n",
        "\n",
        "    fig.layout.update(title_text=\"Yearly CO2 levels\", xaxis_title='Years')\n",
        "\n",
        "    fig.update_traces(mode=\"lines\", hovertemplate=None)\n",
        "\n",
        "    fig.update_layout(hovermode=\"x unified\", yaxis_title='CO2 levels', xaxis_rangeslider_visible=True)\n",
        "\n",
        "    st.plotly_chart(fig)\n",
        "\n",
        "\n",
        "\n",
        "def main():\n",
        "\n",
        "    # Title\n",
        "\n",
        "    st.title('Air Quality Forecasting')\n",
        "\n",
        "    st.sidebar.title('User Input')\n",
        "\n",
        "    ui_input = user_input()\n",
        "\n",
        "\n",
        "    # display forecasted values\n",
        "\n",
        "    st.sidebar.subheader('Forecasted Values')\n",
        "\n",
        "    st.sidebar.dataframe(predict(ui_input[1]).loc[ui_input[0]:ui_input[-1], ],width=2000)\n",
        "\n",
        "\n",
        "    # display past values\n",
        "\n",
        "    st.sidebar.subheader('Past Values')\n",
        "\n",
        "    st.sidebar.dataframe(predict(ui_input[1]).loc['1800':'2014', ], width=2000)\n",
        "\n",
        "\n",
        "    # plot the data\n",
        "\n",
        "    plot_raw_data(predict(ui_input[1]))\n",
        "\n",
        "\n",
        "\n",
        "if __name__ == '__main__':\n",
        "\n",
        "    main()"
      ],
      "metadata": {
        "execution": {
          "iopub.status.busy": "2022-08-22T07:36:57.298882Z",
          "iopub.execute_input": "2022-08-22T07:36:57.299355Z",
          "iopub.status.idle": "2022-08-22T07:36:57.309848Z",
          "shell.execute_reply.started": "2022-08-22T07:36:57.299305Z",
          "shell.execute_reply": "2022-08-22T07:36:57.308807Z"
        },
        "trusted": true,
        "colab": {
          "base_uri": "https://localhost:8080/"
        },
        "id": "mQTkjy4LiMd5",
        "outputId": "91b2a714-4529-41cf-dd4b-5aa7757f7400"
      },
      "execution_count": null,
      "outputs": [
        {
          "output_type": "stream",
          "name": "stdout",
          "text": [
            "Overwriting main.py\n"
          ]
        }
      ]
    },
    {
      "cell_type": "markdown",
      "source": [
        ""
      ],
      "metadata": {
        "id": "aCQQ-zFOiMd6"
      }
    },
    {
      "cell_type": "code",
      "source": [
        "\n",
        "!streamlit run main.py & npx localtunnel --port 8501 \n"
      ],
      "metadata": {
        "trusted": true,
        "id": "1nAGvzw0iMd6"
      },
      "execution_count": null,
      "outputs": []
    },
    {
      "cell_type": "code",
      "source": [
        ""
      ],
      "metadata": {
        "id": "sNPYzD2kiMd6"
      },
      "execution_count": null,
      "outputs": []
    },
    {
      "cell_type": "markdown",
      "source": [
        ""
      ],
      "metadata": {
        "id": "v2jz58mBiMd7"
      }
    }
  ]
}